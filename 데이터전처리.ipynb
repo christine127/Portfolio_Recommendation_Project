{
  "nbformat": 4,
  "nbformat_minor": 0,
  "metadata": {
    "colab": {
      "name": "데이터전처리.ipynb",
      "provenance": [],
      "collapsed_sections": [],
      "include_colab_link": true
    },
    "kernelspec": {
      "display_name": "Python 3",
      "name": "python3"
    },
    "language_info": {
      "name": "python"
    }
  },
  "cells": [
    {
      "cell_type": "markdown",
      "metadata": {
        "id": "view-in-github",
        "colab_type": "text"
      },
      "source": [
        "<a href=\"https://colab.research.google.com/github/christine127/Portfolio_Recommendation_Project/blob/main/%EB%8D%B0%EC%9D%B4%ED%84%B0%EC%A0%84%EC%B2%98%EB%A6%AC.ipynb\" target=\"_parent\"><img src=\"https://colab.research.google.com/assets/colab-badge.svg\" alt=\"Open In Colab\"/></a>"
      ]
    },
    {
      "cell_type": "code",
      "metadata": {
        "id": "-3UNtbPWCZ0V"
      },
      "source": [
        "# !pip install finance-datareader\n",
        "# !pip install opendartreader"
      ],
      "execution_count": 1,
      "outputs": []
    },
    {
      "cell_type": "code",
      "metadata": {
        "colab": {
          "base_uri": "https://localhost:8080/"
        },
        "id": "jLi-fRMDG-aF",
        "outputId": "bb2da33c-3ba4-4877-cc85-0ccf5af91a36"
      },
      "source": [
        "!pip install pykrx"
      ],
      "execution_count": 2,
      "outputs": [
        {
          "output_type": "stream",
          "text": [
            "Collecting pykrx\n",
            "  Downloading pykrx-1.0.18-py3-none-any.whl (81 kB)\n",
            "\u001b[?25l\r\u001b[K     |████                            | 10 kB 25.8 MB/s eta 0:00:01\r\u001b[K     |████████                        | 20 kB 30.9 MB/s eta 0:00:01\r\u001b[K     |████████████                    | 30 kB 13.0 MB/s eta 0:00:01\r\u001b[K     |████████████████                | 40 kB 9.7 MB/s eta 0:00:01\r\u001b[K     |████████████████████            | 51 kB 5.1 MB/s eta 0:00:01\r\u001b[K     |████████████████████████        | 61 kB 5.3 MB/s eta 0:00:01\r\u001b[K     |████████████████████████████    | 71 kB 5.6 MB/s eta 0:00:01\r\u001b[K     |████████████████████████████████| 81 kB 4.1 MB/s \n",
            "\u001b[?25hRequirement already satisfied: xlrd in /usr/local/lib/python3.7/dist-packages (from pykrx) (1.1.0)\n",
            "Collecting deprecated\n",
            "  Downloading Deprecated-1.2.12-py2.py3-none-any.whl (9.5 kB)\n",
            "Requirement already satisfied: pandas in /usr/local/lib/python3.7/dist-packages (from pykrx) (1.1.5)\n",
            "Requirement already satisfied: numpy in /usr/local/lib/python3.7/dist-packages (from pykrx) (1.19.5)\n",
            "Requirement already satisfied: requests in /usr/local/lib/python3.7/dist-packages (from pykrx) (2.23.0)\n",
            "Collecting datetime\n",
            "  Downloading DateTime-4.3-py2.py3-none-any.whl (60 kB)\n",
            "\u001b[K     |████████████████████████████████| 60 kB 7.1 MB/s \n",
            "\u001b[?25hRequirement already satisfied: pytz in /usr/local/lib/python3.7/dist-packages (from datetime->pykrx) (2018.9)\n",
            "Collecting zope.interface\n",
            "  Downloading zope.interface-5.4.0-cp37-cp37m-manylinux2010_x86_64.whl (251 kB)\n",
            "\u001b[K     |████████████████████████████████| 251 kB 41.9 MB/s \n",
            "\u001b[?25hRequirement already satisfied: wrapt<2,>=1.10 in /usr/local/lib/python3.7/dist-packages (from deprecated->pykrx) (1.12.1)\n",
            "Requirement already satisfied: python-dateutil>=2.7.3 in /usr/local/lib/python3.7/dist-packages (from pandas->pykrx) (2.8.1)\n",
            "Requirement already satisfied: six>=1.5 in /usr/local/lib/python3.7/dist-packages (from python-dateutil>=2.7.3->pandas->pykrx) (1.15.0)\n",
            "Requirement already satisfied: idna<3,>=2.5 in /usr/local/lib/python3.7/dist-packages (from requests->pykrx) (2.10)\n",
            "Requirement already satisfied: certifi>=2017.4.17 in /usr/local/lib/python3.7/dist-packages (from requests->pykrx) (2021.5.30)\n",
            "Requirement already satisfied: urllib3!=1.25.0,!=1.25.1,<1.26,>=1.21.1 in /usr/local/lib/python3.7/dist-packages (from requests->pykrx) (1.24.3)\n",
            "Requirement already satisfied: chardet<4,>=3.0.2 in /usr/local/lib/python3.7/dist-packages (from requests->pykrx) (3.0.4)\n",
            "Requirement already satisfied: setuptools in /usr/local/lib/python3.7/dist-packages (from zope.interface->datetime->pykrx) (57.2.0)\n",
            "Installing collected packages: zope.interface, deprecated, datetime, pykrx\n",
            "Successfully installed datetime-4.3 deprecated-1.2.12 pykrx-1.0.18 zope.interface-5.4.0\n"
          ],
          "name": "stdout"
        }
      ]
    },
    {
      "cell_type": "code",
      "metadata": {
        "id": "GrBLvHJfCGv_"
      },
      "source": [
        "import pandas as pd\n",
        "import numpy as np\n",
        "from tqdm import tqdm\n",
        "# import FinanceDataReader as fdr\n",
        "# import OpenDartReader\n",
        "import datetime\n",
        "from pykrx import stock\n",
        "import warnings\n",
        "\n",
        "warnings.filterwarnings('ignore')"
      ],
      "execution_count": 3,
      "outputs": []
    },
    {
      "cell_type": "code",
      "metadata": {
        "id": "PIX9TQRPRMvW"
      },
      "source": [
        "# api_key = '5729a47b92ddd434526831ee99ff01f65e6434db'\n",
        "# dart = OpenDartReader(api_key) "
      ],
      "execution_count": 23,
      "outputs": []
    },
    {
      "cell_type": "code",
      "metadata": {
        "id": "rQm32nXBvHQR",
        "colab": {
          "base_uri": "https://localhost:8080/"
        },
        "outputId": "60f549d9-de1b-484b-959e-5b539aa8df2f"
      },
      "source": [
        "from google.colab import drive\n",
        "drive.mount('/content/drive')"
      ],
      "execution_count": 5,
      "outputs": [
        {
          "output_type": "stream",
          "text": [
            "Mounted at /content/drive\n"
          ],
          "name": "stdout"
        }
      ]
    },
    {
      "cell_type": "code",
      "metadata": {
        "id": "EF-NlHKgCgZF"
      },
      "source": [
        "# 전체 데이터\n",
        "dataset = pd.read_excel('/content/drive/MyDrive/소회의실 프로젝트/Dataset.xlsx')\n",
        "file = dataset.copy()\n",
        "# 10명 샘플 데이터\n",
        "# file = pd.read_csv('/content/drive/MyDrive/소회의실 프로젝트/sample10.csv')\n",
        "# file['고객구분코드'].unique()"
      ],
      "execution_count": 6,
      "outputs": []
    },
    {
      "cell_type": "code",
      "metadata": {
        "id": "BvkmhiqAC9WR",
        "colab": {
          "base_uri": "https://localhost:8080/"
        },
        "outputId": "69e7828a-28ee-485b-85c1-cc7de21fbd89"
      },
      "source": [
        "print(file.columns)"
      ],
      "execution_count": 19,
      "outputs": [
        {
          "output_type": "stream",
          "text": [
            "Index(['고객구분코드', '주문일자', '고객성별구분코드', '동일나이군구분코드', '주소(시도)', '주문시간대', '상품번호',\n",
            "       '상품명', '거래소구분코드', '매도매수구분코드', '주문구분코드', '실주문단가', '주문수량', '총체결수량',\n",
            "       '총체결금액', '전일종가', '당일시가', '일중고가', '일중저가', '당일종가', '거래수량', '거래대금',\n",
            "       '상한가여부', '하한가여부'],\n",
            "      dtype='object')\n"
          ],
          "name": "stdout"
        }
      ]
    },
    {
      "cell_type": "code",
      "metadata": {
        "id": "XGHGf6qzuV28"
      },
      "source": [
        "## 주문일자\n",
        "file['date'] = pd.to_datetime(file['주문일자'],format='%Y%m%d').astype(str)\n",
        "file[['주문일자']] = file[[ '주문일자']].apply(pd.to_datetime, format='%Y%m%d')"
      ],
      "execution_count": 24,
      "outputs": []
    },
    {
      "cell_type": "code",
      "metadata": {
        "id": "cHZc7-vK8Emu"
      },
      "source": [
        "##상품번호\n",
        "file['code'] = file['상품번호'].str[-6:]"
      ],
      "execution_count": 25,
      "outputs": []
    },
    {
      "cell_type": "code",
      "metadata": {
        "id": "-UBLqjyk59cD"
      },
      "source": [
        "customer_info = pd.DataFrame(file.groupby(['고객구분코드','고객성별구분코드','동일나이군구분코드','주소(시도)'])['상품명'].nunique()).reset_index()\n",
        "customer_info= customer_info.set_index('고객구분코드')\n",
        "customer_info =customer_info.rename(columns={'상품명':'상품개수','주소(시도)':'주소'})"
      ],
      "execution_count": 26,
      "outputs": []
    },
    {
      "cell_type": "code",
      "metadata": {
        "id": "riB8Mif1rAdr",
        "colab": {
          "base_uri": "https://localhost:8080/",
          "height": 450
        },
        "outputId": "7bf8651c-781a-4293-dcd0-7a7572bbd035"
      },
      "source": [
        "customer_info"
      ],
      "execution_count": 27,
      "outputs": [
        {
          "output_type": "execute_result",
          "data": {
            "text/html": [
              "<div>\n",
              "<style scoped>\n",
              "    .dataframe tbody tr th:only-of-type {\n",
              "        vertical-align: middle;\n",
              "    }\n",
              "\n",
              "    .dataframe tbody tr th {\n",
              "        vertical-align: top;\n",
              "    }\n",
              "\n",
              "    .dataframe thead th {\n",
              "        text-align: right;\n",
              "    }\n",
              "</style>\n",
              "<table border=\"1\" class=\"dataframe\">\n",
              "  <thead>\n",
              "    <tr style=\"text-align: right;\">\n",
              "      <th></th>\n",
              "      <th>고객성별구분코드</th>\n",
              "      <th>동일나이군구분코드</th>\n",
              "      <th>주소</th>\n",
              "      <th>상품개수</th>\n",
              "    </tr>\n",
              "    <tr>\n",
              "      <th>고객구분코드</th>\n",
              "      <th></th>\n",
              "      <th></th>\n",
              "      <th></th>\n",
              "      <th></th>\n",
              "    </tr>\n",
              "  </thead>\n",
              "  <tbody>\n",
              "    <tr>\n",
              "      <th>A00010020</th>\n",
              "      <td>1</td>\n",
              "      <td>20</td>\n",
              "      <td>서울</td>\n",
              "      <td>8</td>\n",
              "    </tr>\n",
              "    <tr>\n",
              "      <th>A0001035</th>\n",
              "      <td>2</td>\n",
              "      <td>40</td>\n",
              "      <td>경기</td>\n",
              "      <td>8</td>\n",
              "    </tr>\n",
              "    <tr>\n",
              "      <th>A00010416</th>\n",
              "      <td>1</td>\n",
              "      <td>30</td>\n",
              "      <td>서울</td>\n",
              "      <td>23</td>\n",
              "    </tr>\n",
              "    <tr>\n",
              "      <th>A00010516</th>\n",
              "      <td>2</td>\n",
              "      <td>30</td>\n",
              "      <td>서울</td>\n",
              "      <td>8</td>\n",
              "    </tr>\n",
              "    <tr>\n",
              "      <th>A00010708</th>\n",
              "      <td>1</td>\n",
              "      <td>50</td>\n",
              "      <td>울산</td>\n",
              "      <td>13</td>\n",
              "    </tr>\n",
              "    <tr>\n",
              "      <th>...</th>\n",
              "      <td>...</td>\n",
              "      <td>...</td>\n",
              "      <td>...</td>\n",
              "      <td>...</td>\n",
              "    </tr>\n",
              "    <tr>\n",
              "      <th>A0008961</th>\n",
              "      <td>1</td>\n",
              "      <td>20</td>\n",
              "      <td>경기</td>\n",
              "      <td>13</td>\n",
              "    </tr>\n",
              "    <tr>\n",
              "      <th>A0009016</th>\n",
              "      <td>2</td>\n",
              "      <td>50</td>\n",
              "      <td>경기</td>\n",
              "      <td>4</td>\n",
              "    </tr>\n",
              "    <tr>\n",
              "      <th>A0009145</th>\n",
              "      <td>1</td>\n",
              "      <td>30</td>\n",
              "      <td>부산</td>\n",
              "      <td>9</td>\n",
              "    </tr>\n",
              "    <tr>\n",
              "      <th>A0009500</th>\n",
              "      <td>1</td>\n",
              "      <td>30</td>\n",
              "      <td>서울</td>\n",
              "      <td>14</td>\n",
              "    </tr>\n",
              "    <tr>\n",
              "      <th>A0009665</th>\n",
              "      <td>1</td>\n",
              "      <td>40</td>\n",
              "      <td>대구</td>\n",
              "      <td>18</td>\n",
              "    </tr>\n",
              "  </tbody>\n",
              "</table>\n",
              "<p>102 rows × 4 columns</p>\n",
              "</div>"
            ],
            "text/plain": [
              "           고객성별구분코드  동일나이군구분코드  주소  상품개수\n",
              "고객구분코드                                  \n",
              "A00010020         1         20  서울     8\n",
              "A0001035          2         40  경기     8\n",
              "A00010416         1         30  서울    23\n",
              "A00010516         2         30  서울     8\n",
              "A00010708         1         50  울산    13\n",
              "...             ...        ...  ..   ...\n",
              "A0008961          1         20  경기    13\n",
              "A0009016          2         50  경기     4\n",
              "A0009145          1         30  부산     9\n",
              "A0009500          1         30  서울    14\n",
              "A0009665          1         40  대구    18\n",
              "\n",
              "[102 rows x 4 columns]"
            ]
          },
          "metadata": {
            "tags": []
          },
          "execution_count": 27
        }
      ]
    },
    {
      "cell_type": "markdown",
      "metadata": {
        "id": "fmv01171CPoE"
      },
      "source": [
        "### 1. 거래수량 :총 매수수량\n",
        "### 2. 거래액: 총 매수액\n"
      ]
    },
    {
      "cell_type": "code",
      "metadata": {
        "id": "-QhwOIb1CWEz"
      },
      "source": [
        "# #구매자별 매수금액\n",
        "# customer_purchase = file.loc[file['매도매수구분코드']==2,:].groupby(['고객구분코드'])['총체결금액'].sum() \n",
        "# customer_amount = file.loc[file['매도매수구분코드']==2,:].groupby(['고객구분코드'])['총체결수량'].sum()\n",
        "\n",
        "# # 코드 수정함\n",
        "# customer_info['총매수금액']= customer_purchase\n",
        "# customer_info['총매수수량'] = customer_amount\n"
      ],
      "execution_count": 28,
      "outputs": []
    },
    {
      "cell_type": "markdown",
      "metadata": {
        "id": "g8Nt7ZBhAhm_"
      },
      "source": [
        "### 3. 투자상품의 종류별 비중(총매수금액을 가중치로) \n",
        "ETF, 대형주, 중형주, 소형주, KOSDAQ \n"
      ]
    },
    {
      "cell_type": "code",
      "metadata": {
        "id": "ruL25if7CDd9"
      },
      "source": [
        "import math\n",
        "\n",
        "kosdaq_tickers = stock.get_market_ticker_list(\"20200120\", market=\"KOSDAQ\")\n",
        "kospi_tickers = stock.get_market_ticker_list(\"20200120\", market=\"KOSPI\")\n",
        "kospi_caps  = stock.get_market_cap_by_ticker(\"20200120\").loc[kospi_tickers,'시가총액'].sort_values(ascending= False)\n",
        "kosdaq_caps  = stock.get_market_cap_by_ticker(\"20200120\").loc[kosdaq_tickers,'시가총액'].sort_values(ascending= False)\n",
        "\n",
        "kosdaq_tickers_2 = stock.get_market_ticker_list(\"20200331\", market=\"KOSDAQ\")\n",
        "kospi_tickers_2 = stock.get_market_ticker_list(\"20200331\", market=\"KOSPI\")\n",
        "kospi_caps_2  = stock.get_market_cap_by_ticker(\"20200331\").loc[kospi_tickers_2,'시가총액'].sort_values(ascending= False)\n",
        "kosdaq_caps_2  = stock.get_market_cap_by_ticker(\"20200331\").loc[kosdaq_tickers_2,'시가총액'].sort_values(ascending= False)\n",
        "\n",
        "kospi_caps = pd.concat([kospi_caps,kospi_caps_2],axis=1).mean(axis=1)\n",
        "kosdaq_caps = pd.concat([kosdaq_caps,kosdaq_caps_2],axis=1).mean(axis=1)\n",
        "\n",
        "all_caps = pd.concat([kospi_caps,kosdaq_caps],axis=1).mean(axis=1)\n",
        "all_caps.sort_values(ascending=False, inplace=True)\n",
        "\n",
        "large_cap = all_caps[:math.trunc(len(all_caps)*0.05)].index \n",
        "medium_cap = all_caps[math.trunc(len(all_caps)*0.05):math.trunc(len(all_caps)*0.3)].index\n",
        "small_cap = all_caps[math.trunc(len(all_caps)*0.3):].index\n",
        "\n",
        "file['stock_type']= ' '\n",
        "file.loc[file['code'].isin(large_cap), 'stock_type'] ='large_cap'\n",
        "file.loc[file['code'].isin(medium_cap), 'stock_type'] ='medium_cap'\n",
        "file.loc[file['code'].isin(small_cap), 'stock_type'] ='small_cap'"
      ],
      "execution_count": 33,
      "outputs": []
    },
    {
      "cell_type": "code",
      "metadata": {
        "id": "W4quuMCrBK81"
      },
      "source": [
        "#종목타입별 매수금액 비중\n",
        "\n",
        "#구매자별 매수금액\n",
        "customer_purchase = file.loc[file['매도매수구분코드']==2,:].groupby(['고객구분코드'])['총체결금액'].sum() \n",
        "customer_amount = file.loc[file['매도매수구분코드']==2,:].groupby(['고객구분코드'])['총체결수량'].sum()\n",
        "#구매자별 상품별 매수금액\n",
        "product_purchase = file.loc[file['매도매수구분코드']==2,:].groupby(['고객구분코드','code','stock_type'])['총체결금액'].sum().unstack().fillna(0)\n",
        "#구매자별 종목타입별 매수금액 비중\n",
        "type_purchase = product_purchase.groupby('고객구분코드').sum().apply(lambda x: x/customer_purchase )\n",
        "\n",
        "customer_info = customer_info.join(type_purchase)\n",
        "customer_info['총매수금액']= customer_purchase\n",
        "customer_info['총매수수량'] = customer_amount"
      ],
      "execution_count": 39,
      "outputs": []
    },
    {
      "cell_type": "markdown",
      "metadata": {
        "id": "IsA5KalNst7i"
      },
      "source": [
        "### 4. 투자한 섹터 개수\n",
        "- 사용한 외부데이터 출처 : http://data.krx.co.kr/contents/MDC/MDI/mdiLoader/index.cmd?menuId=MDC0201020201 \n",
        "주식 - 세부안내 - 업종별 분류현황"
      ]
    },
    {
      "cell_type": "code",
      "metadata": {
        "id": "tzKvyZGzWwI4"
      },
      "source": [
        "sector_kospi_200331 = pd.read_csv('/content/drive/MyDrive/소회의실 프로젝트/외부데이터/Sector_KOSPI_200331.csv', encoding='cp949')\n",
        "sector_kosdaq_200331 = pd.read_csv('/content/drive/MyDrive/소회의실 프로젝트/외부데이터/Sector_KOSDAQ_200331.csv', encoding='cp949')\n",
        "# new_stock = pd.read_csv('/content/drive/MyDrive/소회의실 프로젝트/외부데이터/신규상장종목.csv', encoding='cp949')\n",
        "# new_stock.rename(columns={'업종':'업종명'}, inplace=True)\n",
        "sector_total = pd.concat([sector_kospi_200331.loc[:, ['종목코드', '업종명']], sector_kosdaq_200331.loc[:, ['종목코드', '업종명']]])\n",
        "sector_total = sector_total.reset_index(drop = True)\n",
        "\n",
        "#상장폐지, 신규상장 종목 추가\n",
        "sector_total=sector_total.append({'종목코드' : '011160' , '업종명' : '건설업'} , ignore_index=True) # 3월 24일에 상장폐지된 코스피 두산건설\n",
        "sector_total=sector_total.append({'종목코드' : '122800' , '업종명' : '금속'} , ignore_index=True) # 2월 12일에 상장폐지된 코스닥 썬테크놀로지스(썬텍)\n",
        "sector_total=sector_total.append({'종목코드' : '341160' , '업종명' : '금융'} , ignore_index=True) # 1월 30일에 신규상장된 코스닥 하나금융15호스팩 - 작은 이상한점 : KRX종목리스트에는 이 종목이 안뜨네요. 일단 데이터에 있으니 추가."
      ],
      "execution_count": 40,
      "outputs": []
    },
    {
      "cell_type": "code",
      "metadata": {
        "id": "HQ98drm9WaC5"
      },
      "source": [
        "sector_total.rename(columns={'종목코드':'code'}, inplace=True)\n",
        "file = pd.merge(file, sector_total, how='left', left_on='code', right_on='code')"
      ],
      "execution_count": 41,
      "outputs": []
    },
    {
      "cell_type": "code",
      "metadata": {
        "id": "0ek4Xiz0f_iX"
      },
      "source": [
        "# 투자한 섹터 개수\n",
        "sector_df = pd.DataFrame(file.groupby(['고객구분코드', '업종명']).size()).reset_index()\n",
        "sector_df = pd.DataFrame(sector_df.groupby(['고객구분코드'])['업종명'].size()).reset_index()\n",
        "sector_df.rename(columns={'업종명':'업종개수'}, inplace=True)"
      ],
      "execution_count": 42,
      "outputs": []
    },
    {
      "cell_type": "code",
      "metadata": {
        "id": "DlViRvkujIAc",
        "colab": {
          "base_uri": "https://localhost:8080/",
          "height": 419
        },
        "outputId": "9f73b2f7-9018-47e6-bb43-51905b879778"
      },
      "source": [
        "customer_info = pd.merge(customer_info, sector_df, on='고객구분코드')\n",
        "customer_info"
      ],
      "execution_count": 43,
      "outputs": [
        {
          "output_type": "execute_result",
          "data": {
            "text/html": [
              "<div>\n",
              "<style scoped>\n",
              "    .dataframe tbody tr th:only-of-type {\n",
              "        vertical-align: middle;\n",
              "    }\n",
              "\n",
              "    .dataframe tbody tr th {\n",
              "        vertical-align: top;\n",
              "    }\n",
              "\n",
              "    .dataframe thead th {\n",
              "        text-align: right;\n",
              "    }\n",
              "</style>\n",
              "<table border=\"1\" class=\"dataframe\">\n",
              "  <thead>\n",
              "    <tr style=\"text-align: right;\">\n",
              "      <th></th>\n",
              "      <th>고객구분코드</th>\n",
              "      <th>고객성별구분코드</th>\n",
              "      <th>동일나이군구분코드</th>\n",
              "      <th>주소</th>\n",
              "      <th>상품개수</th>\n",
              "      <th>총매수금액</th>\n",
              "      <th>총매수수량</th>\n",
              "      <th>large_cap</th>\n",
              "      <th>medium_cap</th>\n",
              "      <th>small_cap</th>\n",
              "      <th>업종개수</th>\n",
              "    </tr>\n",
              "  </thead>\n",
              "  <tbody>\n",
              "    <tr>\n",
              "      <th>0</th>\n",
              "      <td>A00010020</td>\n",
              "      <td>1</td>\n",
              "      <td>20</td>\n",
              "      <td>서울</td>\n",
              "      <td>8</td>\n",
              "      <td>6665600</td>\n",
              "      <td>42</td>\n",
              "      <td>0.857147</td>\n",
              "      <td>0.142853</td>\n",
              "      <td>0.000000</td>\n",
              "      <td>6</td>\n",
              "    </tr>\n",
              "    <tr>\n",
              "      <th>1</th>\n",
              "      <td>A0001035</td>\n",
              "      <td>2</td>\n",
              "      <td>40</td>\n",
              "      <td>경기</td>\n",
              "      <td>8</td>\n",
              "      <td>20655870</td>\n",
              "      <td>376</td>\n",
              "      <td>0.830965</td>\n",
              "      <td>0.111725</td>\n",
              "      <td>0.057311</td>\n",
              "      <td>5</td>\n",
              "    </tr>\n",
              "    <tr>\n",
              "      <th>2</th>\n",
              "      <td>A00010416</td>\n",
              "      <td>1</td>\n",
              "      <td>30</td>\n",
              "      <td>서울</td>\n",
              "      <td>23</td>\n",
              "      <td>275445270</td>\n",
              "      <td>7020</td>\n",
              "      <td>0.876835</td>\n",
              "      <td>0.119032</td>\n",
              "      <td>0.004133</td>\n",
              "      <td>14</td>\n",
              "    </tr>\n",
              "    <tr>\n",
              "      <th>3</th>\n",
              "      <td>A00010516</td>\n",
              "      <td>2</td>\n",
              "      <td>30</td>\n",
              "      <td>서울</td>\n",
              "      <td>8</td>\n",
              "      <td>1855450</td>\n",
              "      <td>102</td>\n",
              "      <td>0.558786</td>\n",
              "      <td>0.388396</td>\n",
              "      <td>0.052817</td>\n",
              "      <td>5</td>\n",
              "    </tr>\n",
              "    <tr>\n",
              "      <th>4</th>\n",
              "      <td>A00010708</td>\n",
              "      <td>1</td>\n",
              "      <td>50</td>\n",
              "      <td>울산</td>\n",
              "      <td>13</td>\n",
              "      <td>25126330</td>\n",
              "      <td>6428</td>\n",
              "      <td>0.566957</td>\n",
              "      <td>0.246227</td>\n",
              "      <td>0.186816</td>\n",
              "      <td>7</td>\n",
              "    </tr>\n",
              "    <tr>\n",
              "      <th>...</th>\n",
              "      <td>...</td>\n",
              "      <td>...</td>\n",
              "      <td>...</td>\n",
              "      <td>...</td>\n",
              "      <td>...</td>\n",
              "      <td>...</td>\n",
              "      <td>...</td>\n",
              "      <td>...</td>\n",
              "      <td>...</td>\n",
              "      <td>...</td>\n",
              "      <td>...</td>\n",
              "    </tr>\n",
              "    <tr>\n",
              "      <th>97</th>\n",
              "      <td>A0008961</td>\n",
              "      <td>1</td>\n",
              "      <td>20</td>\n",
              "      <td>경기</td>\n",
              "      <td>13</td>\n",
              "      <td>768290</td>\n",
              "      <td>65</td>\n",
              "      <td>0.084018</td>\n",
              "      <td>0.704291</td>\n",
              "      <td>0.211691</td>\n",
              "      <td>9</td>\n",
              "    </tr>\n",
              "    <tr>\n",
              "      <th>98</th>\n",
              "      <td>A0009016</td>\n",
              "      <td>2</td>\n",
              "      <td>50</td>\n",
              "      <td>경기</td>\n",
              "      <td>4</td>\n",
              "      <td>3125500</td>\n",
              "      <td>160</td>\n",
              "      <td>0.520557</td>\n",
              "      <td>0.479443</td>\n",
              "      <td>0.000000</td>\n",
              "      <td>4</td>\n",
              "    </tr>\n",
              "    <tr>\n",
              "      <th>99</th>\n",
              "      <td>A0009145</td>\n",
              "      <td>1</td>\n",
              "      <td>30</td>\n",
              "      <td>부산</td>\n",
              "      <td>9</td>\n",
              "      <td>3512310</td>\n",
              "      <td>856</td>\n",
              "      <td>0.000000</td>\n",
              "      <td>0.141502</td>\n",
              "      <td>0.858498</td>\n",
              "      <td>5</td>\n",
              "    </tr>\n",
              "    <tr>\n",
              "      <th>100</th>\n",
              "      <td>A0009500</td>\n",
              "      <td>1</td>\n",
              "      <td>30</td>\n",
              "      <td>서울</td>\n",
              "      <td>14</td>\n",
              "      <td>5174710</td>\n",
              "      <td>304</td>\n",
              "      <td>0.774295</td>\n",
              "      <td>0.143776</td>\n",
              "      <td>0.081929</td>\n",
              "      <td>13</td>\n",
              "    </tr>\n",
              "    <tr>\n",
              "      <th>101</th>\n",
              "      <td>A0009665</td>\n",
              "      <td>1</td>\n",
              "      <td>40</td>\n",
              "      <td>대구</td>\n",
              "      <td>18</td>\n",
              "      <td>52880610</td>\n",
              "      <td>3069</td>\n",
              "      <td>0.089920</td>\n",
              "      <td>0.452302</td>\n",
              "      <td>0.457779</td>\n",
              "      <td>11</td>\n",
              "    </tr>\n",
              "  </tbody>\n",
              "</table>\n",
              "<p>102 rows × 11 columns</p>\n",
              "</div>"
            ],
            "text/plain": [
              "        고객구분코드  고객성별구분코드  동일나이군구분코드  주소  ...  large_cap  medium_cap  small_cap  업종개수\n",
              "0    A00010020         1         20  서울  ...   0.857147    0.142853   0.000000     6\n",
              "1     A0001035         2         40  경기  ...   0.830965    0.111725   0.057311     5\n",
              "2    A00010416         1         30  서울  ...   0.876835    0.119032   0.004133    14\n",
              "3    A00010516         2         30  서울  ...   0.558786    0.388396   0.052817     5\n",
              "4    A00010708         1         50  울산  ...   0.566957    0.246227   0.186816     7\n",
              "..         ...       ...        ...  ..  ...        ...         ...        ...   ...\n",
              "97    A0008961         1         20  경기  ...   0.084018    0.704291   0.211691     9\n",
              "98    A0009016         2         50  경기  ...   0.520557    0.479443   0.000000     4\n",
              "99    A0009145         1         30  부산  ...   0.000000    0.141502   0.858498     5\n",
              "100   A0009500         1         30  서울  ...   0.774295    0.143776   0.081929    13\n",
              "101   A0009665         1         40  대구  ...   0.089920    0.452302   0.457779    11\n",
              "\n",
              "[102 rows x 11 columns]"
            ]
          },
          "metadata": {
            "tags": []
          },
          "execution_count": 43
        }
      ]
    },
    {
      "cell_type": "markdown",
      "metadata": {
        "id": "VKd8_0alw4GE"
      },
      "source": [
        "### 5. 종목보유기간: 매수-매도 기간 \n",
        "거래량을 차감해서 계산하는 형태\n"
      ]
    },
    {
      "cell_type": "code",
      "metadata": {
        "id": "r05mGwWoZLEU"
      },
      "source": [
        "# return 2가지\n",
        "# 1. 매도된 주식이 언제 매수한 주식인지 계산\n",
        "# 2. 매도가 안되고 남아 있는 주식의 인덱스 \n",
        "# **** 거래일시가 sorting되어 있어야 작동 **** \n",
        "def first_sell_date_idx(df):\n",
        "    a, b = np.array([]), np.array([])\n",
        "    for idx, row in df.iterrows():\n",
        "        if row['매도매수구분코드'] == 2:\n",
        "            a = np.append(a, np.array(row['총체결수량']))\n",
        "            b = np.append(b, np.array(0))\n",
        "        elif row['매도매수구분코드'] == 1:\n",
        "            b = np.append(b, np.array(row['총체결수량']))\n",
        "            a = np.append(a, np.array(0))\n",
        "            \n",
        "#     print('a: ', a)\n",
        "#     print('b: ', b)\n",
        "\n",
        "    idx = np.array([])\n",
        "    for i in range(len(a)):\n",
        "        flag = True\n",
        "        flag2 = True\n",
        "        if b[i] == 0:\n",
        "            idx = np.append(idx, np.array([-1]))\n",
        "        else:\n",
        "            for j in range(0, i):\n",
        "                if(b[i] <= a[j]):                  \n",
        "                    a[j] = a[j] - b[i]\n",
        "                    b[i] = 0\n",
        "                    if flag:\n",
        "                        idx = np.append(idx, np.array([j]))\n",
        "                        flag = False\n",
        "                        flag2 = False\n",
        "                    break\n",
        "                elif (b[i] > a[j]) & (a[j] !=0):   \n",
        "                    b[i] = b[i] - a[j]\n",
        "                    a[j] = 0\n",
        "                    if flag:\n",
        "                        idx = np.append(idx, np.array([j]))\n",
        "                        flag = False\n",
        "                        flag2 = False\n",
        "                        \n",
        "                if((j == i-1) & (b[i] != 0)):\n",
        "                    if flag2:\n",
        "                        idx = np.append(idx, np.array([0]))\n",
        "                    else:\n",
        "                        idx[-1] = 0\n",
        "                    b[i] == 0\n",
        "                    \n",
        "                \n",
        "                   \n",
        "    rest_index = np.where(a != 0)[0].tolist()\n",
        "    return np.array(idx, dtype = np.int64).tolist(), rest_index"
      ],
      "execution_count": 44,
      "outputs": []
    },
    {
      "cell_type": "code",
      "metadata": {
        "id": "v7AMbyLlm87j"
      },
      "source": [
        "# 각각의 주문 보유기간 계산 하는 함수\n",
        "# (고객번호, 계좌번호, 상품번호)별로 묶어서 계산\n",
        "def buysell(df):\n",
        "    \n",
        "    cols = ['고객구분코드', '주문일자', '주문시간대', '상품번호', '상품명', 'stock_type', '매도매수구분코드', '실주문단가', '주문수량', '총체결수량', '총체결금액']\n",
        "    combine_df = pd.DataFrame(columns= cols)\n",
        "    df = df[['고객구분코드', '주문일자', '주문시간대', '상품번호', '상품명', 'stock_type','매도매수구분코드', '실주문단가', '주문수량', '총체결수량', '총체결금액']]\n",
        "    \n",
        "    for userID in tqdm(df['고객구분코드'].unique()):\n",
        "        \n",
        "        invest = df[(df['고객구분코드'] == userID)]\n",
        "\n",
        "        # 매수매도되지 않은 주식의 보유기간 계산을 위한 기준일\n",
        "        first_date = min(invest['주문일자'])\n",
        "        # print(first_date)\n",
        "        base_date = datetime.datetime(2020, 4, 1, 15, 0, 0)\n",
        "        end_march = datetime.datetime.strptime('2020-03-15', '%Y-%m-%d')\n",
        "\n",
        "        # (고객번호, 계좌번호)가 거래한 상품번호\n",
        "        stock_code = invest['상품번호'].unique().tolist()\n",
        "\n",
        "        # loop 한번 돌 때 마다 상품번호 끼리 묶음 \n",
        "        for num in stock_code:\n",
        "            temp = invest.loc[invest['상품번호'] == num]\n",
        "            \n",
        "            temp.loc[-1] =  {'고객구분코드': userID,\n",
        "                           '주문일자': first_date,\n",
        "                             '주문시간대':0,\n",
        "                           '상품번호': num,\n",
        "                           '매도매수구분코드': 2,\n",
        "                            '총체결수량': 0}\n",
        "            temp = temp.sort_values(by=['매도매수구분코드'], ascending=False).sort_values(by=['주문일자', '주문시간대'])\n",
        "\n",
        " \n",
        "\n",
        "            \"\"\"\n",
        "            종목보유기간 계산\n",
        "            - 매도시, 종목 보유 기간이 찍힘\n",
        "            - 일반적으로 매도매수코드가 2일때(매수) NaN값을 가짐\n",
        "            - 매도매수코드가 2인데 종목보유기간이 있는 행 --> 실제로 팔리지 않아 기준일(4월1일)에 팔았다고 가정하고 보유기간 계산\n",
        "            - 3월 말 이후에 매수하고 매도되지않은 주식의 종목보유기간 --> -1 \n",
        "            - 과거의 매수량보다 매도량이 많을 경우, 고객의 첫 구매일에 구매한 것으로 가정 --> 매수시점 idx = 0\n",
        "            \"\"\"\n",
        "            # 총 매도수량\n",
        "            sell_quantity = temp[temp['매도매수구분코드']==1]['총체결수량'].sum()\n",
        "            # 총 매수수량\n",
        "            buy_quantity = temp[temp['매도매수구분코드']==2]['총체결수량'].sum()\n",
        "\n",
        "            # print('매도수량: ', sell_quantity, '    매수수량: ', buy_quantity)\n",
        "\n",
        "            temp['매수시점idx'], rest_index =  first_sell_date_idx(temp)\n",
        "            temp['종목보유기간'] = np.where(temp['매수시점idx'] == -1, np.nan, \n",
        "                                           (temp['주문일자'] - temp.iloc[temp['매수시점idx']]['주문일자'].values).dt.days)\n",
        "            # 매도되지 못한 나머지\n",
        "            for idx in rest_index:\n",
        "                temp.iloc[idx, temp.columns.get_loc('종목보유기간')] = np.where(temp.iloc[idx, temp.columns.get_loc('주문일자')] > end_march, -1, \n",
        "                                                                          (base_date - temp.iloc[idx, temp.columns.get_loc('주문일자')]).days)\n",
        "            \n",
        "            \n",
        "            temp.drop(index=temp.index[:1], axis=0, inplace=True)\n",
        "            temp.drop('매수시점idx', axis=1, inplace=True)\n",
        "            \n",
        "\n",
        "            combine_df = pd.concat([combine_df, temp], axis=0)\n",
        "        \n",
        "  \n",
        "    return combine_df        \n"
      ],
      "execution_count": 45,
      "outputs": []
    },
    {
      "cell_type": "code",
      "metadata": {
        "id": "GUvvupltm-J1"
      },
      "source": [
        "def for_grouping(x):   \n",
        "    if (~x.isin([-1])).sum() == 0: # 모든 종목보유기간이 -1 \n",
        "        avg = -1\n",
        "    else:\n",
        "        avg = x[x >= 0].mean()\n",
        "   \n",
        "    return avg\n",
        "    \n",
        "\n",
        "# 고객의 평균 보유기간 계산 하는 함수    \n",
        "def cal_term(df): \n",
        "    # cust_acc_set = df['고객구분코드'].unique()\n",
        "    cust_cap_term = pd.DataFrame(columns=['고객구분코드', 'large_cap', 'medium_cap', 'small_cap'])\n",
        "    # for cust, in cust_acc_set:\n",
        "        # 매매 개별 종목보유기간 불러오기\n",
        "    temp = buysell(df)[['고객구분코드', 'stock_type','종목보유기간']]\n",
        "\n",
        "    # 그룹핑 하고 평균 내기, 모든 종목 보유기간이 -1일 경우 -1로 \n",
        "    temp = temp[['고객구분코드', 'stock_type', '종목보유기간']]\n",
        "    grouped = temp.groupby(['고객구분코드', 'stock_type'])\n",
        "    temp = grouped.agg({'종목보유기간': for_grouping})\n",
        "\n",
        "    temp = temp.pivot_table(index='고객구분코드', columns='stock_type', values='종목보유기간').reset_index()\n",
        "    cust_cap_term = pd.concat([cust_cap_term, temp], ignore_index=True)\n",
        "    cust_cap_term.columns = ['고객구분코드', 'large_cap_period', 'medium_cap_period', 'small_cap_period']\n",
        "\n",
        "    cust_cap_term.fillna(0, inplace=True)\n",
        "    return cust_cap_term\n",
        "    # -1은 평균값으로 넣기 --> 매수는 했지만 매도는 없는 형태\n",
        "\n"
      ],
      "execution_count": 50,
      "outputs": []
    },
    {
      "cell_type": "code",
      "metadata": {
        "id": "qWIPRgB9nBwe"
      },
      "source": [
        "pd.options.mode.chained_assignment = None\n",
        "cal_term_df = cal_term(file)\n",
        "cal_term_df = cal_term_df.replace(-1, np.nan)\n",
        "cal_term_df.fillna(cal_term_df[cal_term_df[['large_cap_period', 'medium_cap_period', 'small_cap_period']] > 0].mean(), inplace=True)\n",
        "# cal_term_df"
      ],
      "execution_count": 52,
      "outputs": []
    },
    {
      "cell_type": "code",
      "metadata": {
        "id": "dD1GdhZWZLHC"
      },
      "source": [
        "customer_info = pd.merge(customer_info, cal_term_df, on='고객구분코드')\n",
        "# customer_info"
      ],
      "execution_count": 54,
      "outputs": []
    },
    {
      "cell_type": "markdown",
      "metadata": {
        "id": "XXkfAjiGZLad"
      },
      "source": [
        "### 6. 수익률: (총매도금액/총매수금액 -1)\n",
        "매도를 하지 않은 경우의 수익률은 어떻게 계산할지 조금 더 고민→ 4월 1일 매도 기준 "
      ]
    },
    {
      "cell_type": "code",
      "metadata": {
        "id": "GLRz46zScjbS"
      },
      "source": [
        "## 2020년 4월 1일 주가데이터 불러오기\n",
        "stock_0401 = pd.read_csv('/content/drive/MyDrive/소회의실 프로젝트/외부데이터/200401전종목가격.csv', encoding='cp949')"
      ],
      "execution_count": 55,
      "outputs": []
    },
    {
      "cell_type": "code",
      "metadata": {
        "id": "ze-28uU2ZLpN"
      },
      "source": [
        "# 수익률 계산 \n",
        "def cal_rate_of_return(df):\n",
        "    cust_set = df['고객구분코드'].unique()\n",
        "    cust_rate_return = pd.DataFrame(columns=['고객구분코드', '수익률'])\n",
        "    \n",
        "    for cust in cust_set:\n",
        "        invest = df[df['고객구분코드'] == cust][['고객구분코드', '주문일자', '상품번호', '상품명', '매도매수구분코드','실주문단가', '주문수량', '총체결수량', '총체결금액']]\n",
        "        combine_df = pd.DataFrame(columns= invest.columns)\n",
        "\n",
        "        # (고객번호)가 거래한 상품번호\n",
        "        stock_code = invest['상품번호'].unique().tolist()\n",
        "        \n",
        "        total_sell_price = 0\n",
        "        total_buy_price = 0\n",
        "        \n",
        "        \n",
        "        # loop 한번 돌 때 마다 상품번호 끼리 묶음 \n",
        "        for num in stock_code:\n",
        "            temp = invest.loc[invest['상품번호'] == num]\n",
        "\n",
        "            first_date = min(temp['주문일자'])\n",
        "            first_date = first_date.strftime('%Y%m%d')\n",
        "            \n",
        "            \n",
        "            # ticker_code = temp['상품번호'].apply(lambda x: x[6:])\n",
        "            ticker_code = temp['상품번호'].apply(lambda x: x[6:]).values[0]\n",
        "            \n",
        "            # 매도매수수량\n",
        "            sell_quantity = temp[temp['매도매수구분코드']==1]['총체결수량'].sum()\n",
        "            buy_quantity = temp[temp['매도매수구분코드']==2]['총체결수량'].sum()\n",
        "            \n",
        "            \n",
        "            buy_price = temp[temp['매도매수구분코드']==2]['총체결금액'].sum()\n",
        "            sell_price = temp[temp['매도매수구분코드']==1]['총체결금액'].sum()\n",
        "            \n",
        "            if buy_quantity >= sell_quantity:\n",
        "                # 4월 1일 종가 가져오기\n",
        "                # closing_price = stock.get_market_ohlcv_by_date(\"20200401\", \"20200401\", ticker_code).iloc[0]['종가']\n",
        "                closing_price = stock_0401[stock_0401['종목코드']== ticker_code].iloc[0]['종가'] # KRX사이트에서 받은 데이터에서 4월 1일 종가 가져오기\n",
        "                sell_price = sell_price + (closing_price*(buy_quantity-sell_quantity))\n",
        "            else:\n",
        "                # 고객의 첫구매일 종가 가져오기\n",
        "                # closing_price = stock.get_market_ohlcv_by_date(first_date, first_date, ticker_code).iloc[0]['종가']\n",
        "                closing_price = df[df['code']== ticker_code].iloc[0]['당일종가'] # pykrx보다는 저희 원래 데이터가 정확하니 원래 데이터에서 종가 가져오는게 좋을것 같음\n",
        "                buy_price = buy_price + (closing_price*(sell_quantity-buy_quantity))\n",
        "                \n",
        "            total_sell_price += sell_price\n",
        "            total_buy_price += buy_price\n",
        "        \n",
        "        # 수익률\n",
        "        rate_of_return = (total_sell_price/total_buy_price -1) * 100\n",
        "\n",
        "        cust_rate_return = cust_rate_return.append({'고객구분코드':cust, '수익률':rate_of_return}, ignore_index=True)\n",
        "    \n",
        "    return cust_rate_return"
      ],
      "execution_count": 56,
      "outputs": []
    },
    {
      "cell_type": "code",
      "metadata": {
        "id": "qUDG9QLpZLrm"
      },
      "source": [
        "customer_info = pd.merge(customer_info, cal_rate_of_return(file), on='고객구분코드')\n",
        "# customer_info"
      ],
      "execution_count": 57,
      "outputs": []
    },
    {
      "cell_type": "code",
      "metadata": {
        "id": "QBpEsO_aZLuF"
      },
      "source": [
        "customer_info= customer_info.set_index('고객구분코드')"
      ],
      "execution_count": 58,
      "outputs": []
    },
    {
      "cell_type": "code",
      "metadata": {
        "id": "XSgCisEiZLwZ"
      },
      "source": [
        ""
      ],
      "execution_count": null,
      "outputs": []
    },
    {
      "cell_type": "markdown",
      "metadata": {
        "id": "dQOqVv7noXoJ"
      },
      "source": [
        "## 상한가하한가 여부"
      ]
    },
    {
      "cell_type": "code",
      "metadata": {
        "id": "DFhyL7CWoWtk"
      },
      "source": [
        "def limit_price(df):\n",
        "  df['상한가여부'] = df['상한가여부'].map(dict(Y=1, N=0))\n",
        "  df['하한가여부'] = df['하한가여부'].map(dict(Y=1, N=0))\n",
        "\n",
        "  df['상하한가여부'] = df['상한가여부'] | df['하한가여부']\n",
        "\n",
        "  limit_price_df = pd.DataFrame(df.groupby('고객구분코드')['상하한가여부'].sum()/df.groupby('고객구분코드')['상하한가여부'].count())\n",
        "  return limit_price_df"
      ],
      "execution_count": 59,
      "outputs": []
    },
    {
      "cell_type": "code",
      "metadata": {
        "id": "vjlG7tRIoWwI"
      },
      "source": [
        "limit_df = limit_price(file)"
      ],
      "execution_count": 60,
      "outputs": []
    },
    {
      "cell_type": "code",
      "metadata": {
        "colab": {
          "base_uri": "https://localhost:8080/",
          "height": 450
        },
        "id": "P5gUSSvFrlja",
        "outputId": "e33d4f74-0994-444e-cfeb-892c443533d6"
      },
      "source": [
        "limit_df"
      ],
      "execution_count": 61,
      "outputs": [
        {
          "output_type": "execute_result",
          "data": {
            "text/html": [
              "<div>\n",
              "<style scoped>\n",
              "    .dataframe tbody tr th:only-of-type {\n",
              "        vertical-align: middle;\n",
              "    }\n",
              "\n",
              "    .dataframe tbody tr th {\n",
              "        vertical-align: top;\n",
              "    }\n",
              "\n",
              "    .dataframe thead th {\n",
              "        text-align: right;\n",
              "    }\n",
              "</style>\n",
              "<table border=\"1\" class=\"dataframe\">\n",
              "  <thead>\n",
              "    <tr style=\"text-align: right;\">\n",
              "      <th></th>\n",
              "      <th>상하한가여부</th>\n",
              "    </tr>\n",
              "    <tr>\n",
              "      <th>고객구분코드</th>\n",
              "      <th></th>\n",
              "    </tr>\n",
              "  </thead>\n",
              "  <tbody>\n",
              "    <tr>\n",
              "      <th>A00010020</th>\n",
              "      <td>0.000000</td>\n",
              "    </tr>\n",
              "    <tr>\n",
              "      <th>A0001035</th>\n",
              "      <td>0.000000</td>\n",
              "    </tr>\n",
              "    <tr>\n",
              "      <th>A00010416</th>\n",
              "      <td>0.202797</td>\n",
              "    </tr>\n",
              "    <tr>\n",
              "      <th>A00010516</th>\n",
              "      <td>0.047619</td>\n",
              "    </tr>\n",
              "    <tr>\n",
              "      <th>A00010708</th>\n",
              "      <td>0.000000</td>\n",
              "    </tr>\n",
              "    <tr>\n",
              "      <th>...</th>\n",
              "      <td>...</td>\n",
              "    </tr>\n",
              "    <tr>\n",
              "      <th>A0008961</th>\n",
              "      <td>0.387097</td>\n",
              "    </tr>\n",
              "    <tr>\n",
              "      <th>A0009016</th>\n",
              "      <td>0.000000</td>\n",
              "    </tr>\n",
              "    <tr>\n",
              "      <th>A0009145</th>\n",
              "      <td>0.615385</td>\n",
              "    </tr>\n",
              "    <tr>\n",
              "      <th>A0009500</th>\n",
              "      <td>0.046512</td>\n",
              "    </tr>\n",
              "    <tr>\n",
              "      <th>A0009665</th>\n",
              "      <td>0.083333</td>\n",
              "    </tr>\n",
              "  </tbody>\n",
              "</table>\n",
              "<p>102 rows × 1 columns</p>\n",
              "</div>"
            ],
            "text/plain": [
              "             상하한가여부\n",
              "고객구분코드             \n",
              "A00010020  0.000000\n",
              "A0001035   0.000000\n",
              "A00010416  0.202797\n",
              "A00010516  0.047619\n",
              "A00010708  0.000000\n",
              "...             ...\n",
              "A0008961   0.387097\n",
              "A0009016   0.000000\n",
              "A0009145   0.615385\n",
              "A0009500   0.046512\n",
              "A0009665   0.083333\n",
              "\n",
              "[102 rows x 1 columns]"
            ]
          },
          "metadata": {
            "tags": []
          },
          "execution_count": 61
        }
      ]
    },
    {
      "cell_type": "code",
      "metadata": {
        "id": "zgN1nQN7oWzB"
      },
      "source": [
        "customer_info = customer_info.join(limit_df, on='고객구분코드')"
      ],
      "execution_count": 62,
      "outputs": []
    },
    {
      "cell_type": "code",
      "metadata": {
        "colab": {
          "base_uri": "https://localhost:8080/",
          "height": 450
        },
        "id": "Q8XdYpcGoW07",
        "outputId": "9d693bc1-0151-46c2-b521-70ad4ceb64fe"
      },
      "source": [
        "customer_info"
      ],
      "execution_count": 63,
      "outputs": [
        {
          "output_type": "execute_result",
          "data": {
            "text/html": [
              "<div>\n",
              "<style scoped>\n",
              "    .dataframe tbody tr th:only-of-type {\n",
              "        vertical-align: middle;\n",
              "    }\n",
              "\n",
              "    .dataframe tbody tr th {\n",
              "        vertical-align: top;\n",
              "    }\n",
              "\n",
              "    .dataframe thead th {\n",
              "        text-align: right;\n",
              "    }\n",
              "</style>\n",
              "<table border=\"1\" class=\"dataframe\">\n",
              "  <thead>\n",
              "    <tr style=\"text-align: right;\">\n",
              "      <th></th>\n",
              "      <th>고객성별구분코드</th>\n",
              "      <th>동일나이군구분코드</th>\n",
              "      <th>주소</th>\n",
              "      <th>상품개수</th>\n",
              "      <th>총매수금액</th>\n",
              "      <th>총매수수량</th>\n",
              "      <th>large_cap</th>\n",
              "      <th>medium_cap</th>\n",
              "      <th>small_cap</th>\n",
              "      <th>업종개수</th>\n",
              "      <th>large_cap_period</th>\n",
              "      <th>medium_cap_period</th>\n",
              "      <th>small_cap_period</th>\n",
              "      <th>수익률</th>\n",
              "      <th>상하한가여부</th>\n",
              "    </tr>\n",
              "    <tr>\n",
              "      <th>고객구분코드</th>\n",
              "      <th></th>\n",
              "      <th></th>\n",
              "      <th></th>\n",
              "      <th></th>\n",
              "      <th></th>\n",
              "      <th></th>\n",
              "      <th></th>\n",
              "      <th></th>\n",
              "      <th></th>\n",
              "      <th></th>\n",
              "      <th></th>\n",
              "      <th></th>\n",
              "      <th></th>\n",
              "      <th></th>\n",
              "      <th></th>\n",
              "    </tr>\n",
              "  </thead>\n",
              "  <tbody>\n",
              "    <tr>\n",
              "      <th>A00010020</th>\n",
              "      <td>1</td>\n",
              "      <td>20</td>\n",
              "      <td>서울</td>\n",
              "      <td>8</td>\n",
              "      <td>6665600</td>\n",
              "      <td>42</td>\n",
              "      <td>0.857147</td>\n",
              "      <td>0.142853</td>\n",
              "      <td>0.000000</td>\n",
              "      <td>6</td>\n",
              "      <td>12.125000</td>\n",
              "      <td>15.000000</td>\n",
              "      <td>0.000000</td>\n",
              "      <td>-3.215045</td>\n",
              "      <td>0.000000</td>\n",
              "    </tr>\n",
              "    <tr>\n",
              "      <th>A0001035</th>\n",
              "      <td>2</td>\n",
              "      <td>40</td>\n",
              "      <td>경기</td>\n",
              "      <td>8</td>\n",
              "      <td>20655870</td>\n",
              "      <td>376</td>\n",
              "      <td>0.830965</td>\n",
              "      <td>0.111725</td>\n",
              "      <td>0.057311</td>\n",
              "      <td>5</td>\n",
              "      <td>17.629881</td>\n",
              "      <td>13.185952</td>\n",
              "      <td>16.832704</td>\n",
              "      <td>-3.430357</td>\n",
              "      <td>0.000000</td>\n",
              "    </tr>\n",
              "    <tr>\n",
              "      <th>A00010416</th>\n",
              "      <td>1</td>\n",
              "      <td>30</td>\n",
              "      <td>서울</td>\n",
              "      <td>23</td>\n",
              "      <td>275445270</td>\n",
              "      <td>7020</td>\n",
              "      <td>0.876835</td>\n",
              "      <td>0.119032</td>\n",
              "      <td>0.004133</td>\n",
              "      <td>14</td>\n",
              "      <td>12.017241</td>\n",
              "      <td>12.600000</td>\n",
              "      <td>20.300000</td>\n",
              "      <td>-2.262515</td>\n",
              "      <td>0.202797</td>\n",
              "    </tr>\n",
              "    <tr>\n",
              "      <th>A00010516</th>\n",
              "      <td>2</td>\n",
              "      <td>30</td>\n",
              "      <td>서울</td>\n",
              "      <td>8</td>\n",
              "      <td>1855450</td>\n",
              "      <td>102</td>\n",
              "      <td>0.558786</td>\n",
              "      <td>0.388396</td>\n",
              "      <td>0.052817</td>\n",
              "      <td>5</td>\n",
              "      <td>29.333333</td>\n",
              "      <td>29.400000</td>\n",
              "      <td>25.000000</td>\n",
              "      <td>-6.904243</td>\n",
              "      <td>0.047619</td>\n",
              "    </tr>\n",
              "    <tr>\n",
              "      <th>A00010708</th>\n",
              "      <td>1</td>\n",
              "      <td>50</td>\n",
              "      <td>울산</td>\n",
              "      <td>13</td>\n",
              "      <td>25126330</td>\n",
              "      <td>6428</td>\n",
              "      <td>0.566957</td>\n",
              "      <td>0.246227</td>\n",
              "      <td>0.186816</td>\n",
              "      <td>7</td>\n",
              "      <td>14.625000</td>\n",
              "      <td>15.857143</td>\n",
              "      <td>15.000000</td>\n",
              "      <td>3.161780</td>\n",
              "      <td>0.000000</td>\n",
              "    </tr>\n",
              "    <tr>\n",
              "      <th>...</th>\n",
              "      <td>...</td>\n",
              "      <td>...</td>\n",
              "      <td>...</td>\n",
              "      <td>...</td>\n",
              "      <td>...</td>\n",
              "      <td>...</td>\n",
              "      <td>...</td>\n",
              "      <td>...</td>\n",
              "      <td>...</td>\n",
              "      <td>...</td>\n",
              "      <td>...</td>\n",
              "      <td>...</td>\n",
              "      <td>...</td>\n",
              "      <td>...</td>\n",
              "      <td>...</td>\n",
              "    </tr>\n",
              "    <tr>\n",
              "      <th>A0008961</th>\n",
              "      <td>1</td>\n",
              "      <td>20</td>\n",
              "      <td>경기</td>\n",
              "      <td>13</td>\n",
              "      <td>768290</td>\n",
              "      <td>65</td>\n",
              "      <td>0.084018</td>\n",
              "      <td>0.704291</td>\n",
              "      <td>0.211691</td>\n",
              "      <td>9</td>\n",
              "      <td>3.500000</td>\n",
              "      <td>6.600000</td>\n",
              "      <td>0.500000</td>\n",
              "      <td>7.355070</td>\n",
              "      <td>0.387097</td>\n",
              "    </tr>\n",
              "    <tr>\n",
              "      <th>A0009016</th>\n",
              "      <td>2</td>\n",
              "      <td>50</td>\n",
              "      <td>경기</td>\n",
              "      <td>4</td>\n",
              "      <td>3125500</td>\n",
              "      <td>160</td>\n",
              "      <td>0.520557</td>\n",
              "      <td>0.479443</td>\n",
              "      <td>0.000000</td>\n",
              "      <td>4</td>\n",
              "      <td>17.629881</td>\n",
              "      <td>13.185952</td>\n",
              "      <td>0.000000</td>\n",
              "      <td>-3.455447</td>\n",
              "      <td>0.000000</td>\n",
              "    </tr>\n",
              "    <tr>\n",
              "      <th>A0009145</th>\n",
              "      <td>1</td>\n",
              "      <td>30</td>\n",
              "      <td>부산</td>\n",
              "      <td>9</td>\n",
              "      <td>3512310</td>\n",
              "      <td>856</td>\n",
              "      <td>0.000000</td>\n",
              "      <td>0.141502</td>\n",
              "      <td>0.858498</td>\n",
              "      <td>5</td>\n",
              "      <td>0.000000</td>\n",
              "      <td>0.500000</td>\n",
              "      <td>0.000000</td>\n",
              "      <td>17.082984</td>\n",
              "      <td>0.615385</td>\n",
              "    </tr>\n",
              "    <tr>\n",
              "      <th>A0009500</th>\n",
              "      <td>1</td>\n",
              "      <td>30</td>\n",
              "      <td>서울</td>\n",
              "      <td>14</td>\n",
              "      <td>5174710</td>\n",
              "      <td>304</td>\n",
              "      <td>0.774295</td>\n",
              "      <td>0.143776</td>\n",
              "      <td>0.081929</td>\n",
              "      <td>13</td>\n",
              "      <td>5.571429</td>\n",
              "      <td>4.500000</td>\n",
              "      <td>9.333333</td>\n",
              "      <td>-5.584274</td>\n",
              "      <td>0.046512</td>\n",
              "    </tr>\n",
              "    <tr>\n",
              "      <th>A0009665</th>\n",
              "      <td>1</td>\n",
              "      <td>40</td>\n",
              "      <td>대구</td>\n",
              "      <td>18</td>\n",
              "      <td>52880610</td>\n",
              "      <td>3069</td>\n",
              "      <td>0.089920</td>\n",
              "      <td>0.452302</td>\n",
              "      <td>0.457779</td>\n",
              "      <td>11</td>\n",
              "      <td>5.000000</td>\n",
              "      <td>2.666667</td>\n",
              "      <td>2.750000</td>\n",
              "      <td>-6.094354</td>\n",
              "      <td>0.083333</td>\n",
              "    </tr>\n",
              "  </tbody>\n",
              "</table>\n",
              "<p>102 rows × 15 columns</p>\n",
              "</div>"
            ],
            "text/plain": [
              "           고객성별구분코드  동일나이군구분코드  주소  ...  small_cap_period        수익률    상하한가여부\n",
              "고객구분코드                              ...                                       \n",
              "A00010020         1         20  서울  ...          0.000000  -3.215045  0.000000\n",
              "A0001035          2         40  경기  ...         16.832704  -3.430357  0.000000\n",
              "A00010416         1         30  서울  ...         20.300000  -2.262515  0.202797\n",
              "A00010516         2         30  서울  ...         25.000000  -6.904243  0.047619\n",
              "A00010708         1         50  울산  ...         15.000000   3.161780  0.000000\n",
              "...             ...        ...  ..  ...               ...        ...       ...\n",
              "A0008961          1         20  경기  ...          0.500000   7.355070  0.387097\n",
              "A0009016          2         50  경기  ...          0.000000  -3.455447  0.000000\n",
              "A0009145          1         30  부산  ...          0.000000  17.082984  0.615385\n",
              "A0009500          1         30  서울  ...          9.333333  -5.584274  0.046512\n",
              "A0009665          1         40  대구  ...          2.750000  -6.094354  0.083333\n",
              "\n",
              "[102 rows x 15 columns]"
            ]
          },
          "metadata": {
            "tags": []
          },
          "execution_count": 63
        }
      ]
    },
    {
      "cell_type": "markdown",
      "metadata": {
        "id": "vtD_MxRmDEi9"
      },
      "source": [
        "## PER, PBR, ROE, PSR, PEG\n",
        "7. PER: 대 /중 / 소 / KOSDAQ 각각의 총매수금액기준 가중평균 \n",
        "8. PBR: 대 /중 / 소 / KOSDAQ 각각의 총매수금액기준 가중평균\n",
        "9. ROE: 대 /중 / 소 / KOSDAQ 각각의 총매수금액기준 가중평균\n",
        "10. PSR: 대 /중 / 소 / KOSDAQ 각각의 총매수금액기준 가중평균\n",
        "11. PEG: 대 /중 / 소 / KOSDAQ 각각의 총매수금액기준 가중평균\n",
        "\n",
        "## EPS, DIV\n",
        " 12. EPS: 대 /중 / 소 / KOSDAQ 각각의 거래액기준 가중평균 - 주당순이익 - 기업 간 실적비교\n",
        " 13. 배당률(DIV): 대 /중 / 소 / KOSDAQ 각각의 거래액기준 가중평균\n",
        "\n"
      ]
    },
    {
      "cell_type": "code",
      "metadata": {
        "id": "ULNDpz3LhF1P"
      },
      "source": [
        "jaemu = pd.read_csv('/content/drive/MyDrive/소회의실 프로젝트/외부데이터/재무정보.csv')"
      ],
      "execution_count": 64,
      "outputs": []
    },
    {
      "cell_type": "code",
      "metadata": {
        "id": "Y91vk1lthKP3"
      },
      "source": [
        "## PER \n",
        "PER_df = jaemu.loc[:, ['날짜', '종목코드', 'PER']]\n",
        "PER_df.rename(columns={'날짜':'date'}, inplace=True)\n",
        "PER_df.rename(columns={'종목코드':'code'}, inplace=True)\n",
        "\n",
        "# 원 데이터와 조인\n",
        "file = pd.merge(file, PER_df, how='left',on=['code', 'date'])\n",
        "\n",
        "file['PER'].fillna(0, inplace=True)"
      ],
      "execution_count": 65,
      "outputs": []
    },
    {
      "cell_type": "code",
      "metadata": {
        "id": "Yo8Vo7aXhNGS"
      },
      "source": [
        "## PBR \n",
        "PBR_df = jaemu.loc[:, ['날짜', '종목코드', 'PBR']]\n",
        "PBR_df.rename(columns={'날짜':'date'}, inplace=True)\n",
        "PBR_df.rename(columns={'종목코드':'code'}, inplace=True)\n",
        "\n",
        "# 원 데이터와 조인\n",
        "file = pd.merge(file, PBR_df, how='left',on=['code', 'date'])\n",
        "\n",
        "file['PBR'].fillna(0, inplace=True)"
      ],
      "execution_count": 66,
      "outputs": []
    },
    {
      "cell_type": "code",
      "metadata": {
        "id": "Qb8_Cyq-hQ3W"
      },
      "source": [
        "## ROE\n",
        "\n",
        "file['ROE'] = file['PER']/ file['PBR']\n",
        "\n",
        "file['ROE'].fillna(0, inplace=True)"
      ],
      "execution_count": 67,
      "outputs": []
    },
    {
      "cell_type": "code",
      "metadata": {
        "id": "OB29SCW6hSnz"
      },
      "source": [
        "## EPS \n",
        "EPS_df = jaemu.loc[:, ['날짜', '종목코드', 'EPS']]\n",
        "EPS_df.rename(columns={'날짜':'date'}, inplace=True)\n",
        "EPS_df.rename(columns={'종목코드':'code'}, inplace=True)\n",
        "\n",
        "# 원 데이터와 조인\n",
        "file = pd.merge(file, EPS_df, how='left',on=['code', 'date'])\n",
        "\n",
        "file['EPS'].fillna(0, inplace=True)"
      ],
      "execution_count": 68,
      "outputs": []
    },
    {
      "cell_type": "code",
      "metadata": {
        "id": "nwOhtlRHhWIZ"
      },
      "source": [
        "## 배당률(DIV)\n",
        "DIV_df = jaemu.loc[:, ['날짜', '종목코드', '배당수익률']]\n",
        "DIV_df.rename(columns={'날짜':'date'}, inplace=True)\n",
        "DIV_df.rename(columns={'종목코드':'code'}, inplace=True)\n",
        "DIV_df.rename(columns={'배당수익률':'DIV'}, inplace=True)\n",
        "\n",
        "# 원 데이터와 조인\n",
        "file = pd.merge(file, DIV_df, how='left',on=['code', 'date'])\n",
        "\n",
        "file['DIV'].fillna(0, inplace=True)"
      ],
      "execution_count": 69,
      "outputs": []
    },
    {
      "cell_type": "code",
      "metadata": {
        "id": "K9xAc_rWhZRi"
      },
      "source": [
        "product_purchase_rate = product_purchase.apply(lambda x: x/customer_purchase )\n",
        "\n",
        "for col in ['PER', 'PBR', 'ROE', 'EPS', 'DIV']:\n",
        "  #고객의 상품별 EPS, DIV 평균\n",
        "  product_col = file.loc[file['매도매수구분코드']==2,:].groupby(['고객구분코드','code','stock_type'])[col].mean().unstack().fillna(0)\n",
        "\n",
        "\n",
        "  #고객별 종목타입별 EPS, DIV 가중평균\n",
        "  col_rate = product_col* product_purchase_rate\n",
        "  type_col = col_rate.groupby('고객구분코드').sum()\n",
        "\n",
        "  # customer_info = customer_info.join(type_col, on='고객구분코드', rsuffix='_'+col)\n",
        "  \n",
        "  col_mean = pd.Series(np.sum(type_col* type_purchase, axis=1))\n",
        "  customer_info[col]= col_mean"
      ],
      "execution_count": 75,
      "outputs": []
    },
    {
      "cell_type": "code",
      "metadata": {
        "collapsed": true,
        "id": "fTv01dfmFdPJ"
      },
      "source": [
        "# ## PEG -- EPS가 (-)일 때 0으로 기록되어 있어서 직접 EPS부터 구해야 함\n",
        "# stock.get_market_fundamental_by_date(file['주문일시'][38],file['주문일시'][38], file['code'][38])['EPS']\n",
        "# stock.get_market_fundamental_by_date(file['주문일시'][38]-datetime.timedelta(weeks = 156),file['주문일시'][38]-datetime.timedelta(weeks = 156), file['code'][38])['EPS']\n",
        "# # dart.finstate(file['상품번호'][38], '2020','11011')"
      ],
      "execution_count": 71,
      "outputs": []
    },
    {
      "cell_type": "markdown",
      "metadata": {
        "id": "QPWPv24tAFTW"
      },
      "source": [
        "### 14. 외국인 매매, 기관매매와의 매도/매수 일치 횟수 (%)"
      ]
    },
    {
      "cell_type": "code",
      "metadata": {
        "id": "Y0mKQDLLPUv9"
      },
      "source": [
        "#지분율\n",
        "# stock.get_exhaustion_rates_of_foreign_investment_by_date(file['주문일시'][38],file['주문일시'][38], file['상품번호'][38])\n",
        "# help(stock.get_exhaustion_rates_of_foreign_investment_by_date)\n",
        "# stock.get_exhaustion_rates_of_foreign_investment_by_date(\"20200120\", \"20200120\", \"005930\")"
      ],
      "execution_count": null,
      "outputs": []
    },
    {
      "cell_type": "code",
      "metadata": {
        "id": "KM1X9d7ucNY5"
      },
      "source": [
        "foreign = pd.read_csv(\"/content/drive/MyDrive/소회의실 프로젝트/외부데이터/외국인_순매수.csv\")\n",
        "foreign['날짜'] = foreign['날짜'].apply(pd.to_datetime, format('%Y-%m-%d'))\n",
        "foreign.rename(columns={'거래대금_순매수':'외국인_순매수액'}, inplace= True)\n",
        "\n",
        "inst = pd.read_csv(\"/content/drive/MyDrive/소회의실 프로젝트/외부데이터/기관_순매수.csv\")\n",
        "inst['날짜'] = inst['날짜'].apply(pd.to_datetime, format('%Y-%m-%d'))\n",
        "inst.rename(columns={'거래대금_순매수':'기관_순매수액'}, inplace= True)\n",
        "\n",
        "file = pd.merge(file, foreign, how='left', left_on=['주문일자','code'], right_on=['날짜','종목코드']).drop(['날짜','종목코드','종목명'], axis=1)\n",
        "file = pd.merge(file, inst, how='left', left_on=['주문일자','code'], right_on=['날짜','종목코드']).drop(['날짜','종목코드','종목명'], axis=1)\n"
      ],
      "execution_count": 77,
      "outputs": []
    },
    {
      "cell_type": "code",
      "metadata": {
        "id": "Z08f0K49chl-"
      },
      "source": [
        "file['외국인_순매수액'] = file['외국인_순매수액'].fillna(-1)\n",
        "file['기관_순매수액'] = file['기관_순매수액'].fillna(-1)\n",
        "\n",
        "file['외국인_매도매수구분코드'] = file['외국인_순매수액'].apply(lambda x: 1 if x<0 else (2 if x>0 else 0))\n",
        "file['기관_매도매수구분코드'] = file['기관_순매수액'].apply(lambda x: 1 if x<0 else (2 if x>0 else 0))\n",
        "\n",
        "# customer_info = customer_info.set_index('고객구분코드')\n",
        "customer_info['매도매수일치_외국인'] = file.loc[file['외국인_매도매수구분코드'] ==file['매도매수구분코드'],['고객구분코드','매도매수구분코드']].groupby('고객구분코드').count().apply(lambda x: x/file.groupby('고객구분코드')['매도매수구분코드'].count()).fillna(0)\n",
        "customer_info['매도매수일치_기관'] = file.loc[file['기관_매도매수구분코드'] ==file['매도매수구분코드'],['고객구분코드','매도매수구분코드']].groupby('고객구분코드').count().apply(lambda x: x/file.groupby('고객구분코드')['매도매수구분코드'].count()).fillna(0)"
      ],
      "execution_count": 78,
      "outputs": []
    },
    {
      "cell_type": "markdown",
      "metadata": {
        "id": "D5JaLCHSqc8E"
      },
      "source": [
        "### ATR"
      ]
    },
    {
      "cell_type": "code",
      "metadata": {
        "id": "CrCoVWryTiIx"
      },
      "source": [
        "ohlcv =pd.read_csv('/content/drive/MyDrive/소회의실 프로젝트/외부데이터/ohlcv_ATR.csv')"
      ],
      "execution_count": 79,
      "outputs": []
    },
    {
      "cell_type": "code",
      "metadata": {
        "id": "gxmcyBS4Li9X"
      },
      "source": [
        "ohlcv['날짜'] =ohlcv['날짜'].apply(pd.to_datetime, format='%Y-%m-%d')\n",
        "ohlcv_ATR = ohlcv[['종목코드','날짜','TR','ATR_7','ATR_14']].rename(columns = {'종목코드':'code','날짜':'주문일자'})\n",
        "file = pd.merge(file, ohlcv_ATR, how='left',on = ['code','주문일자'])"
      ],
      "execution_count": 80,
      "outputs": []
    },
    {
      "cell_type": "code",
      "metadata": {
        "id": "_fp5JfBXVnWu"
      },
      "source": [
        "for col in ['TR','ATR_7','ATR_14']:\n",
        "  #고객의 상품별 TR(ATR) 평균\n",
        "  product_col = file.groupby(['고객구분코드','code','stock_type'])[col].mean().unstack().fillna(0)\n",
        "  \n",
        "  #고객별 종목타입별 TR(ATR) 가중평균\n",
        "  col_rate = product_col* product_purchase_rate\n",
        "  type_col = col_rate.groupby('고객구분코드').sum()\n",
        "\n",
        "  # customer_info = customer_info.join(type_col, on='고객구분코드', rsuffix='_'+col)\n",
        "  customer_info[col]= col_mean\n",
        "  col_mean = pd.Series(np.sum(type_col* type_purchase, axis=1))\n"
      ],
      "execution_count": 86,
      "outputs": []
    },
    {
      "cell_type": "code",
      "metadata": {
        "id": "RhQPYZKUZDZQ"
      },
      "source": [
        ""
      ],
      "execution_count": null,
      "outputs": []
    },
    {
      "cell_type": "markdown",
      "metadata": {
        "id": "W_azyQg3uRXq"
      },
      "source": [
        "\n",
        "14. 계좌개수: 계좌개수 \n",
        "15. 시간대: ? -> 나중에 plot 시각화로 판단\n",
        "\n",
        "18. 예약주문 횟수\n",
        "19. 상한가,하한가 여부 횟수: \n",
        "주식을 산 날의 변동성을 보기위한 지표 "
      ]
    },
    {
      "cell_type": "markdown",
      "metadata": {
        "id": "0N6CXp7IDorW"
      },
      "source": [
        " \n",
        "20. 정정/취소 횟수\n",
        "21. 공모주 비중: 거래액 기준\n",
        "\n"
      ]
    },
    {
      "cell_type": "code",
      "metadata": {
        "id": "W0dzae2hBSlk"
      },
      "source": [
        ""
      ],
      "execution_count": null,
      "outputs": []
    },
    {
      "cell_type": "markdown",
      "metadata": {
        "id": "fY6_pPNzmwAK"
      },
      "source": [
        "## 시간대"
      ]
    },
    {
      "cell_type": "code",
      "metadata": {
        "id": "OrDugQP8ktFD"
      },
      "source": [
        "customer_info = customer_info.set_index('고객구분코드')"
      ],
      "execution_count": null,
      "outputs": []
    },
    {
      "cell_type": "code",
      "metadata": {
        "id": "1fL5yfspnC4-"
      },
      "source": [
        "time_percent = file.groupby('고객구분코드')['주문시간대'].value_counts().unstack().fillna(0).apply(lambda x: x/np.sum(file.groupby('고객구분코드')['주문시간대'].value_counts().unstack().fillna(0), axis=1))\n",
        "customer_info = customer_info.join(time_percent,on='고객구분코드',lsuffix='시간대_').rename(columns=dict((i,'시간대_'+str(i)) for i in range(1,5)))\n",
        "customer_info.join(time_percent,on='고객구분코드')"
      ],
      "execution_count": null,
      "outputs": []
    },
    {
      "cell_type": "markdown",
      "metadata": {
        "id": "bmTcT0uqryWE"
      },
      "source": [
        "# 공모주 매수 비율"
      ]
    },
    {
      "cell_type": "code",
      "metadata": {
        "id": "AVbm2RWlrzc6"
      },
      "source": [
        "new_stock = pd.read_csv('/content/drive/MyDrive/소회의실 프로젝트/외부데이터/신규상장종목.csv', encoding='cp949')"
      ],
      "execution_count": null,
      "outputs": []
    },
    {
      "cell_type": "code",
      "metadata": {
        "id": "EO9-hh51r6Ec"
      },
      "source": [
        "new_stock['신규종목여부'] = 1"
      ],
      "execution_count": null,
      "outputs": []
    },
    {
      "cell_type": "code",
      "metadata": {
        "id": "TXZ4Xm3lr7W-"
      },
      "source": [
        "new_stock_df = new_stock.loc[:, ['종목코드', '신규종목여부']]\n",
        "new_stock_df.rename(columns={'종목코드':'고객구분코드'}, inplace=True)\n",
        "new_stock_df['고객구분코드'] = new_stock_df['고객구분코드'].astype(str)\n",
        "file = pd.merge(file, new_stock_df, on='고객구분코드', how='left')\n",
        "file['신규종목여부'].fillna(0, inplace=True)"
      ],
      "execution_count": null,
      "outputs": []
    },
    {
      "cell_type": "code",
      "metadata": {
        "id": "YG6NY6yMszqB"
      },
      "source": [
        "customer_amount = pd.DataFrame(customer_amount).reset_index()"
      ],
      "execution_count": null,
      "outputs": []
    },
    {
      "cell_type": "code",
      "metadata": {
        "id": "_lzuMtqAr_Zk"
      },
      "source": [
        "gongmo_amount = file.loc[file['매도매수구분코드']==2,:].groupby(['고객구분코드'])['신규종목여부'].sum()\n",
        "gongmo_amount = pd.DataFrame(gongmo_amount).reset_index()\n",
        "gongmo_amount['new_stock_rate'] = gongmo_amount['신규종목여부'] / customer_amount['총체결수량']\n",
        "gongmo_amount = gongmo_amount.set_index('고객구분코드')"
      ],
      "execution_count": null,
      "outputs": []
    },
    {
      "cell_type": "code",
      "metadata": {
        "colab": {
          "base_uri": "https://localhost:8080/",
          "height": 390
        },
        "id": "KZJLXa5GsBCL",
        "outputId": "ea96ab5d-a43d-45c8-d061-2e22a24b96d1"
      },
      "source": [
        "customer_info = customer_info.join(gongmo_amount['new_stock_rate'], on='고객구분코드' )"
      ],
      "execution_count": null,
      "outputs": [
        {
          "output_type": "execute_result",
          "data": {
            "text/html": [
              "<div>\n",
              "<style scoped>\n",
              "    .dataframe tbody tr th:only-of-type {\n",
              "        vertical-align: middle;\n",
              "    }\n",
              "\n",
              "    .dataframe tbody tr th {\n",
              "        vertical-align: top;\n",
              "    }\n",
              "\n",
              "    .dataframe thead th {\n",
              "        text-align: right;\n",
              "    }\n",
              "</style>\n",
              "<table border=\"1\" class=\"dataframe\">\n",
              "  <thead>\n",
              "    <tr style=\"text-align: right;\">\n",
              "      <th></th>\n",
              "      <th>고객성별구분코드</th>\n",
              "      <th>동일나이군구분코드</th>\n",
              "      <th>주소</th>\n",
              "      <th>상품개수</th>\n",
              "      <th>new_stock_rate</th>\n",
              "    </tr>\n",
              "    <tr>\n",
              "      <th>고객구분코드</th>\n",
              "      <th></th>\n",
              "      <th></th>\n",
              "      <th></th>\n",
              "      <th></th>\n",
              "      <th></th>\n",
              "    </tr>\n",
              "  </thead>\n",
              "  <tbody>\n",
              "    <tr>\n",
              "      <th>A0001</th>\n",
              "      <td>1</td>\n",
              "      <td>30</td>\n",
              "      <td>경기</td>\n",
              "      <td>149</td>\n",
              "      <td>0.0</td>\n",
              "    </tr>\n",
              "    <tr>\n",
              "      <th>A00010</th>\n",
              "      <td>1</td>\n",
              "      <td>20</td>\n",
              "      <td>경남</td>\n",
              "      <td>10</td>\n",
              "      <td>0.0</td>\n",
              "    </tr>\n",
              "    <tr>\n",
              "      <th>A000100</th>\n",
              "      <td>2</td>\n",
              "      <td>40</td>\n",
              "      <td>서울</td>\n",
              "      <td>10</td>\n",
              "      <td>0.0</td>\n",
              "    </tr>\n",
              "    <tr>\n",
              "      <th>A0001000</th>\n",
              "      <td>1</td>\n",
              "      <td>30</td>\n",
              "      <td>광주</td>\n",
              "      <td>6</td>\n",
              "      <td>0.0</td>\n",
              "    </tr>\n",
              "    <tr>\n",
              "      <th>A00010000</th>\n",
              "      <td>1</td>\n",
              "      <td>20</td>\n",
              "      <td>경기</td>\n",
              "      <td>12</td>\n",
              "      <td>0.0</td>\n",
              "    </tr>\n",
              "    <tr>\n",
              "      <th>A00010002</th>\n",
              "      <td>2</td>\n",
              "      <td>20</td>\n",
              "      <td>대전</td>\n",
              "      <td>6</td>\n",
              "      <td>0.0</td>\n",
              "    </tr>\n",
              "    <tr>\n",
              "      <th>A00010003</th>\n",
              "      <td>1</td>\n",
              "      <td>20</td>\n",
              "      <td>울산</td>\n",
              "      <td>7</td>\n",
              "      <td>0.0</td>\n",
              "    </tr>\n",
              "    <tr>\n",
              "      <th>A00010004</th>\n",
              "      <td>2</td>\n",
              "      <td>50</td>\n",
              "      <td>대전</td>\n",
              "      <td>1</td>\n",
              "      <td>0.0</td>\n",
              "    </tr>\n",
              "    <tr>\n",
              "      <th>A00010005</th>\n",
              "      <td>1</td>\n",
              "      <td>20</td>\n",
              "      <td>대구</td>\n",
              "      <td>6</td>\n",
              "      <td>0.0</td>\n",
              "    </tr>\n",
              "    <tr>\n",
              "      <th>A00010006</th>\n",
              "      <td>1</td>\n",
              "      <td>30</td>\n",
              "      <td>충북</td>\n",
              "      <td>13</td>\n",
              "      <td>0.0</td>\n",
              "    </tr>\n",
              "  </tbody>\n",
              "</table>\n",
              "</div>"
            ],
            "text/plain": [
              "           고객성별구분코드  동일나이군구분코드  주소  상품개수  new_stock_rate\n",
              "고객구분코드                                                  \n",
              "A0001             1         30  경기   149             0.0\n",
              "A00010            1         20  경남    10             0.0\n",
              "A000100           2         40  서울    10             0.0\n",
              "A0001000          1         30  광주     6             0.0\n",
              "A00010000         1         20  경기    12             0.0\n",
              "A00010002         2         20  대전     6             0.0\n",
              "A00010003         1         20  울산     7             0.0\n",
              "A00010004         2         50  대전     1             0.0\n",
              "A00010005         1         20  대구     6             0.0\n",
              "A00010006         1         30  충북    13             0.0"
            ]
          },
          "metadata": {
            "tags": []
          },
          "execution_count": 44
        }
      ]
    },
    {
      "cell_type": "code",
      "metadata": {
        "id": "rS2BGUCMt3aj"
      },
      "source": [
        ""
      ],
      "execution_count": null,
      "outputs": []
    }
  ]
}