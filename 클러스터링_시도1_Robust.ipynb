{
  "nbformat": 4,
  "nbformat_minor": 0,
  "metadata": {
    "kernelspec": {
      "display_name": "Python 3",
      "language": "python",
      "name": "python3"
    },
    "language_info": {
      "codemirror_mode": {
        "name": "ipython",
        "version": 3
      },
      "file_extension": ".py",
      "mimetype": "text/x-python",
      "name": "python",
      "nbconvert_exporter": "python",
      "pygments_lexer": "ipython3",
      "version": "3.7.4"
    },
    "colab": {
      "name": "클러스터링_시도1_Robust.ipynb",
      "provenance": [],
      "collapsed_sections": [],
      "include_colab_link": true
    }
  },
  "cells": [
    {
      "cell_type": "markdown",
      "metadata": {
        "id": "view-in-github",
        "colab_type": "text"
      },
      "source": [
        "<a href=\"https://colab.research.google.com/github/christine127/Portfolio_Recommendation_Project/blob/main/%ED%81%B4%EB%9F%AC%EC%8A%A4%ED%84%B0%EB%A7%81_%EC%8B%9C%EB%8F%841_Robust.ipynb\" target=\"_parent\"><img src=\"https://colab.research.google.com/assets/colab-badge.svg\" alt=\"Open In Colab\"/></a>"
      ]
    },
    {
      "cell_type": "code",
      "metadata": {
        "colab": {
          "base_uri": "https://localhost:8080/"
        },
        "id": "lVK0oWWpeSbQ",
        "outputId": "2b711d30-999e-444e-ebf2-879e9f823572"
      },
      "source": [
        "from google.colab import drive\n",
        "drive.mount('/content/drive')"
      ],
      "execution_count": null,
      "outputs": [
        {
          "output_type": "stream",
          "text": [
            "Mounted at /content/drive\n"
          ],
          "name": "stdout"
        }
      ]
    },
    {
      "cell_type": "code",
      "metadata": {
        "colab": {
          "base_uri": "https://localhost:8080/"
        },
        "id": "jrj5vpZlYuUm",
        "outputId": "a7f5ce08-d2a7-4776-dacf-7ee5f4e75a16"
      },
      "source": [
        "import pandas as pd\n",
        "import numpy as np\n",
        "from sklearn.ensemble import RandomForestRegressor\n",
        "from sklearn.tree import DecisionTreeClassifier, DecisionTreeRegressor\n",
        "from sklearn.preprocessing import OneHotEncoder, MinMaxScaler, RobustScaler, Normalizer, StandardScaler\n",
        "from sklearn.model_selection import cross_validate, KFold, train_test_split, cross_val_score\n",
        "from sklearn.decomposition import PCA\n",
        "from sklearn.metrics import mean_squared_error\n",
        "from sklearn.cluster import KMeans, SpectralClustering\n",
        "from patsy import dmatrices\n",
        "import statsmodels.api as sm\n",
        "from statsmodels.stats.outliers_influence import variance_inflation_factor\n",
        "\n",
        "from tqdm import tqdm\n",
        "import tensorflow as tf\n",
        "# import xgboost\n",
        "# import lightgbm\n",
        "import pickle\n",
        "from yellowbrick.cluster import KElbowVisualizer\n",
        "\n",
        "import keras\n",
        "from keras import optimizers\n",
        "from keras.wrappers.scikit_learn import KerasClassifier\n",
        "\n",
        "import matplotlib.pyplot as plt\n",
        "\n",
        "import os\n",
        "os.environ['CUDA_VISIBLE_DEVICES'] = '0'\n",
        "os.environ['TF_CPP_MIN_LOG_LEVEL'] = '2'\n",
        "\n",
        "config = tf.compat.v1.ConfigProto()\n",
        "config.gpu_options.allow_growth = True\n",
        "session = tf.compat.v1.Session(config=config)\n",
        "print(tf.config.list_physical_devices('GPU'))\n",
        "\n",
        "# Tab키 사용\n",
        "%config Completer.use_jedi = False\n",
        "\n",
        "path = '/content/drive/MyDrive/소회의실 프로젝트/전처리_완료/'\n",
        "\n"
      ],
      "execution_count": null,
      "outputs": [
        {
          "output_type": "stream",
          "text": [
            "/usr/local/lib/python3.7/dist-packages/statsmodels/tools/_testing.py:19: FutureWarning: pandas.util.testing is deprecated. Use the functions in the public API at pandas.testing instead.\n",
            "  import pandas.util.testing as tm\n",
            "/usr/local/lib/python3.7/dist-packages/sklearn/utils/deprecation.py:144: FutureWarning: The sklearn.metrics.classification module is  deprecated in version 0.22 and will be removed in version 0.24. The corresponding classes / functions should instead be imported from sklearn.metrics. Anything that cannot be imported from sklearn.metrics is now part of the private API.\n",
            "  warnings.warn(message, FutureWarning)\n"
          ],
          "name": "stderr"
        },
        {
          "output_type": "stream",
          "text": [
            "[]\n"
          ],
          "name": "stdout"
        },
        {
          "output_type": "stream",
          "text": [
            "/usr/local/lib/python3.7/dist-packages/ipykernel_launcher.py:37: UserWarning: Config option `use_jedi` not recognized by `IPCompleter`.\n"
          ],
          "name": "stderr"
        }
      ]
    },
    {
      "cell_type": "code",
      "metadata": {
        "colab": {
          "base_uri": "https://localhost:8080/"
        },
        "id": "jdrFjyxTe26t",
        "outputId": "656e5941-d383-444f-f796-2eb9dbcbab49"
      },
      "source": [
        "!sudo apt-get install -y fonts-nanum\n",
        "!sudo fc-cache -fv\n",
        "!rm ~/.cache/matplotlib -rf\n",
        "plt.rc('font', family='NanumBarunGothic')"
      ],
      "execution_count": null,
      "outputs": [
        {
          "output_type": "stream",
          "text": [
            "Reading package lists... Done\n",
            "Building dependency tree       \n",
            "Reading state information... Done\n",
            "The following NEW packages will be installed:\n",
            "  fonts-nanum\n",
            "0 upgraded, 1 newly installed, 0 to remove and 40 not upgraded.\n",
            "Need to get 9,604 kB of archives.\n",
            "After this operation, 29.5 MB of additional disk space will be used.\n",
            "Get:1 http://archive.ubuntu.com/ubuntu bionic/universe amd64 fonts-nanum all 20170925-1 [9,604 kB]\n",
            "Fetched 9,604 kB in 2s (5,632 kB/s)\n",
            "debconf: unable to initialize frontend: Dialog\n",
            "debconf: (No usable dialog-like program is installed, so the dialog based frontend cannot be used. at /usr/share/perl5/Debconf/FrontEnd/Dialog.pm line 76, <> line 1.)\n",
            "debconf: falling back to frontend: Readline\n",
            "debconf: unable to initialize frontend: Readline\n",
            "debconf: (This frontend requires a controlling tty.)\n",
            "debconf: falling back to frontend: Teletype\n",
            "dpkg-preconfigure: unable to re-open stdin: \n",
            "Selecting previously unselected package fonts-nanum.\n",
            "(Reading database ... 160837 files and directories currently installed.)\n",
            "Preparing to unpack .../fonts-nanum_20170925-1_all.deb ...\n",
            "Unpacking fonts-nanum (20170925-1) ...\n",
            "Setting up fonts-nanum (20170925-1) ...\n",
            "Processing triggers for fontconfig (2.12.6-0ubuntu2) ...\n",
            "/usr/share/fonts: caching, new cache contents: 0 fonts, 1 dirs\n",
            "/usr/share/fonts/truetype: caching, new cache contents: 0 fonts, 3 dirs\n",
            "/usr/share/fonts/truetype/humor-sans: caching, new cache contents: 1 fonts, 0 dirs\n",
            "/usr/share/fonts/truetype/liberation: caching, new cache contents: 16 fonts, 0 dirs\n",
            "/usr/share/fonts/truetype/nanum: caching, new cache contents: 10 fonts, 0 dirs\n",
            "/usr/local/share/fonts: caching, new cache contents: 0 fonts, 0 dirs\n",
            "/root/.local/share/fonts: skipping, no such directory\n",
            "/root/.fonts: skipping, no such directory\n",
            "/var/cache/fontconfig: cleaning cache directory\n",
            "/root/.cache/fontconfig: not cleaning non-existent cache directory\n",
            "/root/.fontconfig: not cleaning non-existent cache directory\n",
            "fc-cache: succeeded\n"
          ],
          "name": "stdout"
        }
      ]
    },
    {
      "cell_type": "code",
      "metadata": {
        "id": "6XcC2ZR9ezIC"
      },
      "source": [
        "# temp = pd.read_csv(path + 'customer_info_brif_코스피코스닥합체.csv')\n",
        "# #                    , encoding='cp949')\n",
        "\n",
        "temp = pd.read_csv(path + 'customer_info_공모주수정.csv'\n",
        "                   , encoding='cp949')"
      ],
      "execution_count": null,
      "outputs": []
    },
    {
      "cell_type": "code",
      "metadata": {
        "colab": {
          "base_uri": "https://localhost:8080/",
          "height": 1000
        },
        "id": "jdFsrbcMiCWC",
        "outputId": "e9f3f5a1-807f-47bc-f632-a73526f65a78"
      },
      "source": [
        "temp.info()\n",
        "temp.head()"
      ],
      "execution_count": null,
      "outputs": [
        {
          "output_type": "stream",
          "text": [
            "<class 'pandas.core.frame.DataFrame'>\n",
            "RangeIndex: 24235 entries, 0 to 24234\n",
            "Data columns (total 57 columns):\n",
            " #   Column             Non-Null Count  Dtype  \n",
            "---  ------             --------------  -----  \n",
            " 0   고객구분코드             24235 non-null  object \n",
            " 1   고객성별구분코드           24235 non-null  int64  \n",
            " 2   동일나이군구분코드          24235 non-null  int64  \n",
            " 3   주소                 24235 non-null  object \n",
            " 4   상품개수               24235 non-null  int64  \n",
            " 5   총매수금액              24235 non-null  float64\n",
            " 6   총매수수량              24235 non-null  float64\n",
            " 7   kosdaq_cap         24235 non-null  float64\n",
            " 8   large_cap          24235 non-null  float64\n",
            " 9   medium_cap         24235 non-null  float64\n",
            " 10  small_cap          24235 non-null  float64\n",
            " 11  large_cap_period   24235 non-null  float64\n",
            " 12  medium_cap_period  24235 non-null  float64\n",
            " 13  small_cap_period   24235 non-null  float64\n",
            " 14  kosdaq_cap_period  24235 non-null  float64\n",
            " 15  수익률                24235 non-null  float64\n",
            " 16  업종개수               24235 non-null  int64  \n",
            " 17  상하한가여부             24235 non-null  float64\n",
            " 18  kosdaq_cap_PER     24235 non-null  float64\n",
            " 19  large_cap_PER      24235 non-null  float64\n",
            " 20  medium_cap_PER     24235 non-null  float64\n",
            " 21  small_cap_PER      24235 non-null  float64\n",
            " 22  kosdaq_cap_PBR     24235 non-null  float64\n",
            " 23  large_cap_PBR      24235 non-null  float64\n",
            " 24  medium_cap_PBR     24235 non-null  float64\n",
            " 25  small_cap_PBR      24235 non-null  float64\n",
            " 26  kosdaq_cap_ROE     24235 non-null  float64\n",
            " 27  large_cap_ROE      24235 non-null  float64\n",
            " 28  medium_cap_ROE     24235 non-null  float64\n",
            " 29  small_cap_ROE      24235 non-null  float64\n",
            " 30  kosdaq_cap_EPS     24235 non-null  float64\n",
            " 31  large_cap_EPS      24235 non-null  float64\n",
            " 32  medium_cap_EPS     24235 non-null  float64\n",
            " 33  small_cap_EPS      24235 non-null  float64\n",
            " 34  kosdaq_cap_DIV     24235 non-null  float64\n",
            " 35  large_cap_DIV      24235 non-null  float64\n",
            " 36  medium_cap_DIV     24235 non-null  float64\n",
            " 37  small_cap_DIV      24235 non-null  float64\n",
            " 38  매도매수일치_외국인         24235 non-null  float64\n",
            " 39  매도매수일치_기관          24235 non-null  float64\n",
            " 40  kosdaq_cap_TR      24235 non-null  float64\n",
            " 41  large_cap_TR       24235 non-null  float64\n",
            " 42  medium_cap_TR      24235 non-null  float64\n",
            " 43  small_cap_TR       24235 non-null  float64\n",
            " 44  kosdaq_cap_ATR_7   24235 non-null  float64\n",
            " 45  large_cap_ATR_7    24235 non-null  float64\n",
            " 46  medium_cap_ATR_7   24235 non-null  float64\n",
            " 47  small_cap_ATR_7    24235 non-null  float64\n",
            " 48  kosdaq_cap_ATR_14  24235 non-null  float64\n",
            " 49  large_cap_ATR_14   24235 non-null  float64\n",
            " 50  medium_cap_ATR_14  24235 non-null  float64\n",
            " 51  small_cap_ATR_14   24235 non-null  float64\n",
            " 52  시간대_1              24235 non-null  float64\n",
            " 53  시간대_2              24235 non-null  float64\n",
            " 54  시간대_3              24235 non-null  float64\n",
            " 55  시간대_4              24235 non-null  float64\n",
            " 56  new_stock_rate     24235 non-null  float64\n",
            "dtypes: float64(51), int64(4), object(2)\n",
            "memory usage: 10.5+ MB\n"
          ],
          "name": "stdout"
        },
        {
          "output_type": "execute_result",
          "data": {
            "text/html": [
              "<div>\n",
              "<style scoped>\n",
              "    .dataframe tbody tr th:only-of-type {\n",
              "        vertical-align: middle;\n",
              "    }\n",
              "\n",
              "    .dataframe tbody tr th {\n",
              "        vertical-align: top;\n",
              "    }\n",
              "\n",
              "    .dataframe thead th {\n",
              "        text-align: right;\n",
              "    }\n",
              "</style>\n",
              "<table border=\"1\" class=\"dataframe\">\n",
              "  <thead>\n",
              "    <tr style=\"text-align: right;\">\n",
              "      <th></th>\n",
              "      <th>고객구분코드</th>\n",
              "      <th>고객성별구분코드</th>\n",
              "      <th>동일나이군구분코드</th>\n",
              "      <th>주소</th>\n",
              "      <th>상품개수</th>\n",
              "      <th>총매수금액</th>\n",
              "      <th>총매수수량</th>\n",
              "      <th>kosdaq_cap</th>\n",
              "      <th>large_cap</th>\n",
              "      <th>medium_cap</th>\n",
              "      <th>small_cap</th>\n",
              "      <th>large_cap_period</th>\n",
              "      <th>medium_cap_period</th>\n",
              "      <th>small_cap_period</th>\n",
              "      <th>kosdaq_cap_period</th>\n",
              "      <th>수익률</th>\n",
              "      <th>업종개수</th>\n",
              "      <th>상하한가여부</th>\n",
              "      <th>kosdaq_cap_PER</th>\n",
              "      <th>large_cap_PER</th>\n",
              "      <th>medium_cap_PER</th>\n",
              "      <th>small_cap_PER</th>\n",
              "      <th>kosdaq_cap_PBR</th>\n",
              "      <th>large_cap_PBR</th>\n",
              "      <th>medium_cap_PBR</th>\n",
              "      <th>small_cap_PBR</th>\n",
              "      <th>kosdaq_cap_ROE</th>\n",
              "      <th>large_cap_ROE</th>\n",
              "      <th>medium_cap_ROE</th>\n",
              "      <th>small_cap_ROE</th>\n",
              "      <th>kosdaq_cap_EPS</th>\n",
              "      <th>large_cap_EPS</th>\n",
              "      <th>medium_cap_EPS</th>\n",
              "      <th>small_cap_EPS</th>\n",
              "      <th>kosdaq_cap_DIV</th>\n",
              "      <th>large_cap_DIV</th>\n",
              "      <th>medium_cap_DIV</th>\n",
              "      <th>small_cap_DIV</th>\n",
              "      <th>매도매수일치_외국인</th>\n",
              "      <th>매도매수일치_기관</th>\n",
              "      <th>kosdaq_cap_TR</th>\n",
              "      <th>large_cap_TR</th>\n",
              "      <th>medium_cap_TR</th>\n",
              "      <th>small_cap_TR</th>\n",
              "      <th>kosdaq_cap_ATR_7</th>\n",
              "      <th>large_cap_ATR_7</th>\n",
              "      <th>medium_cap_ATR_7</th>\n",
              "      <th>small_cap_ATR_7</th>\n",
              "      <th>kosdaq_cap_ATR_14</th>\n",
              "      <th>large_cap_ATR_14</th>\n",
              "      <th>medium_cap_ATR_14</th>\n",
              "      <th>small_cap_ATR_14</th>\n",
              "      <th>시간대_1</th>\n",
              "      <th>시간대_2</th>\n",
              "      <th>시간대_3</th>\n",
              "      <th>시간대_4</th>\n",
              "      <th>new_stock_rate</th>\n",
              "    </tr>\n",
              "  </thead>\n",
              "  <tbody>\n",
              "    <tr>\n",
              "      <th>0</th>\n",
              "      <td>A0001</td>\n",
              "      <td>1</td>\n",
              "      <td>30</td>\n",
              "      <td>경기</td>\n",
              "      <td>149</td>\n",
              "      <td>69911181.0</td>\n",
              "      <td>25198.0</td>\n",
              "      <td>0.778486</td>\n",
              "      <td>0.009521</td>\n",
              "      <td>0.024741</td>\n",
              "      <td>0.187252</td>\n",
              "      <td>41.666667</td>\n",
              "      <td>23.0</td>\n",
              "      <td>26.757143</td>\n",
              "      <td>24.744604</td>\n",
              "      <td>-6.270472</td>\n",
              "      <td>41</td>\n",
              "      <td>0.060686</td>\n",
              "      <td>27.887566</td>\n",
              "      <td>0.042919</td>\n",
              "      <td>5.187663</td>\n",
              "      <td>5.054957</td>\n",
              "      <td>2.611845</td>\n",
              "      <td>0.027131</td>\n",
              "      <td>0.057036</td>\n",
              "      <td>0.346354</td>\n",
              "      <td>17.546684</td>\n",
              "      <td>0.080979</td>\n",
              "      <td>2.272339</td>\n",
              "      <td>5.202635</td>\n",
              "      <td>112.028066</td>\n",
              "      <td>10.432437</td>\n",
              "      <td>1.271845</td>\n",
              "      <td>17.660563</td>\n",
              "      <td>0.378953</td>\n",
              "      <td>0.008371</td>\n",
              "      <td>0.000000</td>\n",
              "      <td>0.109937</td>\n",
              "      <td>0.452507</td>\n",
              "      <td>0.414248</td>\n",
              "      <td>1329.754671</td>\n",
              "      <td>124.893756</td>\n",
              "      <td>38.941099</td>\n",
              "      <td>145.776334</td>\n",
              "      <td>892.142308</td>\n",
              "      <td>84.398292</td>\n",
              "      <td>28.399460</td>\n",
              "      <td>106.532121</td>\n",
              "      <td>760.492888</td>\n",
              "      <td>56.763238</td>\n",
              "      <td>26.986746</td>\n",
              "      <td>88.054554</td>\n",
              "      <td>0.270449</td>\n",
              "      <td>0.354881</td>\n",
              "      <td>0.372032</td>\n",
              "      <td>0.002639</td>\n",
              "      <td>0.001191</td>\n",
              "    </tr>\n",
              "    <tr>\n",
              "      <th>1</th>\n",
              "      <td>A00010</td>\n",
              "      <td>1</td>\n",
              "      <td>20</td>\n",
              "      <td>경남</td>\n",
              "      <td>10</td>\n",
              "      <td>725350.0</td>\n",
              "      <td>366.0</td>\n",
              "      <td>0.679107</td>\n",
              "      <td>0.000000</td>\n",
              "      <td>0.075550</td>\n",
              "      <td>0.245344</td>\n",
              "      <td>0.000000</td>\n",
              "      <td>69.0</td>\n",
              "      <td>44.750000</td>\n",
              "      <td>38.833333</td>\n",
              "      <td>-19.434190</td>\n",
              "      <td>10</td>\n",
              "      <td>0.000000</td>\n",
              "      <td>0.600995</td>\n",
              "      <td>0.000000</td>\n",
              "      <td>0.000000</td>\n",
              "      <td>0.782520</td>\n",
              "      <td>6.049455</td>\n",
              "      <td>0.000000</td>\n",
              "      <td>0.000000</td>\n",
              "      <td>0.408959</td>\n",
              "      <td>0.858564</td>\n",
              "      <td>0.000000</td>\n",
              "      <td>0.000000</td>\n",
              "      <td>0.411072</td>\n",
              "      <td>23.622286</td>\n",
              "      <td>0.000000</td>\n",
              "      <td>0.000000</td>\n",
              "      <td>29.011071</td>\n",
              "      <td>0.091639</td>\n",
              "      <td>0.000000</td>\n",
              "      <td>0.000000</td>\n",
              "      <td>0.085899</td>\n",
              "      <td>0.333333</td>\n",
              "      <td>0.133333</td>\n",
              "      <td>1233.937025</td>\n",
              "      <td>0.000000</td>\n",
              "      <td>185.096850</td>\n",
              "      <td>111.724202</td>\n",
              "      <td>661.828441</td>\n",
              "      <td>0.000000</td>\n",
              "      <td>124.117421</td>\n",
              "      <td>65.465677</td>\n",
              "      <td>675.757230</td>\n",
              "      <td>0.000000</td>\n",
              "      <td>126.275985</td>\n",
              "      <td>71.574031</td>\n",
              "      <td>0.266667</td>\n",
              "      <td>0.600000</td>\n",
              "      <td>0.133333</td>\n",
              "      <td>0.000000</td>\n",
              "      <td>0.000000</td>\n",
              "    </tr>\n",
              "    <tr>\n",
              "      <th>2</th>\n",
              "      <td>A000100</td>\n",
              "      <td>2</td>\n",
              "      <td>40</td>\n",
              "      <td>서울</td>\n",
              "      <td>10</td>\n",
              "      <td>12100965.0</td>\n",
              "      <td>602.0</td>\n",
              "      <td>0.452763</td>\n",
              "      <td>0.289233</td>\n",
              "      <td>0.258003</td>\n",
              "      <td>0.000000</td>\n",
              "      <td>42.000000</td>\n",
              "      <td>31.0</td>\n",
              "      <td>0.000000</td>\n",
              "      <td>43.250000</td>\n",
              "      <td>-15.747394</td>\n",
              "      <td>8</td>\n",
              "      <td>0.000000</td>\n",
              "      <td>65.308432</td>\n",
              "      <td>6.810614</td>\n",
              "      <td>75.794536</td>\n",
              "      <td>0.000000</td>\n",
              "      <td>5.252630</td>\n",
              "      <td>1.216432</td>\n",
              "      <td>0.811280</td>\n",
              "      <td>0.000000</td>\n",
              "      <td>3.825495</td>\n",
              "      <td>2.155547</td>\n",
              "      <td>25.809108</td>\n",
              "      <td>0.000000</td>\n",
              "      <td>298.658330</td>\n",
              "      <td>4306.144179</td>\n",
              "      <td>2071.804703</td>\n",
              "      <td>0.000000</td>\n",
              "      <td>0.000000</td>\n",
              "      <td>0.764815</td>\n",
              "      <td>0.112839</td>\n",
              "      <td>0.000000</td>\n",
              "      <td>0.357143</td>\n",
              "      <td>0.357143</td>\n",
              "      <td>9586.881480</td>\n",
              "      <td>7243.223991</td>\n",
              "      <td>1239.226388</td>\n",
              "      <td>0.000000</td>\n",
              "      <td>4003.172993</td>\n",
              "      <td>12115.326576</td>\n",
              "      <td>1448.517433</td>\n",
              "      <td>0.000000</td>\n",
              "      <td>3331.930879</td>\n",
              "      <td>10686.278798</td>\n",
              "      <td>1030.427488</td>\n",
              "      <td>0.000000</td>\n",
              "      <td>0.857143</td>\n",
              "      <td>0.142857</td>\n",
              "      <td>0.000000</td>\n",
              "      <td>0.000000</td>\n",
              "      <td>0.000000</td>\n",
              "    </tr>\n",
              "    <tr>\n",
              "      <th>3</th>\n",
              "      <td>A0001000</td>\n",
              "      <td>1</td>\n",
              "      <td>30</td>\n",
              "      <td>광주</td>\n",
              "      <td>6</td>\n",
              "      <td>1223372.0</td>\n",
              "      <td>197.0</td>\n",
              "      <td>0.747271</td>\n",
              "      <td>0.000000</td>\n",
              "      <td>0.000000</td>\n",
              "      <td>0.252729</td>\n",
              "      <td>0.000000</td>\n",
              "      <td>0.0</td>\n",
              "      <td>8.000000</td>\n",
              "      <td>1.000000</td>\n",
              "      <td>-8.447806</td>\n",
              "      <td>5</td>\n",
              "      <td>0.000000</td>\n",
              "      <td>0.000000</td>\n",
              "      <td>0.000000</td>\n",
              "      <td>0.000000</td>\n",
              "      <td>0.458963</td>\n",
              "      <td>5.051621</td>\n",
              "      <td>0.000000</td>\n",
              "      <td>0.000000</td>\n",
              "      <td>0.318110</td>\n",
              "      <td>0.000000</td>\n",
              "      <td>0.000000</td>\n",
              "      <td>0.000000</td>\n",
              "      <td>2.187843</td>\n",
              "      <td>0.000000</td>\n",
              "      <td>0.000000</td>\n",
              "      <td>0.000000</td>\n",
              "      <td>84.750759</td>\n",
              "      <td>0.000000</td>\n",
              "      <td>0.000000</td>\n",
              "      <td>0.000000</td>\n",
              "      <td>0.163561</td>\n",
              "      <td>0.454545</td>\n",
              "      <td>0.363636</td>\n",
              "      <td>2929.730068</td>\n",
              "      <td>0.000000</td>\n",
              "      <td>0.000000</td>\n",
              "      <td>148.238009</td>\n",
              "      <td>4131.864672</td>\n",
              "      <td>0.000000</td>\n",
              "      <td>0.000000</td>\n",
              "      <td>120.307944</td>\n",
              "      <td>3508.727175</td>\n",
              "      <td>0.000000</td>\n",
              "      <td>0.000000</td>\n",
              "      <td>117.984712</td>\n",
              "      <td>0.090909</td>\n",
              "      <td>0.272727</td>\n",
              "      <td>0.636364</td>\n",
              "      <td>0.000000</td>\n",
              "      <td>0.000000</td>\n",
              "    </tr>\n",
              "    <tr>\n",
              "      <th>4</th>\n",
              "      <td>A00010000</td>\n",
              "      <td>1</td>\n",
              "      <td>20</td>\n",
              "      <td>경기</td>\n",
              "      <td>12</td>\n",
              "      <td>17936233.0</td>\n",
              "      <td>3683.0</td>\n",
              "      <td>0.363163</td>\n",
              "      <td>0.515705</td>\n",
              "      <td>0.093949</td>\n",
              "      <td>0.027182</td>\n",
              "      <td>15.750000</td>\n",
              "      <td>0.0</td>\n",
              "      <td>25.000000</td>\n",
              "      <td>16.000000</td>\n",
              "      <td>-0.571468</td>\n",
              "      <td>10</td>\n",
              "      <td>0.000000</td>\n",
              "      <td>0.518449</td>\n",
              "      <td>3.621221</td>\n",
              "      <td>0.000000</td>\n",
              "      <td>0.000000</td>\n",
              "      <td>4.361157</td>\n",
              "      <td>0.669548</td>\n",
              "      <td>2.443626</td>\n",
              "      <td>0.007908</td>\n",
              "      <td>0.540051</td>\n",
              "      <td>2.629404</td>\n",
              "      <td>0.000000</td>\n",
              "      <td>0.000000</td>\n",
              "      <td>59.090117</td>\n",
              "      <td>3103.011998</td>\n",
              "      <td>0.000000</td>\n",
              "      <td>0.000000</td>\n",
              "      <td>0.068295</td>\n",
              "      <td>1.403069</td>\n",
              "      <td>0.000000</td>\n",
              "      <td>0.000000</td>\n",
              "      <td>0.407407</td>\n",
              "      <td>0.518519</td>\n",
              "      <td>1457.983417</td>\n",
              "      <td>1344.542450</td>\n",
              "      <td>338.218175</td>\n",
              "      <td>1.320072</td>\n",
              "      <td>1132.187910</td>\n",
              "      <td>1325.769984</td>\n",
              "      <td>263.998076</td>\n",
              "      <td>1.020217</td>\n",
              "      <td>980.226151</td>\n",
              "      <td>1161.921031</td>\n",
              "      <td>185.348929</td>\n",
              "      <td>1.468851</td>\n",
              "      <td>0.333333</td>\n",
              "      <td>0.333333</td>\n",
              "      <td>0.333333</td>\n",
              "      <td>0.000000</td>\n",
              "      <td>0.000000</td>\n",
              "    </tr>\n",
              "  </tbody>\n",
              "</table>\n",
              "</div>"
            ],
            "text/plain": [
              "      고객구분코드  고객성별구분코드  동일나이군구분코드  ...     시간대_3     시간대_4  new_stock_rate\n",
              "0      A0001         1         30  ...  0.372032  0.002639        0.001191\n",
              "1     A00010         1         20  ...  0.133333  0.000000        0.000000\n",
              "2    A000100         2         40  ...  0.000000  0.000000        0.000000\n",
              "3   A0001000         1         30  ...  0.636364  0.000000        0.000000\n",
              "4  A00010000         1         20  ...  0.333333  0.000000        0.000000\n",
              "\n",
              "[5 rows x 57 columns]"
            ]
          },
          "metadata": {
            "tags": []
          },
          "execution_count": 7
        }
      ]
    },
    {
      "cell_type": "code",
      "metadata": {
        "id": "zj592UQKlmfu"
      },
      "source": [
        ""
      ],
      "execution_count": null,
      "outputs": []
    },
    {
      "cell_type": "code",
      "metadata": {
        "id": "d1EWWe9iYuUy"
      },
      "source": [
        "num_temp = temp.select_dtypes(include = ['int','float'])"
      ],
      "execution_count": null,
      "outputs": []
    },
    {
      "cell_type": "code",
      "metadata": {
        "id": "DPOVmY7VYuU0",
        "colab": {
          "base_uri": "https://localhost:8080/"
        },
        "outputId": "1cabc5af-f096-498f-c27e-d46f8fdeff03"
      },
      "source": [
        "num_temp.shape"
      ],
      "execution_count": null,
      "outputs": [
        {
          "output_type": "execute_result",
          "data": {
            "text/plain": [
              "(7938, 21)"
            ]
          },
          "metadata": {
            "tags": []
          },
          "execution_count": 5
        }
      ]
    },
    {
      "cell_type": "code",
      "metadata": {
        "colab": {
          "base_uri": "https://localhost:8080/",
          "height": 355
        },
        "id": "p3M5r4zJiAZe",
        "outputId": "d53574b0-1d42-4666-bac9-60e4b29823ed"
      },
      "source": [
        "num_temp.head()"
      ],
      "execution_count": null,
      "outputs": [
        {
          "output_type": "execute_result",
          "data": {
            "text/html": [
              "<div>\n",
              "<style scoped>\n",
              "    .dataframe tbody tr th:only-of-type {\n",
              "        vertical-align: middle;\n",
              "    }\n",
              "\n",
              "    .dataframe tbody tr th {\n",
              "        vertical-align: top;\n",
              "    }\n",
              "\n",
              "    .dataframe thead th {\n",
              "        text-align: right;\n",
              "    }\n",
              "</style>\n",
              "<table border=\"1\" class=\"dataframe\">\n",
              "  <thead>\n",
              "    <tr style=\"text-align: right;\">\n",
              "      <th></th>\n",
              "      <th>고객성별구분코드</th>\n",
              "      <th>동일나이군구분코드</th>\n",
              "      <th>총매수금액</th>\n",
              "      <th>총매수수량</th>\n",
              "      <th>수익률</th>\n",
              "      <th>업종개수</th>\n",
              "      <th>상하한가여부</th>\n",
              "      <th>매도매수일치_외국인</th>\n",
              "      <th>매도매수일치_기관</th>\n",
              "      <th>large_cap</th>\n",
              "      <th>medium_cap</th>\n",
              "      <th>small_cap</th>\n",
              "      <th>large_cap_period</th>\n",
              "      <th>medium_cap_period</th>\n",
              "      <th>small_cap_period</th>\n",
              "      <th>PER</th>\n",
              "      <th>PBR</th>\n",
              "      <th>ROE</th>\n",
              "      <th>EPS</th>\n",
              "      <th>DIV</th>\n",
              "      <th>ATR_7</th>\n",
              "    </tr>\n",
              "  </thead>\n",
              "  <tbody>\n",
              "    <tr>\n",
              "      <th>0</th>\n",
              "      <td>2</td>\n",
              "      <td>30</td>\n",
              "      <td>1691500.0</td>\n",
              "      <td>19.0</td>\n",
              "      <td>-2.483187</td>\n",
              "      <td>2</td>\n",
              "      <td>0.000000</td>\n",
              "      <td>0.250000</td>\n",
              "      <td>0.250000</td>\n",
              "      <td>1.000000</td>\n",
              "      <td>0.000000</td>\n",
              "      <td>0.000000</td>\n",
              "      <td>5.5</td>\n",
              "      <td>0.000000</td>\n",
              "      <td>0.000000</td>\n",
              "      <td>7.588331</td>\n",
              "      <td>0.703141</td>\n",
              "      <td>14.978474</td>\n",
              "      <td>13138.000591</td>\n",
              "      <td>1.907657</td>\n",
              "      <td>6845.289473</td>\n",
              "    </tr>\n",
              "    <tr>\n",
              "      <th>1</th>\n",
              "      <td>2</td>\n",
              "      <td>30</td>\n",
              "      <td>18044560.0</td>\n",
              "      <td>588.0</td>\n",
              "      <td>-2.593365</td>\n",
              "      <td>3</td>\n",
              "      <td>0.350000</td>\n",
              "      <td>0.350000</td>\n",
              "      <td>0.400000</td>\n",
              "      <td>0.805578</td>\n",
              "      <td>0.194422</td>\n",
              "      <td>0.000000</td>\n",
              "      <td>5.6</td>\n",
              "      <td>11.500000</td>\n",
              "      <td>0.000000</td>\n",
              "      <td>118.408418</td>\n",
              "      <td>8.193013</td>\n",
              "      <td>12.176953</td>\n",
              "      <td>856.703595</td>\n",
              "      <td>0.101752</td>\n",
              "      <td>7372.020518</td>\n",
              "    </tr>\n",
              "    <tr>\n",
              "      <th>2</th>\n",
              "      <td>2</td>\n",
              "      <td>50</td>\n",
              "      <td>195560.0</td>\n",
              "      <td>23.0</td>\n",
              "      <td>-14.143997</td>\n",
              "      <td>1</td>\n",
              "      <td>0.000000</td>\n",
              "      <td>0.100000</td>\n",
              "      <td>0.200000</td>\n",
              "      <td>0.000000</td>\n",
              "      <td>1.000000</td>\n",
              "      <td>0.000000</td>\n",
              "      <td>0.0</td>\n",
              "      <td>25.933333</td>\n",
              "      <td>0.000000</td>\n",
              "      <td>1.396000</td>\n",
              "      <td>0.696500</td>\n",
              "      <td>2.005266</td>\n",
              "      <td>6032.000000</td>\n",
              "      <td>3.646500</td>\n",
              "      <td>515.642857</td>\n",
              "    </tr>\n",
              "    <tr>\n",
              "      <th>3</th>\n",
              "      <td>1</td>\n",
              "      <td>30</td>\n",
              "      <td>20627310.0</td>\n",
              "      <td>4558.0</td>\n",
              "      <td>2.291601</td>\n",
              "      <td>15</td>\n",
              "      <td>0.035714</td>\n",
              "      <td>0.464286</td>\n",
              "      <td>0.464286</td>\n",
              "      <td>0.000000</td>\n",
              "      <td>0.437730</td>\n",
              "      <td>0.562270</td>\n",
              "      <td>0.0</td>\n",
              "      <td>7.600000</td>\n",
              "      <td>10.333333</td>\n",
              "      <td>20.328912</td>\n",
              "      <td>0.800545</td>\n",
              "      <td>17.152872</td>\n",
              "      <td>283.279906</td>\n",
              "      <td>0.621850</td>\n",
              "      <td>460.803372</td>\n",
              "    </tr>\n",
              "    <tr>\n",
              "      <th>4</th>\n",
              "      <td>1</td>\n",
              "      <td>20</td>\n",
              "      <td>1128091.0</td>\n",
              "      <td>1797.0</td>\n",
              "      <td>2.535725</td>\n",
              "      <td>6</td>\n",
              "      <td>0.000000</td>\n",
              "      <td>0.454545</td>\n",
              "      <td>0.545455</td>\n",
              "      <td>0.324974</td>\n",
              "      <td>0.000000</td>\n",
              "      <td>0.675026</td>\n",
              "      <td>0.0</td>\n",
              "      <td>0.000000</td>\n",
              "      <td>8.714286</td>\n",
              "      <td>2.883263</td>\n",
              "      <td>0.604482</td>\n",
              "      <td>2.487257</td>\n",
              "      <td>694.305208</td>\n",
              "      <td>0.246067</td>\n",
              "      <td>154.412290</td>\n",
              "    </tr>\n",
              "  </tbody>\n",
              "</table>\n",
              "</div>"
            ],
            "text/plain": [
              "   고객성별구분코드  동일나이군구분코드       총매수금액  ...           EPS       DIV        ATR_7\n",
              "0         2         30   1691500.0  ...  13138.000591  1.907657  6845.289473\n",
              "1         2         30  18044560.0  ...    856.703595  0.101752  7372.020518\n",
              "2         2         50    195560.0  ...   6032.000000  3.646500   515.642857\n",
              "3         1         30  20627310.0  ...    283.279906  0.621850   460.803372\n",
              "4         1         20   1128091.0  ...    694.305208  0.246067   154.412290\n",
              "\n",
              "[5 rows x 21 columns]"
            ]
          },
          "metadata": {
            "tags": []
          },
          "execution_count": 9
        }
      ]
    },
    {
      "cell_type": "code",
      "metadata": {
        "id": "2kD6cgL-YuU2"
      },
      "source": [
        "num_temp = pd.DataFrame(columns = list(num_temp), data = RobustScaler().fit_transform(num_temp))\n",
        "# num_temp.drop('DIV', axis= 1, inplace = True)"
      ],
      "execution_count": null,
      "outputs": []
    },
    {
      "cell_type": "code",
      "metadata": {
        "colab": {
          "base_uri": "https://localhost:8080/",
          "height": 447
        },
        "id": "oKotjjjUsiKu",
        "outputId": "56c3abee-37f1-479d-9f0f-4a81c969c416"
      },
      "source": [
        ""
      ],
      "execution_count": null,
      "outputs": [
        {
          "output_type": "execute_result",
          "data": {
            "text/html": [
              "<div>\n",
              "<style scoped>\n",
              "    .dataframe tbody tr th:only-of-type {\n",
              "        vertical-align: middle;\n",
              "    }\n",
              "\n",
              "    .dataframe tbody tr th {\n",
              "        vertical-align: top;\n",
              "    }\n",
              "\n",
              "    .dataframe thead th {\n",
              "        text-align: right;\n",
              "    }\n",
              "</style>\n",
              "<table border=\"1\" class=\"dataframe\">\n",
              "  <thead>\n",
              "    <tr style=\"text-align: right;\">\n",
              "      <th></th>\n",
              "      <th>고객성별구분코드</th>\n",
              "      <th>동일나이군구분코드</th>\n",
              "      <th>총매수금액</th>\n",
              "      <th>총매수수량</th>\n",
              "      <th>업종개수</th>\n",
              "      <th>매도매수일치_기관</th>\n",
              "      <th>large_cap</th>\n",
              "      <th>medium_cap</th>\n",
              "      <th>small_cap</th>\n",
              "      <th>large_cap_period</th>\n",
              "      <th>PER</th>\n",
              "      <th>PBR</th>\n",
              "      <th>ROE</th>\n",
              "      <th>EPS</th>\n",
              "      <th>DIV</th>\n",
              "      <th>ATR_7</th>\n",
              "    </tr>\n",
              "  </thead>\n",
              "  <tbody>\n",
              "    <tr>\n",
              "      <th>0</th>\n",
              "      <td>1.0</td>\n",
              "      <td>0.0</td>\n",
              "      <td>-0.188454</td>\n",
              "      <td>-0.220015</td>\n",
              "      <td>-0.8</td>\n",
              "      <td>-1.166667</td>\n",
              "      <td>0.798295</td>\n",
              "      <td>-0.550775</td>\n",
              "      <td>-0.356546</td>\n",
              "      <td>-0.391667</td>\n",
              "      <td>-0.137600</td>\n",
              "      <td>-0.399572</td>\n",
              "      <td>1.284474</td>\n",
              "      <td>4.487079</td>\n",
              "      <td>1.061720</td>\n",
              "      <td>2.107561</td>\n",
              "    </tr>\n",
              "    <tr>\n",
              "      <th>1</th>\n",
              "      <td>1.0</td>\n",
              "      <td>0.0</td>\n",
              "      <td>1.012451</td>\n",
              "      <td>0.214668</td>\n",
              "      <td>-0.6</td>\n",
              "      <td>-0.266667</td>\n",
              "      <td>0.520765</td>\n",
              "      <td>-0.066435</td>\n",
              "      <td>-0.356546</td>\n",
              "      <td>-0.386667</td>\n",
              "      <td>4.516943</td>\n",
              "      <td>3.510591</td>\n",
              "      <td>0.905693</td>\n",
              "      <td>0.058723</td>\n",
              "      <td>-0.373672</td>\n",
              "      <td>2.319570</td>\n",
              "    </tr>\n",
              "    <tr>\n",
              "      <th>2</th>\n",
              "      <td>1.0</td>\n",
              "      <td>1.0</td>\n",
              "      <td>-0.298310</td>\n",
              "      <td>-0.216960</td>\n",
              "      <td>-1.0</td>\n",
              "      <td>-1.466667</td>\n",
              "      <td>-0.629170</td>\n",
              "      <td>1.940399</td>\n",
              "      <td>-0.356546</td>\n",
              "      <td>-0.666667</td>\n",
              "      <td>-0.397684</td>\n",
              "      <td>-0.403039</td>\n",
              "      <td>-0.469574</td>\n",
              "      <td>1.924817</td>\n",
              "      <td>2.443808</td>\n",
              "      <td>-0.440116</td>\n",
              "    </tr>\n",
              "    <tr>\n",
              "      <th>3</th>\n",
              "      <td>0.0</td>\n",
              "      <td>0.0</td>\n",
              "      <td>1.202118</td>\n",
              "      <td>3.247517</td>\n",
              "      <td>1.8</td>\n",
              "      <td>0.119048</td>\n",
              "      <td>-0.629170</td>\n",
              "      <td>0.539688</td>\n",
              "      <td>0.959189</td>\n",
              "      <td>-0.666667</td>\n",
              "      <td>0.397516</td>\n",
              "      <td>-0.348721</td>\n",
              "      <td>1.578465</td>\n",
              "      <td>-0.148041</td>\n",
              "      <td>0.039718</td>\n",
              "      <td>-0.462189</td>\n",
              "    </tr>\n",
              "    <tr>\n",
              "      <th>4</th>\n",
              "      <td>0.0</td>\n",
              "      <td>-0.5</td>\n",
              "      <td>-0.229829</td>\n",
              "      <td>1.138273</td>\n",
              "      <td>0.0</td>\n",
              "      <td>0.606061</td>\n",
              "      <td>-0.165281</td>\n",
              "      <td>-0.550775</td>\n",
              "      <td>1.223045</td>\n",
              "      <td>-0.666667</td>\n",
              "      <td>-0.335217</td>\n",
              "      <td>-0.451078</td>\n",
              "      <td>-0.404407</td>\n",
              "      <td>0.000165</td>\n",
              "      <td>-0.258966</td>\n",
              "      <td>-0.585511</td>\n",
              "    </tr>\n",
              "    <tr>\n",
              "      <th>...</th>\n",
              "      <td>...</td>\n",
              "      <td>...</td>\n",
              "      <td>...</td>\n",
              "      <td>...</td>\n",
              "      <td>...</td>\n",
              "      <td>...</td>\n",
              "      <td>...</td>\n",
              "      <td>...</td>\n",
              "      <td>...</td>\n",
              "      <td>...</td>\n",
              "      <td>...</td>\n",
              "      <td>...</td>\n",
              "      <td>...</td>\n",
              "      <td>...</td>\n",
              "      <td>...</td>\n",
              "      <td>...</td>\n",
              "    </tr>\n",
              "    <tr>\n",
              "      <th>7933</th>\n",
              "      <td>0.0</td>\n",
              "      <td>0.0</td>\n",
              "      <td>0.207308</td>\n",
              "      <td>3.671505</td>\n",
              "      <td>-0.2</td>\n",
              "      <td>0.060606</td>\n",
              "      <td>0.261436</td>\n",
              "      <td>-0.152156</td>\n",
              "      <td>0.149091</td>\n",
              "      <td>0.283333</td>\n",
              "      <td>-0.028248</td>\n",
              "      <td>-0.551939</td>\n",
              "      <td>1.174691</td>\n",
              "      <td>0.358817</td>\n",
              "      <td>0.523108</td>\n",
              "      <td>0.316181</td>\n",
              "    </tr>\n",
              "    <tr>\n",
              "      <th>7934</th>\n",
              "      <td>0.0</td>\n",
              "      <td>-0.5</td>\n",
              "      <td>6.608258</td>\n",
              "      <td>3.763178</td>\n",
              "      <td>0.0</td>\n",
              "      <td>0.333333</td>\n",
              "      <td>-0.418166</td>\n",
              "      <td>-0.199783</td>\n",
              "      <td>1.307901</td>\n",
              "      <td>0.233333</td>\n",
              "      <td>-0.056973</td>\n",
              "      <td>0.632808</td>\n",
              "      <td>-0.211370</td>\n",
              "      <td>-0.200899</td>\n",
              "      <td>-0.304566</td>\n",
              "      <td>0.325801</td>\n",
              "    </tr>\n",
              "    <tr>\n",
              "      <th>7935</th>\n",
              "      <td>0.0</td>\n",
              "      <td>-0.5</td>\n",
              "      <td>-0.273831</td>\n",
              "      <td>-0.227655</td>\n",
              "      <td>-0.8</td>\n",
              "      <td>-1.666667</td>\n",
              "      <td>0.690608</td>\n",
              "      <td>-0.362841</td>\n",
              "      <td>-0.356546</td>\n",
              "      <td>0.197470</td>\n",
              "      <td>0.131442</td>\n",
              "      <td>-0.413144</td>\n",
              "      <td>1.513316</td>\n",
              "      <td>2.317100</td>\n",
              "      <td>2.591976</td>\n",
              "      <td>1.925226</td>\n",
              "    </tr>\n",
              "    <tr>\n",
              "      <th>7936</th>\n",
              "      <td>0.0</td>\n",
              "      <td>0.0</td>\n",
              "      <td>-0.256647</td>\n",
              "      <td>-0.223835</td>\n",
              "      <td>-0.6</td>\n",
              "      <td>-0.666667</td>\n",
              "      <td>0.611933</td>\n",
              "      <td>-0.225541</td>\n",
              "      <td>-0.356546</td>\n",
              "      <td>-0.216667</td>\n",
              "      <td>-0.232764</td>\n",
              "      <td>-0.340779</td>\n",
              "      <td>0.234008</td>\n",
              "      <td>2.383798</td>\n",
              "      <td>2.046397</td>\n",
              "      <td>0.863129</td>\n",
              "    </tr>\n",
              "    <tr>\n",
              "      <th>7937</th>\n",
              "      <td>1.0</td>\n",
              "      <td>0.5</td>\n",
              "      <td>-0.084593</td>\n",
              "      <td>-0.153552</td>\n",
              "      <td>-0.8</td>\n",
              "      <td>0.583333</td>\n",
              "      <td>0.674889</td>\n",
              "      <td>-0.335410</td>\n",
              "      <td>-0.356546</td>\n",
              "      <td>0.883333</td>\n",
              "      <td>-0.450068</td>\n",
              "      <td>-0.756470</td>\n",
              "      <td>-0.732989</td>\n",
              "      <td>-0.249245</td>\n",
              "      <td>1.693361</td>\n",
              "      <td>-0.018425</td>\n",
              "    </tr>\n",
              "  </tbody>\n",
              "</table>\n",
              "<p>7938 rows × 16 columns</p>\n",
              "</div>"
            ],
            "text/plain": [
              "      고객성별구분코드  동일나이군구분코드     총매수금액  ...       EPS       DIV     ATR_7\n",
              "0          1.0        0.0 -0.188454  ...  4.487079  1.061720  2.107561\n",
              "1          1.0        0.0  1.012451  ...  0.058723 -0.373672  2.319570\n",
              "2          1.0        1.0 -0.298310  ...  1.924817  2.443808 -0.440116\n",
              "3          0.0        0.0  1.202118  ... -0.148041  0.039718 -0.462189\n",
              "4          0.0       -0.5 -0.229829  ...  0.000165 -0.258966 -0.585511\n",
              "...        ...        ...       ...  ...       ...       ...       ...\n",
              "7933       0.0        0.0  0.207308  ...  0.358817  0.523108  0.316181\n",
              "7934       0.0       -0.5  6.608258  ... -0.200899 -0.304566  0.325801\n",
              "7935       0.0       -0.5 -0.273831  ...  2.317100  2.591976  1.925226\n",
              "7936       0.0        0.0 -0.256647  ...  2.383798  2.046397  0.863129\n",
              "7937       1.0        0.5 -0.084593  ... -0.249245  1.693361 -0.018425\n",
              "\n",
              "[7938 rows x 16 columns]"
            ]
          },
          "metadata": {
            "tags": []
          },
          "execution_count": 192
        }
      ]
    },
    {
      "cell_type": "code",
      "metadata": {
        "id": "9EnE8l6mYuU4"
      },
      "source": [
        "# threshold = 0.8\n",
        "# corr_df = num_temp.corr()\n",
        "# corr_df = np.triu(corr_df,1)\n",
        "# corr_df = pd.DataFrame(corr_df)\n",
        "# temp_index = list(set(np.where(corr_df >= threshold)[0].tolist() + np.where(corr_df >= threshold)[1].tolist()))\n",
        "# temp = num_temp[num_temp.columns[temp_index]]\n",
        "# corr_df.iloc[temp_index, temp_index]\n",
        "# temp"
      ],
      "execution_count": null,
      "outputs": []
    },
    {
      "cell_type": "code",
      "metadata": {
        "id": "6GBexIcTYuU5"
      },
      "source": [
        "# import matplotlib.pyplot as plt\n",
        "# import matplotlib\n",
        "# matplotlib.font_manager._rebuild()\n",
        "\n",
        "# temp_len = len(list(num_temp))\n",
        "# temp_range = int(temp_len/5)\n",
        "\n",
        "# for i in range(0,20,4):\n",
        "#     print(num_temp.columns.tolist()[i:i+temp_range])\n",
        "#     plt.figure(figsize= (20,4))\n",
        "#     plt.boxplot([num_temp['{}'.format(i)] for i in num_temp.columns.tolist()[i:i+temp_range]])\n",
        "#     plt.xticks([1, 2, 3, 4], num_temp.columns.tolist()[i:i+temp_range])\n",
        "#     plt.show()"
      ],
      "execution_count": null,
      "outputs": []
    },
    {
      "cell_type": "markdown",
      "metadata": {
        "id": "TbEGfSiY7Bjs"
      },
      "source": [
        "# 첫번째 검정"
      ]
    },
    {
      "cell_type": "code",
      "metadata": {
        "id": "LvLz7dYgYuU7",
        "colab": {
          "base_uri": "https://localhost:8080/",
          "height": 390
        },
        "outputId": "389d549b-1165-4eed-f736-84f5250e9068"
      },
      "source": [
        "# model = KMeans()\n",
        "# visualizer = KElbowVisualizer(model, size=(1800, 500))\n",
        "# visualizer.fit(num_temp)\n",
        "# visualizer.show()\n",
        "\n",
        "k = 5\n",
        "kmeans = KMeans(n_clusters= k, random_state=0).fit(num_temp)\n",
        "\n",
        "train_cluster = pd.DataFrame(columns = list(num_temp), data = num_temp)\n",
        "train_cluster['cluster'] = kmeans.predict(num_temp)"
      ],
      "execution_count": null,
      "outputs": [
        {
          "output_type": "error",
          "ename": "ValueError",
          "evalue": "ignored",
          "traceback": [
            "\u001b[0;31m---------------------------------------------------------------------------\u001b[0m",
            "\u001b[0;31mValueError\u001b[0m                                Traceback (most recent call last)",
            "\u001b[0;32m<ipython-input-186-47fea85f1db7>\u001b[0m in \u001b[0;36m<module>\u001b[0;34m()\u001b[0m\n\u001b[1;32m      5\u001b[0m \u001b[0;34m\u001b[0m\u001b[0m\n\u001b[1;32m      6\u001b[0m \u001b[0mk\u001b[0m \u001b[0;34m=\u001b[0m \u001b[0;36m5\u001b[0m\u001b[0;34m\u001b[0m\u001b[0;34m\u001b[0m\u001b[0m\n\u001b[0;32m----> 7\u001b[0;31m \u001b[0mkmeans\u001b[0m \u001b[0;34m=\u001b[0m \u001b[0mKMeans\u001b[0m\u001b[0;34m(\u001b[0m\u001b[0mn_clusters\u001b[0m\u001b[0;34m=\u001b[0m \u001b[0mk\u001b[0m\u001b[0;34m,\u001b[0m \u001b[0mrandom_state\u001b[0m\u001b[0;34m=\u001b[0m\u001b[0;36m0\u001b[0m\u001b[0;34m)\u001b[0m\u001b[0;34m.\u001b[0m\u001b[0mfit\u001b[0m\u001b[0;34m(\u001b[0m\u001b[0mnum_temp\u001b[0m\u001b[0;34m)\u001b[0m\u001b[0;34m\u001b[0m\u001b[0;34m\u001b[0m\u001b[0m\n\u001b[0m\u001b[1;32m      8\u001b[0m \u001b[0;34m\u001b[0m\u001b[0m\n\u001b[1;32m      9\u001b[0m \u001b[0mtrain_cluster\u001b[0m \u001b[0;34m=\u001b[0m \u001b[0mpd\u001b[0m\u001b[0;34m.\u001b[0m\u001b[0mDataFrame\u001b[0m\u001b[0;34m(\u001b[0m\u001b[0mcolumns\u001b[0m \u001b[0;34m=\u001b[0m \u001b[0mlist\u001b[0m\u001b[0;34m(\u001b[0m\u001b[0mnum_temp\u001b[0m\u001b[0;34m)\u001b[0m\u001b[0;34m,\u001b[0m \u001b[0mdata\u001b[0m \u001b[0;34m=\u001b[0m \u001b[0mnum_temp\u001b[0m\u001b[0;34m)\u001b[0m\u001b[0;34m\u001b[0m\u001b[0;34m\u001b[0m\u001b[0m\n",
            "\u001b[0;32m/usr/local/lib/python3.7/dist-packages/sklearn/cluster/_kmeans.py\u001b[0m in \u001b[0;36mfit\u001b[0;34m(self, X, y, sample_weight)\u001b[0m\n\u001b[1;32m    857\u001b[0m         \u001b[0morder\u001b[0m \u001b[0;34m=\u001b[0m \u001b[0;34m\"C\"\u001b[0m \u001b[0;32mif\u001b[0m \u001b[0mself\u001b[0m\u001b[0;34m.\u001b[0m\u001b[0mcopy_x\u001b[0m \u001b[0;32melse\u001b[0m \u001b[0;32mNone\u001b[0m\u001b[0;34m\u001b[0m\u001b[0;34m\u001b[0m\u001b[0m\n\u001b[1;32m    858\u001b[0m         X = check_array(X, accept_sparse='csr', dtype=[np.float64, np.float32],\n\u001b[0;32m--> 859\u001b[0;31m                         order=order, copy=self.copy_x)\n\u001b[0m\u001b[1;32m    860\u001b[0m         \u001b[0;31m# verify that the number of samples given is larger than k\u001b[0m\u001b[0;34m\u001b[0m\u001b[0;34m\u001b[0m\u001b[0;34m\u001b[0m\u001b[0m\n\u001b[1;32m    861\u001b[0m         \u001b[0;32mif\u001b[0m \u001b[0m_num_samples\u001b[0m\u001b[0;34m(\u001b[0m\u001b[0mX\u001b[0m\u001b[0;34m)\u001b[0m \u001b[0;34m<\u001b[0m \u001b[0mself\u001b[0m\u001b[0;34m.\u001b[0m\u001b[0mn_clusters\u001b[0m\u001b[0;34m:\u001b[0m\u001b[0;34m\u001b[0m\u001b[0;34m\u001b[0m\u001b[0m\n",
            "\u001b[0;32m/usr/local/lib/python3.7/dist-packages/sklearn/utils/validation.py\u001b[0m in \u001b[0;36mcheck_array\u001b[0;34m(array, accept_sparse, accept_large_sparse, dtype, order, copy, force_all_finite, ensure_2d, allow_nd, ensure_min_samples, ensure_min_features, warn_on_dtype, estimator)\u001b[0m\n\u001b[1;32m    529\u001b[0m                     \u001b[0marray\u001b[0m \u001b[0;34m=\u001b[0m \u001b[0marray\u001b[0m\u001b[0;34m.\u001b[0m\u001b[0mastype\u001b[0m\u001b[0;34m(\u001b[0m\u001b[0mdtype\u001b[0m\u001b[0;34m,\u001b[0m \u001b[0mcasting\u001b[0m\u001b[0;34m=\u001b[0m\u001b[0;34m\"unsafe\"\u001b[0m\u001b[0;34m,\u001b[0m \u001b[0mcopy\u001b[0m\u001b[0;34m=\u001b[0m\u001b[0;32mFalse\u001b[0m\u001b[0;34m)\u001b[0m\u001b[0;34m\u001b[0m\u001b[0;34m\u001b[0m\u001b[0m\n\u001b[1;32m    530\u001b[0m                 \u001b[0;32melse\u001b[0m\u001b[0;34m:\u001b[0m\u001b[0;34m\u001b[0m\u001b[0;34m\u001b[0m\u001b[0m\n\u001b[0;32m--> 531\u001b[0;31m                     \u001b[0marray\u001b[0m \u001b[0;34m=\u001b[0m \u001b[0mnp\u001b[0m\u001b[0;34m.\u001b[0m\u001b[0masarray\u001b[0m\u001b[0;34m(\u001b[0m\u001b[0marray\u001b[0m\u001b[0;34m,\u001b[0m \u001b[0morder\u001b[0m\u001b[0;34m=\u001b[0m\u001b[0morder\u001b[0m\u001b[0;34m,\u001b[0m \u001b[0mdtype\u001b[0m\u001b[0;34m=\u001b[0m\u001b[0mdtype\u001b[0m\u001b[0;34m)\u001b[0m\u001b[0;34m\u001b[0m\u001b[0;34m\u001b[0m\u001b[0m\n\u001b[0m\u001b[1;32m    532\u001b[0m             \u001b[0;32mexcept\u001b[0m \u001b[0mComplexWarning\u001b[0m\u001b[0;34m:\u001b[0m\u001b[0;34m\u001b[0m\u001b[0;34m\u001b[0m\u001b[0m\n\u001b[1;32m    533\u001b[0m                 raise ValueError(\"Complex data not supported\\n\"\n",
            "\u001b[0;32m/usr/local/lib/python3.7/dist-packages/numpy/core/_asarray.py\u001b[0m in \u001b[0;36masarray\u001b[0;34m(a, dtype, order)\u001b[0m\n\u001b[1;32m     81\u001b[0m \u001b[0;34m\u001b[0m\u001b[0m\n\u001b[1;32m     82\u001b[0m     \"\"\"\n\u001b[0;32m---> 83\u001b[0;31m     \u001b[0;32mreturn\u001b[0m \u001b[0marray\u001b[0m\u001b[0;34m(\u001b[0m\u001b[0ma\u001b[0m\u001b[0;34m,\u001b[0m \u001b[0mdtype\u001b[0m\u001b[0;34m,\u001b[0m \u001b[0mcopy\u001b[0m\u001b[0;34m=\u001b[0m\u001b[0;32mFalse\u001b[0m\u001b[0;34m,\u001b[0m \u001b[0morder\u001b[0m\u001b[0;34m=\u001b[0m\u001b[0morder\u001b[0m\u001b[0;34m)\u001b[0m\u001b[0;34m\u001b[0m\u001b[0;34m\u001b[0m\u001b[0m\n\u001b[0m\u001b[1;32m     84\u001b[0m \u001b[0;34m\u001b[0m\u001b[0m\n\u001b[1;32m     85\u001b[0m \u001b[0;34m\u001b[0m\u001b[0m\n",
            "\u001b[0;31mValueError\u001b[0m: could not convert string to float: '고객성별구분코드'"
          ]
        }
      ]
    },
    {
      "cell_type": "code",
      "metadata": {
        "id": "8lLdFLE2YuU-",
        "colab": {
          "base_uri": "https://localhost:8080/"
        },
        "outputId": "89a1a62b-cb59-42a4-be4c-dd11c925d6ba"
      },
      "source": [
        "train_cluster.cluster.value_counts()"
      ],
      "execution_count": null,
      "outputs": [
        {
          "output_type": "execute_result",
          "data": {
            "text/plain": [
              "0    6422\n",
              "4     764\n",
              "3     599\n",
              "2     129\n",
              "1      24\n",
              "Name: cluster, dtype: int64"
            ]
          },
          "metadata": {
            "tags": []
          },
          "execution_count": 179
        }
      ]
    },
    {
      "cell_type": "code",
      "metadata": {
        "id": "EC6baJ7nYuVA"
      },
      "source": [
        "train_y = train_cluster.cluster\n",
        "scl_train = train_cluster.drop('cluster', axis = 1)"
      ],
      "execution_count": null,
      "outputs": []
    },
    {
      "cell_type": "code",
      "metadata": {
        "colab": {
          "base_uri": "https://localhost:8080/",
          "height": 567
        },
        "id": "VxWGfbVAfgyb",
        "outputId": "a8bdaec1-3d81-4153-a9f5-61eaac0f6f6c"
      },
      "source": [
        "scl_train"
      ],
      "execution_count": null,
      "outputs": [
        {
          "output_type": "execute_result",
          "data": {
            "text/html": [
              "<div>\n",
              "<style scoped>\n",
              "    .dataframe tbody tr th:only-of-type {\n",
              "        vertical-align: middle;\n",
              "    }\n",
              "\n",
              "    .dataframe tbody tr th {\n",
              "        vertical-align: top;\n",
              "    }\n",
              "\n",
              "    .dataframe thead th {\n",
              "        text-align: right;\n",
              "    }\n",
              "</style>\n",
              "<table border=\"1\" class=\"dataframe\">\n",
              "  <thead>\n",
              "    <tr style=\"text-align: right;\">\n",
              "      <th></th>\n",
              "      <th>고객성별구분코드</th>\n",
              "      <th>동일나이군구분코드</th>\n",
              "      <th>총매수금액</th>\n",
              "      <th>총매수수량</th>\n",
              "      <th>수익률</th>\n",
              "      <th>업종개수</th>\n",
              "      <th>상하한가여부</th>\n",
              "      <th>매도매수일치_외국인</th>\n",
              "      <th>매도매수일치_기관</th>\n",
              "      <th>large_cap</th>\n",
              "      <th>medium_cap</th>\n",
              "      <th>small_cap</th>\n",
              "      <th>large_cap_period</th>\n",
              "      <th>medium_cap_period</th>\n",
              "      <th>small_cap_period</th>\n",
              "      <th>PER</th>\n",
              "      <th>PBR</th>\n",
              "      <th>ROE</th>\n",
              "      <th>EPS</th>\n",
              "      <th>DIV</th>\n",
              "      <th>ATR_7</th>\n",
              "    </tr>\n",
              "  </thead>\n",
              "  <tbody>\n",
              "    <tr>\n",
              "      <th>0</th>\n",
              "      <td>1.0</td>\n",
              "      <td>0.0</td>\n",
              "      <td>-0.188454</td>\n",
              "      <td>-0.220015</td>\n",
              "      <td>-0.064314</td>\n",
              "      <td>-0.8</td>\n",
              "      <td>0.000000</td>\n",
              "      <td>-0.952381</td>\n",
              "      <td>-1.166667</td>\n",
              "      <td>0.798295</td>\n",
              "      <td>-0.550775</td>\n",
              "      <td>-0.356546</td>\n",
              "      <td>-0.391667</td>\n",
              "      <td>-0.602899</td>\n",
              "      <td>-0.481885</td>\n",
              "      <td>-0.137600</td>\n",
              "      <td>-0.399572</td>\n",
              "      <td>1.284474</td>\n",
              "      <td>4.487079</td>\n",
              "      <td>1.061720</td>\n",
              "      <td>2.107561</td>\n",
              "    </tr>\n",
              "    <tr>\n",
              "      <th>1</th>\n",
              "      <td>1.0</td>\n",
              "      <td>0.0</td>\n",
              "      <td>1.012451</td>\n",
              "      <td>0.214668</td>\n",
              "      <td>-0.073701</td>\n",
              "      <td>-0.6</td>\n",
              "      <td>3.850000</td>\n",
              "      <td>-0.419048</td>\n",
              "      <td>-0.266667</td>\n",
              "      <td>0.520765</td>\n",
              "      <td>-0.066435</td>\n",
              "      <td>-0.356546</td>\n",
              "      <td>-0.386667</td>\n",
              "      <td>0.063768</td>\n",
              "      <td>-0.481885</td>\n",
              "      <td>4.516943</td>\n",
              "      <td>3.510591</td>\n",
              "      <td>0.905693</td>\n",
              "      <td>0.058723</td>\n",
              "      <td>-0.373672</td>\n",
              "      <td>2.319570</td>\n",
              "    </tr>\n",
              "    <tr>\n",
              "      <th>2</th>\n",
              "      <td>1.0</td>\n",
              "      <td>1.0</td>\n",
              "      <td>-0.298310</td>\n",
              "      <td>-0.216960</td>\n",
              "      <td>-1.057815</td>\n",
              "      <td>-1.0</td>\n",
              "      <td>0.000000</td>\n",
              "      <td>-1.752381</td>\n",
              "      <td>-1.466667</td>\n",
              "      <td>-0.629170</td>\n",
              "      <td>1.940399</td>\n",
              "      <td>-0.356546</td>\n",
              "      <td>-0.666667</td>\n",
              "      <td>0.900483</td>\n",
              "      <td>-0.481885</td>\n",
              "      <td>-0.397684</td>\n",
              "      <td>-0.403039</td>\n",
              "      <td>-0.469574</td>\n",
              "      <td>1.924817</td>\n",
              "      <td>2.443808</td>\n",
              "      <td>-0.440116</td>\n",
              "    </tr>\n",
              "    <tr>\n",
              "      <th>3</th>\n",
              "      <td>0.0</td>\n",
              "      <td>0.0</td>\n",
              "      <td>1.202118</td>\n",
              "      <td>3.247517</td>\n",
              "      <td>0.342498</td>\n",
              "      <td>1.8</td>\n",
              "      <td>0.392857</td>\n",
              "      <td>0.190476</td>\n",
              "      <td>0.119048</td>\n",
              "      <td>-0.629170</td>\n",
              "      <td>0.539688</td>\n",
              "      <td>0.959189</td>\n",
              "      <td>-0.666667</td>\n",
              "      <td>-0.162319</td>\n",
              "      <td>0.071390</td>\n",
              "      <td>0.397516</td>\n",
              "      <td>-0.348721</td>\n",
              "      <td>1.578465</td>\n",
              "      <td>-0.148041</td>\n",
              "      <td>0.039718</td>\n",
              "      <td>-0.462189</td>\n",
              "    </tr>\n",
              "    <tr>\n",
              "      <th>4</th>\n",
              "      <td>0.0</td>\n",
              "      <td>-0.5</td>\n",
              "      <td>-0.229829</td>\n",
              "      <td>1.138273</td>\n",
              "      <td>0.363297</td>\n",
              "      <td>0.0</td>\n",
              "      <td>0.000000</td>\n",
              "      <td>0.138528</td>\n",
              "      <td>0.606061</td>\n",
              "      <td>-0.165281</td>\n",
              "      <td>-0.550775</td>\n",
              "      <td>1.223045</td>\n",
              "      <td>-0.666667</td>\n",
              "      <td>-0.602899</td>\n",
              "      <td>-0.015298</td>\n",
              "      <td>-0.335217</td>\n",
              "      <td>-0.451078</td>\n",
              "      <td>-0.404407</td>\n",
              "      <td>0.000165</td>\n",
              "      <td>-0.258966</td>\n",
              "      <td>-0.585511</td>\n",
              "    </tr>\n",
              "    <tr>\n",
              "      <th>...</th>\n",
              "      <td>...</td>\n",
              "      <td>...</td>\n",
              "      <td>...</td>\n",
              "      <td>...</td>\n",
              "      <td>...</td>\n",
              "      <td>...</td>\n",
              "      <td>...</td>\n",
              "      <td>...</td>\n",
              "      <td>...</td>\n",
              "      <td>...</td>\n",
              "      <td>...</td>\n",
              "      <td>...</td>\n",
              "      <td>...</td>\n",
              "      <td>...</td>\n",
              "      <td>...</td>\n",
              "      <td>...</td>\n",
              "      <td>...</td>\n",
              "      <td>...</td>\n",
              "      <td>...</td>\n",
              "      <td>...</td>\n",
              "      <td>...</td>\n",
              "    </tr>\n",
              "    <tr>\n",
              "      <th>7933</th>\n",
              "      <td>0.0</td>\n",
              "      <td>0.0</td>\n",
              "      <td>0.207308</td>\n",
              "      <td>3.671505</td>\n",
              "      <td>0.903569</td>\n",
              "      <td>-0.2</td>\n",
              "      <td>1.000000</td>\n",
              "      <td>-0.831169</td>\n",
              "      <td>0.060606</td>\n",
              "      <td>0.261436</td>\n",
              "      <td>-0.152156</td>\n",
              "      <td>0.149091</td>\n",
              "      <td>0.283333</td>\n",
              "      <td>0.092754</td>\n",
              "      <td>0.368243</td>\n",
              "      <td>-0.028248</td>\n",
              "      <td>-0.551939</td>\n",
              "      <td>1.174691</td>\n",
              "      <td>0.358817</td>\n",
              "      <td>0.523108</td>\n",
              "      <td>0.316181</td>\n",
              "    </tr>\n",
              "    <tr>\n",
              "      <th>7934</th>\n",
              "      <td>0.0</td>\n",
              "      <td>-0.5</td>\n",
              "      <td>6.608258</td>\n",
              "      <td>3.763178</td>\n",
              "      <td>0.353135</td>\n",
              "      <td>0.0</td>\n",
              "      <td>1.222222</td>\n",
              "      <td>0.282187</td>\n",
              "      <td>0.333333</td>\n",
              "      <td>-0.418166</td>\n",
              "      <td>-0.199783</td>\n",
              "      <td>1.307901</td>\n",
              "      <td>0.233333</td>\n",
              "      <td>0.405797</td>\n",
              "      <td>-0.410494</td>\n",
              "      <td>-0.056973</td>\n",
              "      <td>0.632808</td>\n",
              "      <td>-0.211370</td>\n",
              "      <td>-0.200899</td>\n",
              "      <td>-0.304566</td>\n",
              "      <td>0.325801</td>\n",
              "    </tr>\n",
              "    <tr>\n",
              "      <th>7935</th>\n",
              "      <td>0.0</td>\n",
              "      <td>-0.5</td>\n",
              "      <td>-0.273831</td>\n",
              "      <td>-0.227655</td>\n",
              "      <td>-0.461050</td>\n",
              "      <td>-0.8</td>\n",
              "      <td>0.000000</td>\n",
              "      <td>-0.507937</td>\n",
              "      <td>-1.666667</td>\n",
              "      <td>0.690608</td>\n",
              "      <td>-0.362841</td>\n",
              "      <td>-0.356546</td>\n",
              "      <td>0.197470</td>\n",
              "      <td>-0.544928</td>\n",
              "      <td>-0.481885</td>\n",
              "      <td>0.131442</td>\n",
              "      <td>-0.413144</td>\n",
              "      <td>1.513316</td>\n",
              "      <td>2.317100</td>\n",
              "      <td>2.591976</td>\n",
              "      <td>1.925226</td>\n",
              "    </tr>\n",
              "    <tr>\n",
              "      <th>7936</th>\n",
              "      <td>0.0</td>\n",
              "      <td>0.0</td>\n",
              "      <td>-0.256647</td>\n",
              "      <td>-0.223835</td>\n",
              "      <td>0.453254</td>\n",
              "      <td>-0.6</td>\n",
              "      <td>0.000000</td>\n",
              "      <td>-1.396825</td>\n",
              "      <td>-0.666667</td>\n",
              "      <td>0.611933</td>\n",
              "      <td>-0.225541</td>\n",
              "      <td>-0.356546</td>\n",
              "      <td>-0.216667</td>\n",
              "      <td>0.291533</td>\n",
              "      <td>-0.481885</td>\n",
              "      <td>-0.232764</td>\n",
              "      <td>-0.340779</td>\n",
              "      <td>0.234008</td>\n",
              "      <td>2.383798</td>\n",
              "      <td>2.046397</td>\n",
              "      <td>0.863129</td>\n",
              "    </tr>\n",
              "    <tr>\n",
              "      <th>7937</th>\n",
              "      <td>1.0</td>\n",
              "      <td>0.5</td>\n",
              "      <td>-0.084593</td>\n",
              "      <td>-0.153552</td>\n",
              "      <td>-0.643352</td>\n",
              "      <td>-0.8</td>\n",
              "      <td>0.000000</td>\n",
              "      <td>-1.396825</td>\n",
              "      <td>0.583333</td>\n",
              "      <td>0.674889</td>\n",
              "      <td>-0.335410</td>\n",
              "      <td>-0.356546</td>\n",
              "      <td>0.883333</td>\n",
              "      <td>0.600000</td>\n",
              "      <td>-0.481885</td>\n",
              "      <td>-0.450068</td>\n",
              "      <td>-0.756470</td>\n",
              "      <td>-0.732989</td>\n",
              "      <td>-0.249245</td>\n",
              "      <td>1.693361</td>\n",
              "      <td>-0.018425</td>\n",
              "    </tr>\n",
              "  </tbody>\n",
              "</table>\n",
              "<p>7938 rows × 21 columns</p>\n",
              "</div>"
            ],
            "text/plain": [
              "      고객성별구분코드  동일나이군구분코드     총매수금액  ...       EPS       DIV     ATR_7\n",
              "0          1.0        0.0 -0.188454  ...  4.487079  1.061720  2.107561\n",
              "1          1.0        0.0  1.012451  ...  0.058723 -0.373672  2.319570\n",
              "2          1.0        1.0 -0.298310  ...  1.924817  2.443808 -0.440116\n",
              "3          0.0        0.0  1.202118  ... -0.148041  0.039718 -0.462189\n",
              "4          0.0       -0.5 -0.229829  ...  0.000165 -0.258966 -0.585511\n",
              "...        ...        ...       ...  ...       ...       ...       ...\n",
              "7933       0.0        0.0  0.207308  ...  0.358817  0.523108  0.316181\n",
              "7934       0.0       -0.5  6.608258  ... -0.200899 -0.304566  0.325801\n",
              "7935       0.0       -0.5 -0.273831  ...  2.317100  2.591976  1.925226\n",
              "7936       0.0        0.0 -0.256647  ...  2.383798  2.046397  0.863129\n",
              "7937       1.0        0.5 -0.084593  ... -0.249245  1.693361 -0.018425\n",
              "\n",
              "[7938 rows x 21 columns]"
            ]
          },
          "metadata": {
            "tags": []
          },
          "execution_count": 181
        }
      ]
    },
    {
      "cell_type": "code",
      "metadata": {
        "colab": {
          "base_uri": "https://localhost:8080/"
        },
        "id": "y93ycquUpMBE",
        "outputId": "2b84359c-8b8e-4028-bafa-ace5ed4e1128"
      },
      "source": [
        "temp_list"
      ],
      "execution_count": null,
      "outputs": [
        {
          "output_type": "execute_result",
          "data": {
            "text/plain": [
              "['고객성별구분코드',\n",
              " '동일나이군구분코드',\n",
              " '총매수금액',\n",
              " '총매수수량',\n",
              " '업종개수',\n",
              " '매도매수일치_기관',\n",
              " 'large_cap',\n",
              " 'medium_cap',\n",
              " 'small_cap',\n",
              " 'large_cap_period',\n",
              " 'PER',\n",
              " 'PBR',\n",
              " 'ROE',\n",
              " 'EPS',\n",
              " 'DIV',\n",
              " 'ATR_7']"
            ]
          },
          "metadata": {
            "tags": []
          },
          "execution_count": 171
        }
      ]
    },
    {
      "cell_type": "code",
      "metadata": {
        "id": "chC8m5XAYuVB",
        "colab": {
          "base_uri": "https://localhost:8080/",
          "height": 714
        },
        "outputId": "1f0a3de5-e622-4c78-ef33-661c6fa8aa01"
      },
      "source": [
        "temp_list = list(scl_train)\n",
        "\n",
        "# rm_list = ['동일나이군구분코드', '수익률', '매도매수일치_기관', 'large_cap_period', 'PER', 'ROE', 'EPS']\n",
        "\n",
        "# for i in rm_list:\n",
        "#     temp_list.remove(i)\n",
        "\n",
        "# rm_list = ['수익률', '상하한가여부', '매도매수일치_외국인', 'medium_cap_period', 'small_cap_period']\n",
        "\n",
        "# for i in rm_list:\n",
        "#     temp_list.remove(i)\n",
        "\n",
        "anova_data = pd.DataFrame(columns = list(scl_train), data = scl_train)\n",
        "anova_data = anova_data[temp_list].copy()\n",
        "lm = sm.OLS(train_y.values, anova_data[list(anova_data)])\n",
        "results = lm.fit()\n",
        "results_summary = results.summary()\n",
        "results_as_html = results_summary.tables[1].as_html()\n",
        "result_summary = pd.DataFrame(pd.read_html(results_as_html, header=0, index_col=0)[0])\n",
        "print(result_summary[result_summary['P>|t|'] < 0.005].index.tolist())\n",
        "results_summary\n",
        "# # print(anova_data.shape)\n",
        "# # scl_train = anova_data.copy()\n",
        "# # print(scl_train.shape)"
      ],
      "execution_count": null,
      "outputs": [
        {
          "output_type": "stream",
          "text": [
            "['고객성별구분코드', '동일나이군구분코드', '총매수금액', '총매수수량', '업종개수', 'large_cap', 'medium_cap', 'small_cap', 'PER', 'PBR', 'ROE', 'EPS', 'ATR_7']\n"
          ],
          "name": "stdout"
        },
        {
          "output_type": "execute_result",
          "data": {
            "text/html": [
              "<table class=\"simpletable\">\n",
              "<caption>OLS Regression Results</caption>\n",
              "<tr>\n",
              "  <th>Dep. Variable:</th>            <td>y</td>        <th>  R-squared:         </th> <td>   0.512</td> \n",
              "</tr>\n",
              "<tr>\n",
              "  <th>Model:</th>                   <td>OLS</td>       <th>  Adj. R-squared:    </th> <td>   0.511</td> \n",
              "</tr>\n",
              "<tr>\n",
              "  <th>Method:</th>             <td>Least Squares</td>  <th>  F-statistic:       </th> <td>   554.2</td> \n",
              "</tr>\n",
              "<tr>\n",
              "  <th>Date:</th>             <td>Fri, 23 Jul 2021</td> <th>  Prob (F-statistic):</th>  <td>  0.00</td>  \n",
              "</tr>\n",
              "<tr>\n",
              "  <th>Time:</th>                 <td>14:04:01</td>     <th>  Log-Likelihood:    </th> <td> -10897.</td> \n",
              "</tr>\n",
              "<tr>\n",
              "  <th>No. Observations:</th>      <td>  7938</td>      <th>  AIC:               </th> <td>2.183e+04</td>\n",
              "</tr>\n",
              "<tr>\n",
              "  <th>Df Residuals:</th>          <td>  7922</td>      <th>  BIC:               </th> <td>2.194e+04</td>\n",
              "</tr>\n",
              "<tr>\n",
              "  <th>Df Model:</th>              <td>    15</td>      <th>                     </th>     <td> </td>    \n",
              "</tr>\n",
              "<tr>\n",
              "  <th>Covariance Type:</th>      <td>nonrobust</td>    <th>                     </th>     <td> </td>    \n",
              "</tr>\n",
              "</table>\n",
              "<table class=\"simpletable\">\n",
              "<tr>\n",
              "          <td></td>            <th>coef</th>     <th>std err</th>      <th>t</th>      <th>P>|t|</th>  <th>[0.025</th>    <th>0.975]</th>  \n",
              "</tr>\n",
              "<tr>\n",
              "  <th>고객성별구분코드</th>         <td>   -0.0899</td> <td>    0.023</td> <td>   -3.994</td> <td> 0.000</td> <td>   -0.134</td> <td>   -0.046</td>\n",
              "</tr>\n",
              "<tr>\n",
              "  <th>동일나이군구분코드</th>        <td>    0.0871</td> <td>    0.023</td> <td>    3.730</td> <td> 0.000</td> <td>    0.041</td> <td>    0.133</td>\n",
              "</tr>\n",
              "<tr>\n",
              "  <th>총매수금액</th>            <td>    0.0578</td> <td>    0.004</td> <td>   13.308</td> <td> 0.000</td> <td>    0.049</td> <td>    0.066</td>\n",
              "</tr>\n",
              "<tr>\n",
              "  <th>총매수수량</th>            <td>    0.0319</td> <td>    0.003</td> <td>   11.494</td> <td> 0.000</td> <td>    0.026</td> <td>    0.037</td>\n",
              "</tr>\n",
              "<tr>\n",
              "  <th>업종개수</th>             <td>    0.0340</td> <td>    0.011</td> <td>    2.972</td> <td> 0.003</td> <td>    0.012</td> <td>    0.056</td>\n",
              "</tr>\n",
              "<tr>\n",
              "  <th>매도매수일치_기관</th>        <td>    0.0336</td> <td>    0.013</td> <td>    2.625</td> <td> 0.009</td> <td>    0.009</td> <td>    0.059</td>\n",
              "</tr>\n",
              "<tr>\n",
              "  <th>large_cap</th>        <td>    0.6740</td> <td>    0.086</td> <td>    7.811</td> <td> 0.000</td> <td>    0.505</td> <td>    0.843</td>\n",
              "</tr>\n",
              "<tr>\n",
              "  <th>medium_cap</th>       <td>    0.3417</td> <td>    0.042</td> <td>    8.094</td> <td> 0.000</td> <td>    0.259</td> <td>    0.425</td>\n",
              "</tr>\n",
              "<tr>\n",
              "  <th>small_cap</th>        <td>    0.5270</td> <td>    0.042</td> <td>   12.662</td> <td> 0.000</td> <td>    0.445</td> <td>    0.609</td>\n",
              "</tr>\n",
              "<tr>\n",
              "  <th>large_cap_period</th> <td>    0.0484</td> <td>    0.018</td> <td>    2.640</td> <td> 0.008</td> <td>    0.012</td> <td>    0.084</td>\n",
              "</tr>\n",
              "<tr>\n",
              "  <th>PER</th>              <td>    0.2956</td> <td>    0.009</td> <td>   33.496</td> <td> 0.000</td> <td>    0.278</td> <td>    0.313</td>\n",
              "</tr>\n",
              "<tr>\n",
              "  <th>PBR</th>              <td>    0.0551</td> <td>    0.010</td> <td>    5.268</td> <td> 0.000</td> <td>    0.035</td> <td>    0.076</td>\n",
              "</tr>\n",
              "<tr>\n",
              "  <th>ROE</th>              <td>    0.0858</td> <td>    0.007</td> <td>   12.638</td> <td> 0.000</td> <td>    0.072</td> <td>    0.099</td>\n",
              "</tr>\n",
              "<tr>\n",
              "  <th>EPS</th>              <td>   -0.0645</td> <td>    0.014</td> <td>   -4.704</td> <td> 0.000</td> <td>   -0.091</td> <td>   -0.038</td>\n",
              "</tr>\n",
              "<tr>\n",
              "  <th>DIV</th>              <td>   -0.0379</td> <td>    0.018</td> <td>   -2.084</td> <td> 0.037</td> <td>   -0.074</td> <td>   -0.002</td>\n",
              "</tr>\n",
              "<tr>\n",
              "  <th>ATR_7</th>            <td>    0.2795</td> <td>    0.012</td> <td>   24.057</td> <td> 0.000</td> <td>    0.257</td> <td>    0.302</td>\n",
              "</tr>\n",
              "</table>\n",
              "<table class=\"simpletable\">\n",
              "<tr>\n",
              "  <th>Omnibus:</th>       <td>1135.871</td> <th>  Durbin-Watson:     </th> <td>   1.968</td>\n",
              "</tr>\n",
              "<tr>\n",
              "  <th>Prob(Omnibus):</th>  <td> 0.000</td>  <th>  Jarque-Bera (JB):  </th> <td>4084.143</td>\n",
              "</tr>\n",
              "<tr>\n",
              "  <th>Skew:</th>           <td> 0.699</td>  <th>  Prob(JB):          </th> <td>    0.00</td>\n",
              "</tr>\n",
              "<tr>\n",
              "  <th>Kurtosis:</th>       <td> 6.224</td>  <th>  Cond. No.          </th> <td>    64.3</td>\n",
              "</tr>\n",
              "</table><br/><br/>Warnings:<br/>[1] Standard Errors assume that the covariance matrix of the errors is correctly specified."
            ],
            "text/plain": [
              "<class 'statsmodels.iolib.summary.Summary'>\n",
              "\"\"\"\n",
              "                            OLS Regression Results                            \n",
              "==============================================================================\n",
              "Dep. Variable:                      y   R-squared:                       0.512\n",
              "Model:                            OLS   Adj. R-squared:                  0.511\n",
              "Method:                 Least Squares   F-statistic:                     554.2\n",
              "Date:                Fri, 23 Jul 2021   Prob (F-statistic):               0.00\n",
              "Time:                        14:04:01   Log-Likelihood:                -10897.\n",
              "No. Observations:                7938   AIC:                         2.183e+04\n",
              "Df Residuals:                    7922   BIC:                         2.194e+04\n",
              "Df Model:                          15                                         \n",
              "Covariance Type:            nonrobust                                         \n",
              "====================================================================================\n",
              "                       coef    std err          t      P>|t|      [0.025      0.975]\n",
              "------------------------------------------------------------------------------------\n",
              "고객성별구분코드            -0.0899      0.023     -3.994      0.000      -0.134      -0.046\n",
              "동일나이군구분코드            0.0871      0.023      3.730      0.000       0.041       0.133\n",
              "총매수금액                0.0578      0.004     13.308      0.000       0.049       0.066\n",
              "총매수수량                0.0319      0.003     11.494      0.000       0.026       0.037\n",
              "업종개수                 0.0340      0.011      2.972      0.003       0.012       0.056\n",
              "매도매수일치_기관            0.0336      0.013      2.625      0.009       0.009       0.059\n",
              "large_cap            0.6740      0.086      7.811      0.000       0.505       0.843\n",
              "medium_cap           0.3417      0.042      8.094      0.000       0.259       0.425\n",
              "small_cap            0.5270      0.042     12.662      0.000       0.445       0.609\n",
              "large_cap_period     0.0484      0.018      2.640      0.008       0.012       0.084\n",
              "PER                  0.2956      0.009     33.496      0.000       0.278       0.313\n",
              "PBR                  0.0551      0.010      5.268      0.000       0.035       0.076\n",
              "ROE                  0.0858      0.007     12.638      0.000       0.072       0.099\n",
              "EPS                 -0.0645      0.014     -4.704      0.000      -0.091      -0.038\n",
              "DIV                 -0.0379      0.018     -2.084      0.037      -0.074      -0.002\n",
              "ATR_7                0.2795      0.012     24.057      0.000       0.257       0.302\n",
              "==============================================================================\n",
              "Omnibus:                     1135.871   Durbin-Watson:                   1.968\n",
              "Prob(Omnibus):                  0.000   Jarque-Bera (JB):             4084.143\n",
              "Skew:                           0.699   Prob(JB):                         0.00\n",
              "Kurtosis:                       6.224   Cond. No.                         64.3\n",
              "==============================================================================\n",
              "\n",
              "Warnings:\n",
              "[1] Standard Errors assume that the covariance matrix of the errors is correctly specified.\n",
              "\"\"\""
            ]
          },
          "metadata": {
            "tags": []
          },
          "execution_count": 166
        }
      ]
    },
    {
      "cell_type": "code",
      "metadata": {
        "id": "eRcY7Ytrs9Ux"
      },
      "source": [
        "cluster_temp = num_temp.loc[:, ['고객성별구분코드',\n",
        " '동일나이군구분코드',\n",
        " '총매수금액',\n",
        " '총매수수량',\n",
        " '업종개수',\n",
        " '매도매수일치_기관',\n",
        " 'large_cap',\n",
        " 'medium_cap',\n",
        " 'small_cap',\n",
        " 'large_cap_period',\n",
        " 'PER',\n",
        " 'PBR',\n",
        " 'ROE',\n",
        " 'EPS',\n",
        " 'DIV',\n",
        " 'ATR_7']] # 살릴 피쳐들"
      ],
      "execution_count": null,
      "outputs": []
    },
    {
      "cell_type": "markdown",
      "metadata": {
        "id": "xfIyKrrU7YE0"
      },
      "source": [
        "#두번째 검정"
      ]
    },
    {
      "cell_type": "code",
      "metadata": {
        "id": "9ZW45LAotPV9"
      },
      "source": [
        "k = 5\n",
        "kmeans = KMeans(n_clusters= k, random_state=0).fit(cluster_temp)\n",
        "\n",
        "train_cluster = pd.DataFrame(columns = list(cluster_temp), data = cluster_temp)\n",
        "train_cluster['cluster'] = kmeans.predict(cluster_temp)"
      ],
      "execution_count": null,
      "outputs": []
    },
    {
      "cell_type": "code",
      "metadata": {
        "id": "XQ2Czog1YuVD",
        "colab": {
          "base_uri": "https://localhost:8080/"
        },
        "outputId": "9af5ebc3-0cfd-4933-e910-e9b040f27bc5"
      },
      "source": [
        "train_cluster.cluster.value_counts()"
      ],
      "execution_count": null,
      "outputs": [
        {
          "output_type": "execute_result",
          "data": {
            "text/plain": [
              "3    6419\n",
              "0     764\n",
              "4     601\n",
              "2     130\n",
              "1      24\n",
              "Name: cluster, dtype: int64"
            ]
          },
          "metadata": {
            "tags": []
          },
          "execution_count": 196
        }
      ]
    },
    {
      "cell_type": "code",
      "metadata": {
        "colab": {
          "base_uri": "https://localhost:8080/",
          "height": 481
        },
        "id": "QAeCcg7m13lb",
        "outputId": "ad4900de-8eda-43be-f99b-fb31112ac0b7"
      },
      "source": [
        "train_cluster"
      ],
      "execution_count": null,
      "outputs": [
        {
          "output_type": "execute_result",
          "data": {
            "text/html": [
              "<div>\n",
              "<style scoped>\n",
              "    .dataframe tbody tr th:only-of-type {\n",
              "        vertical-align: middle;\n",
              "    }\n",
              "\n",
              "    .dataframe tbody tr th {\n",
              "        vertical-align: top;\n",
              "    }\n",
              "\n",
              "    .dataframe thead th {\n",
              "        text-align: right;\n",
              "    }\n",
              "</style>\n",
              "<table border=\"1\" class=\"dataframe\">\n",
              "  <thead>\n",
              "    <tr style=\"text-align: right;\">\n",
              "      <th></th>\n",
              "      <th>고객성별구분코드</th>\n",
              "      <th>동일나이군구분코드</th>\n",
              "      <th>총매수금액</th>\n",
              "      <th>총매수수량</th>\n",
              "      <th>업종개수</th>\n",
              "      <th>매도매수일치_기관</th>\n",
              "      <th>large_cap</th>\n",
              "      <th>medium_cap</th>\n",
              "      <th>small_cap</th>\n",
              "      <th>large_cap_period</th>\n",
              "      <th>PER</th>\n",
              "      <th>PBR</th>\n",
              "      <th>ROE</th>\n",
              "      <th>EPS</th>\n",
              "      <th>DIV</th>\n",
              "      <th>ATR_7</th>\n",
              "      <th>cluster</th>\n",
              "    </tr>\n",
              "  </thead>\n",
              "  <tbody>\n",
              "    <tr>\n",
              "      <th>0</th>\n",
              "      <td>1.0</td>\n",
              "      <td>0.0</td>\n",
              "      <td>-0.188454</td>\n",
              "      <td>-0.220015</td>\n",
              "      <td>-0.8</td>\n",
              "      <td>-1.166667</td>\n",
              "      <td>0.798295</td>\n",
              "      <td>-0.550775</td>\n",
              "      <td>-0.356546</td>\n",
              "      <td>-0.391667</td>\n",
              "      <td>-0.137600</td>\n",
              "      <td>-0.399572</td>\n",
              "      <td>1.284474</td>\n",
              "      <td>4.487079</td>\n",
              "      <td>1.061720</td>\n",
              "      <td>2.107561</td>\n",
              "      <td>3</td>\n",
              "    </tr>\n",
              "    <tr>\n",
              "      <th>1</th>\n",
              "      <td>1.0</td>\n",
              "      <td>0.0</td>\n",
              "      <td>1.012451</td>\n",
              "      <td>0.214668</td>\n",
              "      <td>-0.6</td>\n",
              "      <td>-0.266667</td>\n",
              "      <td>0.520765</td>\n",
              "      <td>-0.066435</td>\n",
              "      <td>-0.356546</td>\n",
              "      <td>-0.386667</td>\n",
              "      <td>4.516943</td>\n",
              "      <td>3.510591</td>\n",
              "      <td>0.905693</td>\n",
              "      <td>0.058723</td>\n",
              "      <td>-0.373672</td>\n",
              "      <td>2.319570</td>\n",
              "      <td>0</td>\n",
              "    </tr>\n",
              "    <tr>\n",
              "      <th>2</th>\n",
              "      <td>1.0</td>\n",
              "      <td>1.0</td>\n",
              "      <td>-0.298310</td>\n",
              "      <td>-0.216960</td>\n",
              "      <td>-1.0</td>\n",
              "      <td>-1.466667</td>\n",
              "      <td>-0.629170</td>\n",
              "      <td>1.940399</td>\n",
              "      <td>-0.356546</td>\n",
              "      <td>-0.666667</td>\n",
              "      <td>-0.397684</td>\n",
              "      <td>-0.403039</td>\n",
              "      <td>-0.469574</td>\n",
              "      <td>1.924817</td>\n",
              "      <td>2.443808</td>\n",
              "      <td>-0.440116</td>\n",
              "      <td>3</td>\n",
              "    </tr>\n",
              "    <tr>\n",
              "      <th>3</th>\n",
              "      <td>0.0</td>\n",
              "      <td>0.0</td>\n",
              "      <td>1.202118</td>\n",
              "      <td>3.247517</td>\n",
              "      <td>1.8</td>\n",
              "      <td>0.119048</td>\n",
              "      <td>-0.629170</td>\n",
              "      <td>0.539688</td>\n",
              "      <td>0.959189</td>\n",
              "      <td>-0.666667</td>\n",
              "      <td>0.397516</td>\n",
              "      <td>-0.348721</td>\n",
              "      <td>1.578465</td>\n",
              "      <td>-0.148041</td>\n",
              "      <td>0.039718</td>\n",
              "      <td>-0.462189</td>\n",
              "      <td>3</td>\n",
              "    </tr>\n",
              "    <tr>\n",
              "      <th>4</th>\n",
              "      <td>0.0</td>\n",
              "      <td>-0.5</td>\n",
              "      <td>-0.229829</td>\n",
              "      <td>1.138273</td>\n",
              "      <td>0.0</td>\n",
              "      <td>0.606061</td>\n",
              "      <td>-0.165281</td>\n",
              "      <td>-0.550775</td>\n",
              "      <td>1.223045</td>\n",
              "      <td>-0.666667</td>\n",
              "      <td>-0.335217</td>\n",
              "      <td>-0.451078</td>\n",
              "      <td>-0.404407</td>\n",
              "      <td>0.000165</td>\n",
              "      <td>-0.258966</td>\n",
              "      <td>-0.585511</td>\n",
              "      <td>3</td>\n",
              "    </tr>\n",
              "    <tr>\n",
              "      <th>...</th>\n",
              "      <td>...</td>\n",
              "      <td>...</td>\n",
              "      <td>...</td>\n",
              "      <td>...</td>\n",
              "      <td>...</td>\n",
              "      <td>...</td>\n",
              "      <td>...</td>\n",
              "      <td>...</td>\n",
              "      <td>...</td>\n",
              "      <td>...</td>\n",
              "      <td>...</td>\n",
              "      <td>...</td>\n",
              "      <td>...</td>\n",
              "      <td>...</td>\n",
              "      <td>...</td>\n",
              "      <td>...</td>\n",
              "      <td>...</td>\n",
              "    </tr>\n",
              "    <tr>\n",
              "      <th>7933</th>\n",
              "      <td>0.0</td>\n",
              "      <td>0.0</td>\n",
              "      <td>0.207308</td>\n",
              "      <td>3.671505</td>\n",
              "      <td>-0.2</td>\n",
              "      <td>0.060606</td>\n",
              "      <td>0.261436</td>\n",
              "      <td>-0.152156</td>\n",
              "      <td>0.149091</td>\n",
              "      <td>0.283333</td>\n",
              "      <td>-0.028248</td>\n",
              "      <td>-0.551939</td>\n",
              "      <td>1.174691</td>\n",
              "      <td>0.358817</td>\n",
              "      <td>0.523108</td>\n",
              "      <td>0.316181</td>\n",
              "      <td>3</td>\n",
              "    </tr>\n",
              "    <tr>\n",
              "      <th>7934</th>\n",
              "      <td>0.0</td>\n",
              "      <td>-0.5</td>\n",
              "      <td>6.608258</td>\n",
              "      <td>3.763178</td>\n",
              "      <td>0.0</td>\n",
              "      <td>0.333333</td>\n",
              "      <td>-0.418166</td>\n",
              "      <td>-0.199783</td>\n",
              "      <td>1.307901</td>\n",
              "      <td>0.233333</td>\n",
              "      <td>-0.056973</td>\n",
              "      <td>0.632808</td>\n",
              "      <td>-0.211370</td>\n",
              "      <td>-0.200899</td>\n",
              "      <td>-0.304566</td>\n",
              "      <td>0.325801</td>\n",
              "      <td>4</td>\n",
              "    </tr>\n",
              "    <tr>\n",
              "      <th>7935</th>\n",
              "      <td>0.0</td>\n",
              "      <td>-0.5</td>\n",
              "      <td>-0.273831</td>\n",
              "      <td>-0.227655</td>\n",
              "      <td>-0.8</td>\n",
              "      <td>-1.666667</td>\n",
              "      <td>0.690608</td>\n",
              "      <td>-0.362841</td>\n",
              "      <td>-0.356546</td>\n",
              "      <td>0.197470</td>\n",
              "      <td>0.131442</td>\n",
              "      <td>-0.413144</td>\n",
              "      <td>1.513316</td>\n",
              "      <td>2.317100</td>\n",
              "      <td>2.591976</td>\n",
              "      <td>1.925226</td>\n",
              "      <td>3</td>\n",
              "    </tr>\n",
              "    <tr>\n",
              "      <th>7936</th>\n",
              "      <td>0.0</td>\n",
              "      <td>0.0</td>\n",
              "      <td>-0.256647</td>\n",
              "      <td>-0.223835</td>\n",
              "      <td>-0.6</td>\n",
              "      <td>-0.666667</td>\n",
              "      <td>0.611933</td>\n",
              "      <td>-0.225541</td>\n",
              "      <td>-0.356546</td>\n",
              "      <td>-0.216667</td>\n",
              "      <td>-0.232764</td>\n",
              "      <td>-0.340779</td>\n",
              "      <td>0.234008</td>\n",
              "      <td>2.383798</td>\n",
              "      <td>2.046397</td>\n",
              "      <td>0.863129</td>\n",
              "      <td>3</td>\n",
              "    </tr>\n",
              "    <tr>\n",
              "      <th>7937</th>\n",
              "      <td>1.0</td>\n",
              "      <td>0.5</td>\n",
              "      <td>-0.084593</td>\n",
              "      <td>-0.153552</td>\n",
              "      <td>-0.8</td>\n",
              "      <td>0.583333</td>\n",
              "      <td>0.674889</td>\n",
              "      <td>-0.335410</td>\n",
              "      <td>-0.356546</td>\n",
              "      <td>0.883333</td>\n",
              "      <td>-0.450068</td>\n",
              "      <td>-0.756470</td>\n",
              "      <td>-0.732989</td>\n",
              "      <td>-0.249245</td>\n",
              "      <td>1.693361</td>\n",
              "      <td>-0.018425</td>\n",
              "      <td>3</td>\n",
              "    </tr>\n",
              "  </tbody>\n",
              "</table>\n",
              "<p>7938 rows × 17 columns</p>\n",
              "</div>"
            ],
            "text/plain": [
              "      고객성별구분코드  동일나이군구분코드     총매수금액  ...       DIV     ATR_7  cluster\n",
              "0          1.0        0.0 -0.188454  ...  1.061720  2.107561        3\n",
              "1          1.0        0.0  1.012451  ... -0.373672  2.319570        0\n",
              "2          1.0        1.0 -0.298310  ...  2.443808 -0.440116        3\n",
              "3          0.0        0.0  1.202118  ...  0.039718 -0.462189        3\n",
              "4          0.0       -0.5 -0.229829  ... -0.258966 -0.585511        3\n",
              "...        ...        ...       ...  ...       ...       ...      ...\n",
              "7933       0.0        0.0  0.207308  ...  0.523108  0.316181        3\n",
              "7934       0.0       -0.5  6.608258  ... -0.304566  0.325801        4\n",
              "7935       0.0       -0.5 -0.273831  ...  2.591976  1.925226        3\n",
              "7936       0.0        0.0 -0.256647  ...  2.046397  0.863129        3\n",
              "7937       1.0        0.5 -0.084593  ...  1.693361 -0.018425        3\n",
              "\n",
              "[7938 rows x 17 columns]"
            ]
          },
          "metadata": {
            "tags": []
          },
          "execution_count": 197
        }
      ]
    },
    {
      "cell_type": "code",
      "metadata": {
        "id": "d8RBVC14q8_y"
      },
      "source": [
        "train_y = train_cluster.cluster\n",
        "scl_train = train_cluster.drop('cluster', axis = 1)"
      ],
      "execution_count": null,
      "outputs": []
    },
    {
      "cell_type": "code",
      "metadata": {
        "colab": {
          "base_uri": "https://localhost:8080/",
          "height": 447
        },
        "id": "hmIRN_N9th-t",
        "outputId": "729fd3c4-3426-4e99-8f2e-26dafeb79ea3"
      },
      "source": [
        "scl_train"
      ],
      "execution_count": null,
      "outputs": [
        {
          "output_type": "execute_result",
          "data": {
            "text/html": [
              "<div>\n",
              "<style scoped>\n",
              "    .dataframe tbody tr th:only-of-type {\n",
              "        vertical-align: middle;\n",
              "    }\n",
              "\n",
              "    .dataframe tbody tr th {\n",
              "        vertical-align: top;\n",
              "    }\n",
              "\n",
              "    .dataframe thead th {\n",
              "        text-align: right;\n",
              "    }\n",
              "</style>\n",
              "<table border=\"1\" class=\"dataframe\">\n",
              "  <thead>\n",
              "    <tr style=\"text-align: right;\">\n",
              "      <th></th>\n",
              "      <th>고객성별구분코드</th>\n",
              "      <th>동일나이군구분코드</th>\n",
              "      <th>총매수금액</th>\n",
              "      <th>총매수수량</th>\n",
              "      <th>업종개수</th>\n",
              "      <th>매도매수일치_기관</th>\n",
              "      <th>large_cap</th>\n",
              "      <th>medium_cap</th>\n",
              "      <th>small_cap</th>\n",
              "      <th>large_cap_period</th>\n",
              "      <th>PER</th>\n",
              "      <th>PBR</th>\n",
              "      <th>ROE</th>\n",
              "      <th>EPS</th>\n",
              "      <th>DIV</th>\n",
              "      <th>ATR_7</th>\n",
              "    </tr>\n",
              "  </thead>\n",
              "  <tbody>\n",
              "    <tr>\n",
              "      <th>0</th>\n",
              "      <td>1.0</td>\n",
              "      <td>0.0</td>\n",
              "      <td>-0.188454</td>\n",
              "      <td>-0.220015</td>\n",
              "      <td>-0.8</td>\n",
              "      <td>-1.166667</td>\n",
              "      <td>0.798295</td>\n",
              "      <td>-0.550775</td>\n",
              "      <td>-0.356546</td>\n",
              "      <td>-0.391667</td>\n",
              "      <td>-0.137600</td>\n",
              "      <td>-0.399572</td>\n",
              "      <td>1.284474</td>\n",
              "      <td>4.487079</td>\n",
              "      <td>1.061720</td>\n",
              "      <td>2.107561</td>\n",
              "    </tr>\n",
              "    <tr>\n",
              "      <th>1</th>\n",
              "      <td>1.0</td>\n",
              "      <td>0.0</td>\n",
              "      <td>1.012451</td>\n",
              "      <td>0.214668</td>\n",
              "      <td>-0.6</td>\n",
              "      <td>-0.266667</td>\n",
              "      <td>0.520765</td>\n",
              "      <td>-0.066435</td>\n",
              "      <td>-0.356546</td>\n",
              "      <td>-0.386667</td>\n",
              "      <td>4.516943</td>\n",
              "      <td>3.510591</td>\n",
              "      <td>0.905693</td>\n",
              "      <td>0.058723</td>\n",
              "      <td>-0.373672</td>\n",
              "      <td>2.319570</td>\n",
              "    </tr>\n",
              "    <tr>\n",
              "      <th>2</th>\n",
              "      <td>1.0</td>\n",
              "      <td>1.0</td>\n",
              "      <td>-0.298310</td>\n",
              "      <td>-0.216960</td>\n",
              "      <td>-1.0</td>\n",
              "      <td>-1.466667</td>\n",
              "      <td>-0.629170</td>\n",
              "      <td>1.940399</td>\n",
              "      <td>-0.356546</td>\n",
              "      <td>-0.666667</td>\n",
              "      <td>-0.397684</td>\n",
              "      <td>-0.403039</td>\n",
              "      <td>-0.469574</td>\n",
              "      <td>1.924817</td>\n",
              "      <td>2.443808</td>\n",
              "      <td>-0.440116</td>\n",
              "    </tr>\n",
              "    <tr>\n",
              "      <th>3</th>\n",
              "      <td>0.0</td>\n",
              "      <td>0.0</td>\n",
              "      <td>1.202118</td>\n",
              "      <td>3.247517</td>\n",
              "      <td>1.8</td>\n",
              "      <td>0.119048</td>\n",
              "      <td>-0.629170</td>\n",
              "      <td>0.539688</td>\n",
              "      <td>0.959189</td>\n",
              "      <td>-0.666667</td>\n",
              "      <td>0.397516</td>\n",
              "      <td>-0.348721</td>\n",
              "      <td>1.578465</td>\n",
              "      <td>-0.148041</td>\n",
              "      <td>0.039718</td>\n",
              "      <td>-0.462189</td>\n",
              "    </tr>\n",
              "    <tr>\n",
              "      <th>4</th>\n",
              "      <td>0.0</td>\n",
              "      <td>-0.5</td>\n",
              "      <td>-0.229829</td>\n",
              "      <td>1.138273</td>\n",
              "      <td>0.0</td>\n",
              "      <td>0.606061</td>\n",
              "      <td>-0.165281</td>\n",
              "      <td>-0.550775</td>\n",
              "      <td>1.223045</td>\n",
              "      <td>-0.666667</td>\n",
              "      <td>-0.335217</td>\n",
              "      <td>-0.451078</td>\n",
              "      <td>-0.404407</td>\n",
              "      <td>0.000165</td>\n",
              "      <td>-0.258966</td>\n",
              "      <td>-0.585511</td>\n",
              "    </tr>\n",
              "    <tr>\n",
              "      <th>...</th>\n",
              "      <td>...</td>\n",
              "      <td>...</td>\n",
              "      <td>...</td>\n",
              "      <td>...</td>\n",
              "      <td>...</td>\n",
              "      <td>...</td>\n",
              "      <td>...</td>\n",
              "      <td>...</td>\n",
              "      <td>...</td>\n",
              "      <td>...</td>\n",
              "      <td>...</td>\n",
              "      <td>...</td>\n",
              "      <td>...</td>\n",
              "      <td>...</td>\n",
              "      <td>...</td>\n",
              "      <td>...</td>\n",
              "    </tr>\n",
              "    <tr>\n",
              "      <th>7933</th>\n",
              "      <td>0.0</td>\n",
              "      <td>0.0</td>\n",
              "      <td>0.207308</td>\n",
              "      <td>3.671505</td>\n",
              "      <td>-0.2</td>\n",
              "      <td>0.060606</td>\n",
              "      <td>0.261436</td>\n",
              "      <td>-0.152156</td>\n",
              "      <td>0.149091</td>\n",
              "      <td>0.283333</td>\n",
              "      <td>-0.028248</td>\n",
              "      <td>-0.551939</td>\n",
              "      <td>1.174691</td>\n",
              "      <td>0.358817</td>\n",
              "      <td>0.523108</td>\n",
              "      <td>0.316181</td>\n",
              "    </tr>\n",
              "    <tr>\n",
              "      <th>7934</th>\n",
              "      <td>0.0</td>\n",
              "      <td>-0.5</td>\n",
              "      <td>6.608258</td>\n",
              "      <td>3.763178</td>\n",
              "      <td>0.0</td>\n",
              "      <td>0.333333</td>\n",
              "      <td>-0.418166</td>\n",
              "      <td>-0.199783</td>\n",
              "      <td>1.307901</td>\n",
              "      <td>0.233333</td>\n",
              "      <td>-0.056973</td>\n",
              "      <td>0.632808</td>\n",
              "      <td>-0.211370</td>\n",
              "      <td>-0.200899</td>\n",
              "      <td>-0.304566</td>\n",
              "      <td>0.325801</td>\n",
              "    </tr>\n",
              "    <tr>\n",
              "      <th>7935</th>\n",
              "      <td>0.0</td>\n",
              "      <td>-0.5</td>\n",
              "      <td>-0.273831</td>\n",
              "      <td>-0.227655</td>\n",
              "      <td>-0.8</td>\n",
              "      <td>-1.666667</td>\n",
              "      <td>0.690608</td>\n",
              "      <td>-0.362841</td>\n",
              "      <td>-0.356546</td>\n",
              "      <td>0.197470</td>\n",
              "      <td>0.131442</td>\n",
              "      <td>-0.413144</td>\n",
              "      <td>1.513316</td>\n",
              "      <td>2.317100</td>\n",
              "      <td>2.591976</td>\n",
              "      <td>1.925226</td>\n",
              "    </tr>\n",
              "    <tr>\n",
              "      <th>7936</th>\n",
              "      <td>0.0</td>\n",
              "      <td>0.0</td>\n",
              "      <td>-0.256647</td>\n",
              "      <td>-0.223835</td>\n",
              "      <td>-0.6</td>\n",
              "      <td>-0.666667</td>\n",
              "      <td>0.611933</td>\n",
              "      <td>-0.225541</td>\n",
              "      <td>-0.356546</td>\n",
              "      <td>-0.216667</td>\n",
              "      <td>-0.232764</td>\n",
              "      <td>-0.340779</td>\n",
              "      <td>0.234008</td>\n",
              "      <td>2.383798</td>\n",
              "      <td>2.046397</td>\n",
              "      <td>0.863129</td>\n",
              "    </tr>\n",
              "    <tr>\n",
              "      <th>7937</th>\n",
              "      <td>1.0</td>\n",
              "      <td>0.5</td>\n",
              "      <td>-0.084593</td>\n",
              "      <td>-0.153552</td>\n",
              "      <td>-0.8</td>\n",
              "      <td>0.583333</td>\n",
              "      <td>0.674889</td>\n",
              "      <td>-0.335410</td>\n",
              "      <td>-0.356546</td>\n",
              "      <td>0.883333</td>\n",
              "      <td>-0.450068</td>\n",
              "      <td>-0.756470</td>\n",
              "      <td>-0.732989</td>\n",
              "      <td>-0.249245</td>\n",
              "      <td>1.693361</td>\n",
              "      <td>-0.018425</td>\n",
              "    </tr>\n",
              "  </tbody>\n",
              "</table>\n",
              "<p>7938 rows × 16 columns</p>\n",
              "</div>"
            ],
            "text/plain": [
              "      고객성별구분코드  동일나이군구분코드     총매수금액  ...       EPS       DIV     ATR_7\n",
              "0          1.0        0.0 -0.188454  ...  4.487079  1.061720  2.107561\n",
              "1          1.0        0.0  1.012451  ...  0.058723 -0.373672  2.319570\n",
              "2          1.0        1.0 -0.298310  ...  1.924817  2.443808 -0.440116\n",
              "3          0.0        0.0  1.202118  ... -0.148041  0.039718 -0.462189\n",
              "4          0.0       -0.5 -0.229829  ...  0.000165 -0.258966 -0.585511\n",
              "...        ...        ...       ...  ...       ...       ...       ...\n",
              "7933       0.0        0.0  0.207308  ...  0.358817  0.523108  0.316181\n",
              "7934       0.0       -0.5  6.608258  ... -0.200899 -0.304566  0.325801\n",
              "7935       0.0       -0.5 -0.273831  ...  2.317100  2.591976  1.925226\n",
              "7936       0.0        0.0 -0.256647  ...  2.383798  2.046397  0.863129\n",
              "7937       1.0        0.5 -0.084593  ... -0.249245  1.693361 -0.018425\n",
              "\n",
              "[7938 rows x 16 columns]"
            ]
          },
          "metadata": {
            "tags": []
          },
          "execution_count": 199
        }
      ]
    },
    {
      "cell_type": "code",
      "metadata": {
        "colab": {
          "base_uri": "https://localhost:8080/",
          "height": 714
        },
        "id": "Eua_75fXtiIt",
        "outputId": "16f34ab2-3dec-41f7-8d70-e4749c4eee41"
      },
      "source": [
        "temp_list = list(scl_train)\n",
        "\n",
        "# rm_list = ['동일나이군구분코드', '수익률', '매도매수일치_기관', 'large_cap_period', 'PER', 'ROE', 'EPS']\n",
        "\n",
        "# for i in rm_list:\n",
        "#     temp_list.remove(i)\n",
        "\n",
        "# rm_list = ['수익률', '상하한가여부', '매도매수일치_외국인', 'medium_cap_period', 'small_cap_period']\n",
        "\n",
        "# for i in rm_list:\n",
        "#     temp_list.remove(i)\n",
        "\n",
        "anova_data = pd.DataFrame(columns = list(scl_train), data = scl_train)\n",
        "anova_data = anova_data[temp_list].copy()\n",
        "lm = sm.OLS(train_y.values, anova_data[list(anova_data)])\n",
        "results = lm.fit()\n",
        "results_summary = results.summary()\n",
        "results_as_html = results_summary.tables[1].as_html()\n",
        "result_summary = pd.DataFrame(pd.read_html(results_as_html, header=0, index_col=0)[0])\n",
        "print(result_summary[result_summary['P>|t|'] < 0.005].index.tolist())\n",
        "results_summary\n",
        "# # print(anova_data.shape)\n",
        "# # scl_train = anova_data.copy()\n",
        "# # print(scl_train.shape)"
      ],
      "execution_count": null,
      "outputs": [
        {
          "output_type": "stream",
          "text": [
            "['동일나이군구분코드', '총매수금액', '총매수수량', '업종개수', 'large_cap', 'medium_cap', 'small_cap', 'large_cap_period', 'PER', 'PBR', 'ROE', 'EPS', 'ATR_7']\n"
          ],
          "name": "stdout"
        },
        {
          "output_type": "execute_result",
          "data": {
            "text/html": [
              "<table class=\"simpletable\">\n",
              "<caption>OLS Regression Results</caption>\n",
              "<tr>\n",
              "  <th>Dep. Variable:</th>            <td>y</td>        <th>  R-squared:         </th> <td>   0.558</td> \n",
              "</tr>\n",
              "<tr>\n",
              "  <th>Model:</th>                   <td>OLS</td>       <th>  Adj. R-squared:    </th> <td>   0.557</td> \n",
              "</tr>\n",
              "<tr>\n",
              "  <th>Method:</th>             <td>Least Squares</td>  <th>  F-statistic:       </th> <td>   665.7</td> \n",
              "</tr>\n",
              "<tr>\n",
              "  <th>Date:</th>             <td>Fri, 23 Jul 2021</td> <th>  Prob (F-statistic):</th>  <td>  0.00</td>  \n",
              "</tr>\n",
              "<tr>\n",
              "  <th>Time:</th>                 <td>14:13:21</td>     <th>  Log-Likelihood:    </th> <td> -7673.6</td> \n",
              "</tr>\n",
              "<tr>\n",
              "  <th>No. Observations:</th>      <td>  7938</td>      <th>  AIC:               </th> <td>1.538e+04</td>\n",
              "</tr>\n",
              "<tr>\n",
              "  <th>Df Residuals:</th>          <td>  7922</td>      <th>  BIC:               </th> <td>1.549e+04</td>\n",
              "</tr>\n",
              "<tr>\n",
              "  <th>Df Model:</th>              <td>    15</td>      <th>                     </th>     <td> </td>    \n",
              "</tr>\n",
              "<tr>\n",
              "  <th>Covariance Type:</th>      <td>nonrobust</td>    <th>                     </th>     <td> </td>    \n",
              "</tr>\n",
              "</table>\n",
              "<table class=\"simpletable\">\n",
              "<tr>\n",
              "          <td></td>            <th>coef</th>     <th>std err</th>      <th>t</th>      <th>P>|t|</th>  <th>[0.025</th>    <th>0.975]</th>  \n",
              "</tr>\n",
              "<tr>\n",
              "  <th>고객성별구분코드</th>         <td>   -0.0330</td> <td>    0.015</td> <td>   -2.199</td> <td> 0.028</td> <td>   -0.062</td> <td>   -0.004</td>\n",
              "</tr>\n",
              "<tr>\n",
              "  <th>동일나이군구분코드</th>        <td>    0.0659</td> <td>    0.016</td> <td>    4.239</td> <td> 0.000</td> <td>    0.035</td> <td>    0.096</td>\n",
              "</tr>\n",
              "<tr>\n",
              "  <th>총매수금액</th>            <td>    0.0358</td> <td>    0.003</td> <td>   12.351</td> <td> 0.000</td> <td>    0.030</td> <td>    0.041</td>\n",
              "</tr>\n",
              "<tr>\n",
              "  <th>총매수수량</th>            <td>   -0.0292</td> <td>    0.002</td> <td>  -15.802</td> <td> 0.000</td> <td>   -0.033</td> <td>   -0.026</td>\n",
              "</tr>\n",
              "<tr>\n",
              "  <th>업종개수</th>             <td>    0.0768</td> <td>    0.008</td> <td>   10.090</td> <td> 0.000</td> <td>    0.062</td> <td>    0.092</td>\n",
              "</tr>\n",
              "<tr>\n",
              "  <th>매도매수일치_기관</th>        <td>   -0.0074</td> <td>    0.009</td> <td>   -0.864</td> <td> 0.387</td> <td>   -0.024</td> <td>    0.009</td>\n",
              "</tr>\n",
              "<tr>\n",
              "  <th>large_cap</th>        <td>   11.3455</td> <td>    0.057</td> <td>  197.332</td> <td> 0.000</td> <td>   11.233</td> <td>   11.458</td>\n",
              "</tr>\n",
              "<tr>\n",
              "  <th>medium_cap</th>       <td>    6.5799</td> <td>    0.028</td> <td>  233.892</td> <td> 0.000</td> <td>    6.525</td> <td>    6.635</td>\n",
              "</tr>\n",
              "<tr>\n",
              "  <th>small_cap</th>        <td>    6.9599</td> <td>    0.028</td> <td>  250.987</td> <td> 0.000</td> <td>    6.906</td> <td>    7.014</td>\n",
              "</tr>\n",
              "<tr>\n",
              "  <th>large_cap_period</th> <td>   -0.0439</td> <td>    0.012</td> <td>   -3.592</td> <td> 0.000</td> <td>   -0.068</td> <td>   -0.020</td>\n",
              "</tr>\n",
              "<tr>\n",
              "  <th>PER</th>              <td>   -0.2261</td> <td>    0.006</td> <td>  -38.451</td> <td> 0.000</td> <td>   -0.238</td> <td>   -0.215</td>\n",
              "</tr>\n",
              "<tr>\n",
              "  <th>PBR</th>              <td>   -0.0431</td> <td>    0.007</td> <td>   -6.182</td> <td> 0.000</td> <td>   -0.057</td> <td>   -0.029</td>\n",
              "</tr>\n",
              "<tr>\n",
              "  <th>ROE</th>              <td>   -0.0691</td> <td>    0.005</td> <td>  -15.270</td> <td> 0.000</td> <td>   -0.078</td> <td>   -0.060</td>\n",
              "</tr>\n",
              "<tr>\n",
              "  <th>EPS</th>              <td>    0.0490</td> <td>    0.009</td> <td>    5.368</td> <td> 0.000</td> <td>    0.031</td> <td>    0.067</td>\n",
              "</tr>\n",
              "<tr>\n",
              "  <th>DIV</th>              <td>    0.0186</td> <td>    0.012</td> <td>    1.537</td> <td> 0.124</td> <td>   -0.005</td> <td>    0.042</td>\n",
              "</tr>\n",
              "<tr>\n",
              "  <th>ATR_7</th>            <td>   -0.2125</td> <td>    0.008</td> <td>  -27.445</td> <td> 0.000</td> <td>   -0.228</td> <td>   -0.197</td>\n",
              "</tr>\n",
              "</table>\n",
              "<table class=\"simpletable\">\n",
              "<tr>\n",
              "  <th>Omnibus:</th>       <td>851.892</td> <th>  Durbin-Watson:     </th> <td>   2.006</td>\n",
              "</tr>\n",
              "<tr>\n",
              "  <th>Prob(Omnibus):</th> <td> 0.000</td>  <th>  Jarque-Bera (JB):  </th> <td>5891.929</td>\n",
              "</tr>\n",
              "<tr>\n",
              "  <th>Skew:</th>          <td>-0.268</td>  <th>  Prob(JB):          </th> <td>    0.00</td>\n",
              "</tr>\n",
              "<tr>\n",
              "  <th>Kurtosis:</th>      <td> 7.187</td>  <th>  Cond. No.          </th> <td>    64.3</td>\n",
              "</tr>\n",
              "</table><br/><br/>Warnings:<br/>[1] Standard Errors assume that the covariance matrix of the errors is correctly specified."
            ],
            "text/plain": [
              "<class 'statsmodels.iolib.summary.Summary'>\n",
              "\"\"\"\n",
              "                            OLS Regression Results                            \n",
              "==============================================================================\n",
              "Dep. Variable:                      y   R-squared:                       0.558\n",
              "Model:                            OLS   Adj. R-squared:                  0.557\n",
              "Method:                 Least Squares   F-statistic:                     665.7\n",
              "Date:                Fri, 23 Jul 2021   Prob (F-statistic):               0.00\n",
              "Time:                        14:13:21   Log-Likelihood:                -7673.6\n",
              "No. Observations:                7938   AIC:                         1.538e+04\n",
              "Df Residuals:                    7922   BIC:                         1.549e+04\n",
              "Df Model:                          15                                         \n",
              "Covariance Type:            nonrobust                                         \n",
              "====================================================================================\n",
              "                       coef    std err          t      P>|t|      [0.025      0.975]\n",
              "------------------------------------------------------------------------------------\n",
              "고객성별구분코드            -0.0330      0.015     -2.199      0.028      -0.062      -0.004\n",
              "동일나이군구분코드            0.0659      0.016      4.239      0.000       0.035       0.096\n",
              "총매수금액                0.0358      0.003     12.351      0.000       0.030       0.041\n",
              "총매수수량               -0.0292      0.002    -15.802      0.000      -0.033      -0.026\n",
              "업종개수                 0.0768      0.008     10.090      0.000       0.062       0.092\n",
              "매도매수일치_기관           -0.0074      0.009     -0.864      0.387      -0.024       0.009\n",
              "large_cap           11.3455      0.057    197.332      0.000      11.233      11.458\n",
              "medium_cap           6.5799      0.028    233.892      0.000       6.525       6.635\n",
              "small_cap            6.9599      0.028    250.987      0.000       6.906       7.014\n",
              "large_cap_period    -0.0439      0.012     -3.592      0.000      -0.068      -0.020\n",
              "PER                 -0.2261      0.006    -38.451      0.000      -0.238      -0.215\n",
              "PBR                 -0.0431      0.007     -6.182      0.000      -0.057      -0.029\n",
              "ROE                 -0.0691      0.005    -15.270      0.000      -0.078      -0.060\n",
              "EPS                  0.0490      0.009      5.368      0.000       0.031       0.067\n",
              "DIV                  0.0186      0.012      1.537      0.124      -0.005       0.042\n",
              "ATR_7               -0.2125      0.008    -27.445      0.000      -0.228      -0.197\n",
              "==============================================================================\n",
              "Omnibus:                      851.892   Durbin-Watson:                   2.006\n",
              "Prob(Omnibus):                  0.000   Jarque-Bera (JB):             5891.929\n",
              "Skew:                          -0.268   Prob(JB):                         0.00\n",
              "Kurtosis:                       7.187   Cond. No.                         64.3\n",
              "==============================================================================\n",
              "\n",
              "Warnings:\n",
              "[1] Standard Errors assume that the covariance matrix of the errors is correctly specified.\n",
              "\"\"\""
            ]
          },
          "metadata": {
            "tags": []
          },
          "execution_count": 201
        }
      ]
    },
    {
      "cell_type": "code",
      "metadata": {
        "id": "izcD9GHvwFFN"
      },
      "source": [
        "cluster_temp = num_temp.loc[:, ['동일나이군구분코드', '총매수금액', '총매수수량', '업종개수', 'large_cap', 'medium_cap', 'small_cap', 'large_cap_period', 'PER', 'PBR', 'ROE', 'EPS', 'ATR_7']]"
      ],
      "execution_count": null,
      "outputs": []
    },
    {
      "cell_type": "markdown",
      "metadata": {
        "id": "A0uiy4jT7cZr"
      },
      "source": [
        "# 세번째 검정"
      ]
    },
    {
      "cell_type": "code",
      "metadata": {
        "id": "iDbzT6rOwaTd"
      },
      "source": [
        "k = 5\n",
        "kmeans = KMeans(n_clusters= k, random_state=0).fit(cluster_temp)\n",
        "\n",
        "train_cluster = pd.DataFrame(columns = list(cluster_temp), data = cluster_temp)\n",
        "train_cluster['cluster'] = kmeans.predict(cluster_temp)"
      ],
      "execution_count": null,
      "outputs": []
    },
    {
      "cell_type": "code",
      "metadata": {
        "id": "A_-OtuOdwd5I"
      },
      "source": [
        "train_y = train_cluster.cluster\n",
        "scl_train = train_cluster.drop('cluster', axis = 1)"
      ],
      "execution_count": null,
      "outputs": []
    },
    {
      "cell_type": "code",
      "metadata": {
        "colab": {
          "base_uri": "https://localhost:8080/",
          "height": 414
        },
        "id": "22xdq7iBwff4",
        "outputId": "c8eb65e2-27f6-41b2-b90e-8969ee443851"
      },
      "source": [
        "scl_train"
      ],
      "execution_count": null,
      "outputs": [
        {
          "output_type": "execute_result",
          "data": {
            "text/html": [
              "<div>\n",
              "<style scoped>\n",
              "    .dataframe tbody tr th:only-of-type {\n",
              "        vertical-align: middle;\n",
              "    }\n",
              "\n",
              "    .dataframe tbody tr th {\n",
              "        vertical-align: top;\n",
              "    }\n",
              "\n",
              "    .dataframe thead th {\n",
              "        text-align: right;\n",
              "    }\n",
              "</style>\n",
              "<table border=\"1\" class=\"dataframe\">\n",
              "  <thead>\n",
              "    <tr style=\"text-align: right;\">\n",
              "      <th></th>\n",
              "      <th>동일나이군구분코드</th>\n",
              "      <th>총매수금액</th>\n",
              "      <th>총매수수량</th>\n",
              "      <th>업종개수</th>\n",
              "      <th>large_cap</th>\n",
              "      <th>medium_cap</th>\n",
              "      <th>small_cap</th>\n",
              "      <th>large_cap_period</th>\n",
              "      <th>PER</th>\n",
              "      <th>PBR</th>\n",
              "      <th>ROE</th>\n",
              "      <th>EPS</th>\n",
              "      <th>ATR_7</th>\n",
              "    </tr>\n",
              "  </thead>\n",
              "  <tbody>\n",
              "    <tr>\n",
              "      <th>0</th>\n",
              "      <td>0.0</td>\n",
              "      <td>-0.188454</td>\n",
              "      <td>-0.220015</td>\n",
              "      <td>-0.8</td>\n",
              "      <td>0.798295</td>\n",
              "      <td>-0.550775</td>\n",
              "      <td>-0.356546</td>\n",
              "      <td>-0.391667</td>\n",
              "      <td>-0.137600</td>\n",
              "      <td>-0.399572</td>\n",
              "      <td>1.284474</td>\n",
              "      <td>4.487079</td>\n",
              "      <td>2.107561</td>\n",
              "    </tr>\n",
              "    <tr>\n",
              "      <th>1</th>\n",
              "      <td>0.0</td>\n",
              "      <td>1.012451</td>\n",
              "      <td>0.214668</td>\n",
              "      <td>-0.6</td>\n",
              "      <td>0.520765</td>\n",
              "      <td>-0.066435</td>\n",
              "      <td>-0.356546</td>\n",
              "      <td>-0.386667</td>\n",
              "      <td>4.516943</td>\n",
              "      <td>3.510591</td>\n",
              "      <td>0.905693</td>\n",
              "      <td>0.058723</td>\n",
              "      <td>2.319570</td>\n",
              "    </tr>\n",
              "    <tr>\n",
              "      <th>2</th>\n",
              "      <td>1.0</td>\n",
              "      <td>-0.298310</td>\n",
              "      <td>-0.216960</td>\n",
              "      <td>-1.0</td>\n",
              "      <td>-0.629170</td>\n",
              "      <td>1.940399</td>\n",
              "      <td>-0.356546</td>\n",
              "      <td>-0.666667</td>\n",
              "      <td>-0.397684</td>\n",
              "      <td>-0.403039</td>\n",
              "      <td>-0.469574</td>\n",
              "      <td>1.924817</td>\n",
              "      <td>-0.440116</td>\n",
              "    </tr>\n",
              "    <tr>\n",
              "      <th>3</th>\n",
              "      <td>0.0</td>\n",
              "      <td>1.202118</td>\n",
              "      <td>3.247517</td>\n",
              "      <td>1.8</td>\n",
              "      <td>-0.629170</td>\n",
              "      <td>0.539688</td>\n",
              "      <td>0.959189</td>\n",
              "      <td>-0.666667</td>\n",
              "      <td>0.397516</td>\n",
              "      <td>-0.348721</td>\n",
              "      <td>1.578465</td>\n",
              "      <td>-0.148041</td>\n",
              "      <td>-0.462189</td>\n",
              "    </tr>\n",
              "    <tr>\n",
              "      <th>4</th>\n",
              "      <td>-0.5</td>\n",
              "      <td>-0.229829</td>\n",
              "      <td>1.138273</td>\n",
              "      <td>0.0</td>\n",
              "      <td>-0.165281</td>\n",
              "      <td>-0.550775</td>\n",
              "      <td>1.223045</td>\n",
              "      <td>-0.666667</td>\n",
              "      <td>-0.335217</td>\n",
              "      <td>-0.451078</td>\n",
              "      <td>-0.404407</td>\n",
              "      <td>0.000165</td>\n",
              "      <td>-0.585511</td>\n",
              "    </tr>\n",
              "    <tr>\n",
              "      <th>...</th>\n",
              "      <td>...</td>\n",
              "      <td>...</td>\n",
              "      <td>...</td>\n",
              "      <td>...</td>\n",
              "      <td>...</td>\n",
              "      <td>...</td>\n",
              "      <td>...</td>\n",
              "      <td>...</td>\n",
              "      <td>...</td>\n",
              "      <td>...</td>\n",
              "      <td>...</td>\n",
              "      <td>...</td>\n",
              "      <td>...</td>\n",
              "    </tr>\n",
              "    <tr>\n",
              "      <th>7933</th>\n",
              "      <td>0.0</td>\n",
              "      <td>0.207308</td>\n",
              "      <td>3.671505</td>\n",
              "      <td>-0.2</td>\n",
              "      <td>0.261436</td>\n",
              "      <td>-0.152156</td>\n",
              "      <td>0.149091</td>\n",
              "      <td>0.283333</td>\n",
              "      <td>-0.028248</td>\n",
              "      <td>-0.551939</td>\n",
              "      <td>1.174691</td>\n",
              "      <td>0.358817</td>\n",
              "      <td>0.316181</td>\n",
              "    </tr>\n",
              "    <tr>\n",
              "      <th>7934</th>\n",
              "      <td>-0.5</td>\n",
              "      <td>6.608258</td>\n",
              "      <td>3.763178</td>\n",
              "      <td>0.0</td>\n",
              "      <td>-0.418166</td>\n",
              "      <td>-0.199783</td>\n",
              "      <td>1.307901</td>\n",
              "      <td>0.233333</td>\n",
              "      <td>-0.056973</td>\n",
              "      <td>0.632808</td>\n",
              "      <td>-0.211370</td>\n",
              "      <td>-0.200899</td>\n",
              "      <td>0.325801</td>\n",
              "    </tr>\n",
              "    <tr>\n",
              "      <th>7935</th>\n",
              "      <td>-0.5</td>\n",
              "      <td>-0.273831</td>\n",
              "      <td>-0.227655</td>\n",
              "      <td>-0.8</td>\n",
              "      <td>0.690608</td>\n",
              "      <td>-0.362841</td>\n",
              "      <td>-0.356546</td>\n",
              "      <td>0.197470</td>\n",
              "      <td>0.131442</td>\n",
              "      <td>-0.413144</td>\n",
              "      <td>1.513316</td>\n",
              "      <td>2.317100</td>\n",
              "      <td>1.925226</td>\n",
              "    </tr>\n",
              "    <tr>\n",
              "      <th>7936</th>\n",
              "      <td>0.0</td>\n",
              "      <td>-0.256647</td>\n",
              "      <td>-0.223835</td>\n",
              "      <td>-0.6</td>\n",
              "      <td>0.611933</td>\n",
              "      <td>-0.225541</td>\n",
              "      <td>-0.356546</td>\n",
              "      <td>-0.216667</td>\n",
              "      <td>-0.232764</td>\n",
              "      <td>-0.340779</td>\n",
              "      <td>0.234008</td>\n",
              "      <td>2.383798</td>\n",
              "      <td>0.863129</td>\n",
              "    </tr>\n",
              "    <tr>\n",
              "      <th>7937</th>\n",
              "      <td>0.5</td>\n",
              "      <td>-0.084593</td>\n",
              "      <td>-0.153552</td>\n",
              "      <td>-0.8</td>\n",
              "      <td>0.674889</td>\n",
              "      <td>-0.335410</td>\n",
              "      <td>-0.356546</td>\n",
              "      <td>0.883333</td>\n",
              "      <td>-0.450068</td>\n",
              "      <td>-0.756470</td>\n",
              "      <td>-0.732989</td>\n",
              "      <td>-0.249245</td>\n",
              "      <td>-0.018425</td>\n",
              "    </tr>\n",
              "  </tbody>\n",
              "</table>\n",
              "<p>7938 rows × 13 columns</p>\n",
              "</div>"
            ],
            "text/plain": [
              "      동일나이군구분코드     총매수금액     총매수수량  ...       ROE       EPS     ATR_7\n",
              "0           0.0 -0.188454 -0.220015  ...  1.284474  4.487079  2.107561\n",
              "1           0.0  1.012451  0.214668  ...  0.905693  0.058723  2.319570\n",
              "2           1.0 -0.298310 -0.216960  ... -0.469574  1.924817 -0.440116\n",
              "3           0.0  1.202118  3.247517  ...  1.578465 -0.148041 -0.462189\n",
              "4          -0.5 -0.229829  1.138273  ... -0.404407  0.000165 -0.585511\n",
              "...         ...       ...       ...  ...       ...       ...       ...\n",
              "7933        0.0  0.207308  3.671505  ...  1.174691  0.358817  0.316181\n",
              "7934       -0.5  6.608258  3.763178  ... -0.211370 -0.200899  0.325801\n",
              "7935       -0.5 -0.273831 -0.227655  ...  1.513316  2.317100  1.925226\n",
              "7936        0.0 -0.256647 -0.223835  ...  0.234008  2.383798  0.863129\n",
              "7937        0.5 -0.084593 -0.153552  ... -0.732989 -0.249245 -0.018425\n",
              "\n",
              "[7938 rows x 13 columns]"
            ]
          },
          "metadata": {
            "tags": []
          },
          "execution_count": 214
        }
      ]
    },
    {
      "cell_type": "code",
      "metadata": {
        "colab": {
          "base_uri": "https://localhost:8080/",
          "height": 654
        },
        "id": "xbVi6skSwf1k",
        "outputId": "54e86efb-e664-4cf2-d3b8-0c12df24aa6e"
      },
      "source": [
        "temp_list = list(scl_train)\n",
        "\n",
        "# rm_list = ['동일나이군구분코드', '수익률', '매도매수일치_기관', 'large_cap_period', 'PER', 'ROE', 'EPS']\n",
        "\n",
        "# for i in rm_list:\n",
        "#     temp_list.remove(i)\n",
        "\n",
        "# rm_list = ['수익률', '상하한가여부', '매도매수일치_외국인', 'medium_cap_period', 'small_cap_period']\n",
        "\n",
        "# for i in rm_list:\n",
        "#     temp_list.remove(i)\n",
        "\n",
        "anova_data = pd.DataFrame(columns = list(scl_train), data = scl_train)\n",
        "anova_data = anova_data[temp_list].copy()\n",
        "lm = sm.OLS(train_y.values, anova_data[list(anova_data)])\n",
        "results = lm.fit()\n",
        "results_summary = results.summary()\n",
        "results_as_html = results_summary.tables[1].as_html()\n",
        "result_summary = pd.DataFrame(pd.read_html(results_as_html, header=0, index_col=0)[0])\n",
        "print(result_summary[result_summary['P>|t|'] < 0.005].index.tolist())\n",
        "results_summary\n",
        "# # print(anova_data.shape)\n",
        "# # scl_train = anova_data.copy()\n",
        "# # print(scl_train.shape)"
      ],
      "execution_count": null,
      "outputs": [
        {
          "output_type": "stream",
          "text": [
            "['동일나이군구분코드', '총매수금액', '총매수수량', '업종개수', 'large_cap', 'medium_cap', 'small_cap', 'PER', 'PBR', 'ROE', 'EPS', 'ATR_7']\n"
          ],
          "name": "stdout"
        },
        {
          "output_type": "execute_result",
          "data": {
            "text/html": [
              "<table class=\"simpletable\">\n",
              "<caption>OLS Regression Results</caption>\n",
              "<tr>\n",
              "  <th>Dep. Variable:</th>            <td>y</td>        <th>  R-squared:         </th> <td>   0.463</td> \n",
              "</tr>\n",
              "<tr>\n",
              "  <th>Model:</th>                   <td>OLS</td>       <th>  Adj. R-squared:    </th> <td>   0.462</td> \n",
              "</tr>\n",
              "<tr>\n",
              "  <th>Method:</th>             <td>Least Squares</td>  <th>  F-statistic:       </th> <td>   568.3</td> \n",
              "</tr>\n",
              "<tr>\n",
              "  <th>Date:</th>             <td>Fri, 23 Jul 2021</td> <th>  Prob (F-statistic):</th>  <td>  0.00</td>  \n",
              "</tr>\n",
              "<tr>\n",
              "  <th>Time:</th>                 <td>14:26:37</td>     <th>  Log-Likelihood:    </th> <td> -7425.6</td> \n",
              "</tr>\n",
              "<tr>\n",
              "  <th>No. Observations:</th>      <td>  7938</td>      <th>  AIC:               </th> <td>1.488e+04</td>\n",
              "</tr>\n",
              "<tr>\n",
              "  <th>Df Residuals:</th>          <td>  7925</td>      <th>  BIC:               </th> <td>1.497e+04</td>\n",
              "</tr>\n",
              "<tr>\n",
              "  <th>Df Model:</th>              <td>    12</td>      <th>                     </th>     <td> </td>    \n",
              "</tr>\n",
              "<tr>\n",
              "  <th>Covariance Type:</th>      <td>nonrobust</td>    <th>                     </th>     <td> </td>    \n",
              "</tr>\n",
              "</table>\n",
              "<table class=\"simpletable\">\n",
              "<tr>\n",
              "          <td></td>            <th>coef</th>     <th>std err</th>      <th>t</th>      <th>P>|t|</th>  <th>[0.025</th>    <th>0.975]</th>  \n",
              "</tr>\n",
              "<tr>\n",
              "  <th>동일나이군구분코드</th>        <td>   -0.0822</td> <td>    0.015</td> <td>   -5.467</td> <td> 0.000</td> <td>   -0.112</td> <td>   -0.053</td>\n",
              "</tr>\n",
              "<tr>\n",
              "  <th>총매수금액</th>            <td>   -0.0759</td> <td>    0.003</td> <td>  -27.154</td> <td> 0.000</td> <td>   -0.081</td> <td>   -0.070</td>\n",
              "</tr>\n",
              "<tr>\n",
              "  <th>총매수수량</th>            <td>    0.0074</td> <td>    0.002</td> <td>    4.151</td> <td> 0.000</td> <td>    0.004</td> <td>    0.011</td>\n",
              "</tr>\n",
              "<tr>\n",
              "  <th>업종개수</th>             <td>   -0.0846</td> <td>    0.007</td> <td>  -11.666</td> <td> 0.000</td> <td>   -0.099</td> <td>   -0.070</td>\n",
              "</tr>\n",
              "<tr>\n",
              "  <th>large_cap</th>        <td>    7.4151</td> <td>    0.043</td> <td>  171.633</td> <td> 0.000</td> <td>    7.330</td> <td>    7.500</td>\n",
              "</tr>\n",
              "<tr>\n",
              "  <th>medium_cap</th>       <td>    4.1827</td> <td>    0.022</td> <td>  187.726</td> <td> 0.000</td> <td>    4.139</td> <td>    4.226</td>\n",
              "</tr>\n",
              "<tr>\n",
              "  <th>small_cap</th>        <td>    4.4465</td> <td>    0.022</td> <td>  205.849</td> <td> 0.000</td> <td>    4.404</td> <td>    4.489</td>\n",
              "</tr>\n",
              "<tr>\n",
              "  <th>large_cap_period</th> <td>    0.0321</td> <td>    0.012</td> <td>    2.741</td> <td> 0.006</td> <td>    0.009</td> <td>    0.055</td>\n",
              "</tr>\n",
              "<tr>\n",
              "  <th>PER</th>              <td>    0.1519</td> <td>    0.006</td> <td>   27.045</td> <td> 0.000</td> <td>    0.141</td> <td>    0.163</td>\n",
              "</tr>\n",
              "<tr>\n",
              "  <th>PBR</th>              <td>    0.0328</td> <td>    0.007</td> <td>    4.904</td> <td> 0.000</td> <td>    0.020</td> <td>    0.046</td>\n",
              "</tr>\n",
              "<tr>\n",
              "  <th>ROE</th>              <td>    0.0492</td> <td>    0.004</td> <td>   11.349</td> <td> 0.000</td> <td>    0.041</td> <td>    0.058</td>\n",
              "</tr>\n",
              "<tr>\n",
              "  <th>EPS</th>              <td>   -0.0350</td> <td>    0.008</td> <td>   -4.144</td> <td> 0.000</td> <td>   -0.051</td> <td>   -0.018</td>\n",
              "</tr>\n",
              "<tr>\n",
              "  <th>ATR_7</th>            <td>    0.1468</td> <td>    0.007</td> <td>   19.975</td> <td> 0.000</td> <td>    0.132</td> <td>    0.161</td>\n",
              "</tr>\n",
              "</table>\n",
              "<table class=\"simpletable\">\n",
              "<tr>\n",
              "  <th>Omnibus:</th>       <td>1285.920</td> <th>  Durbin-Watson:     </th> <td>   2.027</td> \n",
              "</tr>\n",
              "<tr>\n",
              "  <th>Prob(Omnibus):</th>  <td> 0.000</td>  <th>  Jarque-Bera (JB):  </th> <td>16561.640</td>\n",
              "</tr>\n",
              "<tr>\n",
              "  <th>Skew:</th>           <td>-0.365</td>  <th>  Prob(JB):          </th> <td>    0.00</td> \n",
              "</tr>\n",
              "<tr>\n",
              "  <th>Kurtosis:</th>       <td>10.039</td>  <th>  Cond. No.          </th> <td>    49.6</td> \n",
              "</tr>\n",
              "</table><br/><br/>Warnings:<br/>[1] Standard Errors assume that the covariance matrix of the errors is correctly specified."
            ],
            "text/plain": [
              "<class 'statsmodels.iolib.summary.Summary'>\n",
              "\"\"\"\n",
              "                            OLS Regression Results                            \n",
              "==============================================================================\n",
              "Dep. Variable:                      y   R-squared:                       0.463\n",
              "Model:                            OLS   Adj. R-squared:                  0.462\n",
              "Method:                 Least Squares   F-statistic:                     568.3\n",
              "Date:                Fri, 23 Jul 2021   Prob (F-statistic):               0.00\n",
              "Time:                        14:26:37   Log-Likelihood:                -7425.6\n",
              "No. Observations:                7938   AIC:                         1.488e+04\n",
              "Df Residuals:                    7925   BIC:                         1.497e+04\n",
              "Df Model:                          12                                         \n",
              "Covariance Type:            nonrobust                                         \n",
              "====================================================================================\n",
              "                       coef    std err          t      P>|t|      [0.025      0.975]\n",
              "------------------------------------------------------------------------------------\n",
              "동일나이군구분코드           -0.0822      0.015     -5.467      0.000      -0.112      -0.053\n",
              "총매수금액               -0.0759      0.003    -27.154      0.000      -0.081      -0.070\n",
              "총매수수량                0.0074      0.002      4.151      0.000       0.004       0.011\n",
              "업종개수                -0.0846      0.007    -11.666      0.000      -0.099      -0.070\n",
              "large_cap            7.4151      0.043    171.633      0.000       7.330       7.500\n",
              "medium_cap           4.1827      0.022    187.726      0.000       4.139       4.226\n",
              "small_cap            4.4465      0.022    205.849      0.000       4.404       4.489\n",
              "large_cap_period     0.0321      0.012      2.741      0.006       0.009       0.055\n",
              "PER                  0.1519      0.006     27.045      0.000       0.141       0.163\n",
              "PBR                  0.0328      0.007      4.904      0.000       0.020       0.046\n",
              "ROE                  0.0492      0.004     11.349      0.000       0.041       0.058\n",
              "EPS                 -0.0350      0.008     -4.144      0.000      -0.051      -0.018\n",
              "ATR_7                0.1468      0.007     19.975      0.000       0.132       0.161\n",
              "==============================================================================\n",
              "Omnibus:                     1285.920   Durbin-Watson:                   2.027\n",
              "Prob(Omnibus):                  0.000   Jarque-Bera (JB):            16561.640\n",
              "Skew:                          -0.365   Prob(JB):                         0.00\n",
              "Kurtosis:                      10.039   Cond. No.                         49.6\n",
              "==============================================================================\n",
              "\n",
              "Warnings:\n",
              "[1] Standard Errors assume that the covariance matrix of the errors is correctly specified.\n",
              "\"\"\""
            ]
          },
          "metadata": {
            "tags": []
          },
          "execution_count": 215
        }
      ]
    },
    {
      "cell_type": "code",
      "metadata": {
        "id": "k6ZDOr1e7gAx"
      },
      "source": [
        "# 검정 완료 -> 시각화 시작"
      ],
      "execution_count": null,
      "outputs": []
    },
    {
      "cell_type": "markdown",
      "metadata": {
        "id": "ppFH3iLbyWmN"
      },
      "source": [
        "## 0번 군집 해석 -> 동학개미의 일종으로 볼 수 있으나 일반적인 신규투자자보다는 위험을 즐김 but 투자할 자본이 별로 없음\n",
        "- 사람수 601명 (3위)\n",
        "- 30, 40대 다수\n",
        "- 매수금액은 많지 않으나 수량은 조금 많음\n",
        "- 업종은 다양하지 않은편\n",
        "- 중형, 소형주 투자 위주\n",
        "- PBR 지표를 의식하는 편"
      ]
    },
    {
      "cell_type": "code",
      "metadata": {
        "id": "-KDv_gGxYuVE",
        "colab": {
          "base_uri": "https://localhost:8080/",
          "height": 1314
        },
        "outputId": "6a27b453-4cab-4863-aae6-5b34ec3832ef"
      },
      "source": [
        "temp_cluster = train_cluster[train_cluster.cluster == 0][['동일나이군구분코드', '총매수금액', '총매수수량', '업종개수', 'large_cap', 'medium_cap', 'small_cap', 'PER', 'PBR', 'ROE', 'EPS', 'ATR_7']].copy()\n",
        "\n",
        "col_list = list(temp_cluster)\n",
        "for i in range(0,13,3):\n",
        "    print(i)\n",
        "    plt.figure(figsize= (25,5))\n",
        "    plt.subplot(1,3,1)\n",
        "    plt.hist(temp_cluster[col_list[i]])\n",
        "    plt.subplot(1,3,2)\n",
        "    plt.hist(temp_cluster[col_list[i+1]])\n",
        "    if i != 12:\n",
        "        plt.subplot(1,3,3)\n",
        "        plt.hist(temp_cluster[col_list[i+2]])\n",
        "        print(col_list[i], col_list[i+1], col_list[i+2])\n",
        "    else:\n",
        "        print(col_list[i], col_list[i+1])       \n",
        "\n",
        "    plt.show()"
      ],
      "execution_count": null,
      "outputs": [
        {
          "output_type": "stream",
          "text": [
            "0\n",
            "동일나이군구분코드 총매수금액 총매수수량\n"
          ],
          "name": "stdout"
        },
        {
          "output_type": "stream",
          "text": [
            "/usr/local/lib/python3.7/dist-packages/matplotlib/backends/backend_agg.py:214: RuntimeWarning: Glyph 8722 missing from current font.\n",
            "  font.set_text(s, 0.0, flags=flags)\n",
            "/usr/local/lib/python3.7/dist-packages/matplotlib/backends/backend_agg.py:183: RuntimeWarning: Glyph 8722 missing from current font.\n",
            "  font.set_text(s, 0, flags=flags)\n"
          ],
          "name": "stderr"
        },
        {
          "output_type": "display_data",
          "data": {
            "image/png": "[encoded data removed]",
            "text/plain": [
              "<Figure size 1800x360 with 3 Axes>"
            ]
          },
          "metadata": {
            "tags": []
          }
        },
        {
          "output_type": "stream",
          "text": [
            "3\n",
            "업종개수 large_cap medium_cap\n"
          ],
          "name": "stdout"
        },
        {
          "output_type": "display_data",
          "data": {
            "image/png": "[encoded data removed]",
            "text/plain": [
              "<Figure size 1800x360 with 3 Axes>"
            ]
          },
          "metadata": {
            "tags": []
          }
        },
        {
          "output_type": "stream",
          "text": [
            "6\n",
            "small_cap PER PBR\n"
          ],
          "name": "stdout"
        },
        {
          "output_type": "display_data",
          "data": {
            "image/png": "[encoded data removed]",
            "text/plain": [
              "<Figure size 1800x360 with 3 Axes>"
            ]
          },
          "metadata": {
            "tags": []
          }
        },
        {
          "output_type": "stream",
          "text": [
            "9\n",
            "ROE EPS ATR_7\n"
          ],
          "name": "stdout"
        },
        {
          "output_type": "display_data",
          "data": {
            "image/png": "[encoded data removed]",
            "text/plain": [
              "<Figure size 1800x360 with 3 Axes>"
            ]
          },
          "metadata": {
            "tags": []
          }
        },
        {
          "output_type": "stream",
          "text": [
            "12\n"
          ],
          "name": "stdout"
        },
        {
          "output_type": "error",
          "ename": "IndexError",
          "evalue": "ignored",
          "traceback": [
            "\u001b[0;31m---------------------------------------------------------------------------\u001b[0m",
            "\u001b[0;31mIndexError\u001b[0m                                Traceback (most recent call last)",
            "\u001b[0;32m<ipython-input-218-82feb222e626>\u001b[0m in \u001b[0;36m<module>\u001b[0;34m()\u001b[0m\n\u001b[1;32m      6\u001b[0m     \u001b[0mplt\u001b[0m\u001b[0;34m.\u001b[0m\u001b[0mfigure\u001b[0m\u001b[0;34m(\u001b[0m\u001b[0mfigsize\u001b[0m\u001b[0;34m=\u001b[0m \u001b[0;34m(\u001b[0m\u001b[0;36m25\u001b[0m\u001b[0;34m,\u001b[0m\u001b[0;36m5\u001b[0m\u001b[0;34m)\u001b[0m\u001b[0;34m)\u001b[0m\u001b[0;34m\u001b[0m\u001b[0;34m\u001b[0m\u001b[0m\n\u001b[1;32m      7\u001b[0m     \u001b[0mplt\u001b[0m\u001b[0;34m.\u001b[0m\u001b[0msubplot\u001b[0m\u001b[0;34m(\u001b[0m\u001b[0;36m1\u001b[0m\u001b[0;34m,\u001b[0m\u001b[0;36m3\u001b[0m\u001b[0;34m,\u001b[0m\u001b[0;36m1\u001b[0m\u001b[0;34m)\u001b[0m\u001b[0;34m\u001b[0m\u001b[0;34m\u001b[0m\u001b[0m\n\u001b[0;32m----> 8\u001b[0;31m     \u001b[0mplt\u001b[0m\u001b[0;34m.\u001b[0m\u001b[0mhist\u001b[0m\u001b[0;34m(\u001b[0m\u001b[0mtemp_cluster\u001b[0m\u001b[0;34m[\u001b[0m\u001b[0mcol_list\u001b[0m\u001b[0;34m[\u001b[0m\u001b[0mi\u001b[0m\u001b[0;34m]\u001b[0m\u001b[0;34m]\u001b[0m\u001b[0;34m)\u001b[0m\u001b[0;34m\u001b[0m\u001b[0;34m\u001b[0m\u001b[0m\n\u001b[0m\u001b[1;32m      9\u001b[0m     \u001b[0mplt\u001b[0m\u001b[0;34m.\u001b[0m\u001b[0msubplot\u001b[0m\u001b[0;34m(\u001b[0m\u001b[0;36m1\u001b[0m\u001b[0;34m,\u001b[0m\u001b[0;36m3\u001b[0m\u001b[0;34m,\u001b[0m\u001b[0;36m2\u001b[0m\u001b[0;34m)\u001b[0m\u001b[0;34m\u001b[0m\u001b[0;34m\u001b[0m\u001b[0m\n\u001b[1;32m     10\u001b[0m     \u001b[0mplt\u001b[0m\u001b[0;34m.\u001b[0m\u001b[0mhist\u001b[0m\u001b[0;34m(\u001b[0m\u001b[0mtemp_cluster\u001b[0m\u001b[0;34m[\u001b[0m\u001b[0mcol_list\u001b[0m\u001b[0;34m[\u001b[0m\u001b[0mi\u001b[0m\u001b[0;34m+\u001b[0m\u001b[0;36m1\u001b[0m\u001b[0;34m]\u001b[0m\u001b[0;34m]\u001b[0m\u001b[0;34m)\u001b[0m\u001b[0;34m\u001b[0m\u001b[0;34m\u001b[0m\u001b[0m\n",
            "\u001b[0;31mIndexError\u001b[0m: list index out of range"
          ]
        },
        {
          "output_type": "display_data",
          "data": {
            "image/png": "[encoded data removed]",
            "text/plain": [
              "<Figure size 1800x360 with 1 Axes>"
            ]
          },
          "metadata": {
            "tags": []
          }
        }
      ]
    },
    {
      "cell_type": "markdown",
      "metadata": {
        "id": "1E3Z1of7xobE"
      },
      "source": [
        "## 1번 군집 해석 - 0번 군집보다 조금 더 다양하게 많이 투자를 함. 돈도 좀 있고 위험을 즐기는 동학개미\n",
        "- 사람수 130명 (4위)\n",
        "- 30, 40대 다수 (50대 약간 많은 정도)\n",
        "- 매수금액 많고 구매수량도 많음 (0번 군집보다 훨씬 우량 투자자)\n",
        "- 업종은 다양하지 않은편 (0번 군집보다는 다양하게 투자)\n",
        "- 중형, 소형주 투자 위주 (0번 군집보다 중소형 투자 정도가 강해짐)\n",
        "- PBR, ROE 지표를 의식하는 편\n",
        "- 변동성 높은 종목에 투자 (0번 군집보다 ATR 조금 상승)"
      ]
    },
    {
      "cell_type": "code",
      "metadata": {
        "id": "hL99QqmeYuVF",
        "colab": {
          "base_uri": "https://localhost:8080/",
          "height": 1731
        },
        "outputId": "49bf5fb1-1c86-4a33-cd21-578513b3ec7e"
      },
      "source": [
        "temp_cluster = train_cluster[train_cluster.cluster == 1][['동일나이군구분코드', '총매수금액', '총매수수량', '업종개수', 'large_cap', 'medium_cap', 'small_cap', 'PER', 'PBR', 'ROE', 'EPS', 'ATR_7']].copy()\n",
        "\n",
        "col_list = list(temp_cluster)\n",
        "for i in range(0,13,3):\n",
        "    print(i)\n",
        "    plt.figure(figsize= (25,5))\n",
        "    plt.subplot(1,3,1)\n",
        "    plt.hist(temp_cluster[col_list[i]])\n",
        "    plt.subplot(1,3,2)\n",
        "    plt.hist(temp_cluster[col_list[i+1]])\n",
        "    if i != 12:\n",
        "        plt.subplot(1,3,3)\n",
        "        plt.hist(temp_cluster[col_list[i+2]])\n",
        "        print(col_list[i], col_list[i+1], col_list[i+2])\n",
        "    else:\n",
        "        print(col_list[i], col_list[i+1])       \n",
        "\n",
        "    plt.show()"
      ],
      "execution_count": null,
      "outputs": [
        {
          "output_type": "stream",
          "text": [
            "0\n",
            "동일나이군구분코드 총매수금액 총매수수량\n"
          ],
          "name": "stdout"
        },
        {
          "output_type": "stream",
          "text": [
            "/usr/local/lib/python3.7/dist-packages/matplotlib/backends/backend_agg.py:214: RuntimeWarning: Glyph 8722 missing from current font.\n",
            "  font.set_text(s, 0.0, flags=flags)\n",
            "/usr/local/lib/python3.7/dist-packages/matplotlib/backends/backend_agg.py:183: RuntimeWarning: Glyph 8722 missing from current font.\n",
            "  font.set_text(s, 0, flags=flags)\n"
          ],
          "name": "stderr"
        },
        {
          "output_type": "display_data",
          "data": {
            "image/png": "[encoded data removed]",
            "text/plain": [
              "<Figure size 1800x360 with 3 Axes>"
            ]
          },
          "metadata": {
            "tags": []
          }
        },
        {
          "output_type": "stream",
          "text": [
            "3\n",
            "업종개수 large_cap medium_cap\n"
          ],
          "name": "stdout"
        },
        {
          "output_type": "display_data",
          "data": {
            "image/png": "[encoded data removed]",
            "text/plain": [
              "<Figure size 1800x360 with 3 Axes>"
            ]
          },
          "metadata": {
            "tags": []
          }
        },
        {
          "output_type": "stream",
          "text": [
            "6\n",
            "small_cap PER PBR\n"
          ],
          "name": "stdout"
        },
        {
          "output_type": "display_data",
          "data": {
            "image/png": "[encoded data removed]",
            "text/plain": [
              "<Figure size 1800x360 with 3 Axes>"
            ]
          },
          "metadata": {
            "tags": []
          }
        },
        {
          "output_type": "stream",
          "text": [
            "9\n",
            "ROE EPS ATR_7\n"
          ],
          "name": "stdout"
        },
        {
          "output_type": "display_data",
          "data": {
            "image/png": "[encoded data removed]",
            "text/plain": [
              "<Figure size 1800x360 with 3 Axes>"
            ]
          },
          "metadata": {
            "tags": []
          }
        },
        {
          "output_type": "stream",
          "text": [
            "12\n"
          ],
          "name": "stdout"
        },
        {
          "output_type": "error",
          "ename": "IndexError",
          "evalue": "ignored",
          "traceback": [
            "\u001b[0;31m---------------------------------------------------------------------------\u001b[0m",
            "\u001b[0;31mIndexError\u001b[0m                                Traceback (most recent call last)",
            "\u001b[0;32m<ipython-input-219-b82925cf5317>\u001b[0m in \u001b[0;36m<module>\u001b[0;34m()\u001b[0m\n\u001b[1;32m      6\u001b[0m     \u001b[0mplt\u001b[0m\u001b[0;34m.\u001b[0m\u001b[0mfigure\u001b[0m\u001b[0;34m(\u001b[0m\u001b[0mfigsize\u001b[0m\u001b[0;34m=\u001b[0m \u001b[0;34m(\u001b[0m\u001b[0;36m25\u001b[0m\u001b[0;34m,\u001b[0m\u001b[0;36m5\u001b[0m\u001b[0;34m)\u001b[0m\u001b[0;34m)\u001b[0m\u001b[0;34m\u001b[0m\u001b[0;34m\u001b[0m\u001b[0m\n\u001b[1;32m      7\u001b[0m     \u001b[0mplt\u001b[0m\u001b[0;34m.\u001b[0m\u001b[0msubplot\u001b[0m\u001b[0;34m(\u001b[0m\u001b[0;36m1\u001b[0m\u001b[0;34m,\u001b[0m\u001b[0;36m3\u001b[0m\u001b[0;34m,\u001b[0m\u001b[0;36m1\u001b[0m\u001b[0;34m)\u001b[0m\u001b[0;34m\u001b[0m\u001b[0;34m\u001b[0m\u001b[0m\n\u001b[0;32m----> 8\u001b[0;31m     \u001b[0mplt\u001b[0m\u001b[0;34m.\u001b[0m\u001b[0mhist\u001b[0m\u001b[0;34m(\u001b[0m\u001b[0mtemp_cluster\u001b[0m\u001b[0;34m[\u001b[0m\u001b[0mcol_list\u001b[0m\u001b[0;34m[\u001b[0m\u001b[0mi\u001b[0m\u001b[0;34m]\u001b[0m\u001b[0;34m]\u001b[0m\u001b[0;34m)\u001b[0m\u001b[0;34m\u001b[0m\u001b[0;34m\u001b[0m\u001b[0m\n\u001b[0m\u001b[1;32m      9\u001b[0m     \u001b[0mplt\u001b[0m\u001b[0;34m.\u001b[0m\u001b[0msubplot\u001b[0m\u001b[0;34m(\u001b[0m\u001b[0;36m1\u001b[0m\u001b[0;34m,\u001b[0m\u001b[0;36m3\u001b[0m\u001b[0;34m,\u001b[0m\u001b[0;36m2\u001b[0m\u001b[0;34m)\u001b[0m\u001b[0;34m\u001b[0m\u001b[0;34m\u001b[0m\u001b[0m\n\u001b[1;32m     10\u001b[0m     \u001b[0mplt\u001b[0m\u001b[0;34m.\u001b[0m\u001b[0mhist\u001b[0m\u001b[0;34m(\u001b[0m\u001b[0mtemp_cluster\u001b[0m\u001b[0;34m[\u001b[0m\u001b[0mcol_list\u001b[0m\u001b[0;34m[\u001b[0m\u001b[0mi\u001b[0m\u001b[0;34m+\u001b[0m\u001b[0;36m1\u001b[0m\u001b[0;34m]\u001b[0m\u001b[0;34m]\u001b[0m\u001b[0;34m)\u001b[0m\u001b[0;34m\u001b[0m\u001b[0;34m\u001b[0m\u001b[0m\n",
            "\u001b[0;31mIndexError\u001b[0m: list index out of range"
          ]
        },
        {
          "output_type": "display_data",
          "data": {
            "image/png": "[encoded data removed]",
            "text/plain": [
              "<Figure size 1800x360 with 1 Axes>"
            ]
          },
          "metadata": {
            "tags": []
          }
        }
      ]
    },
    {
      "cell_type": "markdown",
      "metadata": {
        "id": "aMKYUDBVzA_7"
      },
      "source": [
        "## 2번 군집 해석 -> 일반적인 동학개미투투자의 형태를 보임\n",
        "- 사람수 6417명으로 1위 -> 동학개미 투자자 군집이라는 점 뒷받침\n",
        "- 20, 30대 다수\n",
        "- 매수금액 적고 구매수량도 적음 (0번 군집보다도 훨씬 소량 투자자 -> 지금까지 2<0<1 순서)\n",
        "- 업종은 다양하지 않은편 (0번 군집보다도 다양하지 않게 투자 -> 2<0<1 순서)\n",
        "- 대형, 중형주 투자 위주 (0번 군집보다 대형 투자 정도가 강해짐 -> 대형주 선호도 1<=0<2) \n",
        "- PER, ROE, ATR 지표를 의식하는 편 "
      ]
    },
    {
      "cell_type": "code",
      "metadata": {
        "id": "EfM-Q2KVYuVK",
        "colab": {
          "base_uri": "https://localhost:8080/",
          "height": 1727
        },
        "outputId": "16d6edc9-42ac-4d3d-b270-31543ef568b0"
      },
      "source": [
        "temp_cluster = train_cluster[train_cluster.cluster == 2][['동일나이군구분코드', '총매수금액', '총매수수량', '업종개수', 'large_cap', 'medium_cap', 'small_cap', 'PER', 'PBR', 'ROE', 'EPS', 'ATR_7']].copy()\n",
        "\n",
        "col_list = list(temp_cluster)\n",
        "for i in range(0,13,3):\n",
        "    print(i)\n",
        "    plt.figure(figsize= (25,5))\n",
        "    plt.subplot(1,3,1)\n",
        "    plt.hist(temp_cluster[col_list[i]])\n",
        "    plt.subplot(1,3,2)\n",
        "    plt.hist(temp_cluster[col_list[i+1]])\n",
        "    if i != 12:\n",
        "        plt.subplot(1,3,3)\n",
        "        plt.hist(temp_cluster[col_list[i+2]])\n",
        "        print(col_list[i], col_list[i+1], col_list[i+2])\n",
        "    else:\n",
        "        print(col_list[i], col_list[i+1])       \n",
        "\n",
        "    plt.show()"
      ],
      "execution_count": null,
      "outputs": [
        {
          "output_type": "stream",
          "text": [
            "0\n",
            "동일나이군구분코드 총매수금액 총매수수량\n"
          ],
          "name": "stdout"
        },
        {
          "output_type": "stream",
          "text": [
            "/usr/local/lib/python3.7/dist-packages/matplotlib/backends/backend_agg.py:214: RuntimeWarning: Glyph 8722 missing from current font.\n",
            "  font.set_text(s, 0.0, flags=flags)\n",
            "/usr/local/lib/python3.7/dist-packages/matplotlib/backends/backend_agg.py:183: RuntimeWarning: Glyph 8722 missing from current font.\n",
            "  font.set_text(s, 0, flags=flags)\n"
          ],
          "name": "stderr"
        },
        {
          "output_type": "display_data",
          "data": {
            "image/png": "[encoded data removed]",
            "text/plain": [
              "<Figure size 1800x360 with 3 Axes>"
            ]
          },
          "metadata": {
            "tags": []
          }
        },
        {
          "output_type": "stream",
          "text": [
            "3\n",
            "업종개수 large_cap medium_cap\n"
          ],
          "name": "stdout"
        },
        {
          "output_type": "display_data",
          "data": {
            "image/png": "[encoded data removed]",
            "text/plain": [
              "<Figure size 1800x360 with 3 Axes>"
            ]
          },
          "metadata": {
            "tags": []
          }
        },
        {
          "output_type": "stream",
          "text": [
            "6\n",
            "small_cap PER PBR\n"
          ],
          "name": "stdout"
        },
        {
          "output_type": "display_data",
          "data": {
            "image/png": "[encoded data removed]",
            "text/plain": [
              "<Figure size 1800x360 with 3 Axes>"
            ]
          },
          "metadata": {
            "tags": []
          }
        },
        {
          "output_type": "stream",
          "text": [
            "9\n",
            "ROE EPS ATR_7\n"
          ],
          "name": "stdout"
        },
        {
          "output_type": "display_data",
          "data": {
            "image/png": "[encoded data removed]",
            "text/plain": [
              "<Figure size 1800x360 with 3 Axes>"
            ]
          },
          "metadata": {
            "tags": []
          }
        },
        {
          "output_type": "stream",
          "text": [
            "12\n"
          ],
          "name": "stdout"
        },
        {
          "output_type": "error",
          "ename": "IndexError",
          "evalue": "ignored",
          "traceback": [
            "\u001b[0;31m---------------------------------------------------------------------------\u001b[0m",
            "\u001b[0;31mIndexError\u001b[0m                                Traceback (most recent call last)",
            "\u001b[0;32m<ipython-input-224-4c059e41a2f8>\u001b[0m in \u001b[0;36m<module>\u001b[0;34m()\u001b[0m\n\u001b[1;32m      6\u001b[0m     \u001b[0mplt\u001b[0m\u001b[0;34m.\u001b[0m\u001b[0mfigure\u001b[0m\u001b[0;34m(\u001b[0m\u001b[0mfigsize\u001b[0m\u001b[0;34m=\u001b[0m \u001b[0;34m(\u001b[0m\u001b[0;36m25\u001b[0m\u001b[0;34m,\u001b[0m\u001b[0;36m5\u001b[0m\u001b[0;34m)\u001b[0m\u001b[0;34m)\u001b[0m\u001b[0;34m\u001b[0m\u001b[0;34m\u001b[0m\u001b[0m\n\u001b[1;32m      7\u001b[0m     \u001b[0mplt\u001b[0m\u001b[0;34m.\u001b[0m\u001b[0msubplot\u001b[0m\u001b[0;34m(\u001b[0m\u001b[0;36m1\u001b[0m\u001b[0;34m,\u001b[0m\u001b[0;36m3\u001b[0m\u001b[0;34m,\u001b[0m\u001b[0;36m1\u001b[0m\u001b[0;34m)\u001b[0m\u001b[0;34m\u001b[0m\u001b[0;34m\u001b[0m\u001b[0m\n\u001b[0;32m----> 8\u001b[0;31m     \u001b[0mplt\u001b[0m\u001b[0;34m.\u001b[0m\u001b[0mhist\u001b[0m\u001b[0;34m(\u001b[0m\u001b[0mtemp_cluster\u001b[0m\u001b[0;34m[\u001b[0m\u001b[0mcol_list\u001b[0m\u001b[0;34m[\u001b[0m\u001b[0mi\u001b[0m\u001b[0;34m]\u001b[0m\u001b[0;34m]\u001b[0m\u001b[0;34m)\u001b[0m\u001b[0;34m\u001b[0m\u001b[0;34m\u001b[0m\u001b[0m\n\u001b[0m\u001b[1;32m      9\u001b[0m     \u001b[0mplt\u001b[0m\u001b[0;34m.\u001b[0m\u001b[0msubplot\u001b[0m\u001b[0;34m(\u001b[0m\u001b[0;36m1\u001b[0m\u001b[0;34m,\u001b[0m\u001b[0;36m3\u001b[0m\u001b[0;34m,\u001b[0m\u001b[0;36m2\u001b[0m\u001b[0;34m)\u001b[0m\u001b[0;34m\u001b[0m\u001b[0;34m\u001b[0m\u001b[0m\n\u001b[1;32m     10\u001b[0m     \u001b[0mplt\u001b[0m\u001b[0;34m.\u001b[0m\u001b[0mhist\u001b[0m\u001b[0;34m(\u001b[0m\u001b[0mtemp_cluster\u001b[0m\u001b[0;34m[\u001b[0m\u001b[0mcol_list\u001b[0m\u001b[0;34m[\u001b[0m\u001b[0mi\u001b[0m\u001b[0;34m+\u001b[0m\u001b[0;36m1\u001b[0m\u001b[0;34m]\u001b[0m\u001b[0;34m]\u001b[0m\u001b[0;34m)\u001b[0m\u001b[0;34m\u001b[0m\u001b[0;34m\u001b[0m\u001b[0m\n",
            "\u001b[0;31mIndexError\u001b[0m: list index out of range"
          ]
        },
        {
          "output_type": "display_data",
          "data": {
            "image/png": "[encoded data removed]",
            "text/plain": [
              "<Figure size 1800x360 with 1 Axes>"
            ]
          },
          "metadata": {
            "tags": []
          }
        }
      ]
    },
    {
      "cell_type": "markdown",
      "metadata": {
        "id": "oVuYRy2b0NBV"
      },
      "source": [
        "## 3번 군집 해석 -> 24명으로 가장 적은 군집 -> 대표성 없다고 봐야할듯.\n",
        "- 군집수 24명 -> 대표성 있다고 보기 어려움\n",
        "- 30대 다수, 나머지 나이대 비슷\n",
        "- 매수금액 다양하고 구매수량 많음 (지금까지 2<0<1<3 순서)\n",
        "- 업종은 다양한 편 ( 2<0<1<3 순서)\n",
        "- 중형, 소형주 투자 위주 (대형주 선호도 3<1<=0<2) \n",
        "- PER, PBR, ROE, ATR등 여러 지표를 의식하는 편 "
      ]
    },
    {
      "cell_type": "code",
      "metadata": {
        "id": "V2HUhCn3YuVO",
        "colab": {
          "base_uri": "https://localhost:8080/",
          "height": 1735
        },
        "outputId": "e00052c7-9c21-4574-f2d1-17cdc3b6d2d1"
      },
      "source": [
        "temp_cluster = train_cluster[train_cluster.cluster == 3][['동일나이군구분코드', '총매수금액', '총매수수량', '업종개수', 'large_cap', 'medium_cap', 'small_cap', 'PER', 'PBR', 'ROE', 'EPS', 'ATR_7']].copy()\n",
        "\n",
        "col_list = list(temp_cluster)\n",
        "for i in range(0,13,3):\n",
        "    print(i)\n",
        "    plt.figure(figsize= (25,5))\n",
        "    plt.subplot(1,3,1)\n",
        "    plt.hist(temp_cluster[col_list[i]])\n",
        "    plt.subplot(1,3,2)\n",
        "    plt.hist(temp_cluster[col_list[i+1]])\n",
        "    if i != 12:\n",
        "        plt.subplot(1,3,3)\n",
        "        plt.hist(temp_cluster[col_list[i+2]])\n",
        "        print(col_list[i], col_list[i+1], col_list[i+2])\n",
        "    else:\n",
        "        print(col_list[i], col_list[i+1])       \n",
        "\n",
        "    plt.show()"
      ],
      "execution_count": null,
      "outputs": [
        {
          "output_type": "stream",
          "text": [
            "0\n",
            "동일나이군구분코드 총매수금액 총매수수량\n"
          ],
          "name": "stdout"
        },
        {
          "output_type": "stream",
          "text": [
            "/usr/local/lib/python3.7/dist-packages/matplotlib/backends/backend_agg.py:214: RuntimeWarning: Glyph 8722 missing from current font.\n",
            "  font.set_text(s, 0.0, flags=flags)\n",
            "/usr/local/lib/python3.7/dist-packages/matplotlib/backends/backend_agg.py:183: RuntimeWarning: Glyph 8722 missing from current font.\n",
            "  font.set_text(s, 0, flags=flags)\n"
          ],
          "name": "stderr"
        },
        {
          "output_type": "display_data",
          "data": {
            "image/png": "[encoded data removed]",
            "text/plain": [
              "<Figure size 1800x360 with 3 Axes>"
            ]
          },
          "metadata": {
            "tags": []
          }
        },
        {
          "output_type": "stream",
          "text": [
            "3\n",
            "업종개수 large_cap medium_cap\n"
          ],
          "name": "stdout"
        },
        {
          "output_type": "display_data",
          "data": {
            "image/png": "[encoded data removed]",
            "text/plain": [
              "<Figure size 1800x360 with 3 Axes>"
            ]
          },
          "metadata": {
            "tags": []
          }
        },
        {
          "output_type": "stream",
          "text": [
            "6\n",
            "small_cap PER PBR\n"
          ],
          "name": "stdout"
        },
        {
          "output_type": "display_data",
          "data": {
            "image/png": "[encoded data removed]",
            "text/plain": [
              "<Figure size 1800x360 with 3 Axes>"
            ]
          },
          "metadata": {
            "tags": []
          }
        },
        {
          "output_type": "stream",
          "text": [
            "9\n",
            "ROE EPS ATR_7\n"
          ],
          "name": "stdout"
        },
        {
          "output_type": "display_data",
          "data": {
            "image/png": "[encoded data removed]",
            "text/plain": [
              "<Figure size 1800x360 with 3 Axes>"
            ]
          },
          "metadata": {
            "tags": []
          }
        },
        {
          "output_type": "stream",
          "text": [
            "12\n"
          ],
          "name": "stdout"
        },
        {
          "output_type": "error",
          "ename": "IndexError",
          "evalue": "ignored",
          "traceback": [
            "\u001b[0;31m---------------------------------------------------------------------------\u001b[0m",
            "\u001b[0;31mIndexError\u001b[0m                                Traceback (most recent call last)",
            "\u001b[0;32m<ipython-input-221-a276b46fc53e>\u001b[0m in \u001b[0;36m<module>\u001b[0;34m()\u001b[0m\n\u001b[1;32m      6\u001b[0m     \u001b[0mplt\u001b[0m\u001b[0;34m.\u001b[0m\u001b[0mfigure\u001b[0m\u001b[0;34m(\u001b[0m\u001b[0mfigsize\u001b[0m\u001b[0;34m=\u001b[0m \u001b[0;34m(\u001b[0m\u001b[0;36m25\u001b[0m\u001b[0;34m,\u001b[0m\u001b[0;36m5\u001b[0m\u001b[0;34m)\u001b[0m\u001b[0;34m)\u001b[0m\u001b[0;34m\u001b[0m\u001b[0;34m\u001b[0m\u001b[0m\n\u001b[1;32m      7\u001b[0m     \u001b[0mplt\u001b[0m\u001b[0;34m.\u001b[0m\u001b[0msubplot\u001b[0m\u001b[0;34m(\u001b[0m\u001b[0;36m1\u001b[0m\u001b[0;34m,\u001b[0m\u001b[0;36m3\u001b[0m\u001b[0;34m,\u001b[0m\u001b[0;36m1\u001b[0m\u001b[0;34m)\u001b[0m\u001b[0;34m\u001b[0m\u001b[0;34m\u001b[0m\u001b[0m\n\u001b[0;32m----> 8\u001b[0;31m     \u001b[0mplt\u001b[0m\u001b[0;34m.\u001b[0m\u001b[0mhist\u001b[0m\u001b[0;34m(\u001b[0m\u001b[0mtemp_cluster\u001b[0m\u001b[0;34m[\u001b[0m\u001b[0mcol_list\u001b[0m\u001b[0;34m[\u001b[0m\u001b[0mi\u001b[0m\u001b[0;34m]\u001b[0m\u001b[0;34m]\u001b[0m\u001b[0;34m)\u001b[0m\u001b[0;34m\u001b[0m\u001b[0;34m\u001b[0m\u001b[0m\n\u001b[0m\u001b[1;32m      9\u001b[0m     \u001b[0mplt\u001b[0m\u001b[0;34m.\u001b[0m\u001b[0msubplot\u001b[0m\u001b[0;34m(\u001b[0m\u001b[0;36m1\u001b[0m\u001b[0;34m,\u001b[0m\u001b[0;36m3\u001b[0m\u001b[0;34m,\u001b[0m\u001b[0;36m2\u001b[0m\u001b[0;34m)\u001b[0m\u001b[0;34m\u001b[0m\u001b[0;34m\u001b[0m\u001b[0m\n\u001b[1;32m     10\u001b[0m     \u001b[0mplt\u001b[0m\u001b[0;34m.\u001b[0m\u001b[0mhist\u001b[0m\u001b[0;34m(\u001b[0m\u001b[0mtemp_cluster\u001b[0m\u001b[0;34m[\u001b[0m\u001b[0mcol_list\u001b[0m\u001b[0;34m[\u001b[0m\u001b[0mi\u001b[0m\u001b[0;34m+\u001b[0m\u001b[0;36m1\u001b[0m\u001b[0;34m]\u001b[0m\u001b[0;34m]\u001b[0m\u001b[0;34m)\u001b[0m\u001b[0;34m\u001b[0m\u001b[0;34m\u001b[0m\u001b[0m\n",
            "\u001b[0;31mIndexError\u001b[0m: list index out of range"
          ]
        },
        {
          "output_type": "display_data",
          "data": {
            "image/png": "[encoded data removed]",
            "text/plain": [
              "<Figure size 1800x360 with 1 Axes>"
            ]
          },
          "metadata": {
            "tags": []
          }
        }
      ]
    },
    {
      "cell_type": "markdown",
      "metadata": {
        "id": "L3Xkqygj1NkU"
      },
      "source": [
        "## 4번 군집 해석 -> 일반적인 동학개미 투자자인 2번 군집보다 훨씬 방어적인 투자자\n",
        "- 군집 숫자 766명 (2위)\n",
        "- 20대 30대 40대 다수, 50대 소수\n",
        "- 매수금액 다양하지 않고 구매수량 적음 (지금까지 4<2<0<1<3 순서)\n",
        "- 업종은 다양하지 않은 편 ( 4<2<0<1<3 순서)\n",
        "- 대형주 투자 위주 (대형주 선호도 3<1<=0<2<4) \n",
        "- PBR 지표를 선호하고 그외 PER, ATR 추종하는 편"
      ]
    },
    {
      "cell_type": "code",
      "metadata": {
        "colab": {
          "base_uri": "https://localhost:8080/",
          "height": 1728
        },
        "id": "j_990RzuxdIg",
        "outputId": "881a8e62-07c9-4715-f0c1-abf007f3e52b"
      },
      "source": [
        "temp_cluster = train_cluster[train_cluster.cluster == 4][['동일나이군구분코드', '총매수금액', '총매수수량', '업종개수', 'large_cap', 'medium_cap', 'small_cap', 'PER', 'PBR', 'ROE', 'EPS', 'ATR_7']].copy()\n",
        "\n",
        "col_list = list(temp_cluster)\n",
        "for i in range(0,13,3):\n",
        "    print(i)\n",
        "    plt.figure(figsize= (25,5))\n",
        "    plt.subplot(1,3,1)\n",
        "    plt.hist(temp_cluster[col_list[i]])\n",
        "    plt.subplot(1,3,2)\n",
        "    plt.hist(temp_cluster[col_list[i+1]])\n",
        "    if i != 12:\n",
        "        plt.subplot(1,3,3)\n",
        "        plt.hist(temp_cluster[col_list[i+2]])\n",
        "        print(col_list[i], col_list[i+1], col_list[i+2])\n",
        "    else:\n",
        "        print(col_list[i], col_list[i+1])       \n",
        "\n",
        "    plt.show()"
      ],
      "execution_count": null,
      "outputs": [
        {
          "output_type": "stream",
          "text": [
            "0\n",
            "동일나이군구분코드 총매수금액 총매수수량\n"
          ],
          "name": "stdout"
        },
        {
          "output_type": "stream",
          "text": [
            "/usr/local/lib/python3.7/dist-packages/matplotlib/backends/backend_agg.py:214: RuntimeWarning: Glyph 8722 missing from current font.\n",
            "  font.set_text(s, 0.0, flags=flags)\n",
            "/usr/local/lib/python3.7/dist-packages/matplotlib/backends/backend_agg.py:183: RuntimeWarning: Glyph 8722 missing from current font.\n",
            "  font.set_text(s, 0, flags=flags)\n"
          ],
          "name": "stderr"
        },
        {
          "output_type": "display_data",
          "data": {
            "image/png": "[encoded data removed]",
            "text/plain": [
              "<Figure size 1800x360 with 3 Axes>"
            ]
          },
          "metadata": {
            "tags": []
          }
        },
        {
          "output_type": "stream",
          "text": [
            "3\n",
            "업종개수 large_cap medium_cap\n"
          ],
          "name": "stdout"
        },
        {
          "output_type": "display_data",
          "data": {
            "image/png": "[encoded data removed]",
            "text/plain": [
              "<Figure size 1800x360 with 3 Axes>"
            ]
          },
          "metadata": {
            "tags": []
          }
        },
        {
          "output_type": "stream",
          "text": [
            "6\n",
            "small_cap PER PBR\n"
          ],
          "name": "stdout"
        },
        {
          "output_type": "display_data",
          "data": {
            "image/png": "[encoded data removed]",
            "text/plain": [
              "<Figure size 1800x360 with 3 Axes>"
            ]
          },
          "metadata": {
            "tags": []
          }
        },
        {
          "output_type": "stream",
          "text": [
            "9\n",
            "ROE EPS ATR_7\n"
          ],
          "name": "stdout"
        },
        {
          "output_type": "display_data",
          "data": {
            "image/png": "[encoded data removed]",
            "text/plain": [
              "<Figure size 1800x360 with 3 Axes>"
            ]
          },
          "metadata": {
            "tags": []
          }
        },
        {
          "output_type": "stream",
          "text": [
            "12\n"
          ],
          "name": "stdout"
        },
        {
          "output_type": "error",
          "ename": "IndexError",
          "evalue": "ignored",
          "traceback": [
            "\u001b[0;31m---------------------------------------------------------------------------\u001b[0m",
            "\u001b[0;31mIndexError\u001b[0m                                Traceback (most recent call last)",
            "\u001b[0;32m<ipython-input-222-b12614f79c71>\u001b[0m in \u001b[0;36m<module>\u001b[0;34m()\u001b[0m\n\u001b[1;32m      6\u001b[0m     \u001b[0mplt\u001b[0m\u001b[0;34m.\u001b[0m\u001b[0mfigure\u001b[0m\u001b[0;34m(\u001b[0m\u001b[0mfigsize\u001b[0m\u001b[0;34m=\u001b[0m \u001b[0;34m(\u001b[0m\u001b[0;36m25\u001b[0m\u001b[0;34m,\u001b[0m\u001b[0;36m5\u001b[0m\u001b[0;34m)\u001b[0m\u001b[0;34m)\u001b[0m\u001b[0;34m\u001b[0m\u001b[0;34m\u001b[0m\u001b[0m\n\u001b[1;32m      7\u001b[0m     \u001b[0mplt\u001b[0m\u001b[0;34m.\u001b[0m\u001b[0msubplot\u001b[0m\u001b[0;34m(\u001b[0m\u001b[0;36m1\u001b[0m\u001b[0;34m,\u001b[0m\u001b[0;36m3\u001b[0m\u001b[0;34m,\u001b[0m\u001b[0;36m1\u001b[0m\u001b[0;34m)\u001b[0m\u001b[0;34m\u001b[0m\u001b[0;34m\u001b[0m\u001b[0m\n\u001b[0;32m----> 8\u001b[0;31m     \u001b[0mplt\u001b[0m\u001b[0;34m.\u001b[0m\u001b[0mhist\u001b[0m\u001b[0;34m(\u001b[0m\u001b[0mtemp_cluster\u001b[0m\u001b[0;34m[\u001b[0m\u001b[0mcol_list\u001b[0m\u001b[0;34m[\u001b[0m\u001b[0mi\u001b[0m\u001b[0;34m]\u001b[0m\u001b[0;34m]\u001b[0m\u001b[0;34m)\u001b[0m\u001b[0;34m\u001b[0m\u001b[0;34m\u001b[0m\u001b[0m\n\u001b[0m\u001b[1;32m      9\u001b[0m     \u001b[0mplt\u001b[0m\u001b[0;34m.\u001b[0m\u001b[0msubplot\u001b[0m\u001b[0;34m(\u001b[0m\u001b[0;36m1\u001b[0m\u001b[0;34m,\u001b[0m\u001b[0;36m3\u001b[0m\u001b[0;34m,\u001b[0m\u001b[0;36m2\u001b[0m\u001b[0;34m)\u001b[0m\u001b[0;34m\u001b[0m\u001b[0;34m\u001b[0m\u001b[0m\n\u001b[1;32m     10\u001b[0m     \u001b[0mplt\u001b[0m\u001b[0;34m.\u001b[0m\u001b[0mhist\u001b[0m\u001b[0;34m(\u001b[0m\u001b[0mtemp_cluster\u001b[0m\u001b[0;34m[\u001b[0m\u001b[0mcol_list\u001b[0m\u001b[0;34m[\u001b[0m\u001b[0mi\u001b[0m\u001b[0;34m+\u001b[0m\u001b[0;36m1\u001b[0m\u001b[0;34m]\u001b[0m\u001b[0;34m]\u001b[0m\u001b[0;34m)\u001b[0m\u001b[0;34m\u001b[0m\u001b[0;34m\u001b[0m\u001b[0m\n",
            "\u001b[0;31mIndexError\u001b[0m: list index out of range"
          ]
        },
        {
          "output_type": "display_data",
          "data": {
            "image/png": "[encoded data removed]",
            "text/plain": [
              "<Figure size 1800x360 with 1 Axes>"
            ]
          },
          "metadata": {
            "tags": []
          }
        }
      ]
    },
    {
      "cell_type": "code",
      "metadata": {
        "id": "pCDqb_f_xe5N"
      },
      "source": [
        "train_cluster.to_csv(path + '클러스터링_시도1.csv', index=False)"
      ],
      "execution_count": null,
      "outputs": []
    },
    {
      "cell_type": "code",
      "metadata": {
        "colab": {
          "base_uri": "https://localhost:8080/"
        },
        "id": "FLTFCvCnX-xM",
        "outputId": "1b526a03-7aba-45e9-e57f-3696f95e7b62"
      },
      "source": [
        "train_cluster.cluster.value_counts()"
      ],
      "execution_count": null,
      "outputs": [
        {
          "output_type": "execute_result",
          "data": {
            "text/plain": [
              "2    6417\n",
              "4     766\n",
              "0     601\n",
              "1     130\n",
              "3      24\n",
              "Name: cluster, dtype: int64"
            ]
          },
          "metadata": {
            "tags": []
          },
          "execution_count": 225
        }
      ]
    },
    {
      "cell_type": "code",
      "metadata": {
        "colab": {
          "base_uri": "https://localhost:8080/",
          "height": 567
        },
        "id": "IGmJC-oHxcMG",
        "outputId": "0c2f2e51-7b06-46c1-d724-5dd39d4f8af3"
      },
      "source": [
        "train_cluster"
      ],
      "execution_count": null,
      "outputs": [
        {
          "output_type": "execute_result",
          "data": {
            "text/html": [
              "<div>\n",
              "<style scoped>\n",
              "    .dataframe tbody tr th:only-of-type {\n",
              "        vertical-align: middle;\n",
              "    }\n",
              "\n",
              "    .dataframe tbody tr th {\n",
              "        vertical-align: top;\n",
              "    }\n",
              "\n",
              "    .dataframe thead th {\n",
              "        text-align: right;\n",
              "    }\n",
              "</style>\n",
              "<table border=\"1\" class=\"dataframe\">\n",
              "  <thead>\n",
              "    <tr style=\"text-align: right;\">\n",
              "      <th></th>\n",
              "      <th>동일나이군구분코드</th>\n",
              "      <th>총매수금액</th>\n",
              "      <th>총매수수량</th>\n",
              "      <th>업종개수</th>\n",
              "      <th>large_cap</th>\n",
              "      <th>medium_cap</th>\n",
              "      <th>small_cap</th>\n",
              "      <th>large_cap_period</th>\n",
              "      <th>PER</th>\n",
              "      <th>PBR</th>\n",
              "      <th>ROE</th>\n",
              "      <th>EPS</th>\n",
              "      <th>ATR_7</th>\n",
              "      <th>cluster</th>\n",
              "    </tr>\n",
              "  </thead>\n",
              "  <tbody>\n",
              "    <tr>\n",
              "      <th>0</th>\n",
              "      <td>0.0</td>\n",
              "      <td>-0.188454</td>\n",
              "      <td>-0.220015</td>\n",
              "      <td>-0.8</td>\n",
              "      <td>0.798295</td>\n",
              "      <td>-0.550775</td>\n",
              "      <td>-0.356546</td>\n",
              "      <td>-0.391667</td>\n",
              "      <td>-0.137600</td>\n",
              "      <td>-0.399572</td>\n",
              "      <td>1.284474</td>\n",
              "      <td>4.487079</td>\n",
              "      <td>2.107561</td>\n",
              "      <td>2</td>\n",
              "    </tr>\n",
              "    <tr>\n",
              "      <th>1</th>\n",
              "      <td>0.0</td>\n",
              "      <td>1.012451</td>\n",
              "      <td>0.214668</td>\n",
              "      <td>-0.6</td>\n",
              "      <td>0.520765</td>\n",
              "      <td>-0.066435</td>\n",
              "      <td>-0.356546</td>\n",
              "      <td>-0.386667</td>\n",
              "      <td>4.516943</td>\n",
              "      <td>3.510591</td>\n",
              "      <td>0.905693</td>\n",
              "      <td>0.058723</td>\n",
              "      <td>2.319570</td>\n",
              "      <td>4</td>\n",
              "    </tr>\n",
              "    <tr>\n",
              "      <th>2</th>\n",
              "      <td>1.0</td>\n",
              "      <td>-0.298310</td>\n",
              "      <td>-0.216960</td>\n",
              "      <td>-1.0</td>\n",
              "      <td>-0.629170</td>\n",
              "      <td>1.940399</td>\n",
              "      <td>-0.356546</td>\n",
              "      <td>-0.666667</td>\n",
              "      <td>-0.397684</td>\n",
              "      <td>-0.403039</td>\n",
              "      <td>-0.469574</td>\n",
              "      <td>1.924817</td>\n",
              "      <td>-0.440116</td>\n",
              "      <td>2</td>\n",
              "    </tr>\n",
              "    <tr>\n",
              "      <th>3</th>\n",
              "      <td>0.0</td>\n",
              "      <td>1.202118</td>\n",
              "      <td>3.247517</td>\n",
              "      <td>1.8</td>\n",
              "      <td>-0.629170</td>\n",
              "      <td>0.539688</td>\n",
              "      <td>0.959189</td>\n",
              "      <td>-0.666667</td>\n",
              "      <td>0.397516</td>\n",
              "      <td>-0.348721</td>\n",
              "      <td>1.578465</td>\n",
              "      <td>-0.148041</td>\n",
              "      <td>-0.462189</td>\n",
              "      <td>2</td>\n",
              "    </tr>\n",
              "    <tr>\n",
              "      <th>4</th>\n",
              "      <td>-0.5</td>\n",
              "      <td>-0.229829</td>\n",
              "      <td>1.138273</td>\n",
              "      <td>0.0</td>\n",
              "      <td>-0.165281</td>\n",
              "      <td>-0.550775</td>\n",
              "      <td>1.223045</td>\n",
              "      <td>-0.666667</td>\n",
              "      <td>-0.335217</td>\n",
              "      <td>-0.451078</td>\n",
              "      <td>-0.404407</td>\n",
              "      <td>0.000165</td>\n",
              "      <td>-0.585511</td>\n",
              "      <td>2</td>\n",
              "    </tr>\n",
              "    <tr>\n",
              "      <th>...</th>\n",
              "      <td>...</td>\n",
              "      <td>...</td>\n",
              "      <td>...</td>\n",
              "      <td>...</td>\n",
              "      <td>...</td>\n",
              "      <td>...</td>\n",
              "      <td>...</td>\n",
              "      <td>...</td>\n",
              "      <td>...</td>\n",
              "      <td>...</td>\n",
              "      <td>...</td>\n",
              "      <td>...</td>\n",
              "      <td>...</td>\n",
              "      <td>...</td>\n",
              "    </tr>\n",
              "    <tr>\n",
              "      <th>7933</th>\n",
              "      <td>0.0</td>\n",
              "      <td>0.207308</td>\n",
              "      <td>3.671505</td>\n",
              "      <td>-0.2</td>\n",
              "      <td>0.261436</td>\n",
              "      <td>-0.152156</td>\n",
              "      <td>0.149091</td>\n",
              "      <td>0.283333</td>\n",
              "      <td>-0.028248</td>\n",
              "      <td>-0.551939</td>\n",
              "      <td>1.174691</td>\n",
              "      <td>0.358817</td>\n",
              "      <td>0.316181</td>\n",
              "      <td>2</td>\n",
              "    </tr>\n",
              "    <tr>\n",
              "      <th>7934</th>\n",
              "      <td>-0.5</td>\n",
              "      <td>6.608258</td>\n",
              "      <td>3.763178</td>\n",
              "      <td>0.0</td>\n",
              "      <td>-0.418166</td>\n",
              "      <td>-0.199783</td>\n",
              "      <td>1.307901</td>\n",
              "      <td>0.233333</td>\n",
              "      <td>-0.056973</td>\n",
              "      <td>0.632808</td>\n",
              "      <td>-0.211370</td>\n",
              "      <td>-0.200899</td>\n",
              "      <td>0.325801</td>\n",
              "      <td>0</td>\n",
              "    </tr>\n",
              "    <tr>\n",
              "      <th>7935</th>\n",
              "      <td>-0.5</td>\n",
              "      <td>-0.273831</td>\n",
              "      <td>-0.227655</td>\n",
              "      <td>-0.8</td>\n",
              "      <td>0.690608</td>\n",
              "      <td>-0.362841</td>\n",
              "      <td>-0.356546</td>\n",
              "      <td>0.197470</td>\n",
              "      <td>0.131442</td>\n",
              "      <td>-0.413144</td>\n",
              "      <td>1.513316</td>\n",
              "      <td>2.317100</td>\n",
              "      <td>1.925226</td>\n",
              "      <td>2</td>\n",
              "    </tr>\n",
              "    <tr>\n",
              "      <th>7936</th>\n",
              "      <td>0.0</td>\n",
              "      <td>-0.256647</td>\n",
              "      <td>-0.223835</td>\n",
              "      <td>-0.6</td>\n",
              "      <td>0.611933</td>\n",
              "      <td>-0.225541</td>\n",
              "      <td>-0.356546</td>\n",
              "      <td>-0.216667</td>\n",
              "      <td>-0.232764</td>\n",
              "      <td>-0.340779</td>\n",
              "      <td>0.234008</td>\n",
              "      <td>2.383798</td>\n",
              "      <td>0.863129</td>\n",
              "      <td>2</td>\n",
              "    </tr>\n",
              "    <tr>\n",
              "      <th>7937</th>\n",
              "      <td>0.5</td>\n",
              "      <td>-0.084593</td>\n",
              "      <td>-0.153552</td>\n",
              "      <td>-0.8</td>\n",
              "      <td>0.674889</td>\n",
              "      <td>-0.335410</td>\n",
              "      <td>-0.356546</td>\n",
              "      <td>0.883333</td>\n",
              "      <td>-0.450068</td>\n",
              "      <td>-0.756470</td>\n",
              "      <td>-0.732989</td>\n",
              "      <td>-0.249245</td>\n",
              "      <td>-0.018425</td>\n",
              "      <td>2</td>\n",
              "    </tr>\n",
              "  </tbody>\n",
              "</table>\n",
              "<p>7938 rows × 14 columns</p>\n",
              "</div>"
            ],
            "text/plain": [
              "      동일나이군구분코드     총매수금액     총매수수량  ...       EPS     ATR_7  cluster\n",
              "0           0.0 -0.188454 -0.220015  ...  4.487079  2.107561        2\n",
              "1           0.0  1.012451  0.214668  ...  0.058723  2.319570        4\n",
              "2           1.0 -0.298310 -0.216960  ...  1.924817 -0.440116        2\n",
              "3           0.0  1.202118  3.247517  ... -0.148041 -0.462189        2\n",
              "4          -0.5 -0.229829  1.138273  ...  0.000165 -0.585511        2\n",
              "...         ...       ...       ...  ...       ...       ...      ...\n",
              "7933        0.0  0.207308  3.671505  ...  0.358817  0.316181        2\n",
              "7934       -0.5  6.608258  3.763178  ... -0.200899  0.325801        0\n",
              "7935       -0.5 -0.273831 -0.227655  ...  2.317100  1.925226        2\n",
              "7936        0.0 -0.256647 -0.223835  ...  2.383798  0.863129        2\n",
              "7937        0.5 -0.084593 -0.153552  ... -0.249245 -0.018425        2\n",
              "\n",
              "[7938 rows x 14 columns]"
            ]
          },
          "metadata": {
            "tags": []
          },
          "execution_count": 227
        }
      ]
    },
    {
      "cell_type": "code",
      "metadata": {
        "id": "jev8dO-M51-t"
      },
      "source": [
        ""
      ],
      "execution_count": null,
      "outputs": []
    }
  ]
}