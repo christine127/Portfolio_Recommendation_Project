{
  "nbformat": 4,
  "nbformat_minor": 0,
  "metadata": {
    "colab": {
      "name": "알고리즘.ipynb",
      "provenance": [],
      "collapsed_sections": [],
      "include_colab_link": true
    },
    "kernelspec": {
      "name": "python3",
      "display_name": "Python 3"
    },
    "language_info": {
      "name": "python"
    }
  },
  "cells": [
    {
      "cell_type": "markdown",
      "metadata": {
        "id": "view-in-github",
        "colab_type": "text"
      },
      "source": [
        "<a href=\"https://colab.research.google.com/github/christine127/Portfolio_Recommendation_Project/blob/main/%EC%95%8C%EA%B3%A0%EB%A6%AC%EC%A6%98.ipynb\" target=\"_parent\"><img src=\"https://colab.research.google.com/assets/colab-badge.svg\" alt=\"Open In Colab\"/></a>"
      ]
    },
    {
      "cell_type": "code",
      "metadata": {
        "colab": {
          "base_uri": "https://localhost:8080/"
        },
        "id": "OiHYG4GsXjhp",
        "outputId": "51fe0447-4dbb-4bb7-cf5d-a937b55e4a8b"
      },
      "source": [
        "!pip install mlxtend --upgrade"
      ],
      "execution_count": 3,
      "outputs": [
        {
          "output_type": "stream",
          "text": [
            "Requirement already satisfied: mlxtend in /usr/local/lib/python3.7/dist-packages (0.18.0)\n",
            "Requirement already satisfied: joblib>=0.13.2 in /usr/local/lib/python3.7/dist-packages (from mlxtend) (1.0.1)\n",
            "Requirement already satisfied: numpy>=1.16.2 in /usr/local/lib/python3.7/dist-packages (from mlxtend) (1.19.5)\n",
            "Requirement already satisfied: matplotlib>=3.0.0 in /usr/local/lib/python3.7/dist-packages (from mlxtend) (3.2.2)\n",
            "Requirement already satisfied: scipy>=1.2.1 in /usr/local/lib/python3.7/dist-packages (from mlxtend) (1.4.1)\n",
            "Requirement already satisfied: setuptools in /usr/local/lib/python3.7/dist-packages (from mlxtend) (57.2.0)\n",
            "Requirement already satisfied: pandas>=0.24.2 in /usr/local/lib/python3.7/dist-packages (from mlxtend) (1.1.5)\n",
            "Requirement already satisfied: scikit-learn>=0.20.3 in /usr/local/lib/python3.7/dist-packages (from mlxtend) (0.22.2.post1)\n",
            "Requirement already satisfied: kiwisolver>=1.0.1 in /usr/local/lib/python3.7/dist-packages (from matplotlib>=3.0.0->mlxtend) (1.3.1)\n",
            "Requirement already satisfied: python-dateutil>=2.1 in /usr/local/lib/python3.7/dist-packages (from matplotlib>=3.0.0->mlxtend) (2.8.1)\n",
            "Requirement already satisfied: cycler>=0.10 in /usr/local/lib/python3.7/dist-packages (from matplotlib>=3.0.0->mlxtend) (0.10.0)\n",
            "Requirement already satisfied: pyparsing!=2.0.4,!=2.1.2,!=2.1.6,>=2.0.1 in /usr/local/lib/python3.7/dist-packages (from matplotlib>=3.0.0->mlxtend) (2.4.7)\n",
            "Requirement already satisfied: six in /usr/local/lib/python3.7/dist-packages (from cycler>=0.10->matplotlib>=3.0.0->mlxtend) (1.15.0)\n",
            "Requirement already satisfied: pytz>=2017.2 in /usr/local/lib/python3.7/dist-packages (from pandas>=0.24.2->mlxtend) (2018.9)\n"
          ],
          "name": "stdout"
        }
      ]
    },
    {
      "cell_type": "code",
      "metadata": {
        "colab": {
          "base_uri": "https://localhost:8080/"
        },
        "id": "gKCUQnkZKS1_",
        "outputId": "902541b7-d0ab-464e-93d5-34514a7b8577"
      },
      "source": [
        "from google.colab import drive\n",
        "drive.mount('/content/drive')"
      ],
      "execution_count": 1,
      "outputs": [
        {
          "output_type": "stream",
          "text": [
            "Drive already mounted at /content/drive; to attempt to forcibly remount, call drive.mount(\"/content/drive\", force_remount=True).\n"
          ],
          "name": "stdout"
        }
      ]
    },
    {
      "cell_type": "code",
      "metadata": {
        "id": "m_tMjw2PHzmR"
      },
      "source": [
        "import pandas as pd\n",
        "import numpy as np\n",
        "import mlxtend"
      ],
      "execution_count": 2,
      "outputs": []
    },
    {
      "cell_type": "code",
      "metadata": {
        "id": "rB7RFzRDHNSG"
      },
      "source": [
        "path ='/content/drive/MyDrive/소회의실 프로젝트/전처리_완료/최종/'\n",
        "file = pd.read_csv(path + '원본_210728.csv', encoding ='cp949')\n",
        "customer_info = pd.read_csv(path+'customer_info_5가지_샘플제외.csv' )\n",
        "\n",
        "sample_file = pd.read_csv(path+'원본_sample100.csv' , encoding='cp949')\n",
        "sample_info = pd.read_csv(path+'customer_info_5가지_샘플.csv' )\n"
      ],
      "execution_count": 3,
      "outputs": []
    },
    {
      "cell_type": "code",
      "metadata": {
        "id": "kAcSG-NviRfe"
      },
      "source": [
        "# 거래횟수 상위 10 종목 제외\n",
        "\n",
        "stock = file.groupby('상품명')['상품명'].count().sort_values(ascending = False)[:10]\n",
        "stock= pd.DataFrame(stock).rename(columns = {'상품명':'count'}).reset_index()\n",
        "\n",
        "file = file.loc[~file['상품명'].isin(stock['상품명'])]\n",
        "sample_file = sample_file.loc[~sample_file['상품명'].isin(stock['상품명'])]"
      ],
      "execution_count": 4,
      "outputs": []
    },
    {
      "cell_type": "code",
      "metadata": {
        "id": "SmYB2YttJQv0",
        "collapsed": true
      },
      "source": [
        "cluster_dict = customer_info.set_index('고객구분코드')['cluster'].to_dict()\n",
        "file['cluster'] = file['고객구분코드'].map(cluster_dict).astype(str)\n",
        "\n",
        "cluster_dict = sample_info.set_index('고객구분코드')['cluster'].to_dict()\n",
        "sample_file['cluster'] = sample_file['고객구분코드'].map(cluster_dict).astype(str)"
      ],
      "execution_count": 5,
      "outputs": []
    },
    {
      "cell_type": "code",
      "metadata": {
        "id": "ghJ-lKWeRds6"
      },
      "source": [
        "file['code'] = file['상품번호'].str[-6:]\n",
        "sample_file['code'] = sample_file['상품번호'].str[-6:]\n"
      ],
      "execution_count": 6,
      "outputs": []
    },
    {
      "cell_type": "code",
      "metadata": {
        "id": "YxSjuW_fR3-7"
      },
      "source": [
        "file= file.dropna()\n",
        "customer_info =customer_info.dropna()\n",
        "sample_info =sample_info.dropna()"
      ],
      "execution_count": 7,
      "outputs": []
    },
    {
      "cell_type": "code",
      "metadata": {
        "id": "npfg6O9nfk2x"
      },
      "source": [
        "## file\n",
        "retain_df = pd.DataFrame(file.groupby(['고객구분코드','상품명','매도매수구분코드'])['총체결수량'].sum()).unstack('매도매수구분코드').fillna(0)\n",
        "retain_df['보유개수']= retain_df[('총체결수량',2)]-retain_df[('총체결수량',1)]\n",
        "retain_df['보유개수'] = np.where(retain_df['보유개수']<0, 0,retain_df['보유개수'])\n",
        "retain_stock_list = retain_df['보유개수'].reset_index().groupby(['고객구분코드'])['상품명'].apply(list)\n",
        "customer_info.set_index('고객구분코드', inplace= True )\n",
        "customer_info = customer_info.join(retain_stock_list, how = 'left')\n",
        "\n",
        "##sample_file\n",
        "retain_df_sample = pd.DataFrame(sample_file.groupby(['고객구분코드','상품명','매도매수구분코드'])['총체결수량'].sum()).unstack('매도매수구분코드').fillna(0)\n",
        "retain_df_sample['보유개수']= retain_df_sample[('총체결수량',2)]-retain_df_sample[('총체결수량',1)]\n",
        "retain_df_sample['보유개수'] = np.where(retain_df_sample['보유개수']<0, 0,retain_df_sample['보유개수'])\n",
        "retain_stock_list_sample = retain_df_sample['보유개수'].reset_index().groupby(['고객구분코드'])['상품명'].apply(list)\n",
        "sample_info.set_index('고객구분코드', inplace= True )\n",
        "sample_info = sample_info.join(retain_stock_list_sample, how = 'left')\n"
      ],
      "execution_count": 8,
      "outputs": []
    },
    {
      "cell_type": "code",
      "metadata": {
        "id": "2-ymxW4kAKwz"
      },
      "source": [
        "# customer_info.drop(['상품명'], axis=1, inplace= True)\n",
        "# sample_info.drop(['상품명'], axis=1, inplace= True)"
      ],
      "execution_count": 9,
      "outputs": []
    },
    {
      "cell_type": "code",
      "metadata": {
        "id": "FAiZJ_djiN06"
      },
      "source": [
        "customer_info = customer_info.dropna()\n",
        "sample_info = sample_info.dropna()"
      ],
      "execution_count": 10,
      "outputs": []
    },
    {
      "cell_type": "markdown",
      "metadata": {
        "id": "xqde7-grHySG"
      },
      "source": [
        "## FP-Growth 전처리: \n",
        "[[cluster, 종목명],[cluster, 종목명],[cluster, 종목명]] "
      ]
    },
    {
      "cell_type": "code",
      "metadata": {
        "id": "5ShmRaGZve0I"
      },
      "source": [
        "# lst2 = list(file.groupby('고객구분코드')['code'].unique().agg(list) + file.groupby('고객구분코드')['cluster'].unique().agg(list))\n",
        "# lst_whole = list(customer_info['상품명']+ customer_info['cluster'].astype(str).apply(list))\n",
        "lst_whole = customer_info['상품명']\n",
        "lst_sample = sample_info['상품명']"
      ],
      "execution_count": 11,
      "outputs": []
    },
    {
      "cell_type": "code",
      "metadata": {
        "id": "SD3EUkTUve0J"
      },
      "source": [
        "from mlxtend.preprocessing import TransactionEncoder\n",
        "te = TransactionEncoder()\n",
        "te_ary_whole = te.fit(lst_whole).transform(lst_whole)\n",
        "df_whole = pd.DataFrame(te_ary_whole, columns=te.columns_)\n",
        "\n",
        "te_ary_sample = te.fit(lst_sample).transform(lst_sample)\n",
        "df_sample = pd.DataFrame(te_ary_sample, columns=te.columns_)\n"
      ],
      "execution_count": 12,
      "outputs": []
    },
    {
      "cell_type": "markdown",
      "metadata": {
        "id": "c05Z56SHaKn6"
      },
      "source": [
        "# 전체"
      ]
    },
    {
      "cell_type": "markdown",
      "metadata": {
        "id": "t23314qW6EOj"
      },
      "source": [
        "## binary"
      ]
    },
    {
      "cell_type": "code",
      "metadata": {
        "id": "fz0mIUdP5uAA"
      },
      "source": [
        "v_whole = df_whole.astype(int).T.dot(df_whole.astype(int))\n",
        "v_whole = v_whole/len(df_whole)"
      ],
      "execution_count": 13,
      "outputs": []
    },
    {
      "cell_type": "code",
      "metadata": {
        "id": "9-w_ejlQXMLD"
      },
      "source": [
        "itemsets = v_whole.unstack().index.to_list()\n",
        "support = v_whole.unstack().values\n",
        "support_lst = pd.DataFrame({'support':support,'itemsets':itemsets})\n"
      ],
      "execution_count": 26,
      "outputs": []
    },
    {
      "cell_type": "code",
      "metadata": {
        "id": "Nj53_86yHpj8",
        "colab": {
          "base_uri": "https://localhost:8080/",
          "height": 414
        },
        "outputId": "2f59d144-ffd7-43e9-d9cd-2c4e1074696a"
      },
      "source": [
        "idx = support_lst.loc[support_lst['itemsets'].isin((list(zip(v_whole.index,v_whole.columns)))),'itemsets'].index\n",
        "support_lst.loc[support_lst['itemsets'].isin((list(zip(v_whole.index,v_whole.columns)))),'itemsets'] =pd.Series(list(zip(v_whole.index)), index=idx)\n",
        "support_lst"
      ],
      "execution_count": 27,
      "outputs": [
        {
          "output_type": "execute_result",
          "data": {
            "text/html": [
              "<div>\n",
              "<style scoped>\n",
              "    .dataframe tbody tr th:only-of-type {\n",
              "        vertical-align: middle;\n",
              "    }\n",
              "\n",
              "    .dataframe tbody tr th {\n",
              "        vertical-align: top;\n",
              "    }\n",
              "\n",
              "    .dataframe thead th {\n",
              "        text-align: right;\n",
              "    }\n",
              "</style>\n",
              "<table border=\"1\" class=\"dataframe\">\n",
              "  <thead>\n",
              "    <tr style=\"text-align: right;\">\n",
              "      <th></th>\n",
              "      <th>support</th>\n",
              "      <th>itemsets</th>\n",
              "    </tr>\n",
              "  </thead>\n",
              "  <tbody>\n",
              "    <tr>\n",
              "      <th>0</th>\n",
              "      <td>0.000784</td>\n",
              "      <td>((주)마이크로컨텍솔루션,)</td>\n",
              "    </tr>\n",
              "    <tr>\n",
              "      <th>1</th>\n",
              "      <td>0.000000</td>\n",
              "      <td>((주)마이크로컨텍솔루션, (주)스카이이앤엠)</td>\n",
              "    </tr>\n",
              "    <tr>\n",
              "      <th>2</th>\n",
              "      <td>0.000000</td>\n",
              "      <td>((주)마이크로컨텍솔루션, (주)포스코엠텍)</td>\n",
              "    </tr>\n",
              "    <tr>\n",
              "      <th>3</th>\n",
              "      <td>0.000000</td>\n",
              "      <td>((주)마이크로컨텍솔루션, AJ네트웍스보통주)</td>\n",
              "    </tr>\n",
              "    <tr>\n",
              "      <th>4</th>\n",
              "      <td>0.000041</td>\n",
              "      <td>((주)마이크로컨텍솔루션, AK홀딩스보통주)</td>\n",
              "    </tr>\n",
              "    <tr>\n",
              "      <th>...</th>\n",
              "      <td>...</td>\n",
              "      <td>...</td>\n",
              "    </tr>\n",
              "    <tr>\n",
              "      <th>3837676</th>\n",
              "      <td>0.000000</td>\n",
              "      <td>(힘스, 흥국화재해상보험2우선주(신형))</td>\n",
              "    </tr>\n",
              "    <tr>\n",
              "      <th>3837677</th>\n",
              "      <td>0.000041</td>\n",
              "      <td>(힘스, 흥국화재해상보험보통주)</td>\n",
              "    </tr>\n",
              "    <tr>\n",
              "      <th>3837678</th>\n",
              "      <td>0.000000</td>\n",
              "      <td>(힘스, 흥아해운보통주)</td>\n",
              "    </tr>\n",
              "    <tr>\n",
              "      <th>3837679</th>\n",
              "      <td>0.000000</td>\n",
              "      <td>(힘스, 희림종합건축사사무소)</td>\n",
              "    </tr>\n",
              "    <tr>\n",
              "      <th>3837680</th>\n",
              "      <td>0.001321</td>\n",
              "      <td>(힘스,)</td>\n",
              "    </tr>\n",
              "  </tbody>\n",
              "</table>\n",
              "<p>3837681 rows × 2 columns</p>\n",
              "</div>"
            ],
            "text/plain": [
              "          support                   itemsets\n",
              "0        0.000784            ((주)마이크로컨텍솔루션,)\n",
              "1        0.000000  ((주)마이크로컨텍솔루션, (주)스카이이앤엠)\n",
              "2        0.000000   ((주)마이크로컨텍솔루션, (주)포스코엠텍)\n",
              "3        0.000000  ((주)마이크로컨텍솔루션, AJ네트웍스보통주)\n",
              "4        0.000041   ((주)마이크로컨텍솔루션, AK홀딩스보통주)\n",
              "...           ...                        ...\n",
              "3837676  0.000000     (힘스, 흥국화재해상보험2우선주(신형))\n",
              "3837677  0.000041          (힘스, 흥국화재해상보험보통주)\n",
              "3837678  0.000000              (힘스, 흥아해운보통주)\n",
              "3837679  0.000000           (힘스, 희림종합건축사사무소)\n",
              "3837680  0.001321                      (힘스,)\n",
              "\n",
              "[3837681 rows x 2 columns]"
            ]
          },
          "metadata": {
            "tags": []
          },
          "execution_count": 27
        }
      ]
    },
    {
      "cell_type": "code",
      "metadata": {
        "id": "AKryizMtOFDm",
        "colab": {
          "base_uri": "https://localhost:8080/",
          "height": 347
        },
        "collapsed": true,
        "outputId": "95988e63-9d54-44e3-ce63-9ce00c830e15"
      },
      "source": [
        "# from mlxtend.frequent_patterns import association_rules, fpgrowth\n",
        "rules = association_rules(support_lst, metric='lift',min_threshold = 1)\n",
        "rules[['antecedents','consequents']] = rules[['antecedents','consequents']].applymap(lambda x: tuple(x))\n"
      ],
      "execution_count": 28,
      "outputs": [
        {
          "output_type": "error",
          "ename": "KeyboardInterrupt",
          "evalue": "ignored",
          "traceback": [
            "\u001b[0;31m---------------------------------------------------------------------------\u001b[0m",
            "\u001b[0;31mKeyboardInterrupt\u001b[0m                         Traceback (most recent call last)",
            "\u001b[0;32m<ipython-input-28-0f67b9827927>\u001b[0m in \u001b[0;36m<module>\u001b[0;34m()\u001b[0m\n\u001b[1;32m      1\u001b[0m \u001b[0;31m# from mlxtend.frequent_patterns import association_rules, fpgrowth\u001b[0m\u001b[0;34m\u001b[0m\u001b[0;34m\u001b[0m\u001b[0;34m\u001b[0m\u001b[0m\n\u001b[0;32m----> 2\u001b[0;31m \u001b[0mrules\u001b[0m \u001b[0;34m=\u001b[0m \u001b[0massociation_rules\u001b[0m\u001b[0;34m(\u001b[0m\u001b[0msupport_lst\u001b[0m\u001b[0;34m,\u001b[0m \u001b[0mmetric\u001b[0m\u001b[0;34m=\u001b[0m\u001b[0;34m'lift'\u001b[0m\u001b[0;34m,\u001b[0m\u001b[0mmin_threshold\u001b[0m \u001b[0;34m=\u001b[0m \u001b[0;36m1\u001b[0m\u001b[0;34m)\u001b[0m\u001b[0;34m\u001b[0m\u001b[0;34m\u001b[0m\u001b[0m\n\u001b[0m\u001b[1;32m      3\u001b[0m \u001b[0mrules\u001b[0m\u001b[0;34m[\u001b[0m\u001b[0;34m[\u001b[0m\u001b[0;34m'antecedents'\u001b[0m\u001b[0;34m,\u001b[0m\u001b[0;34m'consequents'\u001b[0m\u001b[0;34m]\u001b[0m\u001b[0;34m]\u001b[0m \u001b[0;34m=\u001b[0m \u001b[0mrules\u001b[0m\u001b[0;34m[\u001b[0m\u001b[0;34m[\u001b[0m\u001b[0;34m'antecedents'\u001b[0m\u001b[0;34m,\u001b[0m\u001b[0;34m'consequents'\u001b[0m\u001b[0;34m]\u001b[0m\u001b[0;34m]\u001b[0m\u001b[0;34m.\u001b[0m\u001b[0mapplymap\u001b[0m\u001b[0;34m(\u001b[0m\u001b[0;32mlambda\u001b[0m \u001b[0mx\u001b[0m\u001b[0;34m:\u001b[0m \u001b[0mtuple\u001b[0m\u001b[0;34m(\u001b[0m\u001b[0mx\u001b[0m\u001b[0;34m)\u001b[0m\u001b[0;34m)\u001b[0m\u001b[0;34m\u001b[0m\u001b[0;34m\u001b[0m\u001b[0m\n",
            "\u001b[0;32m/usr/local/lib/python3.7/dist-packages/mlxtend/frequent_patterns/association_rules.py\u001b[0m in \u001b[0;36massociation_rules\u001b[0;34m(df, metric, min_threshold, support_only)\u001b[0m\n\u001b[1;32m    140\u001b[0m         \u001b[0;32mfor\u001b[0m \u001b[0midx\u001b[0m \u001b[0;32min\u001b[0m \u001b[0mrange\u001b[0m\u001b[0;34m(\u001b[0m\u001b[0mlen\u001b[0m\u001b[0;34m(\u001b[0m\u001b[0mk\u001b[0m\u001b[0;34m)\u001b[0m\u001b[0;34m-\u001b[0m\u001b[0;36m1\u001b[0m\u001b[0;34m,\u001b[0m \u001b[0;36m0\u001b[0m\u001b[0;34m,\u001b[0m \u001b[0;34m-\u001b[0m\u001b[0;36m1\u001b[0m\u001b[0;34m)\u001b[0m\u001b[0;34m:\u001b[0m\u001b[0;34m\u001b[0m\u001b[0;34m\u001b[0m\u001b[0m\n\u001b[1;32m    141\u001b[0m             \u001b[0;31m# of antecedent and consequent\u001b[0m\u001b[0;34m\u001b[0m\u001b[0;34m\u001b[0m\u001b[0;34m\u001b[0m\u001b[0m\n\u001b[0;32m--> 142\u001b[0;31m             \u001b[0;32mfor\u001b[0m \u001b[0mc\u001b[0m \u001b[0;32min\u001b[0m \u001b[0mcombinations\u001b[0m\u001b[0;34m(\u001b[0m\u001b[0mk\u001b[0m\u001b[0;34m,\u001b[0m \u001b[0mr\u001b[0m\u001b[0;34m=\u001b[0m\u001b[0midx\u001b[0m\u001b[0;34m)\u001b[0m\u001b[0;34m:\u001b[0m\u001b[0;34m\u001b[0m\u001b[0;34m\u001b[0m\u001b[0m\n\u001b[0m\u001b[1;32m    143\u001b[0m                 \u001b[0mantecedent\u001b[0m \u001b[0;34m=\u001b[0m \u001b[0mfrozenset\u001b[0m\u001b[0;34m(\u001b[0m\u001b[0mc\u001b[0m\u001b[0;34m)\u001b[0m\u001b[0;34m\u001b[0m\u001b[0;34m\u001b[0m\u001b[0m\n\u001b[1;32m    144\u001b[0m                 \u001b[0mconsequent\u001b[0m \u001b[0;34m=\u001b[0m \u001b[0mk\u001b[0m\u001b[0;34m.\u001b[0m\u001b[0mdifference\u001b[0m\u001b[0;34m(\u001b[0m\u001b[0mantecedent\u001b[0m\u001b[0;34m)\u001b[0m\u001b[0;34m\u001b[0m\u001b[0;34m\u001b[0m\u001b[0m\n",
            "\u001b[0;31mKeyboardInterrupt\u001b[0m: "
          ]
        }
      ]
    },
    {
      "cell_type": "markdown",
      "metadata": {
        "id": "Hfi4Q_pr6HIO"
      },
      "source": [
        "## 보유수량"
      ]
    },
    {
      "cell_type": "code",
      "metadata": {
        "id": "6c7bsjSN6KEK"
      },
      "source": [
        "unstack_df = retain_df['보유개수'].unstack().fillna(0)\n",
        "unstack_df = unstack_df.loc[unstack_df.index.isin(customer_info.index)].reset_index(drop= True)\n",
        "product_mtx = unstack_df.T.dot(df_whole.astype(int))\n",
        "product_mtx = product_mtx / len(df_whole)"
      ],
      "execution_count": 41,
      "outputs": []
    },
    {
      "cell_type": "code",
      "metadata": {
        "id": "VlS7z8PdgskI"
      },
      "source": [
        ""
      ],
      "execution_count": null,
      "outputs": []
    },
    {
      "cell_type": "code",
      "metadata": {
        "colab": {
          "base_uri": "https://localhost:8080/",
          "height": 414
        },
        "id": "cqabS8ZUDscA",
        "outputId": "58778d0d-91ed-41fc-daec-5223f670bd9c"
      },
      "source": [
        "itemsets = product_mtx.unstack().index.to_list()\n",
        "support = product_mtx.unstack().values\n",
        "support_lst = pd.DataFrame({'support':support,'itemsets':itemsets})\n",
        "support_lst"
      ],
      "execution_count": 15,
      "outputs": [
        {
          "output_type": "execute_result",
          "data": {
            "text/html": [
              "<div>\n",
              "<style scoped>\n",
              "    .dataframe tbody tr th:only-of-type {\n",
              "        vertical-align: middle;\n",
              "    }\n",
              "\n",
              "    .dataframe tbody tr th {\n",
              "        vertical-align: top;\n",
              "    }\n",
              "\n",
              "    .dataframe thead th {\n",
              "        text-align: right;\n",
              "    }\n",
              "</style>\n",
              "<table border=\"1\" class=\"dataframe\">\n",
              "  <thead>\n",
              "    <tr style=\"text-align: right;\">\n",
              "      <th></th>\n",
              "      <th>support</th>\n",
              "      <th>itemsets</th>\n",
              "    </tr>\n",
              "  </thead>\n",
              "  <tbody>\n",
              "    <tr>\n",
              "      <th>0</th>\n",
              "      <td>0.084984</td>\n",
              "      <td>((주)마이크로컨텍솔루션, (주)마이크로컨텍솔루션)</td>\n",
              "    </tr>\n",
              "    <tr>\n",
              "      <th>1</th>\n",
              "      <td>0.000000</td>\n",
              "      <td>((주)마이크로컨텍솔루션, (주)스카이이앤엠)</td>\n",
              "    </tr>\n",
              "    <tr>\n",
              "      <th>2</th>\n",
              "      <td>0.000000</td>\n",
              "      <td>((주)마이크로컨텍솔루션, (주)포스코엠텍)</td>\n",
              "    </tr>\n",
              "    <tr>\n",
              "      <th>3</th>\n",
              "      <td>0.000000</td>\n",
              "      <td>((주)마이크로컨텍솔루션, AJ네트웍스보통주)</td>\n",
              "    </tr>\n",
              "    <tr>\n",
              "      <th>4</th>\n",
              "      <td>0.000165</td>\n",
              "      <td>((주)마이크로컨텍솔루션, AK홀딩스보통주)</td>\n",
              "    </tr>\n",
              "    <tr>\n",
              "      <th>...</th>\n",
              "      <td>...</td>\n",
              "      <td>...</td>\n",
              "    </tr>\n",
              "    <tr>\n",
              "      <th>3837676</th>\n",
              "      <td>0.000000</td>\n",
              "      <td>(힘스, 흥국화재해상보험2우선주(신형))</td>\n",
              "    </tr>\n",
              "    <tr>\n",
              "      <th>3837677</th>\n",
              "      <td>0.000000</td>\n",
              "      <td>(힘스, 흥국화재해상보험보통주)</td>\n",
              "    </tr>\n",
              "    <tr>\n",
              "      <th>3837678</th>\n",
              "      <td>0.000000</td>\n",
              "      <td>(힘스, 흥아해운보통주)</td>\n",
              "    </tr>\n",
              "    <tr>\n",
              "      <th>3837679</th>\n",
              "      <td>0.000000</td>\n",
              "      <td>(힘스, 희림종합건축사사무소)</td>\n",
              "    </tr>\n",
              "    <tr>\n",
              "      <th>3837680</th>\n",
              "      <td>0.052295</td>\n",
              "      <td>(힘스, 힘스)</td>\n",
              "    </tr>\n",
              "  </tbody>\n",
              "</table>\n",
              "<p>3837681 rows × 2 columns</p>\n",
              "</div>"
            ],
            "text/plain": [
              "          support                      itemsets\n",
              "0        0.084984  ((주)마이크로컨텍솔루션, (주)마이크로컨텍솔루션)\n",
              "1        0.000000     ((주)마이크로컨텍솔루션, (주)스카이이앤엠)\n",
              "2        0.000000      ((주)마이크로컨텍솔루션, (주)포스코엠텍)\n",
              "3        0.000000     ((주)마이크로컨텍솔루션, AJ네트웍스보통주)\n",
              "4        0.000165      ((주)마이크로컨텍솔루션, AK홀딩스보통주)\n",
              "...           ...                           ...\n",
              "3837676  0.000000        (힘스, 흥국화재해상보험2우선주(신형))\n",
              "3837677  0.000000             (힘스, 흥국화재해상보험보통주)\n",
              "3837678  0.000000                 (힘스, 흥아해운보통주)\n",
              "3837679  0.000000              (힘스, 희림종합건축사사무소)\n",
              "3837680  0.052295                      (힘스, 힘스)\n",
              "\n",
              "[3837681 rows x 2 columns]"
            ]
          },
          "metadata": {
            "tags": []
          },
          "execution_count": 15
        }
      ]
    },
    {
      "cell_type": "code",
      "metadata": {
        "colab": {
          "base_uri": "https://localhost:8080/",
          "height": 414
        },
        "id": "8O8q2HEhDza1",
        "outputId": "686d0986-1f9e-431f-bb6f-bf5357d42908"
      },
      "source": [
        "idx = support_lst.loc[support_lst['itemsets'].isin((list(zip(product_mtx.index,product_mtx.columns)))),'itemsets'].index\n",
        "support_lst.loc[support_lst['itemsets'].isin((list(zip(product_mtx.index,product_mtx.columns)))),'itemsets'] =pd.Series(list(zip(product_mtx.index)), index=idx)\n",
        "support_lst"
      ],
      "execution_count": 16,
      "outputs": [
        {
          "output_type": "execute_result",
          "data": {
            "text/html": [
              "<div>\n",
              "<style scoped>\n",
              "    .dataframe tbody tr th:only-of-type {\n",
              "        vertical-align: middle;\n",
              "    }\n",
              "\n",
              "    .dataframe tbody tr th {\n",
              "        vertical-align: top;\n",
              "    }\n",
              "\n",
              "    .dataframe thead th {\n",
              "        text-align: right;\n",
              "    }\n",
              "</style>\n",
              "<table border=\"1\" class=\"dataframe\">\n",
              "  <thead>\n",
              "    <tr style=\"text-align: right;\">\n",
              "      <th></th>\n",
              "      <th>support</th>\n",
              "      <th>itemsets</th>\n",
              "    </tr>\n",
              "  </thead>\n",
              "  <tbody>\n",
              "    <tr>\n",
              "      <th>0</th>\n",
              "      <td>0.084984</td>\n",
              "      <td>((주)마이크로컨텍솔루션,)</td>\n",
              "    </tr>\n",
              "    <tr>\n",
              "      <th>1</th>\n",
              "      <td>0.000000</td>\n",
              "      <td>((주)마이크로컨텍솔루션, (주)스카이이앤엠)</td>\n",
              "    </tr>\n",
              "    <tr>\n",
              "      <th>2</th>\n",
              "      <td>0.000000</td>\n",
              "      <td>((주)마이크로컨텍솔루션, (주)포스코엠텍)</td>\n",
              "    </tr>\n",
              "    <tr>\n",
              "      <th>3</th>\n",
              "      <td>0.000000</td>\n",
              "      <td>((주)마이크로컨텍솔루션, AJ네트웍스보통주)</td>\n",
              "    </tr>\n",
              "    <tr>\n",
              "      <th>4</th>\n",
              "      <td>0.000165</td>\n",
              "      <td>((주)마이크로컨텍솔루션, AK홀딩스보통주)</td>\n",
              "    </tr>\n",
              "    <tr>\n",
              "      <th>...</th>\n",
              "      <td>...</td>\n",
              "      <td>...</td>\n",
              "    </tr>\n",
              "    <tr>\n",
              "      <th>3837676</th>\n",
              "      <td>0.000000</td>\n",
              "      <td>(힘스, 흥국화재해상보험2우선주(신형))</td>\n",
              "    </tr>\n",
              "    <tr>\n",
              "      <th>3837677</th>\n",
              "      <td>0.000000</td>\n",
              "      <td>(힘스, 흥국화재해상보험보통주)</td>\n",
              "    </tr>\n",
              "    <tr>\n",
              "      <th>3837678</th>\n",
              "      <td>0.000000</td>\n",
              "      <td>(힘스, 흥아해운보통주)</td>\n",
              "    </tr>\n",
              "    <tr>\n",
              "      <th>3837679</th>\n",
              "      <td>0.000000</td>\n",
              "      <td>(힘스, 희림종합건축사사무소)</td>\n",
              "    </tr>\n",
              "    <tr>\n",
              "      <th>3837680</th>\n",
              "      <td>0.052295</td>\n",
              "      <td>(힘스,)</td>\n",
              "    </tr>\n",
              "  </tbody>\n",
              "</table>\n",
              "<p>3837681 rows × 2 columns</p>\n",
              "</div>"
            ],
            "text/plain": [
              "          support                   itemsets\n",
              "0        0.084984            ((주)마이크로컨텍솔루션,)\n",
              "1        0.000000  ((주)마이크로컨텍솔루션, (주)스카이이앤엠)\n",
              "2        0.000000   ((주)마이크로컨텍솔루션, (주)포스코엠텍)\n",
              "3        0.000000  ((주)마이크로컨텍솔루션, AJ네트웍스보통주)\n",
              "4        0.000165   ((주)마이크로컨텍솔루션, AK홀딩스보통주)\n",
              "...           ...                        ...\n",
              "3837676  0.000000     (힘스, 흥국화재해상보험2우선주(신형))\n",
              "3837677  0.000000          (힘스, 흥국화재해상보험보통주)\n",
              "3837678  0.000000              (힘스, 흥아해운보통주)\n",
              "3837679  0.000000           (힘스, 희림종합건축사사무소)\n",
              "3837680  0.052295                      (힘스,)\n",
              "\n",
              "[3837681 rows x 2 columns]"
            ]
          },
          "metadata": {
            "tags": []
          },
          "execution_count": 16
        }
      ]
    },
    {
      "cell_type": "code",
      "metadata": {
        "colab": {
          "base_uri": "https://localhost:8080/"
        },
        "id": "2GnhEeIID_AQ",
        "outputId": "60dc2fea-c931-42d0-b19b-c11417e834c7"
      },
      "source": [
        "from mlxtend.frequent_patterns import association_rules, fpgrowth\n",
        "rules = association_rules(support_lst, metric='lift',min_threshold = 1)\n",
        "rules[['antecedents','consequents']] = rules[['antecedents','consequents']].applymap(lambda x: tuple(x))\n"
      ],
      "execution_count": 17,
      "outputs": [
        {
          "output_type": "stream",
          "text": [
            "/usr/local/lib/python3.7/dist-packages/mlxtend/frequent_patterns/association_rules.py:106: RuntimeWarning: invalid value encountered in double_scalars\n",
            "  \"lift\": lambda sAC, sA, sC: metric_dict[\"confidence\"](sAC, sA, sC)/sC,\n",
            "/usr/local/lib/python3.7/dist-packages/mlxtend/frequent_patterns/association_rules.py:105: RuntimeWarning: invalid value encountered in double_scalars\n",
            "  \"confidence\": lambda sAC, sA, _: sAC/sA,\n",
            "/usr/local/lib/python3.7/dist-packages/mlxtend/frequent_patterns/association_rules.py:105: RuntimeWarning: divide by zero encountered in double_scalars\n",
            "  \"confidence\": lambda sAC, sA, _: sAC/sA,\n",
            "/usr/local/lib/python3.7/dist-packages/mlxtend/frequent_patterns/association_rules.py:106: RuntimeWarning: divide by zero encountered in double_scalars\n",
            "  \"lift\": lambda sAC, sA, sC: metric_dict[\"confidence\"](sAC, sA, sC)/sC,\n",
            "/usr/local/lib/python3.7/dist-packages/mlxtend/frequent_patterns/association_rules.py:105: RuntimeWarning: divide by zero encountered in true_divide\n",
            "  \"confidence\": lambda sAC, sA, _: sAC/sA,\n",
            "/usr/local/lib/python3.7/dist-packages/mlxtend/frequent_patterns/association_rules.py:106: RuntimeWarning: divide by zero encountered in true_divide\n",
            "  \"lift\": lambda sAC, sA, sC: metric_dict[\"confidence\"](sAC, sA, sC)/sC,\n",
            "/usr/local/lib/python3.7/dist-packages/mlxtend/frequent_patterns/association_rules.py:86: RuntimeWarning: divide by zero encountered in true_divide\n",
            "  confidence = sAC/sA\n"
          ],
          "name": "stderr"
        }
      ]
    },
    {
      "cell_type": "markdown",
      "metadata": {
        "id": "9BI4OUaRvlW2"
      },
      "source": [
        "#### 전체 대상 지지도 1%"
      ]
    },
    {
      "cell_type": "code",
      "metadata": {
        "id": "vhOQP8LLJP0R"
      },
      "source": [
        "from mlxtend.frequent_patterns import association_rules, fpgrowth\n",
        "fpwhole = fpgrowth(df_whole, 0.01, True)"
      ],
      "execution_count": null,
      "outputs": []
    },
    {
      "cell_type": "code",
      "metadata": {
        "id": "st1sKqSSvWJS"
      },
      "source": [
        "pd.set_option('display.max_rows',1000)\n",
        "fpwhole[fpwhole['itemsets'].apply(lambda x: len(x))>1].sort_values('support', ascending=False)"
      ],
      "execution_count": null,
      "outputs": []
    },
    {
      "cell_type": "markdown",
      "metadata": {
        "id": "um_8ED48vorV"
      },
      "source": [
        "#### 전체 대상 지지도 0.03%이상인 상품 조합으로 신뢰도 50%이상인 것 뽑은 리스트"
      ]
    },
    {
      "cell_type": "code",
      "metadata": {
        "id": "p3kPPN1DN1aK"
      },
      "source": [
        "# from pyspark.ml.fpm import FPGrowth\n",
        "\n",
        "# df = spark.createDataFrame([\n",
        "#     (0, [1, 2, 5]),\n",
        "#     (1, [1, 2, 3, 5]),\n",
        "#     (2, [1, 2])\n",
        "# ], [\"id\", \"items\"])\n",
        "\n",
        "# fpGrowth = FPGrowth(itemsCol=\"items\", minSupport=0.5, minConfidence=0.6)\n",
        "# model = fpGrowth.fit(df)\n",
        "\n",
        "# # Display frequent itemsets.\n",
        "# model.freqItemsets.show()\n",
        "\n",
        "# # Display generated association rules.\n",
        "# model.associationRules.show()\n",
        "\n",
        "# # transform examines the input items against all the association rules and summarize the\n",
        "# # consequents as prediction\n",
        "# model.transform(df).show()"
      ],
      "execution_count": null,
      "outputs": []
    },
    {
      "cell_type": "code",
      "metadata": {
        "id": "YTeutZlken6y"
      },
      "source": [
        "from mlxtend.frequent_patterns import association_rules, fpgrowth\n",
        "# fp_whole = fpgrowth(df_whole, 0.0003, True)\n",
        "rules = association_rules(fpwhole, metric='lift',min_threshold = 1)\n",
        "rules[['antecedents','consequents']] = rules[['antecedents','consequents']].applymap(lambda x: tuple(x))\n",
        "\n",
        "# fp_whole.sort_values('support',ascending =False)\n",
        "# fp_whole.loc[fp_whole.itemsets.apply(lambda x: len(x))>1,:].reset_index(drop=True).sort_values('support')"
      ],
      "execution_count": null,
      "outputs": []
    },
    {
      "cell_type": "markdown",
      "metadata": {
        "id": "8cCqaugsv4QM"
      },
      "source": [
        "#### sample_info\n",
        "8000명 이외의 사람의 상품목록 뽑은 후 그 사람이 가진 상품과 신뢰도가 높은 상품 뽑아내기"
      ]
    },
    {
      "cell_type": "code",
      "metadata": {
        "id": "atS2bm1JL3cF"
      },
      "source": [
        "#샘플 고객의 상품목록에서 부분집합 추출\n",
        "\n",
        "from itertools import combinations\n",
        "\n",
        "a=sample_info.iloc[0,-1]\n",
        "result=[]\n",
        "\n",
        "for i in range(0,len(a)+1):\n",
        "    c=combinations(a,i)\n",
        "    result.extend(c)\n",
        "\n",
        "# print(result)"
      ],
      "execution_count": 21,
      "outputs": []
    },
    {
      "cell_type": "code",
      "metadata": {
        "id": "NrE5KfYmeCf8",
        "colab": {
          "base_uri": "https://localhost:8080/",
          "height": 414
        },
        "outputId": "85ab907e-1613-4893-e916-481c739804e3"
      },
      "source": [
        "# 0번째 고객은 모두 삼성전자 보통주만 추천 \n",
        "rules.loc[rules.antecedents.isin(result),:].sort_values('lift', ascending =False)\n"
      ],
      "execution_count": 22,
      "outputs": [
        {
          "output_type": "execute_result",
          "data": {
            "text/html": [
              "<div>\n",
              "<style scoped>\n",
              "    .dataframe tbody tr th:only-of-type {\n",
              "        vertical-align: middle;\n",
              "    }\n",
              "\n",
              "    .dataframe tbody tr th {\n",
              "        vertical-align: top;\n",
              "    }\n",
              "\n",
              "    .dataframe thead th {\n",
              "        text-align: right;\n",
              "    }\n",
              "</style>\n",
              "<table border=\"1\" class=\"dataframe\">\n",
              "  <thead>\n",
              "    <tr style=\"text-align: right;\">\n",
              "      <th></th>\n",
              "      <th>antecedents</th>\n",
              "      <th>consequents</th>\n",
              "      <th>antecedent support</th>\n",
              "      <th>consequent support</th>\n",
              "      <th>support</th>\n",
              "      <th>confidence</th>\n",
              "      <th>lift</th>\n",
              "      <th>leverage</th>\n",
              "      <th>conviction</th>\n",
              "    </tr>\n",
              "  </thead>\n",
              "  <tbody>\n",
              "    <tr>\n",
              "      <th>51947</th>\n",
              "      <td>(빙그레보통주,)</td>\n",
              "      <td>(샘표식품보통주,)</td>\n",
              "      <td>0.030337</td>\n",
              "      <td>0.001403</td>\n",
              "      <td>0.004458</td>\n",
              "      <td>0.146939</td>\n",
              "      <td>104.706843</td>\n",
              "      <td>4.415080e-03</td>\n",
              "      <td>1.170604</td>\n",
              "    </tr>\n",
              "    <tr>\n",
              "      <th>52017</th>\n",
              "      <td>(빙그레보통주,)</td>\n",
              "      <td>(태광,)</td>\n",
              "      <td>0.030337</td>\n",
              "      <td>0.003219</td>\n",
              "      <td>0.004458</td>\n",
              "      <td>0.146939</td>\n",
              "      <td>45.641444</td>\n",
              "      <td>4.359986e-03</td>\n",
              "      <td>1.168475</td>\n",
              "    </tr>\n",
              "    <tr>\n",
              "      <th>52019</th>\n",
              "      <td>(빙그레보통주,)</td>\n",
              "      <td>(팅크웨어,)</td>\n",
              "      <td>0.030337</td>\n",
              "      <td>0.007595</td>\n",
              "      <td>0.004458</td>\n",
              "      <td>0.146939</td>\n",
              "      <td>19.348004</td>\n",
              "      <td>4.227259e-03</td>\n",
              "      <td>1.163346</td>\n",
              "    </tr>\n",
              "    <tr>\n",
              "      <th>51991</th>\n",
              "      <td>(빙그레보통주,)</td>\n",
              "      <td>(오뚜기보통주,)</td>\n",
              "      <td>0.030337</td>\n",
              "      <td>0.008255</td>\n",
              "      <td>0.004540</td>\n",
              "      <td>0.149660</td>\n",
              "      <td>18.129796</td>\n",
              "      <td>4.289774e-03</td>\n",
              "      <td>1.166292</td>\n",
              "    </tr>\n",
              "    <tr>\n",
              "      <th>1939</th>\n",
              "      <td>(빙그레보통주,)</td>\n",
              "      <td>(GS1우선주,)</td>\n",
              "      <td>0.030337</td>\n",
              "      <td>0.007677</td>\n",
              "      <td>0.003921</td>\n",
              "      <td>0.129252</td>\n",
              "      <td>16.836076</td>\n",
              "      <td>3.688185e-03</td>\n",
              "      <td>1.139621</td>\n",
              "    </tr>\n",
              "    <tr>\n",
              "      <th>...</th>\n",
              "      <td>...</td>\n",
              "      <td>...</td>\n",
              "      <td>...</td>\n",
              "      <td>...</td>\n",
              "      <td>...</td>\n",
              "      <td>...</td>\n",
              "      <td>...</td>\n",
              "      <td>...</td>\n",
              "      <td>...</td>\n",
              "    </tr>\n",
              "    <tr>\n",
              "      <th>4982</th>\n",
              "      <td>(LG화학보통주,)</td>\n",
              "      <td>(컴투스,)</td>\n",
              "      <td>0.340887</td>\n",
              "      <td>0.013497</td>\n",
              "      <td>0.004664</td>\n",
              "      <td>0.013682</td>\n",
              "      <td>1.013726</td>\n",
              "      <td>6.315375e-05</td>\n",
              "      <td>1.000188</td>\n",
              "    </tr>\n",
              "    <tr>\n",
              "      <th>4229</th>\n",
              "      <td>(LG화학보통주,)</td>\n",
              "      <td>(KR모터스보통주,)</td>\n",
              "      <td>0.340887</td>\n",
              "      <td>1.715494</td>\n",
              "      <td>0.590226</td>\n",
              "      <td>1.731444</td>\n",
              "      <td>1.009298</td>\n",
              "      <td>5.437146e-03</td>\n",
              "      <td>inf</td>\n",
              "    </tr>\n",
              "    <tr>\n",
              "      <th>5331</th>\n",
              "      <td>(NAVER보통주,)</td>\n",
              "      <td>(삼천리보통주,)</td>\n",
              "      <td>0.233903</td>\n",
              "      <td>0.002105</td>\n",
              "      <td>0.000495</td>\n",
              "      <td>0.002118</td>\n",
              "      <td>1.005948</td>\n",
              "      <td>2.928470e-06</td>\n",
              "      <td>1.000013</td>\n",
              "    </tr>\n",
              "    <tr>\n",
              "      <th>52047</th>\n",
              "      <td>(빙그레보통주,)</td>\n",
              "      <td>(현대모비스보통주,)</td>\n",
              "      <td>0.030337</td>\n",
              "      <td>0.146071</td>\n",
              "      <td>0.004458</td>\n",
              "      <td>0.146939</td>\n",
              "      <td>1.005943</td>\n",
              "      <td>2.633578e-05</td>\n",
              "      <td>1.001018</td>\n",
              "    </tr>\n",
              "    <tr>\n",
              "      <th>30199</th>\n",
              "      <td>(케이티앤지보통주,)</td>\n",
              "      <td>(두산2우선주(신형),)</td>\n",
              "      <td>0.270018</td>\n",
              "      <td>0.001527</td>\n",
              "      <td>0.000413</td>\n",
              "      <td>0.001529</td>\n",
              "      <td>1.000934</td>\n",
              "      <td>3.850112e-07</td>\n",
              "      <td>1.000001</td>\n",
              "    </tr>\n",
              "  </tbody>\n",
              "</table>\n",
              "<p>254 rows × 9 columns</p>\n",
              "</div>"
            ],
            "text/plain": [
              "       antecedents    consequents  ...      leverage  conviction\n",
              "51947    (빙그레보통주,)     (샘표식품보통주,)  ...  4.415080e-03    1.170604\n",
              "52017    (빙그레보통주,)          (태광,)  ...  4.359986e-03    1.168475\n",
              "52019    (빙그레보통주,)        (팅크웨어,)  ...  4.227259e-03    1.163346\n",
              "51991    (빙그레보통주,)      (오뚜기보통주,)  ...  4.289774e-03    1.166292\n",
              "1939     (빙그레보통주,)      (GS1우선주,)  ...  3.688185e-03    1.139621\n",
              "...            ...            ...  ...           ...         ...\n",
              "4982    (LG화학보통주,)         (컴투스,)  ...  6.315375e-05    1.000188\n",
              "4229    (LG화학보통주,)    (KR모터스보통주,)  ...  5.437146e-03         inf\n",
              "5331   (NAVER보통주,)      (삼천리보통주,)  ...  2.928470e-06    1.000013\n",
              "52047    (빙그레보통주,)    (현대모비스보통주,)  ...  2.633578e-05    1.001018\n",
              "30199  (케이티앤지보통주,)  (두산2우선주(신형),)  ...  3.850112e-07    1.000001\n",
              "\n",
              "[254 rows x 9 columns]"
            ]
          },
          "metadata": {
            "tags": []
          },
          "execution_count": 22
        }
      ]
    },
    {
      "cell_type": "markdown",
      "metadata": {
        "id": "XVKzDBZawkzG"
      },
      "source": [
        "# 군집별 분석\n",
        "- 군집 간 인원 수 차이가 크기 때문에 신뢰도를 일정하게 설정하게 되면 나오는 빈발집합 수가 차이가 많이 남"
      ]
    },
    {
      "cell_type": "markdown",
      "metadata": {
        "id": "GixNa4L-aOq0"
      },
      "source": [
        "### 0번 군집"
      ]
    },
    {
      "cell_type": "code",
      "metadata": {
        "id": "-qGZ_Iw8ew46"
      },
      "source": [
        "customer_info =customer_info.reset_index()"
      ],
      "execution_count": 21,
      "outputs": []
    },
    {
      "cell_type": "code",
      "metadata": {
        "id": "-hQxXai4Yw_v",
        "collapsed": true
      },
      "source": [
        "cluster_0 = customer_info.loc[customer_info['cluster']==0].index\n",
        "df0 = df_whole.loc[df_whole.index.isin(cluster_0)].reset_index(drop= True)"
      ],
      "execution_count": 25,
      "outputs": []
    },
    {
      "cell_type": "code",
      "metadata": {
        "id": "WldMmYCASve7"
      },
      "source": [
        "id_0 = customer_info.loc[customer_info['cluster']==0,'고객구분코드']\n",
        "unstack_df = retain_df['보유개수'].unstack().fillna(0)\n",
        "unstack_df = unstack_df.loc[unstack_df.index.isin(id_0)].reset_index(drop= True)\n",
        "product_mtx = unstack_df.T.dot(df0.astype(int))\n",
        "product_mtx = product_mtx / unstack_df.sum().sum()"
      ],
      "execution_count": 53,
      "outputs": []
    },
    {
      "cell_type": "code",
      "metadata": {
        "colab": {
          "base_uri": "https://localhost:8080/",
          "height": 414
        },
        "id": "_cZjH2X3Sve8",
        "outputId": "443e47dc-17c4-4c09-9dcb-e24265bfbf50"
      },
      "source": [
        "itemsets = product_mtx.unstack().index.to_list()\n",
        "support = product_mtx.unstack().values\n",
        "support_lst = pd.DataFrame({'support':support,'itemsets':itemsets})\n",
        "support_lst"
      ],
      "execution_count": 54,
      "outputs": [
        {
          "output_type": "execute_result",
          "data": {
            "text/html": [
              "<div>\n",
              "<style scoped>\n",
              "    .dataframe tbody tr th:only-of-type {\n",
              "        vertical-align: middle;\n",
              "    }\n",
              "\n",
              "    .dataframe tbody tr th {\n",
              "        vertical-align: top;\n",
              "    }\n",
              "\n",
              "    .dataframe thead th {\n",
              "        text-align: right;\n",
              "    }\n",
              "</style>\n",
              "<table border=\"1\" class=\"dataframe\">\n",
              "  <thead>\n",
              "    <tr style=\"text-align: right;\">\n",
              "      <th></th>\n",
              "      <th>support</th>\n",
              "      <th>itemsets</th>\n",
              "    </tr>\n",
              "  </thead>\n",
              "  <tbody>\n",
              "    <tr>\n",
              "      <th>0</th>\n",
              "      <td>0.00</td>\n",
              "      <td>((주)마이크로컨텍솔루션, (주)마이크로컨텍솔루션)</td>\n",
              "    </tr>\n",
              "    <tr>\n",
              "      <th>1</th>\n",
              "      <td>0.00</td>\n",
              "      <td>((주)마이크로컨텍솔루션, (주)스카이이앤엠)</td>\n",
              "    </tr>\n",
              "    <tr>\n",
              "      <th>2</th>\n",
              "      <td>0.00</td>\n",
              "      <td>((주)마이크로컨텍솔루션, (주)포스코엠텍)</td>\n",
              "    </tr>\n",
              "    <tr>\n",
              "      <th>3</th>\n",
              "      <td>0.00</td>\n",
              "      <td>((주)마이크로컨텍솔루션, AJ네트웍스보통주)</td>\n",
              "    </tr>\n",
              "    <tr>\n",
              "      <th>4</th>\n",
              "      <td>0.00</td>\n",
              "      <td>((주)마이크로컨텍솔루션, AK홀딩스보통주)</td>\n",
              "    </tr>\n",
              "    <tr>\n",
              "      <th>...</th>\n",
              "      <td>...</td>\n",
              "      <td>...</td>\n",
              "    </tr>\n",
              "    <tr>\n",
              "      <th>3837676</th>\n",
              "      <td>0.00</td>\n",
              "      <td>(힘스, 흥국화재해상보험2우선주(신형))</td>\n",
              "    </tr>\n",
              "    <tr>\n",
              "      <th>3837677</th>\n",
              "      <td>0.00</td>\n",
              "      <td>(힘스, 흥국화재해상보험보통주)</td>\n",
              "    </tr>\n",
              "    <tr>\n",
              "      <th>3837678</th>\n",
              "      <td>0.00</td>\n",
              "      <td>(힘스, 흥아해운보통주)</td>\n",
              "    </tr>\n",
              "    <tr>\n",
              "      <th>3837679</th>\n",
              "      <td>0.00</td>\n",
              "      <td>(힘스, 희림종합건축사사무소)</td>\n",
              "    </tr>\n",
              "    <tr>\n",
              "      <th>3837680</th>\n",
              "      <td>0.00</td>\n",
              "      <td>(힘스, 힘스)</td>\n",
              "    </tr>\n",
              "  </tbody>\n",
              "</table>\n",
              "<p>3837681 rows × 2 columns</p>\n",
              "</div>"
            ],
            "text/plain": [
              "         support                      itemsets\n",
              "0           0.00  ((주)마이크로컨텍솔루션, (주)마이크로컨텍솔루션)\n",
              "1           0.00     ((주)마이크로컨텍솔루션, (주)스카이이앤엠)\n",
              "2           0.00      ((주)마이크로컨텍솔루션, (주)포스코엠텍)\n",
              "3           0.00     ((주)마이크로컨텍솔루션, AJ네트웍스보통주)\n",
              "4           0.00      ((주)마이크로컨텍솔루션, AK홀딩스보통주)\n",
              "...          ...                           ...\n",
              "3837676     0.00        (힘스, 흥국화재해상보험2우선주(신형))\n",
              "3837677     0.00             (힘스, 흥국화재해상보험보통주)\n",
              "3837678     0.00                 (힘스, 흥아해운보통주)\n",
              "3837679     0.00              (힘스, 희림종합건축사사무소)\n",
              "3837680     0.00                      (힘스, 힘스)\n",
              "\n",
              "[3837681 rows x 2 columns]"
            ]
          },
          "metadata": {
            "tags": []
          },
          "execution_count": 54
        }
      ]
    },
    {
      "cell_type": "code",
      "metadata": {
        "colab": {
          "base_uri": "https://localhost:8080/",
          "height": 414
        },
        "id": "KooBufRHSve-",
        "outputId": "065f716d-2c1c-471b-ae36-40657f1381d9"
      },
      "source": [
        "idx = support_lst.loc[support_lst['itemsets'].isin((list(zip(product_mtx.index,product_mtx.columns)))),'itemsets'].index\n",
        "support_lst.loc[support_lst['itemsets'].isin((list(zip(product_mtx.index,product_mtx.columns)))),'itemsets'] =pd.Series(list(zip(product_mtx.index)), index=idx)\n",
        "support_lst"
      ],
      "execution_count": 55,
      "outputs": [
        {
          "output_type": "execute_result",
          "data": {
            "text/html": [
              "<div>\n",
              "<style scoped>\n",
              "    .dataframe tbody tr th:only-of-type {\n",
              "        vertical-align: middle;\n",
              "    }\n",
              "\n",
              "    .dataframe tbody tr th {\n",
              "        vertical-align: top;\n",
              "    }\n",
              "\n",
              "    .dataframe thead th {\n",
              "        text-align: right;\n",
              "    }\n",
              "</style>\n",
              "<table border=\"1\" class=\"dataframe\">\n",
              "  <thead>\n",
              "    <tr style=\"text-align: right;\">\n",
              "      <th></th>\n",
              "      <th>support</th>\n",
              "      <th>itemsets</th>\n",
              "    </tr>\n",
              "  </thead>\n",
              "  <tbody>\n",
              "    <tr>\n",
              "      <th>0</th>\n",
              "      <td>0.00</td>\n",
              "      <td>((주)마이크로컨텍솔루션,)</td>\n",
              "    </tr>\n",
              "    <tr>\n",
              "      <th>1</th>\n",
              "      <td>0.00</td>\n",
              "      <td>((주)마이크로컨텍솔루션, (주)스카이이앤엠)</td>\n",
              "    </tr>\n",
              "    <tr>\n",
              "      <th>2</th>\n",
              "      <td>0.00</td>\n",
              "      <td>((주)마이크로컨텍솔루션, (주)포스코엠텍)</td>\n",
              "    </tr>\n",
              "    <tr>\n",
              "      <th>3</th>\n",
              "      <td>0.00</td>\n",
              "      <td>((주)마이크로컨텍솔루션, AJ네트웍스보통주)</td>\n",
              "    </tr>\n",
              "    <tr>\n",
              "      <th>4</th>\n",
              "      <td>0.00</td>\n",
              "      <td>((주)마이크로컨텍솔루션, AK홀딩스보통주)</td>\n",
              "    </tr>\n",
              "    <tr>\n",
              "      <th>...</th>\n",
              "      <td>...</td>\n",
              "      <td>...</td>\n",
              "    </tr>\n",
              "    <tr>\n",
              "      <th>3837676</th>\n",
              "      <td>0.00</td>\n",
              "      <td>(힘스, 흥국화재해상보험2우선주(신형))</td>\n",
              "    </tr>\n",
              "    <tr>\n",
              "      <th>3837677</th>\n",
              "      <td>0.00</td>\n",
              "      <td>(힘스, 흥국화재해상보험보통주)</td>\n",
              "    </tr>\n",
              "    <tr>\n",
              "      <th>3837678</th>\n",
              "      <td>0.00</td>\n",
              "      <td>(힘스, 흥아해운보통주)</td>\n",
              "    </tr>\n",
              "    <tr>\n",
              "      <th>3837679</th>\n",
              "      <td>0.00</td>\n",
              "      <td>(힘스, 희림종합건축사사무소)</td>\n",
              "    </tr>\n",
              "    <tr>\n",
              "      <th>3837680</th>\n",
              "      <td>0.00</td>\n",
              "      <td>(힘스,)</td>\n",
              "    </tr>\n",
              "  </tbody>\n",
              "</table>\n",
              "<p>3837681 rows × 2 columns</p>\n",
              "</div>"
            ],
            "text/plain": [
              "         support                   itemsets\n",
              "0           0.00            ((주)마이크로컨텍솔루션,)\n",
              "1           0.00  ((주)마이크로컨텍솔루션, (주)스카이이앤엠)\n",
              "2           0.00   ((주)마이크로컨텍솔루션, (주)포스코엠텍)\n",
              "3           0.00  ((주)마이크로컨텍솔루션, AJ네트웍스보통주)\n",
              "4           0.00   ((주)마이크로컨텍솔루션, AK홀딩스보통주)\n",
              "...          ...                        ...\n",
              "3837676     0.00     (힘스, 흥국화재해상보험2우선주(신형))\n",
              "3837677     0.00          (힘스, 흥국화재해상보험보통주)\n",
              "3837678     0.00              (힘스, 흥아해운보통주)\n",
              "3837679     0.00           (힘스, 희림종합건축사사무소)\n",
              "3837680     0.00                      (힘스,)\n",
              "\n",
              "[3837681 rows x 2 columns]"
            ]
          },
          "metadata": {
            "tags": []
          },
          "execution_count": 55
        }
      ]
    },
    {
      "cell_type": "code",
      "metadata": {
        "id": "R2WLFtluWMAa",
        "colab": {
          "base_uri": "https://localhost:8080/"
        },
        "outputId": "089c9d40-ce47-48c3-fe1d-e26300f98dbe"
      },
      "source": [
        "import pandas as pd\n",
        "pd.options.display.float_format = '{:.6f}'.format\n",
        "support_lst.loc[~support_lst.index.isin(idx),'support'].describe()"
      ],
      "execution_count": 56,
      "outputs": [
        {
          "output_type": "execute_result",
          "data": {
            "text/plain": [
              "count   3835722.000000\n",
              "mean          0.000003\n",
              "std           0.000052\n",
              "min           0.000000\n",
              "25%           0.000000\n",
              "50%           0.000000\n",
              "75%           0.000000\n",
              "max           0.009063\n",
              "Name: support, dtype: float64"
            ]
          },
          "metadata": {
            "tags": []
          },
          "execution_count": 56
        }
      ]
    },
    {
      "cell_type": "code",
      "metadata": {
        "colab": {
          "base_uri": "https://localhost:8080/",
          "height": 414
        },
        "id": "0uiKTlm5fsVQ",
        "outputId": "36cf2aa7-bf53-408d-f124-76cc88ad9440"
      },
      "source": [
        "support_lst.loc[support_lst['itemsets'].apply(lambda x: len(x)) > 1].sort_values('support', ascending =False)\n",
        "# support_lst.loc[~support_lst.index.isin(idx),]"
      ],
      "execution_count": 59,
      "outputs": [
        {
          "output_type": "execute_result",
          "data": {
            "text/html": [
              "<div>\n",
              "<style scoped>\n",
              "    .dataframe tbody tr th:only-of-type {\n",
              "        vertical-align: middle;\n",
              "    }\n",
              "\n",
              "    .dataframe tbody tr th {\n",
              "        vertical-align: top;\n",
              "    }\n",
              "\n",
              "    .dataframe thead th {\n",
              "        text-align: right;\n",
              "    }\n",
              "</style>\n",
              "<table border=\"1\" class=\"dataframe\">\n",
              "  <thead>\n",
              "    <tr style=\"text-align: right;\">\n",
              "      <th></th>\n",
              "      <th>support</th>\n",
              "      <th>itemsets</th>\n",
              "    </tr>\n",
              "  </thead>\n",
              "  <tbody>\n",
              "    <tr>\n",
              "      <th>1080717</th>\n",
              "      <td>0.009063</td>\n",
              "      <td>(바이오니아, 이화전기공업)</td>\n",
              "    </tr>\n",
              "    <tr>\n",
              "      <th>377436</th>\n",
              "      <td>0.007361</td>\n",
              "      <td>(남선알미늄보통주, 이화전기공업)</td>\n",
              "    </tr>\n",
              "    <tr>\n",
              "      <th>968443</th>\n",
              "      <td>0.006751</td>\n",
              "      <td>(메가엠디, 서울식품공업보통주)</td>\n",
              "    </tr>\n",
              "    <tr>\n",
              "      <th>1637073</th>\n",
              "      <td>0.006669</td>\n",
              "      <td>(써니전자보통주, 이화전기공업)</td>\n",
              "    </tr>\n",
              "    <tr>\n",
              "      <th>3789403</th>\n",
              "      <td>0.006110</td>\n",
              "      <td>(후성 보통주, 서울식품공업보통주)</td>\n",
              "    </tr>\n",
              "    <tr>\n",
              "      <th>...</th>\n",
              "      <td>...</td>\n",
              "      <td>...</td>\n",
              "    </tr>\n",
              "    <tr>\n",
              "      <th>1331317</th>\n",
              "      <td>0.000000</td>\n",
              "      <td>(상신이디피, 와이엠티)</td>\n",
              "    </tr>\n",
              "    <tr>\n",
              "      <th>1331318</th>\n",
              "      <td>0.000000</td>\n",
              "      <td>(상신이디피, 와이오엠)</td>\n",
              "    </tr>\n",
              "    <tr>\n",
              "      <th>1331319</th>\n",
              "      <td>0.000000</td>\n",
              "      <td>(상신이디피, 와이제이엠게임즈)</td>\n",
              "    </tr>\n",
              "    <tr>\n",
              "      <th>1331320</th>\n",
              "      <td>0.000000</td>\n",
              "      <td>(상신이디피, 와이지-원)</td>\n",
              "    </tr>\n",
              "    <tr>\n",
              "      <th>3837679</th>\n",
              "      <td>0.000000</td>\n",
              "      <td>(힘스, 희림종합건축사사무소)</td>\n",
              "    </tr>\n",
              "  </tbody>\n",
              "</table>\n",
              "<p>3835722 rows × 2 columns</p>\n",
              "</div>"
            ],
            "text/plain": [
              "         support             itemsets\n",
              "1080717 0.009063      (바이오니아, 이화전기공업)\n",
              "377436  0.007361   (남선알미늄보통주, 이화전기공업)\n",
              "968443  0.006751    (메가엠디, 서울식품공업보통주)\n",
              "1637073 0.006669    (써니전자보통주, 이화전기공업)\n",
              "3789403 0.006110  (후성 보통주, 서울식품공업보통주)\n",
              "...          ...                  ...\n",
              "1331317 0.000000        (상신이디피, 와이엠티)\n",
              "1331318 0.000000        (상신이디피, 와이오엠)\n",
              "1331319 0.000000    (상신이디피, 와이제이엠게임즈)\n",
              "1331320 0.000000       (상신이디피, 와이지-원)\n",
              "3837679 0.000000     (힘스, 희림종합건축사사무소)\n",
              "\n",
              "[3835722 rows x 2 columns]"
            ]
          },
          "metadata": {
            "tags": []
          },
          "execution_count": 59
        }
      ]
    },
    {
      "cell_type": "markdown",
      "metadata": {
        "id": "GEI-95PTYNgm"
      },
      "source": [
        ""
      ]
    },
    {
      "cell_type": "code",
      "metadata": {
        "colab": {
          "base_uri": "https://localhost:8080/"
        },
        "id": "1kNBoc8OSve-",
        "outputId": "d59b1cff-4abc-42cf-800f-ec9180599985"
      },
      "source": [
        "from mlxtend.frequent_patterns import association_rules, fpgrowth\n",
        "rules_0 = association_rules(support_lst, metric='lift',min_threshold = 1)\n",
        "rules_0[['antecedents','consequents']] = rules_0[['antecedents','consequents']].applymap(lambda x: tuple(x))\n",
        "rules_0 = rules_0.loc[rules_0['lift']!=np.inf].reset_index(drop=True)"
      ],
      "execution_count": 60,
      "outputs": [
        {
          "output_type": "stream",
          "text": [
            "/usr/local/lib/python3.7/dist-packages/mlxtend/frequent_patterns/association_rules.py:106: RuntimeWarning: invalid value encountered in double_scalars\n",
            "  \"lift\": lambda sAC, sA, sC: metric_dict[\"confidence\"](sAC, sA, sC)/sC,\n",
            "/usr/local/lib/python3.7/dist-packages/mlxtend/frequent_patterns/association_rules.py:105: RuntimeWarning: invalid value encountered in double_scalars\n",
            "  \"confidence\": lambda sAC, sA, _: sAC/sA,\n",
            "/usr/local/lib/python3.7/dist-packages/mlxtend/frequent_patterns/association_rules.py:106: RuntimeWarning: divide by zero encountered in double_scalars\n",
            "  \"lift\": lambda sAC, sA, sC: metric_dict[\"confidence\"](sAC, sA, sC)/sC,\n",
            "/usr/local/lib/python3.7/dist-packages/mlxtend/frequent_patterns/association_rules.py:105: RuntimeWarning: divide by zero encountered in double_scalars\n",
            "  \"confidence\": lambda sAC, sA, _: sAC/sA,\n",
            "/usr/local/lib/python3.7/dist-packages/mlxtend/frequent_patterns/association_rules.py:105: RuntimeWarning: divide by zero encountered in true_divide\n",
            "  \"confidence\": lambda sAC, sA, _: sAC/sA,\n",
            "/usr/local/lib/python3.7/dist-packages/mlxtend/frequent_patterns/association_rules.py:106: RuntimeWarning: divide by zero encountered in true_divide\n",
            "  \"lift\": lambda sAC, sA, sC: metric_dict[\"confidence\"](sAC, sA, sC)/sC,\n",
            "/usr/local/lib/python3.7/dist-packages/mlxtend/frequent_patterns/association_rules.py:86: RuntimeWarning: divide by zero encountered in true_divide\n",
            "  confidence = sAC/sA\n"
          ],
          "name": "stderr"
        }
      ]
    },
    {
      "cell_type": "code",
      "metadata": {
        "id": "L3Wv-VBnJ-tf",
        "colab": {
          "base_uri": "https://localhost:8080/",
          "height": 662
        },
        "outputId": "553eeb1b-ba2e-46aa-bda3-1920894b8c86"
      },
      "source": [
        "rules_0.sort_values(['support','lift','confidence'], ascending=False)[:20]"
      ],
      "execution_count": 63,
      "outputs": [
        {
          "output_type": "execute_result",
          "data": {
            "text/html": [
              "<div>\n",
              "<style scoped>\n",
              "    .dataframe tbody tr th:only-of-type {\n",
              "        vertical-align: middle;\n",
              "    }\n",
              "\n",
              "    .dataframe tbody tr th {\n",
              "        vertical-align: top;\n",
              "    }\n",
              "\n",
              "    .dataframe thead th {\n",
              "        text-align: right;\n",
              "    }\n",
              "</style>\n",
              "<table border=\"1\" class=\"dataframe\">\n",
              "  <thead>\n",
              "    <tr style=\"text-align: right;\">\n",
              "      <th></th>\n",
              "      <th>antecedents</th>\n",
              "      <th>consequents</th>\n",
              "      <th>antecedent support</th>\n",
              "      <th>consequent support</th>\n",
              "      <th>support</th>\n",
              "      <th>confidence</th>\n",
              "      <th>lift</th>\n",
              "      <th>leverage</th>\n",
              "      <th>conviction</th>\n",
              "    </tr>\n",
              "  </thead>\n",
              "  <tbody>\n",
              "    <tr>\n",
              "      <th>153581</th>\n",
              "      <td>(서울식품공업보통주,)</td>\n",
              "      <td>(후성 보통주,)</td>\n",
              "      <td>0.030398</td>\n",
              "      <td>0.001183</td>\n",
              "      <td>0.006110</td>\n",
              "      <td>0.200989</td>\n",
              "      <td>169.881773</td>\n",
              "      <td>0.006074</td>\n",
              "      <td>1.250067</td>\n",
              "    </tr>\n",
              "    <tr>\n",
              "      <th>153580</th>\n",
              "      <td>(후성 보통주,)</td>\n",
              "      <td>(서울식품공업보통주,)</td>\n",
              "      <td>0.001183</td>\n",
              "      <td>0.030398</td>\n",
              "      <td>0.006110</td>\n",
              "      <td>5.164115</td>\n",
              "      <td>169.881773</td>\n",
              "      <td>0.006074</td>\n",
              "      <td>inf</td>\n",
              "    </tr>\n",
              "    <tr>\n",
              "      <th>228086</th>\n",
              "      <td>(진원생명과학보통주,)</td>\n",
              "      <td>(이화전기공업,)</td>\n",
              "      <td>0.010337</td>\n",
              "      <td>0.017708</td>\n",
              "      <td>0.005851</td>\n",
              "      <td>0.566033</td>\n",
              "      <td>31.964070</td>\n",
              "      <td>0.005668</td>\n",
              "      <td>2.263517</td>\n",
              "    </tr>\n",
              "    <tr>\n",
              "      <th>228087</th>\n",
              "      <td>(이화전기공업,)</td>\n",
              "      <td>(진원생명과학보통주,)</td>\n",
              "      <td>0.017708</td>\n",
              "      <td>0.010337</td>\n",
              "      <td>0.005851</td>\n",
              "      <td>0.330403</td>\n",
              "      <td>31.964070</td>\n",
              "      <td>0.005668</td>\n",
              "      <td>1.477999</td>\n",
              "    </tr>\n",
              "    <tr>\n",
              "      <th>228127</th>\n",
              "      <td>(이화전기공업,)</td>\n",
              "      <td>(코미팜,)</td>\n",
              "      <td>0.017708</td>\n",
              "      <td>0.002729</td>\n",
              "      <td>0.005622</td>\n",
              "      <td>0.317471</td>\n",
              "      <td>116.327429</td>\n",
              "      <td>0.005574</td>\n",
              "      <td>1.461141</td>\n",
              "    </tr>\n",
              "    <tr>\n",
              "      <th>228126</th>\n",
              "      <td>(코미팜,)</td>\n",
              "      <td>(이화전기공업,)</td>\n",
              "      <td>0.002729</td>\n",
              "      <td>0.017708</td>\n",
              "      <td>0.005622</td>\n",
              "      <td>2.059975</td>\n",
              "      <td>116.327429</td>\n",
              "      <td>0.005574</td>\n",
              "      <td>inf</td>\n",
              "    </tr>\n",
              "    <tr>\n",
              "      <th>152994</th>\n",
              "      <td>(에이아이비트,)</td>\n",
              "      <td>(서울식품공업보통주,)</td>\n",
              "      <td>0.001257</td>\n",
              "      <td>0.030398</td>\n",
              "      <td>0.005306</td>\n",
              "      <td>4.221047</td>\n",
              "      <td>138.858035</td>\n",
              "      <td>0.005267</td>\n",
              "      <td>inf</td>\n",
              "    </tr>\n",
              "    <tr>\n",
              "      <th>152995</th>\n",
              "      <td>(서울식품공업보통주,)</td>\n",
              "      <td>(에이아이비트,)</td>\n",
              "      <td>0.030398</td>\n",
              "      <td>0.001257</td>\n",
              "      <td>0.005306</td>\n",
              "      <td>0.174535</td>\n",
              "      <td>138.858035</td>\n",
              "      <td>0.005267</td>\n",
              "      <td>1.209915</td>\n",
              "    </tr>\n",
              "    <tr>\n",
              "      <th>153518</th>\n",
              "      <td>(한창제지보통주,)</td>\n",
              "      <td>(서울식품공업보통주,)</td>\n",
              "      <td>0.006766</td>\n",
              "      <td>0.030398</td>\n",
              "      <td>0.005109</td>\n",
              "      <td>0.755108</td>\n",
              "      <td>24.840462</td>\n",
              "      <td>0.004903</td>\n",
              "      <td>3.959296</td>\n",
              "    </tr>\n",
              "    <tr>\n",
              "      <th>153519</th>\n",
              "      <td>(서울식품공업보통주,)</td>\n",
              "      <td>(한창제지보통주,)</td>\n",
              "      <td>0.030398</td>\n",
              "      <td>0.006766</td>\n",
              "      <td>0.005109</td>\n",
              "      <td>0.168072</td>\n",
              "      <td>24.840462</td>\n",
              "      <td>0.004903</td>\n",
              "      <td>1.193894</td>\n",
              "    </tr>\n",
              "    <tr>\n",
              "      <th>153204</th>\n",
              "      <td>(자연과 환경,)</td>\n",
              "      <td>(서울식품공업보통주,)</td>\n",
              "      <td>0.003851</td>\n",
              "      <td>0.030398</td>\n",
              "      <td>0.004817</td>\n",
              "      <td>1.250908</td>\n",
              "      <td>41.150597</td>\n",
              "      <td>0.004700</td>\n",
              "      <td>inf</td>\n",
              "    </tr>\n",
              "    <tr>\n",
              "      <th>153205</th>\n",
              "      <td>(서울식품공업보통주,)</td>\n",
              "      <td>(자연과 환경,)</td>\n",
              "      <td>0.030398</td>\n",
              "      <td>0.003851</td>\n",
              "      <td>0.004817</td>\n",
              "      <td>0.158472</td>\n",
              "      <td>41.150597</td>\n",
              "      <td>0.004700</td>\n",
              "      <td>1.183738</td>\n",
              "    </tr>\n",
              "    <tr>\n",
              "      <th>228297</th>\n",
              "      <td>(현대자동차보통주,)</td>\n",
              "      <td>(이화전기공업,)</td>\n",
              "      <td>0.003167</td>\n",
              "      <td>0.017708</td>\n",
              "      <td>0.004798</td>\n",
              "      <td>1.515165</td>\n",
              "      <td>85.561829</td>\n",
              "      <td>0.004742</td>\n",
              "      <td>inf</td>\n",
              "    </tr>\n",
              "    <tr>\n",
              "      <th>228296</th>\n",
              "      <td>(이화전기공업,)</td>\n",
              "      <td>(현대자동차보통주,)</td>\n",
              "      <td>0.017708</td>\n",
              "      <td>0.003167</td>\n",
              "      <td>0.004798</td>\n",
              "      <td>0.270971</td>\n",
              "      <td>85.561829</td>\n",
              "      <td>0.004742</td>\n",
              "      <td>1.367344</td>\n",
              "    </tr>\n",
              "    <tr>\n",
              "      <th>228235</th>\n",
              "      <td>(한국투자금융지주보통주,)</td>\n",
              "      <td>(이화전기공업,)</td>\n",
              "      <td>0.000788</td>\n",
              "      <td>0.017708</td>\n",
              "      <td>0.004735</td>\n",
              "      <td>6.007563</td>\n",
              "      <td>339.248957</td>\n",
              "      <td>0.004721</td>\n",
              "      <td>inf</td>\n",
              "    </tr>\n",
              "    <tr>\n",
              "      <th>228234</th>\n",
              "      <td>(이화전기공업,)</td>\n",
              "      <td>(한국투자금융지주보통주,)</td>\n",
              "      <td>0.017708</td>\n",
              "      <td>0.000788</td>\n",
              "      <td>0.004735</td>\n",
              "      <td>0.267373</td>\n",
              "      <td>339.248957</td>\n",
              "      <td>0.004721</td>\n",
              "      <td>1.363875</td>\n",
              "    </tr>\n",
              "    <tr>\n",
              "      <th>153228</th>\n",
              "      <td>(주연테크 보통주,)</td>\n",
              "      <td>(서울식품공업보통주,)</td>\n",
              "      <td>0.006367</td>\n",
              "      <td>0.030398</td>\n",
              "      <td>0.004687</td>\n",
              "      <td>0.736192</td>\n",
              "      <td>24.218208</td>\n",
              "      <td>0.004494</td>\n",
              "      <td>3.675408</td>\n",
              "    </tr>\n",
              "    <tr>\n",
              "      <th>153229</th>\n",
              "      <td>(서울식품공업보통주,)</td>\n",
              "      <td>(주연테크 보통주,)</td>\n",
              "      <td>0.030398</td>\n",
              "      <td>0.006367</td>\n",
              "      <td>0.004687</td>\n",
              "      <td>0.154196</td>\n",
              "      <td>24.218208</td>\n",
              "      <td>0.004494</td>\n",
              "      <td>1.174779</td>\n",
              "    </tr>\n",
              "    <tr>\n",
              "      <th>153564</th>\n",
              "      <td>(현대자동차보통주,)</td>\n",
              "      <td>(서울식품공업보통주,)</td>\n",
              "      <td>0.003167</td>\n",
              "      <td>0.030398</td>\n",
              "      <td>0.004681</td>\n",
              "      <td>1.477959</td>\n",
              "      <td>48.619798</td>\n",
              "      <td>0.004584</td>\n",
              "      <td>inf</td>\n",
              "    </tr>\n",
              "    <tr>\n",
              "      <th>153565</th>\n",
              "      <td>(서울식품공업보통주,)</td>\n",
              "      <td>(현대자동차보통주,)</td>\n",
              "      <td>0.030398</td>\n",
              "      <td>0.003167</td>\n",
              "      <td>0.004681</td>\n",
              "      <td>0.153977</td>\n",
              "      <td>48.619798</td>\n",
              "      <td>0.004584</td>\n",
              "      <td>1.178258</td>\n",
              "    </tr>\n",
              "  </tbody>\n",
              "</table>\n",
              "</div>"
            ],
            "text/plain": [
              "           antecedents     consequents  ...  leverage  conviction\n",
              "153581    (서울식품공업보통주,)       (후성 보통주,)  ...  0.006074    1.250067\n",
              "153580       (후성 보통주,)    (서울식품공업보통주,)  ...  0.006074         inf\n",
              "228086    (진원생명과학보통주,)       (이화전기공업,)  ...  0.005668    2.263517\n",
              "228087       (이화전기공업,)    (진원생명과학보통주,)  ...  0.005668    1.477999\n",
              "228127       (이화전기공업,)          (코미팜,)  ...  0.005574    1.461141\n",
              "228126          (코미팜,)       (이화전기공업,)  ...  0.005574         inf\n",
              "152994       (에이아이비트,)    (서울식품공업보통주,)  ...  0.005267         inf\n",
              "152995    (서울식품공업보통주,)       (에이아이비트,)  ...  0.005267    1.209915\n",
              "153518      (한창제지보통주,)    (서울식품공업보통주,)  ...  0.004903    3.959296\n",
              "153519    (서울식품공업보통주,)      (한창제지보통주,)  ...  0.004903    1.193894\n",
              "153204       (자연과 환경,)    (서울식품공업보통주,)  ...  0.004700         inf\n",
              "153205    (서울식품공업보통주,)       (자연과 환경,)  ...  0.004700    1.183738\n",
              "228297     (현대자동차보통주,)       (이화전기공업,)  ...  0.004742         inf\n",
              "228296       (이화전기공업,)     (현대자동차보통주,)  ...  0.004742    1.367344\n",
              "228235  (한국투자금융지주보통주,)       (이화전기공업,)  ...  0.004721         inf\n",
              "228234       (이화전기공업,)  (한국투자금융지주보통주,)  ...  0.004721    1.363875\n",
              "153228     (주연테크 보통주,)    (서울식품공업보통주,)  ...  0.004494    3.675408\n",
              "153229    (서울식품공업보통주,)     (주연테크 보통주,)  ...  0.004494    1.174779\n",
              "153564     (현대자동차보통주,)    (서울식품공업보통주,)  ...  0.004584         inf\n",
              "153565    (서울식품공업보통주,)     (현대자동차보통주,)  ...  0.004584    1.178258\n",
              "\n",
              "[20 rows x 9 columns]"
            ]
          },
          "metadata": {
            "tags": []
          },
          "execution_count": 63
        }
      ]
    },
    {
      "cell_type": "markdown",
      "metadata": {
        "id": "o594-ACHEdZH"
      },
      "source": [
        "#### sample_info\n",
        "8000명 이외의 사람의 상품목록 뽑은 후 그 사람이 가진 상품과 신뢰도가 높은 상품 뽑아내기"
      ]
    },
    {
      "cell_type": "code",
      "metadata": {
        "id": "DsF6TujzEdZI",
        "colab": {
          "base_uri": "https://localhost:8080/"
        },
        "outputId": "16e09f48-cb6e-494b-ac2b-2880efaf54f6"
      },
      "source": [
        "#샘플 고객의 상품목록에서 부분집합 추출\n",
        "\n",
        "from itertools import combinations\n",
        "\n",
        "cluster_prod=sample_info.loc[sample_info['cluster']==0,'상품명']\n",
        "print(len(cluster_prod))\n",
        "\n",
        "a = cluster_prod[0]\n",
        "result=[]\n",
        "\n",
        "for i in range(0,len(a)+1):\n",
        "    c=combinations(a,i)\n",
        "    result.extend(c)\n",
        "\n",
        "print(result)"
      ],
      "execution_count": 68,
      "outputs": [
        {
          "output_type": "stream",
          "text": [
            "27\n",
            "[(), ('녹십자보통주',), ('디피씨보통주',), ('일양약품보통주',), ('초록뱀미디어',), ('후성 보통주',), ('녹십자보통주', '디피씨보통주'), ('녹십자보통주', '일양약품보통주'), ('녹십자보통주', '초록뱀미디어'), ('녹십자보통주', '후성 보통주'), ('디피씨보통주', '일양약품보통주'), ('디피씨보통주', '초록뱀미디어'), ('디피씨보통주', '후성 보통주'), ('일양약품보통주', '초록뱀미디어'), ('일양약품보통주', '후성 보통주'), ('초록뱀미디어', '후성 보통주'), ('녹십자보통주', '디피씨보통주', '일양약품보통주'), ('녹십자보통주', '디피씨보통주', '초록뱀미디어'), ('녹십자보통주', '디피씨보통주', '후성 보통주'), ('녹십자보통주', '일양약품보통주', '초록뱀미디어'), ('녹십자보통주', '일양약품보통주', '후성 보통주'), ('녹십자보통주', '초록뱀미디어', '후성 보통주'), ('디피씨보통주', '일양약품보통주', '초록뱀미디어'), ('디피씨보통주', '일양약품보통주', '후성 보통주'), ('디피씨보통주', '초록뱀미디어', '후성 보통주'), ('일양약품보통주', '초록뱀미디어', '후성 보통주'), ('녹십자보통주', '디피씨보통주', '일양약품보통주', '초록뱀미디어'), ('녹십자보통주', '디피씨보통주', '일양약품보통주', '후성 보통주'), ('녹십자보통주', '디피씨보통주', '초록뱀미디어', '후성 보통주'), ('녹십자보통주', '일양약품보통주', '초록뱀미디어', '후성 보통주'), ('디피씨보통주', '일양약품보통주', '초록뱀미디어', '후성 보통주'), ('녹십자보통주', '디피씨보통주', '일양약품보통주', '초록뱀미디어', '후성 보통주')]\n"
          ],
          "name": "stdout"
        }
      ]
    },
    {
      "cell_type": "code",
      "metadata": {
        "colab": {
          "base_uri": "https://localhost:8080/",
          "height": 414
        },
        "id": "Uo10UrACEdZJ",
        "outputId": "f3443023-b2ed-4959-e9c5-3a66c2a8baed"
      },
      "source": [
        "rules_0.loc[rules_0.antecedents.isin(result),:].sort_values(['support','lift','confidence'], ascending =False)\n"
      ],
      "execution_count": 72,
      "outputs": [
        {
          "output_type": "execute_result",
          "data": {
            "text/html": [
              "<div>\n",
              "<style scoped>\n",
              "    .dataframe tbody tr th:only-of-type {\n",
              "        vertical-align: middle;\n",
              "    }\n",
              "\n",
              "    .dataframe tbody tr th {\n",
              "        vertical-align: top;\n",
              "    }\n",
              "\n",
              "    .dataframe thead th {\n",
              "        text-align: right;\n",
              "    }\n",
              "</style>\n",
              "<table border=\"1\" class=\"dataframe\">\n",
              "  <thead>\n",
              "    <tr style=\"text-align: right;\">\n",
              "      <th></th>\n",
              "      <th>antecedents</th>\n",
              "      <th>consequents</th>\n",
              "      <th>antecedent support</th>\n",
              "      <th>consequent support</th>\n",
              "      <th>support</th>\n",
              "      <th>confidence</th>\n",
              "      <th>lift</th>\n",
              "      <th>leverage</th>\n",
              "      <th>conviction</th>\n",
              "    </tr>\n",
              "  </thead>\n",
              "  <tbody>\n",
              "    <tr>\n",
              "      <th>153580</th>\n",
              "      <td>(후성 보통주,)</td>\n",
              "      <td>(서울식품공업보통주,)</td>\n",
              "      <td>0.001183</td>\n",
              "      <td>0.030398</td>\n",
              "      <td>0.006110</td>\n",
              "      <td>5.164115</td>\n",
              "      <td>169.881773</td>\n",
              "      <td>0.006074</td>\n",
              "      <td>inf</td>\n",
              "    </tr>\n",
              "    <tr>\n",
              "      <th>153269</th>\n",
              "      <td>(초록뱀미디어,)</td>\n",
              "      <td>(서울식품공업보통주,)</td>\n",
              "      <td>0.008974</td>\n",
              "      <td>0.030398</td>\n",
              "      <td>0.004290</td>\n",
              "      <td>0.478032</td>\n",
              "      <td>15.725624</td>\n",
              "      <td>0.004017</td>\n",
              "      <td>1.857589</td>\n",
              "    </tr>\n",
              "    <tr>\n",
              "      <th>240967</th>\n",
              "      <td>(초록뱀미디어,)</td>\n",
              "      <td>(카카오보통주,)</td>\n",
              "      <td>0.008974</td>\n",
              "      <td>0.001635</td>\n",
              "      <td>0.003601</td>\n",
              "      <td>0.401272</td>\n",
              "      <td>245.468624</td>\n",
              "      <td>0.003586</td>\n",
              "      <td>1.667477</td>\n",
              "    </tr>\n",
              "    <tr>\n",
              "      <th>45420</th>\n",
              "      <td>(디피씨보통주,)</td>\n",
              "      <td>(국영지앤엠,)</td>\n",
              "      <td>0.002688</td>\n",
              "      <td>0.004794</td>\n",
              "      <td>0.003168</td>\n",
              "      <td>1.178763</td>\n",
              "      <td>245.888666</td>\n",
              "      <td>0.003155</td>\n",
              "      <td>inf</td>\n",
              "    </tr>\n",
              "    <tr>\n",
              "      <th>173480</th>\n",
              "      <td>(후성 보통주,)</td>\n",
              "      <td>(쌍방울,)</td>\n",
              "      <td>0.001183</td>\n",
              "      <td>0.010732</td>\n",
              "      <td>0.002436</td>\n",
              "      <td>2.059097</td>\n",
              "      <td>191.862448</td>\n",
              "      <td>0.002423</td>\n",
              "      <td>inf</td>\n",
              "    </tr>\n",
              "    <tr>\n",
              "      <th>...</th>\n",
              "      <td>...</td>\n",
              "      <td>...</td>\n",
              "      <td>...</td>\n",
              "      <td>...</td>\n",
              "      <td>...</td>\n",
              "      <td>...</td>\n",
              "      <td>...</td>\n",
              "      <td>...</td>\n",
              "      <td>...</td>\n",
              "    </tr>\n",
              "    <tr>\n",
              "      <th>98860</th>\n",
              "      <td>(디피씨보통주,)</td>\n",
              "      <td>(케이아이엔엑스,)</td>\n",
              "      <td>0.002688</td>\n",
              "      <td>0.000078</td>\n",
              "      <td>0.000000</td>\n",
              "      <td>0.000085</td>\n",
              "      <td>1.097476</td>\n",
              "      <td>0.000000</td>\n",
              "      <td>1.000008</td>\n",
              "    </tr>\n",
              "    <tr>\n",
              "      <th>214226</th>\n",
              "      <td>(후성 보통주,)</td>\n",
              "      <td>(오스코텍,)</td>\n",
              "      <td>0.001183</td>\n",
              "      <td>0.000183</td>\n",
              "      <td>0.000000</td>\n",
              "      <td>0.000194</td>\n",
              "      <td>1.056534</td>\n",
              "      <td>0.000000</td>\n",
              "      <td>1.000010</td>\n",
              "    </tr>\n",
              "    <tr>\n",
              "      <th>98652</th>\n",
              "      <td>(디피씨보통주,)</td>\n",
              "      <td>(위지윅스튜디오,)</td>\n",
              "      <td>0.002688</td>\n",
              "      <td>0.000083</td>\n",
              "      <td>0.000000</td>\n",
              "      <td>0.000085</td>\n",
              "      <td>1.033456</td>\n",
              "      <td>0.000000</td>\n",
              "      <td>1.000003</td>\n",
              "    </tr>\n",
              "    <tr>\n",
              "      <th>98667</th>\n",
              "      <td>(디피씨보통주,)</td>\n",
              "      <td>(유아이엘,)</td>\n",
              "      <td>0.002688</td>\n",
              "      <td>0.000083</td>\n",
              "      <td>0.000000</td>\n",
              "      <td>0.000085</td>\n",
              "      <td>1.027747</td>\n",
              "      <td>0.000000</td>\n",
              "      <td>1.000002</td>\n",
              "    </tr>\n",
              "    <tr>\n",
              "      <th>56587</th>\n",
              "      <td>(일양약품보통주,)</td>\n",
              "      <td>(남화산업,)</td>\n",
              "      <td>0.001439</td>\n",
              "      <td>0.000159</td>\n",
              "      <td>0.000000</td>\n",
              "      <td>0.000159</td>\n",
              "      <td>1.001533</td>\n",
              "      <td>0.000000</td>\n",
              "      <td>1.000000</td>\n",
              "    </tr>\n",
              "  </tbody>\n",
              "</table>\n",
              "<p>2719 rows × 9 columns</p>\n",
              "</div>"
            ],
            "text/plain": [
              "       antecedents   consequents  ...  leverage  conviction\n",
              "153580   (후성 보통주,)  (서울식품공업보통주,)  ...  0.006074         inf\n",
              "153269   (초록뱀미디어,)  (서울식품공업보통주,)  ...  0.004017    1.857589\n",
              "240967   (초록뱀미디어,)     (카카오보통주,)  ...  0.003586    1.667477\n",
              "45420    (디피씨보통주,)      (국영지앤엠,)  ...  0.003155         inf\n",
              "173480   (후성 보통주,)        (쌍방울,)  ...  0.002423         inf\n",
              "...            ...           ...  ...       ...         ...\n",
              "98860    (디피씨보통주,)    (케이아이엔엑스,)  ...  0.000000    1.000008\n",
              "214226   (후성 보통주,)       (오스코텍,)  ...  0.000000    1.000010\n",
              "98652    (디피씨보통주,)    (위지윅스튜디오,)  ...  0.000000    1.000003\n",
              "98667    (디피씨보통주,)       (유아이엘,)  ...  0.000000    1.000002\n",
              "56587   (일양약품보통주,)       (남화산업,)  ...  0.000000    1.000000\n",
              "\n",
              "[2719 rows x 9 columns]"
            ]
          },
          "metadata": {
            "tags": []
          },
          "execution_count": 72
        }
      ]
    },
    {
      "cell_type": "markdown",
      "metadata": {
        "id": "P6Nx1vQVaSNz"
      },
      "source": [
        "### 1번 군집"
      ]
    },
    {
      "cell_type": "code",
      "metadata": {
        "collapsed": true,
        "id": "8O5h7b7t9EdK"
      },
      "source": [
        "cluster_1 = customer_info.loc[customer_info['cluster']==1].index\n",
        "df1 = df_whole.loc[df_whole.index.isin(cluster_1)].reset_index(drop= True)"
      ],
      "execution_count": 76,
      "outputs": []
    },
    {
      "cell_type": "code",
      "metadata": {
        "id": "DkmJgCri9EdL"
      },
      "source": [
        "id_1 = customer_info.loc[customer_info['cluster']==1,'고객구분코드']\n",
        "unstack_df = retain_df['보유개수'].unstack().fillna(0)\n",
        "unstack_df = unstack_df.loc[unstack_df.index.isin(id_1)].reset_index(drop= True)\n",
        "product_mtx = unstack_df.T.dot(df1.astype(int))\n",
        "product_mtx = product_mtx / unstack_df.sum().sum()"
      ],
      "execution_count": 78,
      "outputs": []
    },
    {
      "cell_type": "code",
      "metadata": {
        "colab": {
          "base_uri": "https://localhost:8080/",
          "height": 414
        },
        "id": "tH4l4_vb9EdL",
        "outputId": "7f83c164-86bf-42e1-929e-ee30908cb62f"
      },
      "source": [
        "itemsets = product_mtx.unstack().index.to_list()\n",
        "support = product_mtx.unstack().values\n",
        "support_lst = pd.DataFrame({'support':support,'itemsets':itemsets})\n",
        "support_lst"
      ],
      "execution_count": 79,
      "outputs": [
        {
          "output_type": "execute_result",
          "data": {
            "text/html": [
              "<div>\n",
              "<style scoped>\n",
              "    .dataframe tbody tr th:only-of-type {\n",
              "        vertical-align: middle;\n",
              "    }\n",
              "\n",
              "    .dataframe tbody tr th {\n",
              "        vertical-align: top;\n",
              "    }\n",
              "\n",
              "    .dataframe thead th {\n",
              "        text-align: right;\n",
              "    }\n",
              "</style>\n",
              "<table border=\"1\" class=\"dataframe\">\n",
              "  <thead>\n",
              "    <tr style=\"text-align: right;\">\n",
              "      <th></th>\n",
              "      <th>support</th>\n",
              "      <th>itemsets</th>\n",
              "    </tr>\n",
              "  </thead>\n",
              "  <tbody>\n",
              "    <tr>\n",
              "      <th>0</th>\n",
              "      <td>0.000001</td>\n",
              "      <td>((주)마이크로컨텍솔루션, (주)마이크로컨텍솔루션)</td>\n",
              "    </tr>\n",
              "    <tr>\n",
              "      <th>1</th>\n",
              "      <td>0.000000</td>\n",
              "      <td>((주)마이크로컨텍솔루션, (주)스카이이앤엠)</td>\n",
              "    </tr>\n",
              "    <tr>\n",
              "      <th>2</th>\n",
              "      <td>0.000000</td>\n",
              "      <td>((주)마이크로컨텍솔루션, (주)포스코엠텍)</td>\n",
              "    </tr>\n",
              "    <tr>\n",
              "      <th>3</th>\n",
              "      <td>0.000000</td>\n",
              "      <td>((주)마이크로컨텍솔루션, AJ네트웍스보통주)</td>\n",
              "    </tr>\n",
              "    <tr>\n",
              "      <th>4</th>\n",
              "      <td>0.000000</td>\n",
              "      <td>((주)마이크로컨텍솔루션, AK홀딩스보통주)</td>\n",
              "    </tr>\n",
              "    <tr>\n",
              "      <th>...</th>\n",
              "      <td>...</td>\n",
              "      <td>...</td>\n",
              "    </tr>\n",
              "    <tr>\n",
              "      <th>3837676</th>\n",
              "      <td>0.000000</td>\n",
              "      <td>(힘스, 흥국화재해상보험2우선주(신형))</td>\n",
              "    </tr>\n",
              "    <tr>\n",
              "      <th>3837677</th>\n",
              "      <td>0.000000</td>\n",
              "      <td>(힘스, 흥국화재해상보험보통주)</td>\n",
              "    </tr>\n",
              "    <tr>\n",
              "      <th>3837678</th>\n",
              "      <td>0.000000</td>\n",
              "      <td>(힘스, 흥아해운보통주)</td>\n",
              "    </tr>\n",
              "    <tr>\n",
              "      <th>3837679</th>\n",
              "      <td>0.000000</td>\n",
              "      <td>(힘스, 희림종합건축사사무소)</td>\n",
              "    </tr>\n",
              "    <tr>\n",
              "      <th>3837680</th>\n",
              "      <td>0.000033</td>\n",
              "      <td>(힘스, 힘스)</td>\n",
              "    </tr>\n",
              "  </tbody>\n",
              "</table>\n",
              "<p>3837681 rows × 2 columns</p>\n",
              "</div>"
            ],
            "text/plain": [
              "         support                      itemsets\n",
              "0       0.000001  ((주)마이크로컨텍솔루션, (주)마이크로컨텍솔루션)\n",
              "1       0.000000     ((주)마이크로컨텍솔루션, (주)스카이이앤엠)\n",
              "2       0.000000      ((주)마이크로컨텍솔루션, (주)포스코엠텍)\n",
              "3       0.000000     ((주)마이크로컨텍솔루션, AJ네트웍스보통주)\n",
              "4       0.000000      ((주)마이크로컨텍솔루션, AK홀딩스보통주)\n",
              "...          ...                           ...\n",
              "3837676 0.000000        (힘스, 흥국화재해상보험2우선주(신형))\n",
              "3837677 0.000000             (힘스, 흥국화재해상보험보통주)\n",
              "3837678 0.000000                 (힘스, 흥아해운보통주)\n",
              "3837679 0.000000              (힘스, 희림종합건축사사무소)\n",
              "3837680 0.000033                      (힘스, 힘스)\n",
              "\n",
              "[3837681 rows x 2 columns]"
            ]
          },
          "metadata": {
            "tags": []
          },
          "execution_count": 79
        }
      ]
    },
    {
      "cell_type": "code",
      "metadata": {
        "colab": {
          "base_uri": "https://localhost:8080/",
          "height": 414
        },
        "id": "qlOSoJNp9EdO",
        "outputId": "99b2bd52-8c18-4b91-9779-00d922e037b4"
      },
      "source": [
        "idx = support_lst.loc[support_lst['itemsets'].isin((list(zip(product_mtx.index,product_mtx.columns)))),'itemsets'].index\n",
        "support_lst.loc[support_lst['itemsets'].isin((list(zip(product_mtx.index,product_mtx.columns)))),'itemsets'] =pd.Series(list(zip(product_mtx.index)), index=idx)\n",
        "support_lst"
      ],
      "execution_count": 80,
      "outputs": [
        {
          "output_type": "execute_result",
          "data": {
            "text/html": [
              "<div>\n",
              "<style scoped>\n",
              "    .dataframe tbody tr th:only-of-type {\n",
              "        vertical-align: middle;\n",
              "    }\n",
              "\n",
              "    .dataframe tbody tr th {\n",
              "        vertical-align: top;\n",
              "    }\n",
              "\n",
              "    .dataframe thead th {\n",
              "        text-align: right;\n",
              "    }\n",
              "</style>\n",
              "<table border=\"1\" class=\"dataframe\">\n",
              "  <thead>\n",
              "    <tr style=\"text-align: right;\">\n",
              "      <th></th>\n",
              "      <th>support</th>\n",
              "      <th>itemsets</th>\n",
              "    </tr>\n",
              "  </thead>\n",
              "  <tbody>\n",
              "    <tr>\n",
              "      <th>0</th>\n",
              "      <td>0.000001</td>\n",
              "      <td>((주)마이크로컨텍솔루션,)</td>\n",
              "    </tr>\n",
              "    <tr>\n",
              "      <th>1</th>\n",
              "      <td>0.000000</td>\n",
              "      <td>((주)마이크로컨텍솔루션, (주)스카이이앤엠)</td>\n",
              "    </tr>\n",
              "    <tr>\n",
              "      <th>2</th>\n",
              "      <td>0.000000</td>\n",
              "      <td>((주)마이크로컨텍솔루션, (주)포스코엠텍)</td>\n",
              "    </tr>\n",
              "    <tr>\n",
              "      <th>3</th>\n",
              "      <td>0.000000</td>\n",
              "      <td>((주)마이크로컨텍솔루션, AJ네트웍스보통주)</td>\n",
              "    </tr>\n",
              "    <tr>\n",
              "      <th>4</th>\n",
              "      <td>0.000000</td>\n",
              "      <td>((주)마이크로컨텍솔루션, AK홀딩스보통주)</td>\n",
              "    </tr>\n",
              "    <tr>\n",
              "      <th>...</th>\n",
              "      <td>...</td>\n",
              "      <td>...</td>\n",
              "    </tr>\n",
              "    <tr>\n",
              "      <th>3837676</th>\n",
              "      <td>0.000000</td>\n",
              "      <td>(힘스, 흥국화재해상보험2우선주(신형))</td>\n",
              "    </tr>\n",
              "    <tr>\n",
              "      <th>3837677</th>\n",
              "      <td>0.000000</td>\n",
              "      <td>(힘스, 흥국화재해상보험보통주)</td>\n",
              "    </tr>\n",
              "    <tr>\n",
              "      <th>3837678</th>\n",
              "      <td>0.000000</td>\n",
              "      <td>(힘스, 흥아해운보통주)</td>\n",
              "    </tr>\n",
              "    <tr>\n",
              "      <th>3837679</th>\n",
              "      <td>0.000000</td>\n",
              "      <td>(힘스, 희림종합건축사사무소)</td>\n",
              "    </tr>\n",
              "    <tr>\n",
              "      <th>3837680</th>\n",
              "      <td>0.000033</td>\n",
              "      <td>(힘스,)</td>\n",
              "    </tr>\n",
              "  </tbody>\n",
              "</table>\n",
              "<p>3837681 rows × 2 columns</p>\n",
              "</div>"
            ],
            "text/plain": [
              "         support                   itemsets\n",
              "0       0.000001            ((주)마이크로컨텍솔루션,)\n",
              "1       0.000000  ((주)마이크로컨텍솔루션, (주)스카이이앤엠)\n",
              "2       0.000000   ((주)마이크로컨텍솔루션, (주)포스코엠텍)\n",
              "3       0.000000  ((주)마이크로컨텍솔루션, AJ네트웍스보통주)\n",
              "4       0.000000   ((주)마이크로컨텍솔루션, AK홀딩스보통주)\n",
              "...          ...                        ...\n",
              "3837676 0.000000     (힘스, 흥국화재해상보험2우선주(신형))\n",
              "3837677 0.000000          (힘스, 흥국화재해상보험보통주)\n",
              "3837678 0.000000              (힘스, 흥아해운보통주)\n",
              "3837679 0.000000           (힘스, 희림종합건축사사무소)\n",
              "3837680 0.000033                      (힘스,)\n",
              "\n",
              "[3837681 rows x 2 columns]"
            ]
          },
          "metadata": {
            "tags": []
          },
          "execution_count": 80
        }
      ]
    },
    {
      "cell_type": "code",
      "metadata": {
        "colab": {
          "base_uri": "https://localhost:8080/"
        },
        "id": "O6QoyBS49EdP",
        "outputId": "27f3dbfa-2d01-4f7a-dfae-581395a8730a"
      },
      "source": [
        "support_lst.loc[~support_lst.index.isin(idx),'support'].describe()"
      ],
      "execution_count": 81,
      "outputs": [
        {
          "output_type": "execute_result",
          "data": {
            "text/plain": [
              "count   3835722.000000\n",
              "mean          0.000002\n",
              "std           0.000062\n",
              "min           0.000000\n",
              "25%           0.000000\n",
              "50%           0.000000\n",
              "75%           0.000000\n",
              "max           0.011762\n",
              "Name: support, dtype: float64"
            ]
          },
          "metadata": {
            "tags": []
          },
          "execution_count": 81
        }
      ]
    },
    {
      "cell_type": "code",
      "metadata": {
        "colab": {
          "base_uri": "https://localhost:8080/",
          "height": 414
        },
        "id": "Md8PdT_q9EdQ",
        "outputId": "6e2c1822-ab0a-4860-ba13-eb31a00b1b52"
      },
      "source": [
        "support_lst.loc[support_lst['itemsets'].apply(lambda x: len(x)) > 1].sort_values('support', ascending =False)\n",
        "# support_lst.loc[~support_lst.index.isin(idx),]"
      ],
      "execution_count": 82,
      "outputs": [
        {
          "output_type": "execute_result",
          "data": {
            "text/html": [
              "<div>\n",
              "<style scoped>\n",
              "    .dataframe tbody tr th:only-of-type {\n",
              "        vertical-align: middle;\n",
              "    }\n",
              "\n",
              "    .dataframe tbody tr th {\n",
              "        vertical-align: top;\n",
              "    }\n",
              "\n",
              "    .dataframe thead th {\n",
              "        text-align: right;\n",
              "    }\n",
              "</style>\n",
              "<table border=\"1\" class=\"dataframe\">\n",
              "  <thead>\n",
              "    <tr style=\"text-align: right;\">\n",
              "      <th></th>\n",
              "      <th>support</th>\n",
              "      <th>itemsets</th>\n",
              "    </tr>\n",
              "  </thead>\n",
              "  <tbody>\n",
              "    <tr>\n",
              "      <th>1246459</th>\n",
              "      <td>0.011762</td>\n",
              "      <td>(삼성중공업보통주, 미래산업보통주)</td>\n",
              "    </tr>\n",
              "    <tr>\n",
              "      <th>762586</th>\n",
              "      <td>0.011722</td>\n",
              "      <td>(두산중공업보통주, 미래산업보통주)</td>\n",
              "    </tr>\n",
              "    <tr>\n",
              "      <th>1234705</th>\n",
              "      <td>0.011678</td>\n",
              "      <td>(삼성에스디에스보통주, 미래산업보통주)</td>\n",
              "    </tr>\n",
              "    <tr>\n",
              "      <th>2112337</th>\n",
              "      <td>0.011678</td>\n",
              "      <td>(엔에이치투자증권보통주, 미래산업보통주)</td>\n",
              "    </tr>\n",
              "    <tr>\n",
              "      <th>171875</th>\n",
              "      <td>0.011159</td>\n",
              "      <td>(SK이노베이션 보통주, 지코보통주)</td>\n",
              "    </tr>\n",
              "    <tr>\n",
              "      <th>...</th>\n",
              "      <td>...</td>\n",
              "      <td>...</td>\n",
              "    </tr>\n",
              "    <tr>\n",
              "      <th>1293878</th>\n",
              "      <td>0.000000</td>\n",
              "      <td>(삼일제약보통주, 애니젠)</td>\n",
              "    </tr>\n",
              "    <tr>\n",
              "      <th>1293879</th>\n",
              "      <td>0.000000</td>\n",
              "      <td>(삼일제약보통주, 애니플러스)</td>\n",
              "    </tr>\n",
              "    <tr>\n",
              "      <th>1293880</th>\n",
              "      <td>0.000000</td>\n",
              "      <td>(삼일제약보통주, 액션스퀘어)</td>\n",
              "    </tr>\n",
              "    <tr>\n",
              "      <th>1293881</th>\n",
              "      <td>0.000000</td>\n",
              "      <td>(삼일제약보통주, 액토즈소프트)</td>\n",
              "    </tr>\n",
              "    <tr>\n",
              "      <th>3837679</th>\n",
              "      <td>0.000000</td>\n",
              "      <td>(힘스, 희림종합건축사사무소)</td>\n",
              "    </tr>\n",
              "  </tbody>\n",
              "</table>\n",
              "<p>3835722 rows × 2 columns</p>\n",
              "</div>"
            ],
            "text/plain": [
              "         support                itemsets\n",
              "1246459 0.011762     (삼성중공업보통주, 미래산업보통주)\n",
              "762586  0.011722     (두산중공업보통주, 미래산업보통주)\n",
              "1234705 0.011678   (삼성에스디에스보통주, 미래산업보통주)\n",
              "2112337 0.011678  (엔에이치투자증권보통주, 미래산업보통주)\n",
              "171875  0.011159    (SK이노베이션 보통주, 지코보통주)\n",
              "...          ...                     ...\n",
              "1293878 0.000000          (삼일제약보통주, 애니젠)\n",
              "1293879 0.000000        (삼일제약보통주, 애니플러스)\n",
              "1293880 0.000000        (삼일제약보통주, 액션스퀘어)\n",
              "1293881 0.000000       (삼일제약보통주, 액토즈소프트)\n",
              "3837679 0.000000        (힘스, 희림종합건축사사무소)\n",
              "\n",
              "[3835722 rows x 2 columns]"
            ]
          },
          "metadata": {
            "tags": []
          },
          "execution_count": 82
        }
      ]
    },
    {
      "cell_type": "markdown",
      "metadata": {
        "id": "PbG4_5AD9EdQ"
      },
      "source": [
        ""
      ]
    },
    {
      "cell_type": "code",
      "metadata": {
        "id": "L647ax6Y9EdQ"
      },
      "source": [
        "import warnings\n",
        "warnings.filterwarnings('ignore')\n",
        "from mlxtend.frequent_patterns import association_rules, fpgrowth\n",
        "rules_1 = association_rules(support_lst, metric='lift',min_threshold = 1)\n",
        "rules_1[['antecedents','consequents']] = rules_1[['antecedents','consequents']].applymap(lambda x: tuple(x))\n",
        "rules_1 = rules_1.loc[rules_1['lift']!=np.inf].reset_index(drop=True)"
      ],
      "execution_count": 83,
      "outputs": []
    },
    {
      "cell_type": "code",
      "metadata": {
        "colab": {
          "base_uri": "https://localhost:8080/",
          "height": 662
        },
        "id": "PTiuuchv9EdR",
        "outputId": "fd174548-70e0-4a8f-d8b3-afd73ae1a0b2"
      },
      "source": [
        "rules_1.sort_values(['support','lift','confidence'], ascending=False)[:20]"
      ],
      "execution_count": 84,
      "outputs": [
        {
          "output_type": "execute_result",
          "data": {
            "text/html": [
              "<div>\n",
              "<style scoped>\n",
              "    .dataframe tbody tr th:only-of-type {\n",
              "        vertical-align: middle;\n",
              "    }\n",
              "\n",
              "    .dataframe tbody tr th {\n",
              "        vertical-align: top;\n",
              "    }\n",
              "\n",
              "    .dataframe thead th {\n",
              "        text-align: right;\n",
              "    }\n",
              "</style>\n",
              "<table border=\"1\" class=\"dataframe\">\n",
              "  <thead>\n",
              "    <tr style=\"text-align: right;\">\n",
              "      <th></th>\n",
              "      <th>antecedents</th>\n",
              "      <th>consequents</th>\n",
              "      <th>antecedent support</th>\n",
              "      <th>consequent support</th>\n",
              "      <th>support</th>\n",
              "      <th>confidence</th>\n",
              "      <th>lift</th>\n",
              "      <th>leverage</th>\n",
              "      <th>conviction</th>\n",
              "    </tr>\n",
              "  </thead>\n",
              "  <tbody>\n",
              "    <tr>\n",
              "      <th>30972</th>\n",
              "      <td>(미래산업보통주,)</td>\n",
              "      <td>(삼성중공업보통주,)</td>\n",
              "      <td>0.016824</td>\n",
              "      <td>0.021020</td>\n",
              "      <td>0.011762</td>\n",
              "      <td>0.699145</td>\n",
              "      <td>33.261161</td>\n",
              "      <td>0.011409</td>\n",
              "      <td>3.253997</td>\n",
              "    </tr>\n",
              "    <tr>\n",
              "      <th>30973</th>\n",
              "      <td>(삼성중공업보통주,)</td>\n",
              "      <td>(미래산업보통주,)</td>\n",
              "      <td>0.021020</td>\n",
              "      <td>0.016824</td>\n",
              "      <td>0.011762</td>\n",
              "      <td>0.559583</td>\n",
              "      <td>33.261161</td>\n",
              "      <td>0.011409</td>\n",
              "      <td>2.232377</td>\n",
              "    </tr>\n",
              "    <tr>\n",
              "      <th>30965</th>\n",
              "      <td>(삼성에스디에스보통주,)</td>\n",
              "      <td>(미래산업보통주,)</td>\n",
              "      <td>0.000449</td>\n",
              "      <td>0.016824</td>\n",
              "      <td>0.011678</td>\n",
              "      <td>26.016260</td>\n",
              "      <td>1546.384563</td>\n",
              "      <td>0.011670</td>\n",
              "      <td>inf</td>\n",
              "    </tr>\n",
              "    <tr>\n",
              "      <th>30964</th>\n",
              "      <td>(미래산업보통주,)</td>\n",
              "      <td>(삼성에스디에스보통주,)</td>\n",
              "      <td>0.016824</td>\n",
              "      <td>0.000449</td>\n",
              "      <td>0.011678</td>\n",
              "      <td>0.694113</td>\n",
              "      <td>1546.384563</td>\n",
              "      <td>0.011670</td>\n",
              "      <td>3.267714</td>\n",
              "    </tr>\n",
              "    <tr>\n",
              "      <th>31024</th>\n",
              "      <td>(엔에이치투자증권보통주,)</td>\n",
              "      <td>(미래산업보통주,)</td>\n",
              "      <td>0.004935</td>\n",
              "      <td>0.016824</td>\n",
              "      <td>0.011678</td>\n",
              "      <td>2.366164</td>\n",
              "      <td>140.642784</td>\n",
              "      <td>0.011595</td>\n",
              "      <td>inf</td>\n",
              "    </tr>\n",
              "    <tr>\n",
              "      <th>31025</th>\n",
              "      <td>(미래산업보통주,)</td>\n",
              "      <td>(엔에이치투자증권보통주,)</td>\n",
              "      <td>0.016824</td>\n",
              "      <td>0.004935</td>\n",
              "      <td>0.011678</td>\n",
              "      <td>0.694113</td>\n",
              "      <td>140.642784</td>\n",
              "      <td>0.011595</td>\n",
              "      <td>3.253047</td>\n",
              "    </tr>\n",
              "    <tr>\n",
              "      <th>21757</th>\n",
              "      <td>(하나금융지주보통주,)</td>\n",
              "      <td>(대한전선보통주,)</td>\n",
              "      <td>0.006977</td>\n",
              "      <td>0.010820</td>\n",
              "      <td>0.010633</td>\n",
              "      <td>1.524113</td>\n",
              "      <td>140.859126</td>\n",
              "      <td>0.010558</td>\n",
              "      <td>inf</td>\n",
              "    </tr>\n",
              "    <tr>\n",
              "      <th>21756</th>\n",
              "      <td>(대한전선보통주,)</td>\n",
              "      <td>(하나금융지주보통주,)</td>\n",
              "      <td>0.010820</td>\n",
              "      <td>0.006977</td>\n",
              "      <td>0.010633</td>\n",
              "      <td>0.982732</td>\n",
              "      <td>140.859126</td>\n",
              "      <td>0.010558</td>\n",
              "      <td>57.506134</td>\n",
              "    </tr>\n",
              "    <tr>\n",
              "      <th>21736</th>\n",
              "      <td>(대한전선보통주,)</td>\n",
              "      <td>(신한금융지주회사보통주,)</td>\n",
              "      <td>0.010820</td>\n",
              "      <td>0.013083</td>\n",
              "      <td>0.010633</td>\n",
              "      <td>0.982732</td>\n",
              "      <td>75.112819</td>\n",
              "      <td>0.010492</td>\n",
              "      <td>57.152494</td>\n",
              "    </tr>\n",
              "    <tr>\n",
              "      <th>21737</th>\n",
              "      <td>(신한금융지주회사보통주,)</td>\n",
              "      <td>(대한전선보통주,)</td>\n",
              "      <td>0.013083</td>\n",
              "      <td>0.010820</td>\n",
              "      <td>0.010633</td>\n",
              "      <td>0.812730</td>\n",
              "      <td>75.112819</td>\n",
              "      <td>0.010492</td>\n",
              "      <td>5.282109</td>\n",
              "    </tr>\n",
              "    <tr>\n",
              "      <th>21741</th>\n",
              "      <td>(우리금융지주보통주,)</td>\n",
              "      <td>(대한전선보통주,)</td>\n",
              "      <td>0.016319</td>\n",
              "      <td>0.010820</td>\n",
              "      <td>0.010633</td>\n",
              "      <td>0.651594</td>\n",
              "      <td>60.220600</td>\n",
              "      <td>0.010457</td>\n",
              "      <td>2.839162</td>\n",
              "    </tr>\n",
              "    <tr>\n",
              "      <th>21740</th>\n",
              "      <td>(대한전선보통주,)</td>\n",
              "      <td>(우리금융지주보통주,)</td>\n",
              "      <td>0.010820</td>\n",
              "      <td>0.016319</td>\n",
              "      <td>0.010633</td>\n",
              "      <td>0.982732</td>\n",
              "      <td>60.220600</td>\n",
              "      <td>0.010457</td>\n",
              "      <td>56.965128</td>\n",
              "    </tr>\n",
              "    <tr>\n",
              "      <th>21745</th>\n",
              "      <td>(중소기업은행보통주,)</td>\n",
              "      <td>(대한전선보통주,)</td>\n",
              "      <td>0.024094</td>\n",
              "      <td>0.010820</td>\n",
              "      <td>0.010633</td>\n",
              "      <td>0.441324</td>\n",
              "      <td>40.787362</td>\n",
              "      <td>0.010373</td>\n",
              "      <td>1.770580</td>\n",
              "    </tr>\n",
              "    <tr>\n",
              "      <th>21744</th>\n",
              "      <td>(대한전선보통주,)</td>\n",
              "      <td>(중소기업은행보통주,)</td>\n",
              "      <td>0.010820</td>\n",
              "      <td>0.024094</td>\n",
              "      <td>0.010633</td>\n",
              "      <td>0.982732</td>\n",
              "      <td>40.787362</td>\n",
              "      <td>0.010373</td>\n",
              "      <td>56.514867</td>\n",
              "    </tr>\n",
              "    <tr>\n",
              "      <th>20085</th>\n",
              "      <td>(비상교육 보통주,)</td>\n",
              "      <td>(대교우선주(신형),)</td>\n",
              "      <td>0.001621</td>\n",
              "      <td>0.009415</td>\n",
              "      <td>0.008831</td>\n",
              "      <td>5.447996</td>\n",
              "      <td>578.641411</td>\n",
              "      <td>0.008816</td>\n",
              "      <td>inf</td>\n",
              "    </tr>\n",
              "    <tr>\n",
              "      <th>20084</th>\n",
              "      <td>(대교우선주(신형),)</td>\n",
              "      <td>(비상교육 보통주,)</td>\n",
              "      <td>0.009415</td>\n",
              "      <td>0.001621</td>\n",
              "      <td>0.008831</td>\n",
              "      <td>0.937984</td>\n",
              "      <td>578.641411</td>\n",
              "      <td>0.008816</td>\n",
              "      <td>16.098861</td>\n",
              "    </tr>\n",
              "    <tr>\n",
              "      <th>20093</th>\n",
              "      <td>(포스코보통주,)</td>\n",
              "      <td>(대교우선주(신형),)</td>\n",
              "      <td>0.001651</td>\n",
              "      <td>0.009415</td>\n",
              "      <td>0.008831</td>\n",
              "      <td>5.349248</td>\n",
              "      <td>568.153216</td>\n",
              "      <td>0.008816</td>\n",
              "      <td>inf</td>\n",
              "    </tr>\n",
              "    <tr>\n",
              "      <th>20092</th>\n",
              "      <td>(대교우선주(신형),)</td>\n",
              "      <td>(포스코보통주,)</td>\n",
              "      <td>0.009415</td>\n",
              "      <td>0.001651</td>\n",
              "      <td>0.008831</td>\n",
              "      <td>0.937984</td>\n",
              "      <td>568.153216</td>\n",
              "      <td>0.008816</td>\n",
              "      <td>16.098379</td>\n",
              "    </tr>\n",
              "    <tr>\n",
              "      <th>20091</th>\n",
              "      <td>(파미셀보통주,)</td>\n",
              "      <td>(대교우선주(신형),)</td>\n",
              "      <td>0.005024</td>\n",
              "      <td>0.009415</td>\n",
              "      <td>0.008831</td>\n",
              "      <td>1.757699</td>\n",
              "      <td>186.688346</td>\n",
              "      <td>0.008784</td>\n",
              "      <td>inf</td>\n",
              "    </tr>\n",
              "    <tr>\n",
              "      <th>20090</th>\n",
              "      <td>(대교우선주(신형),)</td>\n",
              "      <td>(파미셀보통주,)</td>\n",
              "      <td>0.009415</td>\n",
              "      <td>0.005024</td>\n",
              "      <td>0.008831</td>\n",
              "      <td>0.937984</td>\n",
              "      <td>186.688346</td>\n",
              "      <td>0.008784</td>\n",
              "      <td>16.043983</td>\n",
              "    </tr>\n",
              "  </tbody>\n",
              "</table>\n",
              "</div>"
            ],
            "text/plain": [
              "          antecedents     consequents  ...  leverage  conviction\n",
              "30972      (미래산업보통주,)     (삼성중공업보통주,)  ...  0.011409    3.253997\n",
              "30973     (삼성중공업보통주,)      (미래산업보통주,)  ...  0.011409    2.232377\n",
              "30965   (삼성에스디에스보통주,)      (미래산업보통주,)  ...  0.011670         inf\n",
              "30964      (미래산업보통주,)   (삼성에스디에스보통주,)  ...  0.011670    3.267714\n",
              "31024  (엔에이치투자증권보통주,)      (미래산업보통주,)  ...  0.011595         inf\n",
              "31025      (미래산업보통주,)  (엔에이치투자증권보통주,)  ...  0.011595    3.253047\n",
              "21757    (하나금융지주보통주,)      (대한전선보통주,)  ...  0.010558         inf\n",
              "21756      (대한전선보통주,)    (하나금융지주보통주,)  ...  0.010558   57.506134\n",
              "21736      (대한전선보통주,)  (신한금융지주회사보통주,)  ...  0.010492   57.152494\n",
              "21737  (신한금융지주회사보통주,)      (대한전선보통주,)  ...  0.010492    5.282109\n",
              "21741    (우리금융지주보통주,)      (대한전선보통주,)  ...  0.010457    2.839162\n",
              "21740      (대한전선보통주,)    (우리금융지주보통주,)  ...  0.010457   56.965128\n",
              "21745    (중소기업은행보통주,)      (대한전선보통주,)  ...  0.010373    1.770580\n",
              "21744      (대한전선보통주,)    (중소기업은행보통주,)  ...  0.010373   56.514867\n",
              "20085     (비상교육 보통주,)    (대교우선주(신형),)  ...  0.008816         inf\n",
              "20084    (대교우선주(신형),)     (비상교육 보통주,)  ...  0.008816   16.098861\n",
              "20093       (포스코보통주,)    (대교우선주(신형),)  ...  0.008816         inf\n",
              "20092    (대교우선주(신형),)       (포스코보통주,)  ...  0.008816   16.098379\n",
              "20091       (파미셀보통주,)    (대교우선주(신형),)  ...  0.008784         inf\n",
              "20090    (대교우선주(신형),)       (파미셀보통주,)  ...  0.008784   16.043983\n",
              "\n",
              "[20 rows x 9 columns]"
            ]
          },
          "metadata": {
            "tags": []
          },
          "execution_count": 84
        }
      ]
    },
    {
      "cell_type": "markdown",
      "metadata": {
        "id": "Ke882uLx9EdS"
      },
      "source": [
        "#### sample_info\n",
        "8000명 이외의 사람의 상품목록 뽑은 후 그 사람이 가진 상품과 신뢰도가 높은 상품 뽑아내기"
      ]
    },
    {
      "cell_type": "code",
      "metadata": {
        "colab": {
          "base_uri": "https://localhost:8080/"
        },
        "id": "KspzSIy-9EdS",
        "outputId": "5fc601c1-7482-4902-9cd1-d0b07a919b7c"
      },
      "source": [
        "#샘플 고객의 상품목록에서 부분집합 추출\n",
        "\n",
        "from itertools import combinations\n",
        "\n",
        "cluster_prod=sample_info.loc[sample_info['cluster']==1,'상품명']\n",
        "print(len(cluster_prod))\n",
        "\n",
        "a = cluster_prod[0]\n",
        "result=[]\n",
        "\n",
        "for i in range(0,len(a)+1):\n",
        "    c=combinations(a,i)\n",
        "    result.extend(c)\n",
        "\n",
        "print(result)"
      ],
      "execution_count": 85,
      "outputs": [
        {
          "output_type": "stream",
          "text": [
            "19\n",
            "[(), ('LG화학보통주',), ('NAVER보통주',), ('빙그레보통주',), ('삼성SDI보통주',), ('카카오보통주',), ('케이티앤지보통주',), ('현대자동차보통주',), ('LG화학보통주', 'NAVER보통주'), ('LG화학보통주', '빙그레보통주'), ('LG화학보통주', '삼성SDI보통주'), ('LG화학보통주', '카카오보통주'), ('LG화학보통주', '케이티앤지보통주'), ('LG화학보통주', '현대자동차보통주'), ('NAVER보통주', '빙그레보통주'), ('NAVER보통주', '삼성SDI보통주'), ('NAVER보통주', '카카오보통주'), ('NAVER보통주', '케이티앤지보통주'), ('NAVER보통주', '현대자동차보통주'), ('빙그레보통주', '삼성SDI보통주'), ('빙그레보통주', '카카오보통주'), ('빙그레보통주', '케이티앤지보통주'), ('빙그레보통주', '현대자동차보통주'), ('삼성SDI보통주', '카카오보통주'), ('삼성SDI보통주', '케이티앤지보통주'), ('삼성SDI보통주', '현대자동차보통주'), ('카카오보통주', '케이티앤지보통주'), ('카카오보통주', '현대자동차보통주'), ('케이티앤지보통주', '현대자동차보통주'), ('LG화학보통주', 'NAVER보통주', '빙그레보통주'), ('LG화학보통주', 'NAVER보통주', '삼성SDI보통주'), ('LG화학보통주', 'NAVER보통주', '카카오보통주'), ('LG화학보통주', 'NAVER보통주', '케이티앤지보통주'), ('LG화학보통주', 'NAVER보통주', '현대자동차보통주'), ('LG화학보통주', '빙그레보통주', '삼성SDI보통주'), ('LG화학보통주', '빙그레보통주', '카카오보통주'), ('LG화학보통주', '빙그레보통주', '케이티앤지보통주'), ('LG화학보통주', '빙그레보통주', '현대자동차보통주'), ('LG화학보통주', '삼성SDI보통주', '카카오보통주'), ('LG화학보통주', '삼성SDI보통주', '케이티앤지보통주'), ('LG화학보통주', '삼성SDI보통주', '현대자동차보통주'), ('LG화학보통주', '카카오보통주', '케이티앤지보통주'), ('LG화학보통주', '카카오보통주', '현대자동차보통주'), ('LG화학보통주', '케이티앤지보통주', '현대자동차보통주'), ('NAVER보통주', '빙그레보통주', '삼성SDI보통주'), ('NAVER보통주', '빙그레보통주', '카카오보통주'), ('NAVER보통주', '빙그레보통주', '케이티앤지보통주'), ('NAVER보통주', '빙그레보통주', '현대자동차보통주'), ('NAVER보통주', '삼성SDI보통주', '카카오보통주'), ('NAVER보통주', '삼성SDI보통주', '케이티앤지보통주'), ('NAVER보통주', '삼성SDI보통주', '현대자동차보통주'), ('NAVER보통주', '카카오보통주', '케이티앤지보통주'), ('NAVER보통주', '카카오보통주', '현대자동차보통주'), ('NAVER보통주', '케이티앤지보통주', '현대자동차보통주'), ('빙그레보통주', '삼성SDI보통주', '카카오보통주'), ('빙그레보통주', '삼성SDI보통주', '케이티앤지보통주'), ('빙그레보통주', '삼성SDI보통주', '현대자동차보통주'), ('빙그레보통주', '카카오보통주', '케이티앤지보통주'), ('빙그레보통주', '카카오보통주', '현대자동차보통주'), ('빙그레보통주', '케이티앤지보통주', '현대자동차보통주'), ('삼성SDI보통주', '카카오보통주', '케이티앤지보통주'), ('삼성SDI보통주', '카카오보통주', '현대자동차보통주'), ('삼성SDI보통주', '케이티앤지보통주', '현대자동차보통주'), ('카카오보통주', '케이티앤지보통주', '현대자동차보통주'), ('LG화학보통주', 'NAVER보통주', '빙그레보통주', '삼성SDI보통주'), ('LG화학보통주', 'NAVER보통주', '빙그레보통주', '카카오보통주'), ('LG화학보통주', 'NAVER보통주', '빙그레보통주', '케이티앤지보통주'), ('LG화학보통주', 'NAVER보통주', '빙그레보통주', '현대자동차보통주'), ('LG화학보통주', 'NAVER보통주', '삼성SDI보통주', '카카오보통주'), ('LG화학보통주', 'NAVER보통주', '삼성SDI보통주', '케이티앤지보통주'), ('LG화학보통주', 'NAVER보통주', '삼성SDI보통주', '현대자동차보통주'), ('LG화학보통주', 'NAVER보통주', '카카오보통주', '케이티앤지보통주'), ('LG화학보통주', 'NAVER보통주', '카카오보통주', '현대자동차보통주'), ('LG화학보통주', 'NAVER보통주', '케이티앤지보통주', '현대자동차보통주'), ('LG화학보통주', '빙그레보통주', '삼성SDI보통주', '카카오보통주'), ('LG화학보통주', '빙그레보통주', '삼성SDI보통주', '케이티앤지보통주'), ('LG화학보통주', '빙그레보통주', '삼성SDI보통주', '현대자동차보통주'), ('LG화학보통주', '빙그레보통주', '카카오보통주', '케이티앤지보통주'), ('LG화학보통주', '빙그레보통주', '카카오보통주', '현대자동차보통주'), ('LG화학보통주', '빙그레보통주', '케이티앤지보통주', '현대자동차보통주'), ('LG화학보통주', '삼성SDI보통주', '카카오보통주', '케이티앤지보통주'), ('LG화학보통주', '삼성SDI보통주', '카카오보통주', '현대자동차보통주'), ('LG화학보통주', '삼성SDI보통주', '케이티앤지보통주', '현대자동차보통주'), ('LG화학보통주', '카카오보통주', '케이티앤지보통주', '현대자동차보통주'), ('NAVER보통주', '빙그레보통주', '삼성SDI보통주', '카카오보통주'), ('NAVER보통주', '빙그레보통주', '삼성SDI보통주', '케이티앤지보통주'), ('NAVER보통주', '빙그레보통주', '삼성SDI보통주', '현대자동차보통주'), ('NAVER보통주', '빙그레보통주', '카카오보통주', '케이티앤지보통주'), ('NAVER보통주', '빙그레보통주', '카카오보통주', '현대자동차보통주'), ('NAVER보통주', '빙그레보통주', '케이티앤지보통주', '현대자동차보통주'), ('NAVER보통주', '삼성SDI보통주', '카카오보통주', '케이티앤지보통주'), ('NAVER보통주', '삼성SDI보통주', '카카오보통주', '현대자동차보통주'), ('NAVER보통주', '삼성SDI보통주', '케이티앤지보통주', '현대자동차보통주'), ('NAVER보통주', '카카오보통주', '케이티앤지보통주', '현대자동차보통주'), ('빙그레보통주', '삼성SDI보통주', '카카오보통주', '케이티앤지보통주'), ('빙그레보통주', '삼성SDI보통주', '카카오보통주', '현대자동차보통주'), ('빙그레보통주', '삼성SDI보통주', '케이티앤지보통주', '현대자동차보통주'), ('빙그레보통주', '카카오보통주', '케이티앤지보통주', '현대자동차보통주'), ('삼성SDI보통주', '카카오보통주', '케이티앤지보통주', '현대자동차보통주'), ('LG화학보통주', 'NAVER보통주', '빙그레보통주', '삼성SDI보통주', '카카오보통주'), ('LG화학보통주', 'NAVER보통주', '빙그레보통주', '삼성SDI보통주', '케이티앤지보통주'), ('LG화학보통주', 'NAVER보통주', '빙그레보통주', '삼성SDI보통주', '현대자동차보통주'), ('LG화학보통주', 'NAVER보통주', '빙그레보통주', '카카오보통주', '케이티앤지보통주'), ('LG화학보통주', 'NAVER보통주', '빙그레보통주', '카카오보통주', '현대자동차보통주'), ('LG화학보통주', 'NAVER보통주', '빙그레보통주', '케이티앤지보통주', '현대자동차보통주'), ('LG화학보통주', 'NAVER보통주', '삼성SDI보통주', '카카오보통주', '케이티앤지보통주'), ('LG화학보통주', 'NAVER보통주', '삼성SDI보통주', '카카오보통주', '현대자동차보통주'), ('LG화학보통주', 'NAVER보통주', '삼성SDI보통주', '케이티앤지보통주', '현대자동차보통주'), ('LG화학보통주', 'NAVER보통주', '카카오보통주', '케이티앤지보통주', '현대자동차보통주'), ('LG화학보통주', '빙그레보통주', '삼성SDI보통주', '카카오보통주', '케이티앤지보통주'), ('LG화학보통주', '빙그레보통주', '삼성SDI보통주', '카카오보통주', '현대자동차보통주'), ('LG화학보통주', '빙그레보통주', '삼성SDI보통주', '케이티앤지보통주', '현대자동차보통주'), ('LG화학보통주', '빙그레보통주', '카카오보통주', '케이티앤지보통주', '현대자동차보통주'), ('LG화학보통주', '삼성SDI보통주', '카카오보통주', '케이티앤지보통주', '현대자동차보통주'), ('NAVER보통주', '빙그레보통주', '삼성SDI보통주', '카카오보통주', '케이티앤지보통주'), ('NAVER보통주', '빙그레보통주', '삼성SDI보통주', '카카오보통주', '현대자동차보통주'), ('NAVER보통주', '빙그레보통주', '삼성SDI보통주', '케이티앤지보통주', '현대자동차보통주'), ('NAVER보통주', '빙그레보통주', '카카오보통주', '케이티앤지보통주', '현대자동차보통주'), ('NAVER보통주', '삼성SDI보통주', '카카오보통주', '케이티앤지보통주', '현대자동차보통주'), ('빙그레보통주', '삼성SDI보통주', '카카오보통주', '케이티앤지보통주', '현대자동차보통주'), ('LG화학보통주', 'NAVER보통주', '빙그레보통주', '삼성SDI보통주', '카카오보통주', '케이티앤지보통주'), ('LG화학보통주', 'NAVER보통주', '빙그레보통주', '삼성SDI보통주', '카카오보통주', '현대자동차보통주'), ('LG화학보통주', 'NAVER보통주', '빙그레보통주', '삼성SDI보통주', '케이티앤지보통주', '현대자동차보통주'), ('LG화학보통주', 'NAVER보통주', '빙그레보통주', '카카오보통주', '케이티앤지보통주', '현대자동차보통주'), ('LG화학보통주', 'NAVER보통주', '삼성SDI보통주', '카카오보통주', '케이티앤지보통주', '현대자동차보통주'), ('LG화학보통주', '빙그레보통주', '삼성SDI보통주', '카카오보통주', '케이티앤지보통주', '현대자동차보통주'), ('NAVER보통주', '빙그레보통주', '삼성SDI보통주', '카카오보통주', '케이티앤지보통주', '현대자동차보통주'), ('LG화학보통주', 'NAVER보통주', '빙그레보통주', '삼성SDI보통주', '카카오보통주', '케이티앤지보통주', '현대자동차보통주')]\n"
          ],
          "name": "stdout"
        }
      ]
    },
    {
      "cell_type": "code",
      "metadata": {
        "colab": {
          "base_uri": "https://localhost:8080/",
          "height": 414
        },
        "id": "AO9CJ8jK9EdS",
        "outputId": "716c8eae-89d7-46b0-a37b-2f088cfb8567"
      },
      "source": [
        "rules_1.loc[rules_1.antecedents.isin(result),:].sort_values(['support','lift','confidence'], ascending =False)\n"
      ],
      "execution_count": 86,
      "outputs": [
        {
          "output_type": "execute_result",
          "data": {
            "text/html": [
              "<div>\n",
              "<style scoped>\n",
              "    .dataframe tbody tr th:only-of-type {\n",
              "        vertical-align: middle;\n",
              "    }\n",
              "\n",
              "    .dataframe tbody tr th {\n",
              "        vertical-align: top;\n",
              "    }\n",
              "\n",
              "    .dataframe thead th {\n",
              "        text-align: right;\n",
              "    }\n",
              "</style>\n",
              "<table border=\"1\" class=\"dataframe\">\n",
              "  <thead>\n",
              "    <tr style=\"text-align: right;\">\n",
              "      <th></th>\n",
              "      <th>antecedents</th>\n",
              "      <th>consequents</th>\n",
              "      <th>antecedent support</th>\n",
              "      <th>consequent support</th>\n",
              "      <th>support</th>\n",
              "      <th>confidence</th>\n",
              "      <th>lift</th>\n",
              "      <th>leverage</th>\n",
              "      <th>conviction</th>\n",
              "    </tr>\n",
              "  </thead>\n",
              "  <tbody>\n",
              "    <tr>\n",
              "      <th>20095</th>\n",
              "      <td>(현대자동차보통주,)</td>\n",
              "      <td>(대교우선주(신형),)</td>\n",
              "      <td>0.017908</td>\n",
              "      <td>0.009415</td>\n",
              "      <td>0.008831</td>\n",
              "      <td>0.493153</td>\n",
              "      <td>52.378651</td>\n",
              "      <td>0.008663</td>\n",
              "      <td>1.954406</td>\n",
              "    </tr>\n",
              "    <tr>\n",
              "      <th>40680</th>\n",
              "      <td>(카카오보통주,)</td>\n",
              "      <td>(소리바다,)</td>\n",
              "      <td>0.007977</td>\n",
              "      <td>0.007333</td>\n",
              "      <td>0.007303</td>\n",
              "      <td>0.915462</td>\n",
              "      <td>124.843617</td>\n",
              "      <td>0.007244</td>\n",
              "      <td>11.742264</td>\n",
              "    </tr>\n",
              "    <tr>\n",
              "      <th>40690</th>\n",
              "      <td>(현대자동차보통주,)</td>\n",
              "      <td>(소리바다,)</td>\n",
              "      <td>0.017908</td>\n",
              "      <td>0.007333</td>\n",
              "      <td>0.007300</td>\n",
              "      <td>0.407646</td>\n",
              "      <td>55.591590</td>\n",
              "      <td>0.007169</td>\n",
              "      <td>1.675800</td>\n",
              "    </tr>\n",
              "    <tr>\n",
              "      <th>22603</th>\n",
              "      <td>(현대자동차보통주,)</td>\n",
              "      <td>(대한항공보통주,)</td>\n",
              "      <td>0.017908</td>\n",
              "      <td>0.035386</td>\n",
              "      <td>0.006256</td>\n",
              "      <td>0.349323</td>\n",
              "      <td>9.871898</td>\n",
              "      <td>0.005622</td>\n",
              "      <td>1.482479</td>\n",
              "    </tr>\n",
              "    <tr>\n",
              "      <th>31218</th>\n",
              "      <td>(삼성SDI보통주,)</td>\n",
              "      <td>(미래에셋증권보통주,)</td>\n",
              "      <td>0.005788</td>\n",
              "      <td>0.011951</td>\n",
              "      <td>0.006196</td>\n",
              "      <td>1.070492</td>\n",
              "      <td>89.575857</td>\n",
              "      <td>0.006127</td>\n",
              "      <td>inf</td>\n",
              "    </tr>\n",
              "    <tr>\n",
              "      <th>...</th>\n",
              "      <td>...</td>\n",
              "      <td>...</td>\n",
              "      <td>...</td>\n",
              "      <td>...</td>\n",
              "      <td>...</td>\n",
              "      <td>...</td>\n",
              "      <td>...</td>\n",
              "      <td>...</td>\n",
              "      <td>...</td>\n",
              "    </tr>\n",
              "    <tr>\n",
              "      <th>8097</th>\n",
              "      <td>(LG화학보통주,)</td>\n",
              "      <td>(아모그린텍,)</td>\n",
              "      <td>0.003369</td>\n",
              "      <td>0.000200</td>\n",
              "      <td>0.000001</td>\n",
              "      <td>0.000217</td>\n",
              "      <td>1.083293</td>\n",
              "      <td>0.000000</td>\n",
              "      <td>1.000017</td>\n",
              "    </tr>\n",
              "    <tr>\n",
              "      <th>9600</th>\n",
              "      <td>(NAVER보통주,)</td>\n",
              "      <td>(현대미포조선보통주,)</td>\n",
              "      <td>0.002693</td>\n",
              "      <td>0.000250</td>\n",
              "      <td>0.000001</td>\n",
              "      <td>0.000271</td>\n",
              "      <td>1.082535</td>\n",
              "      <td>0.000000</td>\n",
              "      <td>1.000021</td>\n",
              "    </tr>\n",
              "    <tr>\n",
              "      <th>9476</th>\n",
              "      <td>(NAVER보통주,)</td>\n",
              "      <td>(큐브엔터테인먼트,)</td>\n",
              "      <td>0.002693</td>\n",
              "      <td>0.000255</td>\n",
              "      <td>0.000001</td>\n",
              "      <td>0.000271</td>\n",
              "      <td>1.060884</td>\n",
              "      <td>0.000000</td>\n",
              "      <td>1.000016</td>\n",
              "    </tr>\n",
              "    <tr>\n",
              "      <th>28194</th>\n",
              "      <td>(현대자동차보통주,)</td>\n",
              "      <td>(매일홀딩스,)</td>\n",
              "      <td>0.017908</td>\n",
              "      <td>0.000040</td>\n",
              "      <td>0.000001</td>\n",
              "      <td>0.000041</td>\n",
              "      <td>1.015304</td>\n",
              "      <td>0.000000</td>\n",
              "      <td>1.000001</td>\n",
              "    </tr>\n",
              "    <tr>\n",
              "      <th>58200</th>\n",
              "      <td>(케이티앤지보통주,)</td>\n",
              "      <td>(큐브엔터테인먼트,)</td>\n",
              "      <td>0.002854</td>\n",
              "      <td>0.000255</td>\n",
              "      <td>0.000001</td>\n",
              "      <td>0.000256</td>\n",
              "      <td>1.001193</td>\n",
              "      <td>0.000000</td>\n",
              "      <td>1.000000</td>\n",
              "    </tr>\n",
              "  </tbody>\n",
              "</table>\n",
              "<p>3083 rows × 9 columns</p>\n",
              "</div>"
            ],
            "text/plain": [
              "       antecedents   consequents  ...  leverage  conviction\n",
              "20095  (현대자동차보통주,)  (대교우선주(신형),)  ...  0.008663    1.954406\n",
              "40680    (카카오보통주,)       (소리바다,)  ...  0.007244   11.742264\n",
              "40690  (현대자동차보통주,)       (소리바다,)  ...  0.007169    1.675800\n",
              "22603  (현대자동차보통주,)    (대한항공보통주,)  ...  0.005622    1.482479\n",
              "31218  (삼성SDI보통주,)  (미래에셋증권보통주,)  ...  0.006127         inf\n",
              "...            ...           ...  ...       ...         ...\n",
              "8097    (LG화학보통주,)      (아모그린텍,)  ...  0.000000    1.000017\n",
              "9600   (NAVER보통주,)  (현대미포조선보통주,)  ...  0.000000    1.000021\n",
              "9476   (NAVER보통주,)   (큐브엔터테인먼트,)  ...  0.000000    1.000016\n",
              "28194  (현대자동차보통주,)      (매일홀딩스,)  ...  0.000000    1.000001\n",
              "58200  (케이티앤지보통주,)   (큐브엔터테인먼트,)  ...  0.000000    1.000000\n",
              "\n",
              "[3083 rows x 9 columns]"
            ]
          },
          "metadata": {
            "tags": []
          },
          "execution_count": 86
        }
      ]
    },
    {
      "cell_type": "markdown",
      "metadata": {
        "id": "AxsExIbDas39"
      },
      "source": [
        "### 2번 군집"
      ]
    },
    {
      "cell_type": "code",
      "metadata": {
        "collapsed": true,
        "id": "RKrC1DXo-BIg"
      },
      "source": [
        "cluster_2 = customer_info.loc[customer_info['cluster']==2].index\n",
        "df2 = df_whole.loc[df_whole.index.isin(cluster_2)].reset_index(drop= True)"
      ],
      "execution_count": 87,
      "outputs": []
    },
    {
      "cell_type": "code",
      "metadata": {
        "id": "bU0l926F-BIh"
      },
      "source": [
        "id_2 = customer_info.loc[customer_info['cluster']==2,'고객구분코드']\n",
        "unstack_df = retain_df['보유개수'].unstack().fillna(0)\n",
        "unstack_df = unstack_df.loc[unstack_df.index.isin(id_2)].reset_index(drop= True)\n",
        "product_mtx = unstack_df.T.dot(df2.astype(int))\n",
        "product_mtx = product_mtx / unstack_df.sum().sum()"
      ],
      "execution_count": 88,
      "outputs": []
    },
    {
      "cell_type": "code",
      "metadata": {
        "colab": {
          "base_uri": "https://localhost:8080/",
          "height": 414
        },
        "id": "7gsSS6cY-BIi",
        "outputId": "ef368740-4fc9-42b9-89f9-ae98db5e81ad"
      },
      "source": [
        "itemsets = product_mtx.unstack().index.to_list()\n",
        "support = product_mtx.unstack().values\n",
        "support_lst = pd.DataFrame({'support':support,'itemsets':itemsets})\n",
        "support_lst"
      ],
      "execution_count": 89,
      "outputs": [
        {
          "output_type": "execute_result",
          "data": {
            "text/html": [
              "<div>\n",
              "<style scoped>\n",
              "    .dataframe tbody tr th:only-of-type {\n",
              "        vertical-align: middle;\n",
              "    }\n",
              "\n",
              "    .dataframe tbody tr th {\n",
              "        vertical-align: top;\n",
              "    }\n",
              "\n",
              "    .dataframe thead th {\n",
              "        text-align: right;\n",
              "    }\n",
              "</style>\n",
              "<table border=\"1\" class=\"dataframe\">\n",
              "  <thead>\n",
              "    <tr style=\"text-align: right;\">\n",
              "      <th></th>\n",
              "      <th>support</th>\n",
              "      <th>itemsets</th>\n",
              "    </tr>\n",
              "  </thead>\n",
              "  <tbody>\n",
              "    <tr>\n",
              "      <th>0</th>\n",
              "      <td>0.000112</td>\n",
              "      <td>((주)마이크로컨텍솔루션, (주)마이크로컨텍솔루션)</td>\n",
              "    </tr>\n",
              "    <tr>\n",
              "      <th>1</th>\n",
              "      <td>0.000000</td>\n",
              "      <td>((주)마이크로컨텍솔루션, (주)스카이이앤엠)</td>\n",
              "    </tr>\n",
              "    <tr>\n",
              "      <th>2</th>\n",
              "      <td>0.000000</td>\n",
              "      <td>((주)마이크로컨텍솔루션, (주)포스코엠텍)</td>\n",
              "    </tr>\n",
              "    <tr>\n",
              "      <th>3</th>\n",
              "      <td>0.000000</td>\n",
              "      <td>((주)마이크로컨텍솔루션, AJ네트웍스보통주)</td>\n",
              "    </tr>\n",
              "    <tr>\n",
              "      <th>4</th>\n",
              "      <td>0.000000</td>\n",
              "      <td>((주)마이크로컨텍솔루션, AK홀딩스보통주)</td>\n",
              "    </tr>\n",
              "    <tr>\n",
              "      <th>...</th>\n",
              "      <td>...</td>\n",
              "      <td>...</td>\n",
              "    </tr>\n",
              "    <tr>\n",
              "      <th>3837676</th>\n",
              "      <td>0.000000</td>\n",
              "      <td>(힘스, 흥국화재해상보험2우선주(신형))</td>\n",
              "    </tr>\n",
              "    <tr>\n",
              "      <th>3837677</th>\n",
              "      <td>0.000000</td>\n",
              "      <td>(힘스, 흥국화재해상보험보통주)</td>\n",
              "    </tr>\n",
              "    <tr>\n",
              "      <th>3837678</th>\n",
              "      <td>0.000000</td>\n",
              "      <td>(힘스, 흥아해운보통주)</td>\n",
              "    </tr>\n",
              "    <tr>\n",
              "      <th>3837679</th>\n",
              "      <td>0.000000</td>\n",
              "      <td>(힘스, 희림종합건축사사무소)</td>\n",
              "    </tr>\n",
              "    <tr>\n",
              "      <th>3837680</th>\n",
              "      <td>0.000054</td>\n",
              "      <td>(힘스, 힘스)</td>\n",
              "    </tr>\n",
              "  </tbody>\n",
              "</table>\n",
              "<p>3837681 rows × 2 columns</p>\n",
              "</div>"
            ],
            "text/plain": [
              "         support                      itemsets\n",
              "0       0.000112  ((주)마이크로컨텍솔루션, (주)마이크로컨텍솔루션)\n",
              "1       0.000000     ((주)마이크로컨텍솔루션, (주)스카이이앤엠)\n",
              "2       0.000000      ((주)마이크로컨텍솔루션, (주)포스코엠텍)\n",
              "3       0.000000     ((주)마이크로컨텍솔루션, AJ네트웍스보통주)\n",
              "4       0.000000      ((주)마이크로컨텍솔루션, AK홀딩스보통주)\n",
              "...          ...                           ...\n",
              "3837676 0.000000        (힘스, 흥국화재해상보험2우선주(신형))\n",
              "3837677 0.000000             (힘스, 흥국화재해상보험보통주)\n",
              "3837678 0.000000                 (힘스, 흥아해운보통주)\n",
              "3837679 0.000000              (힘스, 희림종합건축사사무소)\n",
              "3837680 0.000054                      (힘스, 힘스)\n",
              "\n",
              "[3837681 rows x 2 columns]"
            ]
          },
          "metadata": {
            "tags": []
          },
          "execution_count": 89
        }
      ]
    },
    {
      "cell_type": "code",
      "metadata": {
        "colab": {
          "base_uri": "https://localhost:8080/",
          "height": 414
        },
        "id": "_ZZUi4U8-BIj",
        "outputId": "a781a4cd-65f8-44ca-be63-15e6e64309ce"
      },
      "source": [
        "idx = support_lst.loc[support_lst['itemsets'].isin((list(zip(product_mtx.index,product_mtx.columns)))),'itemsets'].index\n",
        "support_lst.loc[support_lst['itemsets'].isin((list(zip(product_mtx.index,product_mtx.columns)))),'itemsets'] =pd.Series(list(zip(product_mtx.index)), index=idx)\n",
        "support_lst"
      ],
      "execution_count": 90,
      "outputs": [
        {
          "output_type": "execute_result",
          "data": {
            "text/html": [
              "<div>\n",
              "<style scoped>\n",
              "    .dataframe tbody tr th:only-of-type {\n",
              "        vertical-align: middle;\n",
              "    }\n",
              "\n",
              "    .dataframe tbody tr th {\n",
              "        vertical-align: top;\n",
              "    }\n",
              "\n",
              "    .dataframe thead th {\n",
              "        text-align: right;\n",
              "    }\n",
              "</style>\n",
              "<table border=\"1\" class=\"dataframe\">\n",
              "  <thead>\n",
              "    <tr style=\"text-align: right;\">\n",
              "      <th></th>\n",
              "      <th>support</th>\n",
              "      <th>itemsets</th>\n",
              "    </tr>\n",
              "  </thead>\n",
              "  <tbody>\n",
              "    <tr>\n",
              "      <th>0</th>\n",
              "      <td>0.000112</td>\n",
              "      <td>((주)마이크로컨텍솔루션,)</td>\n",
              "    </tr>\n",
              "    <tr>\n",
              "      <th>1</th>\n",
              "      <td>0.000000</td>\n",
              "      <td>((주)마이크로컨텍솔루션, (주)스카이이앤엠)</td>\n",
              "    </tr>\n",
              "    <tr>\n",
              "      <th>2</th>\n",
              "      <td>0.000000</td>\n",
              "      <td>((주)마이크로컨텍솔루션, (주)포스코엠텍)</td>\n",
              "    </tr>\n",
              "    <tr>\n",
              "      <th>3</th>\n",
              "      <td>0.000000</td>\n",
              "      <td>((주)마이크로컨텍솔루션, AJ네트웍스보통주)</td>\n",
              "    </tr>\n",
              "    <tr>\n",
              "      <th>4</th>\n",
              "      <td>0.000000</td>\n",
              "      <td>((주)마이크로컨텍솔루션, AK홀딩스보통주)</td>\n",
              "    </tr>\n",
              "    <tr>\n",
              "      <th>...</th>\n",
              "      <td>...</td>\n",
              "      <td>...</td>\n",
              "    </tr>\n",
              "    <tr>\n",
              "      <th>3837676</th>\n",
              "      <td>0.000000</td>\n",
              "      <td>(힘스, 흥국화재해상보험2우선주(신형))</td>\n",
              "    </tr>\n",
              "    <tr>\n",
              "      <th>3837677</th>\n",
              "      <td>0.000000</td>\n",
              "      <td>(힘스, 흥국화재해상보험보통주)</td>\n",
              "    </tr>\n",
              "    <tr>\n",
              "      <th>3837678</th>\n",
              "      <td>0.000000</td>\n",
              "      <td>(힘스, 흥아해운보통주)</td>\n",
              "    </tr>\n",
              "    <tr>\n",
              "      <th>3837679</th>\n",
              "      <td>0.000000</td>\n",
              "      <td>(힘스, 희림종합건축사사무소)</td>\n",
              "    </tr>\n",
              "    <tr>\n",
              "      <th>3837680</th>\n",
              "      <td>0.000054</td>\n",
              "      <td>(힘스,)</td>\n",
              "    </tr>\n",
              "  </tbody>\n",
              "</table>\n",
              "<p>3837681 rows × 2 columns</p>\n",
              "</div>"
            ],
            "text/plain": [
              "         support                   itemsets\n",
              "0       0.000112            ((주)마이크로컨텍솔루션,)\n",
              "1       0.000000  ((주)마이크로컨텍솔루션, (주)스카이이앤엠)\n",
              "2       0.000000   ((주)마이크로컨텍솔루션, (주)포스코엠텍)\n",
              "3       0.000000  ((주)마이크로컨텍솔루션, AJ네트웍스보통주)\n",
              "4       0.000000   ((주)마이크로컨텍솔루션, AK홀딩스보통주)\n",
              "...          ...                        ...\n",
              "3837676 0.000000     (힘스, 흥국화재해상보험2우선주(신형))\n",
              "3837677 0.000000          (힘스, 흥국화재해상보험보통주)\n",
              "3837678 0.000000              (힘스, 흥아해운보통주)\n",
              "3837679 0.000000           (힘스, 희림종합건축사사무소)\n",
              "3837680 0.000054                      (힘스,)\n",
              "\n",
              "[3837681 rows x 2 columns]"
            ]
          },
          "metadata": {
            "tags": []
          },
          "execution_count": 90
        }
      ]
    },
    {
      "cell_type": "code",
      "metadata": {
        "colab": {
          "base_uri": "https://localhost:8080/"
        },
        "id": "vXU156w0-BIk",
        "outputId": "586ba039-3c85-4b22-e0d6-2d1afe89978e"
      },
      "source": [
        "support_lst.loc[~support_lst.index.isin(idx),'support'].describe()"
      ],
      "execution_count": 91,
      "outputs": [
        {
          "output_type": "execute_result",
          "data": {
            "text/plain": [
              "count   3835722.000000\n",
              "mean          0.000014\n",
              "std           0.000135\n",
              "min           0.000000\n",
              "25%           0.000000\n",
              "50%           0.000000\n",
              "75%           0.000000\n",
              "max           0.016131\n",
              "Name: support, dtype: float64"
            ]
          },
          "metadata": {
            "tags": []
          },
          "execution_count": 91
        }
      ]
    },
    {
      "cell_type": "code",
      "metadata": {
        "colab": {
          "base_uri": "https://localhost:8080/",
          "height": 414
        },
        "id": "D5MisHvM-BIl",
        "outputId": "94d2b8e0-b52c-4303-b556-9bba45bb4276"
      },
      "source": [
        "support_lst.loc[support_lst['itemsets'].apply(lambda x: len(x)) > 1].sort_values('support', ascending =False)\n",
        "# support_lst.loc[~support_lst.index.isin(idx),]"
      ],
      "execution_count": 92,
      "outputs": [
        {
          "output_type": "execute_result",
          "data": {
            "text/html": [
              "<div>\n",
              "<style scoped>\n",
              "    .dataframe tbody tr th:only-of-type {\n",
              "        vertical-align: middle;\n",
              "    }\n",
              "\n",
              "    .dataframe tbody tr th {\n",
              "        vertical-align: top;\n",
              "    }\n",
              "\n",
              "    .dataframe thead th {\n",
              "        text-align: right;\n",
              "    }\n",
              "</style>\n",
              "<table border=\"1\" class=\"dataframe\">\n",
              "  <thead>\n",
              "    <tr style=\"text-align: right;\">\n",
              "      <th></th>\n",
              "      <th>support</th>\n",
              "      <th>itemsets</th>\n",
              "    </tr>\n",
              "  </thead>\n",
              "  <tbody>\n",
              "    <tr>\n",
              "      <th>843839</th>\n",
              "      <td>0.016131</td>\n",
              "      <td>(디피씨보통주, 초록뱀미디어)</td>\n",
              "    </tr>\n",
              "    <tr>\n",
              "      <th>24205</th>\n",
              "      <td>0.015433</td>\n",
              "      <td>(CJ씨푸드보통주, 서울식품공업보통주)</td>\n",
              "    </tr>\n",
              "    <tr>\n",
              "      <th>2197508</th>\n",
              "      <td>0.013973</td>\n",
              "      <td>(오공, 초록뱀미디어)</td>\n",
              "    </tr>\n",
              "    <tr>\n",
              "      <th>968443</th>\n",
              "      <td>0.013533</td>\n",
              "      <td>(메가엠디, 서울식품공업보통주)</td>\n",
              "    </tr>\n",
              "    <tr>\n",
              "      <th>843067</th>\n",
              "      <td>0.013124</td>\n",
              "      <td>(디피씨보통주, 서울식품공업보통주)</td>\n",
              "    </tr>\n",
              "    <tr>\n",
              "      <th>...</th>\n",
              "      <td>...</td>\n",
              "      <td>...</td>\n",
              "    </tr>\n",
              "    <tr>\n",
              "      <th>1401368</th>\n",
              "      <td>0.000000</td>\n",
              "      <td>(성광벤드, 샘코)</td>\n",
              "    </tr>\n",
              "    <tr>\n",
              "      <th>1401369</th>\n",
              "      <td>0.000000</td>\n",
              "      <td>(성광벤드, 샘표보통주)</td>\n",
              "    </tr>\n",
              "    <tr>\n",
              "      <th>1401370</th>\n",
              "      <td>0.000000</td>\n",
              "      <td>(성광벤드, 샘표식품보통주)</td>\n",
              "    </tr>\n",
              "    <tr>\n",
              "      <th>1401371</th>\n",
              "      <td>0.000000</td>\n",
              "      <td>(성광벤드, 서남)</td>\n",
              "    </tr>\n",
              "    <tr>\n",
              "      <th>3837679</th>\n",
              "      <td>0.000000</td>\n",
              "      <td>(힘스, 희림종합건축사사무소)</td>\n",
              "    </tr>\n",
              "  </tbody>\n",
              "</table>\n",
              "<p>3835722 rows × 2 columns</p>\n",
              "</div>"
            ],
            "text/plain": [
              "         support               itemsets\n",
              "843839  0.016131       (디피씨보통주, 초록뱀미디어)\n",
              "24205   0.015433  (CJ씨푸드보통주, 서울식품공업보통주)\n",
              "2197508 0.013973           (오공, 초록뱀미디어)\n",
              "968443  0.013533      (메가엠디, 서울식품공업보통주)\n",
              "843067  0.013124    (디피씨보통주, 서울식품공업보통주)\n",
              "...          ...                    ...\n",
              "1401368 0.000000             (성광벤드, 샘코)\n",
              "1401369 0.000000          (성광벤드, 샘표보통주)\n",
              "1401370 0.000000        (성광벤드, 샘표식품보통주)\n",
              "1401371 0.000000             (성광벤드, 서남)\n",
              "3837679 0.000000       (힘스, 희림종합건축사사무소)\n",
              "\n",
              "[3835722 rows x 2 columns]"
            ]
          },
          "metadata": {
            "tags": []
          },
          "execution_count": 92
        }
      ]
    },
    {
      "cell_type": "markdown",
      "metadata": {
        "id": "yYB3H88e-BIn"
      },
      "source": [
        ""
      ]
    },
    {
      "cell_type": "code",
      "metadata": {
        "id": "d_5eug1I-BIo"
      },
      "source": [
        "import warnings\n",
        "warnings.filterwarnings('ignore')\n",
        "from mlxtend.frequent_patterns import association_rules, fpgrowth\n",
        "rules_2 = association_rules(support_lst, metric='lift',min_threshold = 1)\n",
        "rules_2[['antecedents','consequents']] = rules_2[['antecedents','consequents']].applymap(lambda x: tuple(x))\n",
        "rules_2 = rules_2.loc[rules_2['lift']!=np.inf].reset_index(drop=True)"
      ],
      "execution_count": 94,
      "outputs": []
    },
    {
      "cell_type": "code",
      "metadata": {
        "colab": {
          "base_uri": "https://localhost:8080/",
          "height": 662
        },
        "id": "h6NDbUw6-BIr",
        "outputId": "07bf867c-e7af-4f8a-a08b-6b1c56b5233e"
      },
      "source": [
        "rules_2.sort_values(['support','lift','confidence'], ascending=False)[:20]"
      ],
      "execution_count": 95,
      "outputs": [
        {
          "output_type": "execute_result",
          "data": {
            "text/html": [
              "<div>\n",
              "<style scoped>\n",
              "    .dataframe tbody tr th:only-of-type {\n",
              "        vertical-align: middle;\n",
              "    }\n",
              "\n",
              "    .dataframe tbody tr th {\n",
              "        vertical-align: top;\n",
              "    }\n",
              "\n",
              "    .dataframe thead th {\n",
              "        text-align: right;\n",
              "    }\n",
              "</style>\n",
              "<table border=\"1\" class=\"dataframe\">\n",
              "  <thead>\n",
              "    <tr style=\"text-align: right;\">\n",
              "      <th></th>\n",
              "      <th>antecedents</th>\n",
              "      <th>consequents</th>\n",
              "      <th>antecedent support</th>\n",
              "      <th>consequent support</th>\n",
              "      <th>support</th>\n",
              "      <th>confidence</th>\n",
              "      <th>lift</th>\n",
              "      <th>leverage</th>\n",
              "      <th>conviction</th>\n",
              "    </tr>\n",
              "  </thead>\n",
              "  <tbody>\n",
              "    <tr>\n",
              "      <th>504798</th>\n",
              "      <td>(진원생명과학보통주,)</td>\n",
              "      <td>(에스브이인베스트먼트,)</td>\n",
              "      <td>0.010157</td>\n",
              "      <td>0.019855</td>\n",
              "      <td>0.012318</td>\n",
              "      <td>1.212694</td>\n",
              "      <td>61.076301</td>\n",
              "      <td>0.012116</td>\n",
              "      <td>inf</td>\n",
              "    </tr>\n",
              "    <tr>\n",
              "      <th>504799</th>\n",
              "      <td>(에스브이인베스트먼트,)</td>\n",
              "      <td>(진원생명과학보통주,)</td>\n",
              "      <td>0.019855</td>\n",
              "      <td>0.010157</td>\n",
              "      <td>0.012318</td>\n",
              "      <td>0.620381</td>\n",
              "      <td>61.076301</td>\n",
              "      <td>0.012116</td>\n",
              "      <td>2.607466</td>\n",
              "    </tr>\n",
              "    <tr>\n",
              "      <th>394480</th>\n",
              "      <td>(진원생명과학보통주,)</td>\n",
              "      <td>(서울식품공업보통주,)</td>\n",
              "      <td>0.010157</td>\n",
              "      <td>0.030753</td>\n",
              "      <td>0.012154</td>\n",
              "      <td>1.196591</td>\n",
              "      <td>38.909845</td>\n",
              "      <td>0.011842</td>\n",
              "      <td>inf</td>\n",
              "    </tr>\n",
              "    <tr>\n",
              "      <th>394481</th>\n",
              "      <td>(서울식품공업보통주,)</td>\n",
              "      <td>(진원생명과학보통주,)</td>\n",
              "      <td>0.030753</td>\n",
              "      <td>0.010157</td>\n",
              "      <td>0.012154</td>\n",
              "      <td>0.395226</td>\n",
              "      <td>38.909845</td>\n",
              "      <td>0.011842</td>\n",
              "      <td>1.636715</td>\n",
              "    </tr>\n",
              "    <tr>\n",
              "      <th>393834</th>\n",
              "      <td>(알서포트,)</td>\n",
              "      <td>(서울식품공업보통주,)</td>\n",
              "      <td>0.012758</td>\n",
              "      <td>0.030753</td>\n",
              "      <td>0.012090</td>\n",
              "      <td>0.947690</td>\n",
              "      <td>30.816276</td>\n",
              "      <td>0.011698</td>\n",
              "      <td>18.528920</td>\n",
              "    </tr>\n",
              "    <tr>\n",
              "      <th>393835</th>\n",
              "      <td>(서울식품공업보통주,)</td>\n",
              "      <td>(알서포트,)</td>\n",
              "      <td>0.030753</td>\n",
              "      <td>0.012758</td>\n",
              "      <td>0.012090</td>\n",
              "      <td>0.393143</td>\n",
              "      <td>30.816276</td>\n",
              "      <td>0.011698</td>\n",
              "      <td>1.626811</td>\n",
              "    </tr>\n",
              "    <tr>\n",
              "      <th>394121</th>\n",
              "      <td>(서울식품공업보통주,)</td>\n",
              "      <td>(와이비엠넷,)</td>\n",
              "      <td>0.030753</td>\n",
              "      <td>0.010677</td>\n",
              "      <td>0.011700</td>\n",
              "      <td>0.380459</td>\n",
              "      <td>35.633508</td>\n",
              "      <td>0.011372</td>\n",
              "      <td>1.596865</td>\n",
              "    </tr>\n",
              "    <tr>\n",
              "      <th>394120</th>\n",
              "      <td>(와이비엠넷,)</td>\n",
              "      <td>(서울식품공업보통주,)</td>\n",
              "      <td>0.010677</td>\n",
              "      <td>0.030753</td>\n",
              "      <td>0.011700</td>\n",
              "      <td>1.095834</td>\n",
              "      <td>35.633508</td>\n",
              "      <td>0.011372</td>\n",
              "      <td>inf</td>\n",
              "    </tr>\n",
              "    <tr>\n",
              "      <th>655262</th>\n",
              "      <td>(한국알콜산업,)</td>\n",
              "      <td>(초록뱀미디어,)</td>\n",
              "      <td>0.005107</td>\n",
              "      <td>0.022199</td>\n",
              "      <td>0.011519</td>\n",
              "      <td>2.255369</td>\n",
              "      <td>101.597452</td>\n",
              "      <td>0.011406</td>\n",
              "      <td>inf</td>\n",
              "    </tr>\n",
              "    <tr>\n",
              "      <th>655263</th>\n",
              "      <td>(초록뱀미디어,)</td>\n",
              "      <td>(한국알콜산업,)</td>\n",
              "      <td>0.022199</td>\n",
              "      <td>0.005107</td>\n",
              "      <td>0.011519</td>\n",
              "      <td>0.518907</td>\n",
              "      <td>101.597452</td>\n",
              "      <td>0.011406</td>\n",
              "      <td>2.067984</td>\n",
              "    </tr>\n",
              "    <tr>\n",
              "      <th>655127</th>\n",
              "      <td>(초록뱀미디어,)</td>\n",
              "      <td>(파미셀보통주,)</td>\n",
              "      <td>0.022199</td>\n",
              "      <td>0.006383</td>\n",
              "      <td>0.010715</td>\n",
              "      <td>0.482665</td>\n",
              "      <td>75.611614</td>\n",
              "      <td>0.010573</td>\n",
              "      <td>1.920643</td>\n",
              "    </tr>\n",
              "    <tr>\n",
              "      <th>655126</th>\n",
              "      <td>(파미셀보통주,)</td>\n",
              "      <td>(초록뱀미디어,)</td>\n",
              "      <td>0.006383</td>\n",
              "      <td>0.022199</td>\n",
              "      <td>0.010715</td>\n",
              "      <td>1.678508</td>\n",
              "      <td>75.611614</td>\n",
              "      <td>0.010573</td>\n",
              "      <td>inf</td>\n",
              "    </tr>\n",
              "    <tr>\n",
              "      <th>504399</th>\n",
              "      <td>(에스브이인베스트먼트,)</td>\n",
              "      <td>(와이비엠넷,)</td>\n",
              "      <td>0.019855</td>\n",
              "      <td>0.010677</td>\n",
              "      <td>0.010683</td>\n",
              "      <td>0.538026</td>\n",
              "      <td>50.391114</td>\n",
              "      <td>0.010471</td>\n",
              "      <td>2.141512</td>\n",
              "    </tr>\n",
              "    <tr>\n",
              "      <th>504398</th>\n",
              "      <td>(와이비엠넷,)</td>\n",
              "      <td>(에스브이인베스트먼트,)</td>\n",
              "      <td>0.010677</td>\n",
              "      <td>0.019855</td>\n",
              "      <td>0.010683</td>\n",
              "      <td>1.000535</td>\n",
              "      <td>50.391114</td>\n",
              "      <td>0.010471</td>\n",
              "      <td>inf</td>\n",
              "    </tr>\n",
              "    <tr>\n",
              "      <th>394750</th>\n",
              "      <td>(파미셀보통주,)</td>\n",
              "      <td>(서울식품공업보통주,)</td>\n",
              "      <td>0.006383</td>\n",
              "      <td>0.030753</td>\n",
              "      <td>0.010632</td>\n",
              "      <td>1.665565</td>\n",
              "      <td>54.159603</td>\n",
              "      <td>0.010436</td>\n",
              "      <td>inf</td>\n",
              "    </tr>\n",
              "    <tr>\n",
              "      <th>394751</th>\n",
              "      <td>(서울식품공업보통주,)</td>\n",
              "      <td>(파미셀보통주,)</td>\n",
              "      <td>0.030753</td>\n",
              "      <td>0.006383</td>\n",
              "      <td>0.010632</td>\n",
              "      <td>0.345726</td>\n",
              "      <td>54.159603</td>\n",
              "      <td>0.010436</td>\n",
              "      <td>1.518656</td>\n",
              "    </tr>\n",
              "    <tr>\n",
              "      <th>394875</th>\n",
              "      <td>(서울식품공업보통주,)</td>\n",
              "      <td>(한국알콜산업,)</td>\n",
              "      <td>0.030753</td>\n",
              "      <td>0.005107</td>\n",
              "      <td>0.010484</td>\n",
              "      <td>0.340902</td>\n",
              "      <td>66.745644</td>\n",
              "      <td>0.010327</td>\n",
              "      <td>1.509476</td>\n",
              "    </tr>\n",
              "    <tr>\n",
              "      <th>394874</th>\n",
              "      <td>(한국알콜산업,)</td>\n",
              "      <td>(서울식품공업보통주,)</td>\n",
              "      <td>0.005107</td>\n",
              "      <td>0.030753</td>\n",
              "      <td>0.010484</td>\n",
              "      <td>2.052623</td>\n",
              "      <td>66.745644</td>\n",
              "      <td>0.010327</td>\n",
              "      <td>inf</td>\n",
              "    </tr>\n",
              "    <tr>\n",
              "      <th>394674</th>\n",
              "      <td>(키이스트,)</td>\n",
              "      <td>(서울식품공업보통주,)</td>\n",
              "      <td>0.005149</td>\n",
              "      <td>0.030753</td>\n",
              "      <td>0.010236</td>\n",
              "      <td>1.987966</td>\n",
              "      <td>64.643191</td>\n",
              "      <td>0.010078</td>\n",
              "      <td>inf</td>\n",
              "    </tr>\n",
              "    <tr>\n",
              "      <th>394675</th>\n",
              "      <td>(서울식품공업보통주,)</td>\n",
              "      <td>(키이스트,)</td>\n",
              "      <td>0.030753</td>\n",
              "      <td>0.005149</td>\n",
              "      <td>0.010236</td>\n",
              "      <td>0.332846</td>\n",
              "      <td>64.643191</td>\n",
              "      <td>0.010078</td>\n",
              "      <td>1.491186</td>\n",
              "    </tr>\n",
              "  </tbody>\n",
              "</table>\n",
              "</div>"
            ],
            "text/plain": [
              "          antecedents    consequents  ...  leverage  conviction\n",
              "504798   (진원생명과학보통주,)  (에스브이인베스트먼트,)  ...  0.012116         inf\n",
              "504799  (에스브이인베스트먼트,)   (진원생명과학보통주,)  ...  0.012116    2.607466\n",
              "394480   (진원생명과학보통주,)   (서울식품공업보통주,)  ...  0.011842         inf\n",
              "394481   (서울식품공업보통주,)   (진원생명과학보통주,)  ...  0.011842    1.636715\n",
              "393834        (알서포트,)   (서울식품공업보통주,)  ...  0.011698   18.528920\n",
              "393835   (서울식품공업보통주,)        (알서포트,)  ...  0.011698    1.626811\n",
              "394121   (서울식품공업보통주,)       (와이비엠넷,)  ...  0.011372    1.596865\n",
              "394120       (와이비엠넷,)   (서울식품공업보통주,)  ...  0.011372         inf\n",
              "655262      (한국알콜산업,)      (초록뱀미디어,)  ...  0.011406         inf\n",
              "655263      (초록뱀미디어,)      (한국알콜산업,)  ...  0.011406    2.067984\n",
              "655127      (초록뱀미디어,)      (파미셀보통주,)  ...  0.010573    1.920643\n",
              "655126      (파미셀보통주,)      (초록뱀미디어,)  ...  0.010573         inf\n",
              "504399  (에스브이인베스트먼트,)       (와이비엠넷,)  ...  0.010471    2.141512\n",
              "504398       (와이비엠넷,)  (에스브이인베스트먼트,)  ...  0.010471         inf\n",
              "394750      (파미셀보통주,)   (서울식품공업보통주,)  ...  0.010436         inf\n",
              "394751   (서울식품공업보통주,)      (파미셀보통주,)  ...  0.010436    1.518656\n",
              "394875   (서울식품공업보통주,)      (한국알콜산업,)  ...  0.010327    1.509476\n",
              "394874      (한국알콜산업,)   (서울식품공업보통주,)  ...  0.010327         inf\n",
              "394674        (키이스트,)   (서울식품공업보통주,)  ...  0.010078         inf\n",
              "394675   (서울식품공업보통주,)        (키이스트,)  ...  0.010078    1.491186\n",
              "\n",
              "[20 rows x 9 columns]"
            ]
          },
          "metadata": {
            "tags": []
          },
          "execution_count": 95
        }
      ]
    },
    {
      "cell_type": "markdown",
      "metadata": {
        "id": "xqIwELZc-BIt"
      },
      "source": [
        "#### sample_info\n",
        "8000명 이외의 사람의 상품목록 뽑은 후 그 사람이 가진 상품과 신뢰도가 높은 상품 뽑아내기"
      ]
    },
    {
      "cell_type": "code",
      "metadata": {
        "colab": {
          "base_uri": "https://localhost:8080/",
          "height": 241
        },
        "id": "Y6GslA89-BIt",
        "outputId": "baa74898-aad1-49c0-c3c7-50006e3dbb32"
      },
      "source": [
        "#샘플 고객의 상품목록에서 부분집합 추출\n",
        "\n",
        "from itertools import combinations\n",
        "\n",
        "cluster_prod=sample_info.loc[sample_info['cluster']==2,'상품명']\n",
        "print(len(cluster_prod))\n",
        "\n",
        "a = cluster_prod[0]\n",
        "result=[]\n",
        "\n",
        "for i in range(0,len(a)+1):\n",
        "    c=combinations(a,i)\n",
        "    result.extend(c)"
      ],
      "execution_count": 1,
      "outputs": [
        {
          "output_type": "error",
          "ename": "NameError",
          "evalue": "ignored",
          "traceback": [
            "\u001b[0;31m---------------------------------------------------------------------------\u001b[0m",
            "\u001b[0;31mNameError\u001b[0m                                 Traceback (most recent call last)",
            "\u001b[0;32m<ipython-input-1-2bb946d1ea99>\u001b[0m in \u001b[0;36m<module>\u001b[0;34m()\u001b[0m\n\u001b[1;32m      3\u001b[0m \u001b[0;32mfrom\u001b[0m \u001b[0mitertools\u001b[0m \u001b[0;32mimport\u001b[0m \u001b[0mcombinations\u001b[0m\u001b[0;34m\u001b[0m\u001b[0;34m\u001b[0m\u001b[0m\n\u001b[1;32m      4\u001b[0m \u001b[0;34m\u001b[0m\u001b[0m\n\u001b[0;32m----> 5\u001b[0;31m \u001b[0mcluster_prod\u001b[0m\u001b[0;34m=\u001b[0m\u001b[0msample_info\u001b[0m\u001b[0;34m.\u001b[0m\u001b[0mloc\u001b[0m\u001b[0;34m[\u001b[0m\u001b[0msample_info\u001b[0m\u001b[0;34m[\u001b[0m\u001b[0;34m'cluster'\u001b[0m\u001b[0;34m]\u001b[0m\u001b[0;34m==\u001b[0m\u001b[0;36m2\u001b[0m\u001b[0;34m,\u001b[0m\u001b[0;34m'상품명'\u001b[0m\u001b[0;34m]\u001b[0m\u001b[0;34m\u001b[0m\u001b[0;34m\u001b[0m\u001b[0m\n\u001b[0m\u001b[1;32m      6\u001b[0m \u001b[0mprint\u001b[0m\u001b[0;34m(\u001b[0m\u001b[0mlen\u001b[0m\u001b[0;34m(\u001b[0m\u001b[0mcluster_prod\u001b[0m\u001b[0;34m)\u001b[0m\u001b[0;34m)\u001b[0m\u001b[0;34m\u001b[0m\u001b[0;34m\u001b[0m\u001b[0m\n\u001b[1;32m      7\u001b[0m \u001b[0;34m\u001b[0m\u001b[0m\n",
            "\u001b[0;31mNameError\u001b[0m: name 'sample_info' is not defined"
          ]
        }
      ]
    },
    {
      "cell_type": "code",
      "metadata": {
        "colab": {
          "base_uri": "https://localhost:8080/",
          "height": 414
        },
        "id": "K58nccvw-BIu",
        "outputId": "716c8eae-89d7-46b0-a37b-2f088cfb8567"
      },
      "source": [
        "rules_2.loc[rules_2.antecedents.isin(result),:].sort_values(['support','lift','confidence'], ascending =False)\n"
      ],
      "execution_count": null,
      "outputs": [
        {
          "output_type": "execute_result",
          "data": {
            "text/html": [
              "<div>\n",
              "<style scoped>\n",
              "    .dataframe tbody tr th:only-of-type {\n",
              "        vertical-align: middle;\n",
              "    }\n",
              "\n",
              "    .dataframe tbody tr th {\n",
              "        vertical-align: top;\n",
              "    }\n",
              "\n",
              "    .dataframe thead th {\n",
              "        text-align: right;\n",
              "    }\n",
              "</style>\n",
              "<table border=\"1\" class=\"dataframe\">\n",
              "  <thead>\n",
              "    <tr style=\"text-align: right;\">\n",
              "      <th></th>\n",
              "      <th>antecedents</th>\n",
              "      <th>consequents</th>\n",
              "      <th>antecedent support</th>\n",
              "      <th>consequent support</th>\n",
              "      <th>support</th>\n",
              "      <th>confidence</th>\n",
              "      <th>lift</th>\n",
              "      <th>leverage</th>\n",
              "      <th>conviction</th>\n",
              "    </tr>\n",
              "  </thead>\n",
              "  <tbody>\n",
              "    <tr>\n",
              "      <th>20095</th>\n",
              "      <td>(현대자동차보통주,)</td>\n",
              "      <td>(대교우선주(신형),)</td>\n",
              "      <td>0.017908</td>\n",
              "      <td>0.009415</td>\n",
              "      <td>0.008831</td>\n",
              "      <td>0.493153</td>\n",
              "      <td>52.378651</td>\n",
              "      <td>0.008663</td>\n",
              "      <td>1.954406</td>\n",
              "    </tr>\n",
              "    <tr>\n",
              "      <th>40680</th>\n",
              "      <td>(카카오보통주,)</td>\n",
              "      <td>(소리바다,)</td>\n",
              "      <td>0.007977</td>\n",
              "      <td>0.007333</td>\n",
              "      <td>0.007303</td>\n",
              "      <td>0.915462</td>\n",
              "      <td>124.843617</td>\n",
              "      <td>0.007244</td>\n",
              "      <td>11.742264</td>\n",
              "    </tr>\n",
              "    <tr>\n",
              "      <th>40690</th>\n",
              "      <td>(현대자동차보통주,)</td>\n",
              "      <td>(소리바다,)</td>\n",
              "      <td>0.017908</td>\n",
              "      <td>0.007333</td>\n",
              "      <td>0.007300</td>\n",
              "      <td>0.407646</td>\n",
              "      <td>55.591590</td>\n",
              "      <td>0.007169</td>\n",
              "      <td>1.675800</td>\n",
              "    </tr>\n",
              "    <tr>\n",
              "      <th>22603</th>\n",
              "      <td>(현대자동차보통주,)</td>\n",
              "      <td>(대한항공보통주,)</td>\n",
              "      <td>0.017908</td>\n",
              "      <td>0.035386</td>\n",
              "      <td>0.006256</td>\n",
              "      <td>0.349323</td>\n",
              "      <td>9.871898</td>\n",
              "      <td>0.005622</td>\n",
              "      <td>1.482479</td>\n",
              "    </tr>\n",
              "    <tr>\n",
              "      <th>31218</th>\n",
              "      <td>(삼성SDI보통주,)</td>\n",
              "      <td>(미래에셋증권보통주,)</td>\n",
              "      <td>0.005788</td>\n",
              "      <td>0.011951</td>\n",
              "      <td>0.006196</td>\n",
              "      <td>1.070492</td>\n",
              "      <td>89.575857</td>\n",
              "      <td>0.006127</td>\n",
              "      <td>inf</td>\n",
              "    </tr>\n",
              "    <tr>\n",
              "      <th>...</th>\n",
              "      <td>...</td>\n",
              "      <td>...</td>\n",
              "      <td>...</td>\n",
              "      <td>...</td>\n",
              "      <td>...</td>\n",
              "      <td>...</td>\n",
              "      <td>...</td>\n",
              "      <td>...</td>\n",
              "      <td>...</td>\n",
              "    </tr>\n",
              "    <tr>\n",
              "      <th>8097</th>\n",
              "      <td>(LG화학보통주,)</td>\n",
              "      <td>(아모그린텍,)</td>\n",
              "      <td>0.003369</td>\n",
              "      <td>0.000200</td>\n",
              "      <td>0.000001</td>\n",
              "      <td>0.000217</td>\n",
              "      <td>1.083293</td>\n",
              "      <td>0.000000</td>\n",
              "      <td>1.000017</td>\n",
              "    </tr>\n",
              "    <tr>\n",
              "      <th>9600</th>\n",
              "      <td>(NAVER보통주,)</td>\n",
              "      <td>(현대미포조선보통주,)</td>\n",
              "      <td>0.002693</td>\n",
              "      <td>0.000250</td>\n",
              "      <td>0.000001</td>\n",
              "      <td>0.000271</td>\n",
              "      <td>1.082535</td>\n",
              "      <td>0.000000</td>\n",
              "      <td>1.000021</td>\n",
              "    </tr>\n",
              "    <tr>\n",
              "      <th>9476</th>\n",
              "      <td>(NAVER보통주,)</td>\n",
              "      <td>(큐브엔터테인먼트,)</td>\n",
              "      <td>0.002693</td>\n",
              "      <td>0.000255</td>\n",
              "      <td>0.000001</td>\n",
              "      <td>0.000271</td>\n",
              "      <td>1.060884</td>\n",
              "      <td>0.000000</td>\n",
              "      <td>1.000016</td>\n",
              "    </tr>\n",
              "    <tr>\n",
              "      <th>28194</th>\n",
              "      <td>(현대자동차보통주,)</td>\n",
              "      <td>(매일홀딩스,)</td>\n",
              "      <td>0.017908</td>\n",
              "      <td>0.000040</td>\n",
              "      <td>0.000001</td>\n",
              "      <td>0.000041</td>\n",
              "      <td>1.015304</td>\n",
              "      <td>0.000000</td>\n",
              "      <td>1.000001</td>\n",
              "    </tr>\n",
              "    <tr>\n",
              "      <th>58200</th>\n",
              "      <td>(케이티앤지보통주,)</td>\n",
              "      <td>(큐브엔터테인먼트,)</td>\n",
              "      <td>0.002854</td>\n",
              "      <td>0.000255</td>\n",
              "      <td>0.000001</td>\n",
              "      <td>0.000256</td>\n",
              "      <td>1.001193</td>\n",
              "      <td>0.000000</td>\n",
              "      <td>1.000000</td>\n",
              "    </tr>\n",
              "  </tbody>\n",
              "</table>\n",
              "<p>3083 rows × 9 columns</p>\n",
              "</div>"
            ],
            "text/plain": [
              "       antecedents   consequents  ...  leverage  conviction\n",
              "20095  (현대자동차보통주,)  (대교우선주(신형),)  ...  0.008663    1.954406\n",
              "40680    (카카오보통주,)       (소리바다,)  ...  0.007244   11.742264\n",
              "40690  (현대자동차보통주,)       (소리바다,)  ...  0.007169    1.675800\n",
              "22603  (현대자동차보통주,)    (대한항공보통주,)  ...  0.005622    1.482479\n",
              "31218  (삼성SDI보통주,)  (미래에셋증권보통주,)  ...  0.006127         inf\n",
              "...            ...           ...  ...       ...         ...\n",
              "8097    (LG화학보통주,)      (아모그린텍,)  ...  0.000000    1.000017\n",
              "9600   (NAVER보통주,)  (현대미포조선보통주,)  ...  0.000000    1.000021\n",
              "9476   (NAVER보통주,)   (큐브엔터테인먼트,)  ...  0.000000    1.000016\n",
              "28194  (현대자동차보통주,)      (매일홀딩스,)  ...  0.000000    1.000001\n",
              "58200  (케이티앤지보통주,)   (큐브엔터테인먼트,)  ...  0.000000    1.000000\n",
              "\n",
              "[3083 rows x 9 columns]"
            ]
          },
          "metadata": {
            "tags": []
          },
          "execution_count": 86
        }
      ]
    },
    {
      "cell_type": "code",
      "metadata": {
        "id": "CY6S-q-ras3-"
      },
      "source": [
        "lst2 = file.loc[file['cluster']=='2.0'].groupby('고객구분코드')['상품명'].unique().agg(list)\n",
        "te_ary2 = te.fit(lst2).transform(lst2)\n",
        "df2 = pd.DataFrame(te_ary2, columns=te.columns_)"
      ],
      "execution_count": null,
      "outputs": []
    },
    {
      "cell_type": "code",
      "metadata": {
        "colab": {
          "base_uri": "https://localhost:8080/",
          "height": 390
        },
        "id": "9S_Vk4fQas3_",
        "outputId": "3f62faa6-af97-4f08-e29e-58e0c61b0e02"
      },
      "source": [
        "from mlxtend.frequent_patterns import fpgrowth\n",
        "fp_2 = fpgrowth(df2, min_support=0.1,use_colnames=True)\n",
        "fp_2.sort_values('support',ascending =False)"
      ],
      "execution_count": null,
      "outputs": [
        {
          "output_type": "execute_result",
          "data": {
            "text/html": [
              "<div>\n",
              "<style scoped>\n",
              "    .dataframe tbody tr th:only-of-type {\n",
              "        vertical-align: middle;\n",
              "    }\n",
              "\n",
              "    .dataframe tbody tr th {\n",
              "        vertical-align: top;\n",
              "    }\n",
              "\n",
              "    .dataframe thead th {\n",
              "        text-align: right;\n",
              "    }\n",
              "</style>\n",
              "<table border=\"1\" class=\"dataframe\">\n",
              "  <thead>\n",
              "    <tr style=\"text-align: right;\">\n",
              "      <th></th>\n",
              "      <th>support</th>\n",
              "      <th>itemsets</th>\n",
              "    </tr>\n",
              "  </thead>\n",
              "  <tbody>\n",
              "    <tr>\n",
              "      <th>1</th>\n",
              "      <td>0.515194</td>\n",
              "      <td>(삼성전자보통주)</td>\n",
              "    </tr>\n",
              "    <tr>\n",
              "      <th>2</th>\n",
              "      <td>0.212405</td>\n",
              "      <td>(씨젠)</td>\n",
              "    </tr>\n",
              "    <tr>\n",
              "      <th>0</th>\n",
              "      <td>0.194172</td>\n",
              "      <td>(삼성전자1우선주)</td>\n",
              "    </tr>\n",
              "    <tr>\n",
              "      <th>3</th>\n",
              "      <td>0.148356</td>\n",
              "      <td>(이원다이애그노믹스)</td>\n",
              "    </tr>\n",
              "    <tr>\n",
              "      <th>4</th>\n",
              "      <td>0.131837</td>\n",
              "      <td>(신풍제약보통주)</td>\n",
              "    </tr>\n",
              "    <tr>\n",
              "      <th>6</th>\n",
              "      <td>0.131526</td>\n",
              "      <td>(수젠텍)</td>\n",
              "    </tr>\n",
              "    <tr>\n",
              "      <th>10</th>\n",
              "      <td>0.121085</td>\n",
              "      <td>(씨젠, 삼성전자보통주)</td>\n",
              "    </tr>\n",
              "    <tr>\n",
              "      <th>7</th>\n",
              "      <td>0.112669</td>\n",
              "      <td>(랩지노믹스)</td>\n",
              "    </tr>\n",
              "    <tr>\n",
              "      <th>9</th>\n",
              "      <td>0.107527</td>\n",
              "      <td>(삼성전자보통주, 삼성전자1우선주)</td>\n",
              "    </tr>\n",
              "    <tr>\n",
              "      <th>8</th>\n",
              "      <td>0.106436</td>\n",
              "      <td>(파미셀보통주)</td>\n",
              "    </tr>\n",
              "    <tr>\n",
              "      <th>5</th>\n",
              "      <td>0.105034</td>\n",
              "      <td>(에스케이하이닉스보통주)</td>\n",
              "    </tr>\n",
              "  </tbody>\n",
              "</table>\n",
              "</div>"
            ],
            "text/plain": [
              "     support             itemsets\n",
              "1   0.515194            (삼성전자보통주)\n",
              "2   0.212405                 (씨젠)\n",
              "0   0.194172           (삼성전자1우선주)\n",
              "3   0.148356          (이원다이애그노믹스)\n",
              "4   0.131837            (신풍제약보통주)\n",
              "6   0.131526                (수젠텍)\n",
              "10  0.121085        (씨젠, 삼성전자보통주)\n",
              "7   0.112669              (랩지노믹스)\n",
              "9   0.107527  (삼성전자보통주, 삼성전자1우선주)\n",
              "8   0.106436             (파미셀보통주)\n",
              "5   0.105034        (에스케이하이닉스보통주)"
            ]
          },
          "metadata": {
            "tags": []
          },
          "execution_count": 105
        }
      ]
    },
    {
      "cell_type": "code",
      "metadata": {
        "id": "OisMuy7mas4A"
      },
      "source": [
        ""
      ],
      "execution_count": null,
      "outputs": []
    },
    {
      "cell_type": "markdown",
      "metadata": {
        "id": "dtxC5Ee8atH-"
      },
      "source": [
        "### 3번 군집"
      ]
    },
    {
      "cell_type": "code",
      "metadata": {
        "id": "FlC5kK18atH_"
      },
      "source": [
        "lst3 = file.loc[file['cluster']=='3.0'].groupby('고객구분코드')['상품명'].unique().agg(list)\n",
        "te_ary3 = te.fit(lst3).transform(lst3)\n",
        "df3 = pd.DataFrame(te_ary3, columns=te.columns_)"
      ],
      "execution_count": null,
      "outputs": []
    },
    {
      "cell_type": "code",
      "metadata": {
        "colab": {
          "base_uri": "https://localhost:8080/",
          "height": 419
        },
        "id": "4AEwOw-QatH_",
        "outputId": "54f02f54-c773-40ee-f10d-15f9ae17bb09"
      },
      "source": [
        "from mlxtend.frequent_patterns import fpgrowth\n",
        "fp_3 = fpgrowth(df3, min_support=0.2,use_colnames=True)\n",
        "fp_3.sort_values('support',ascending =False)"
      ],
      "execution_count": null,
      "outputs": [
        {
          "output_type": "execute_result",
          "data": {
            "text/html": [
              "<div>\n",
              "<style scoped>\n",
              "    .dataframe tbody tr th:only-of-type {\n",
              "        vertical-align: middle;\n",
              "    }\n",
              "\n",
              "    .dataframe tbody tr th {\n",
              "        vertical-align: top;\n",
              "    }\n",
              "\n",
              "    .dataframe thead th {\n",
              "        text-align: right;\n",
              "    }\n",
              "</style>\n",
              "<table border=\"1\" class=\"dataframe\">\n",
              "  <thead>\n",
              "    <tr style=\"text-align: right;\">\n",
              "      <th></th>\n",
              "      <th>support</th>\n",
              "      <th>itemsets</th>\n",
              "    </tr>\n",
              "  </thead>\n",
              "  <tbody>\n",
              "    <tr>\n",
              "      <th>9</th>\n",
              "      <td>0.625000</td>\n",
              "      <td>(진원생명과학보통주)</td>\n",
              "    </tr>\n",
              "    <tr>\n",
              "      <th>20</th>\n",
              "      <td>0.583333</td>\n",
              "      <td>(씨젠)</td>\n",
              "    </tr>\n",
              "    <tr>\n",
              "      <th>0</th>\n",
              "      <td>0.541667</td>\n",
              "      <td>(웰크론)</td>\n",
              "    </tr>\n",
              "    <tr>\n",
              "      <th>12</th>\n",
              "      <td>0.500000</td>\n",
              "      <td>(신풍제약보통주)</td>\n",
              "    </tr>\n",
              "    <tr>\n",
              "      <th>11</th>\n",
              "      <td>0.500000</td>\n",
              "      <td>(이원다이애그노믹스)</td>\n",
              "    </tr>\n",
              "    <tr>\n",
              "      <th>...</th>\n",
              "      <td>...</td>\n",
              "      <td>...</td>\n",
              "    </tr>\n",
              "    <tr>\n",
              "      <th>1944</th>\n",
              "      <td>0.208333</td>\n",
              "      <td>(웰크론, CJ씨푸드보통주, 신풍제약보통주, 미코)</td>\n",
              "    </tr>\n",
              "    <tr>\n",
              "      <th>1945</th>\n",
              "      <td>0.208333</td>\n",
              "      <td>(진원생명과학보통주, 디피씨보통주, CJ씨푸드보통주, 미코, 웰크론)</td>\n",
              "    </tr>\n",
              "    <tr>\n",
              "      <th>1946</th>\n",
              "      <td>0.208333</td>\n",
              "      <td>(진원생명과학보통주, 와이비엠넷, CJ씨푸드보통주, 미코, 웰크론)</td>\n",
              "    </tr>\n",
              "    <tr>\n",
              "      <th>1947</th>\n",
              "      <td>0.208333</td>\n",
              "      <td>(진원생명과학보통주, CJ씨푸드보통주, 신풍제약보통주, 미코, 웰크론)</td>\n",
              "    </tr>\n",
              "    <tr>\n",
              "      <th>4822</th>\n",
              "      <td>0.208333</td>\n",
              "      <td>(오공, 대성엘텍)</td>\n",
              "    </tr>\n",
              "  </tbody>\n",
              "</table>\n",
              "<p>4823 rows × 2 columns</p>\n",
              "</div>"
            ],
            "text/plain": [
              "       support                                 itemsets\n",
              "9     0.625000                              (진원생명과학보통주)\n",
              "20    0.583333                                     (씨젠)\n",
              "0     0.541667                                    (웰크론)\n",
              "12    0.500000                                (신풍제약보통주)\n",
              "11    0.500000                              (이원다이애그노믹스)\n",
              "...        ...                                      ...\n",
              "1944  0.208333             (웰크론, CJ씨푸드보통주, 신풍제약보통주, 미코)\n",
              "1945  0.208333   (진원생명과학보통주, 디피씨보통주, CJ씨푸드보통주, 미코, 웰크론)\n",
              "1946  0.208333    (진원생명과학보통주, 와이비엠넷, CJ씨푸드보통주, 미코, 웰크론)\n",
              "1947  0.208333  (진원생명과학보통주, CJ씨푸드보통주, 신풍제약보통주, 미코, 웰크론)\n",
              "4822  0.208333                               (오공, 대성엘텍)\n",
              "\n",
              "[4823 rows x 2 columns]"
            ]
          },
          "metadata": {
            "tags": []
          },
          "execution_count": 107
        }
      ]
    },
    {
      "cell_type": "markdown",
      "metadata": {
        "id": "Ttw-XVQrauBu"
      },
      "source": [
        "### 4번 군집"
      ]
    },
    {
      "cell_type": "code",
      "metadata": {
        "id": "RuZbfLZjauBw"
      },
      "source": [
        "lst4 = file.loc[file['cluster']=='4.0'].groupby('고객구분코드')['상품명'].unique().agg(list)\n",
        "te_ary4 = te.fit(lst4).transform(lst4)\n",
        "df4 = pd.DataFrame(te_ary4, columns=te.columns_)"
      ],
      "execution_count": null,
      "outputs": []
    },
    {
      "cell_type": "code",
      "metadata": {
        "colab": {
          "base_uri": "https://localhost:8080/",
          "height": 638
        },
        "id": "vFSCOQnJauBw",
        "outputId": "5b952a7b-ab3a-46d1-9888-427c73ca4bc0"
      },
      "source": [
        "from mlxtend.frequent_patterns import fpgrowth\n",
        "fp_4 = fpgrowth(df4, min_support=0.1,use_colnames=True)\n",
        "fp_4.sort_values('support', ascending= False)"
      ],
      "execution_count": null,
      "outputs": [
        {
          "output_type": "execute_result",
          "data": {
            "text/html": [
              "<div>\n",
              "<style scoped>\n",
              "    .dataframe tbody tr th:only-of-type {\n",
              "        vertical-align: middle;\n",
              "    }\n",
              "\n",
              "    .dataframe tbody tr th {\n",
              "        vertical-align: top;\n",
              "    }\n",
              "\n",
              "    .dataframe thead th {\n",
              "        text-align: right;\n",
              "    }\n",
              "</style>\n",
              "<table border=\"1\" class=\"dataframe\">\n",
              "  <thead>\n",
              "    <tr style=\"text-align: right;\">\n",
              "      <th></th>\n",
              "      <th>support</th>\n",
              "      <th>itemsets</th>\n",
              "    </tr>\n",
              "  </thead>\n",
              "  <tbody>\n",
              "    <tr>\n",
              "      <th>2</th>\n",
              "      <td>0.562663</td>\n",
              "      <td>(삼성전자보통주)</td>\n",
              "    </tr>\n",
              "    <tr>\n",
              "      <th>5</th>\n",
              "      <td>0.510444</td>\n",
              "      <td>(씨젠)</td>\n",
              "    </tr>\n",
              "    <tr>\n",
              "      <th>6</th>\n",
              "      <td>0.297650</td>\n",
              "      <td>(카카오보통주)</td>\n",
              "    </tr>\n",
              "    <tr>\n",
              "      <th>15</th>\n",
              "      <td>0.297650</td>\n",
              "      <td>(삼성전자보통주, 씨젠)</td>\n",
              "    </tr>\n",
              "    <tr>\n",
              "      <th>16</th>\n",
              "      <td>0.215405</td>\n",
              "      <td>(카카오보통주, 삼성전자보통주)</td>\n",
              "    </tr>\n",
              "    <tr>\n",
              "      <th>0</th>\n",
              "      <td>0.163185</td>\n",
              "      <td>(셀트리온보통주)</td>\n",
              "    </tr>\n",
              "    <tr>\n",
              "      <th>3</th>\n",
              "      <td>0.159269</td>\n",
              "      <td>(삼성전자1우선주)</td>\n",
              "    </tr>\n",
              "    <tr>\n",
              "      <th>1</th>\n",
              "      <td>0.148825</td>\n",
              "      <td>(이원다이애그노믹스)</td>\n",
              "    </tr>\n",
              "    <tr>\n",
              "      <th>12</th>\n",
              "      <td>0.147520</td>\n",
              "      <td>(에스케이하이닉스보통주)</td>\n",
              "    </tr>\n",
              "    <tr>\n",
              "      <th>7</th>\n",
              "      <td>0.142298</td>\n",
              "      <td>(수젠텍)</td>\n",
              "    </tr>\n",
              "    <tr>\n",
              "      <th>4</th>\n",
              "      <td>0.139687</td>\n",
              "      <td>(셀트리온헬스케어)</td>\n",
              "    </tr>\n",
              "    <tr>\n",
              "      <th>17</th>\n",
              "      <td>0.125326</td>\n",
              "      <td>(씨젠, 수젠텍)</td>\n",
              "    </tr>\n",
              "    <tr>\n",
              "      <th>9</th>\n",
              "      <td>0.124021</td>\n",
              "      <td>(신풍제약보통주)</td>\n",
              "    </tr>\n",
              "    <tr>\n",
              "      <th>14</th>\n",
              "      <td>0.120104</td>\n",
              "      <td>(씨젠, 이원다이애그노믹스)</td>\n",
              "    </tr>\n",
              "    <tr>\n",
              "      <th>13</th>\n",
              "      <td>0.116188</td>\n",
              "      <td>(셀트리온제약)</td>\n",
              "    </tr>\n",
              "    <tr>\n",
              "      <th>11</th>\n",
              "      <td>0.110966</td>\n",
              "      <td>(현대자동차보통주)</td>\n",
              "    </tr>\n",
              "    <tr>\n",
              "      <th>18</th>\n",
              "      <td>0.109661</td>\n",
              "      <td>(삼성전자보통주, 에스케이하이닉스보통주)</td>\n",
              "    </tr>\n",
              "    <tr>\n",
              "      <th>8</th>\n",
              "      <td>0.107050</td>\n",
              "      <td>(LG화학보통주)</td>\n",
              "    </tr>\n",
              "    <tr>\n",
              "      <th>10</th>\n",
              "      <td>0.103133</td>\n",
              "      <td>(파미셀보통주)</td>\n",
              "    </tr>\n",
              "  </tbody>\n",
              "</table>\n",
              "</div>"
            ],
            "text/plain": [
              "     support                itemsets\n",
              "2   0.562663               (삼성전자보통주)\n",
              "5   0.510444                    (씨젠)\n",
              "6   0.297650                (카카오보통주)\n",
              "15  0.297650           (삼성전자보통주, 씨젠)\n",
              "16  0.215405       (카카오보통주, 삼성전자보통주)\n",
              "0   0.163185               (셀트리온보통주)\n",
              "3   0.159269              (삼성전자1우선주)\n",
              "1   0.148825             (이원다이애그노믹스)\n",
              "12  0.147520           (에스케이하이닉스보통주)\n",
              "7   0.142298                   (수젠텍)\n",
              "4   0.139687              (셀트리온헬스케어)\n",
              "17  0.125326               (씨젠, 수젠텍)\n",
              "9   0.124021               (신풍제약보통주)\n",
              "14  0.120104         (씨젠, 이원다이애그노믹스)\n",
              "13  0.116188                (셀트리온제약)\n",
              "11  0.110966              (현대자동차보통주)\n",
              "18  0.109661  (삼성전자보통주, 에스케이하이닉스보통주)\n",
              "8   0.107050               (LG화학보통주)\n",
              "10  0.103133                (파미셀보통주)"
            ]
          },
          "metadata": {
            "tags": []
          },
          "execution_count": 109
        }
      ]
    },
    {
      "cell_type": "code",
      "metadata": {
        "colab": {
          "base_uri": "https://localhost:8080/"
        },
        "id": "fFMCDfS4auBx",
        "outputId": "284ce9a8-d7b9-4485-f3f5-d4a50c151224"
      },
      "source": [
        "customer_info['cluster'].value_counts()"
      ],
      "execution_count": null,
      "outputs": [
        {
          "output_type": "execute_result",
          "data": {
            "text/plain": [
              "2    6417\n",
              "4     766\n",
              "0     601\n",
              "1     130\n",
              "3      24\n",
              "Name: cluster, dtype: int64"
            ]
          },
          "metadata": {
            "tags": []
          },
          "execution_count": 110
        }
      ]
    },
    {
      "cell_type": "markdown",
      "metadata": {
        "id": "Ot2yTcQbIiaB"
      },
      "source": [
        "## SNA 전처리:\n",
        ": from(source) to(target) weight\n",
        "<br> https://www.python2.net/questions-1025111.htm"
      ]
    },
    {
      "cell_type": "code",
      "metadata": {
        "id": "gbJ_MSjgMIcS"
      },
      "source": [
        "lst = [\n",
        "    ['a', 'b'],\n",
        "    ['b', 'c', 'd', 'e'],\n",
        "    ['a', 'd'],\n",
        "    ['b', 'e']\n",
        "]\n",
        "u = pd.get_dummies(pd.DataFrame(lst), prefix='', prefix_sep='').sum(level=0, axis=1)"
      ],
      "execution_count": null,
      "outputs": []
    },
    {
      "cell_type": "code",
      "metadata": {
        "colab": {
          "base_uri": "https://localhost:8080/",
          "height": 173
        },
        "id": "5aLVgY-jMOd4",
        "outputId": "2e8bda90-2ac2-424e-b967-5d125bf88c76"
      },
      "source": [
        "pd.DataFrame(lst)"
      ],
      "execution_count": null,
      "outputs": [
        {
          "output_type": "execute_result",
          "data": {
            "text/html": [
              "<div>\n",
              "<style scoped>\n",
              "    .dataframe tbody tr th:only-of-type {\n",
              "        vertical-align: middle;\n",
              "    }\n",
              "\n",
              "    .dataframe tbody tr th {\n",
              "        vertical-align: top;\n",
              "    }\n",
              "\n",
              "    .dataframe thead th {\n",
              "        text-align: right;\n",
              "    }\n",
              "</style>\n",
              "<table border=\"1\" class=\"dataframe\">\n",
              "  <thead>\n",
              "    <tr style=\"text-align: right;\">\n",
              "      <th></th>\n",
              "      <th>0</th>\n",
              "      <th>1</th>\n",
              "      <th>2</th>\n",
              "      <th>3</th>\n",
              "    </tr>\n",
              "  </thead>\n",
              "  <tbody>\n",
              "    <tr>\n",
              "      <th>0</th>\n",
              "      <td>a</td>\n",
              "      <td>b</td>\n",
              "      <td>None</td>\n",
              "      <td>None</td>\n",
              "    </tr>\n",
              "    <tr>\n",
              "      <th>1</th>\n",
              "      <td>b</td>\n",
              "      <td>c</td>\n",
              "      <td>d</td>\n",
              "      <td>e</td>\n",
              "    </tr>\n",
              "    <tr>\n",
              "      <th>2</th>\n",
              "      <td>a</td>\n",
              "      <td>d</td>\n",
              "      <td>None</td>\n",
              "      <td>None</td>\n",
              "    </tr>\n",
              "    <tr>\n",
              "      <th>3</th>\n",
              "      <td>b</td>\n",
              "      <td>e</td>\n",
              "      <td>None</td>\n",
              "      <td>None</td>\n",
              "    </tr>\n",
              "  </tbody>\n",
              "</table>\n",
              "</div>"
            ],
            "text/plain": [
              "   0  1     2     3\n",
              "0  a  b  None  None\n",
              "1  b  c     d     e\n",
              "2  a  d  None  None\n",
              "3  b  e  None  None"
            ]
          },
          "metadata": {
            "tags": []
          },
          "execution_count": 53
        }
      ]
    },
    {
      "cell_type": "code",
      "metadata": {
        "id": "9EeUVXBbN24M"
      },
      "source": [
        "lst = list(file.groupby('고객번호')['code'].unique().agg(list))\n",
        "u = pd.get_dummies(pd.DataFrame(lst), prefix='', prefix_sep='').sum(level=0, axis=1)\n",
        "v = u.T.dot(u)"
      ],
      "execution_count": null,
      "outputs": []
    },
    {
      "cell_type": "code",
      "metadata": {
        "id": "UW6MAvnlOX7J",
        "colab": {
          "base_uri": "https://localhost:8080/"
        },
        "outputId": "ab2b7cb8-7efb-45d1-bf86-b517a5bae332"
      },
      "source": [
        "v.values[np.tril(np.ones(v.shape)).astype(np.bool)] = 0\n",
        "print(v)"
      ],
      "execution_count": null,
      "outputs": [
        {
          "output_type": "stream",
          "text": [
            "        014160  069500  008970  016360  ...  192650  014940  004020  096530\n",
            "014160       0       0       1       0  ...       0       1       1       1\n",
            "069500       0       0       0       1  ...       1       0       0       0\n",
            "008970       0       0       0       0  ...       0       1       1       1\n",
            "016360       0       0       0       0  ...       1       0       0       0\n",
            "228790       0       0       0       0  ...       0       0       0       0\n",
            "011780       0       0       0       0  ...       1       0       0       0\n",
            "141020       0       0       0       0  ...       0       1       1       1\n",
            "305720       0       0       0       0  ...       0       0       0       0\n",
            "030000       0       0       0       0  ...       1       0       0       0\n",
            "058530       0       0       0       0  ...       0       1       1       1\n",
            "005380       0       0       0       0  ...       1       0       0       0\n",
            "015020       0       0       0       0  ...       0       1       1       1\n",
            "002360       0       0       0       0  ...       0       1       1       1\n",
            "192650       0       0       0       0  ...       0       0       0       0\n",
            "014940       0       0       0       0  ...       0       0       1       1\n",
            "004020       0       0       0       0  ...       0       0       0       1\n",
            "096530       0       0       0       0  ...       0       0       0       0\n",
            "\n",
            "[17 rows x 17 columns]\n"
          ],
          "name": "stdout"
        }
      ]
    },
    {
      "cell_type": "code",
      "metadata": {
        "colab": {
          "base_uri": "https://localhost:8080/"
        },
        "id": "ZXbhzNgHT2fJ",
        "outputId": "af86187a-64f5-4283-dd26-56c4792ac700"
      },
      "source": [
        "a = v.stack()\n",
        "a = a[a >= 1].rename_axis(('source', 'target')).reset_index(name='weight') #데이터 오면 1 바꾸기\n",
        "print(a)"
      ],
      "execution_count": null,
      "outputs": [
        {
          "output_type": "stream",
          "text": [
            "    source  target  weight\n",
            "0   014160  008970       1\n",
            "1   014160  141020       1\n",
            "2   014160  058530       1\n",
            "3   014160  015020       1\n",
            "4   014160  002360       1\n",
            "5   014160  014940       1\n",
            "6   014160  004020       1\n",
            "7   014160  096530       1\n",
            "8   069500  016360       1\n",
            "9   069500  228790       1\n",
            "10  069500  011780       1\n",
            "11  069500  305720       1\n",
            "12  069500  030000       1\n",
            "13  069500  005380       1\n",
            "14  069500  192650       1\n",
            "15  008970  141020       1\n",
            "16  008970  058530       1\n",
            "17  008970  015020       1\n",
            "18  008970  002360       1\n",
            "19  008970  014940       1\n",
            "20  008970  004020       1\n",
            "21  008970  096530       1\n",
            "22  016360  011780       1\n",
            "23  016360  030000       1\n",
            "24  016360  005380       1\n",
            "25  016360  192650       1\n",
            "26  228790  305720       1\n",
            "27  011780  030000       1\n",
            "28  011780  005380       1\n",
            "29  011780  192650       1\n",
            "30  141020  058530       1\n",
            "31  141020  015020       1\n",
            "32  141020  002360       1\n",
            "33  141020  014940       1\n",
            "34  141020  004020       1\n",
            "35  141020  096530       1\n",
            "36  030000  005380       1\n",
            "37  030000  192650       1\n",
            "38  058530  015020       1\n",
            "39  058530  002360       1\n",
            "40  058530  014940       1\n",
            "41  058530  004020       1\n",
            "42  058530  096530       1\n",
            "43  005380  192650       1\n",
            "44  015020  002360       1\n",
            "45  015020  014940       1\n",
            "46  015020  004020       1\n",
            "47  015020  096530       1\n",
            "48  002360  014940       1\n",
            "49  002360  004020       1\n",
            "50  002360  096530       1\n",
            "51  014940  004020       1\n",
            "52  014940  096530       1\n",
            "53  004020  096530       1\n"
          ],
          "name": "stdout"
        }
      ]
    },
    {
      "cell_type": "code",
      "metadata": {
        "colab": {
          "base_uri": "https://localhost:8080/"
        },
        "id": "9VWWA_5MUNWY",
        "outputId": "6f578bed-0fad-4577-9d2f-be8d2736df39"
      },
      "source": [
        "import networkx as nx\n",
        "G = nx.from_pandas_edgelist(a,  edge_attr=True)\n",
        "print (nx.to_dict_of_dicts(G))\n"
      ],
      "execution_count": null,
      "outputs": [
        {
          "output_type": "stream",
          "text": [
            "{'014160': {'008970': {'weight': 1}, '141020': {'weight': 1}, '058530': {'weight': 1}, '015020': {'weight': 1}, '002360': {'weight': 1}, '014940': {'weight': 1}, '004020': {'weight': 1}, '096530': {'weight': 1}}, '008970': {'014160': {'weight': 1}, '141020': {'weight': 1}, '058530': {'weight': 1}, '015020': {'weight': 1}, '002360': {'weight': 1}, '014940': {'weight': 1}, '004020': {'weight': 1}, '096530': {'weight': 1}}, '141020': {'014160': {'weight': 1}, '008970': {'weight': 1}, '058530': {'weight': 1}, '015020': {'weight': 1}, '002360': {'weight': 1}, '014940': {'weight': 1}, '004020': {'weight': 1}, '096530': {'weight': 1}}, '058530': {'014160': {'weight': 1}, '008970': {'weight': 1}, '141020': {'weight': 1}, '015020': {'weight': 1}, '002360': {'weight': 1}, '014940': {'weight': 1}, '004020': {'weight': 1}, '096530': {'weight': 1}}, '015020': {'014160': {'weight': 1}, '008970': {'weight': 1}, '141020': {'weight': 1}, '058530': {'weight': 1}, '002360': {'weight': 1}, '014940': {'weight': 1}, '004020': {'weight': 1}, '096530': {'weight': 1}}, '002360': {'014160': {'weight': 1}, '008970': {'weight': 1}, '141020': {'weight': 1}, '058530': {'weight': 1}, '015020': {'weight': 1}, '014940': {'weight': 1}, '004020': {'weight': 1}, '096530': {'weight': 1}}, '014940': {'014160': {'weight': 1}, '008970': {'weight': 1}, '141020': {'weight': 1}, '058530': {'weight': 1}, '015020': {'weight': 1}, '002360': {'weight': 1}, '004020': {'weight': 1}, '096530': {'weight': 1}}, '004020': {'014160': {'weight': 1}, '008970': {'weight': 1}, '141020': {'weight': 1}, '058530': {'weight': 1}, '015020': {'weight': 1}, '002360': {'weight': 1}, '014940': {'weight': 1}, '096530': {'weight': 1}}, '096530': {'014160': {'weight': 1}, '008970': {'weight': 1}, '141020': {'weight': 1}, '058530': {'weight': 1}, '015020': {'weight': 1}, '002360': {'weight': 1}, '014940': {'weight': 1}, '004020': {'weight': 1}}, '069500': {'016360': {'weight': 1}, '228790': {'weight': 1}, '011780': {'weight': 1}, '305720': {'weight': 1}, '030000': {'weight': 1}, '005380': {'weight': 1}, '192650': {'weight': 1}}, '016360': {'069500': {'weight': 1}, '011780': {'weight': 1}, '030000': {'weight': 1}, '005380': {'weight': 1}, '192650': {'weight': 1}}, '228790': {'069500': {'weight': 1}, '305720': {'weight': 1}}, '011780': {'069500': {'weight': 1}, '016360': {'weight': 1}, '030000': {'weight': 1}, '005380': {'weight': 1}, '192650': {'weight': 1}}, '305720': {'069500': {'weight': 1}, '228790': {'weight': 1}}, '030000': {'069500': {'weight': 1}, '016360': {'weight': 1}, '011780': {'weight': 1}, '005380': {'weight': 1}, '192650': {'weight': 1}}, '005380': {'069500': {'weight': 1}, '016360': {'weight': 1}, '011780': {'weight': 1}, '030000': {'weight': 1}, '192650': {'weight': 1}}, '192650': {'069500': {'weight': 1}, '016360': {'weight': 1}, '011780': {'weight': 1}, '030000': {'weight': 1}, '005380': {'weight': 1}}}\n"
          ],
          "name": "stdout"
        }
      ]
    },
    {
      "cell_type": "code",
      "metadata": {
        "id": "oXVJRgqpWsFB"
      },
      "source": [
        "import matplotlib.pyplot as plt\n"
      ],
      "execution_count": null,
      "outputs": []
    },
    {
      "cell_type": "code",
      "metadata": {
        "id": "D_C0EHecX4CC"
      },
      "source": [
        "# -*- encoding: utf-8 -*-\n",
        "import pandas as pd\n",
        "import networkx as nx\n",
        "import operator\n",
        "import numpy as np"
      ],
      "execution_count": null,
      "outputs": []
    },
    {
      "cell_type": "code",
      "metadata": {
        "colab": {
          "base_uri": "https://localhost:8080/",
          "height": 319
        },
        "id": "qKpWLjWzVSJe",
        "outputId": "16a4453c-e0ca-4f0a-b781-e40953e8be8d"
      },
      "source": [
        "g = nx.from_pandas_edgelist(a, 'source', 'target', create_using = nx.Graph())\n",
        "nx.draw(g, with_labels=True)\n",
        "# print(nx.info(g))\n",
        "dgr = nx.degree_centrality(g)        # 연결 중심성\n",
        "btw = nx.betweenness_centrality(g)   # 매개 중심성\n",
        "cls = nx.closeness_centrality(g)     # 근접 중심성\n",
        "egv = nx.eigenvector_centrality(g)   # 고유벡터 중심성\n",
        "pgr = nx.pagerank(g)                 # 페이지 랭크\n",
        "\n",
        "sorted_dgr = sorted(dgr.items(), key=operator.itemgetter(1), reverse=True)\n",
        "sorted_btw = sorted(btw.items(), key=operator.itemgetter(1), reverse=True)\n",
        "sorted_cls = sorted(cls.items(), key=operator.itemgetter(1), reverse=True)\n",
        "sorted_egv = sorted(egv.items(), key=operator.itemgetter(1), reverse=True)\n",
        "sorted_pgr = sorted(pgr.items(), key=operator.itemgetter(1), reverse=True)\n",
        "\n",
        "G = nx.Graph()\n",
        "\n",
        "for i in range(len(sorted_dgr)):\n",
        "    G.add_node(sorted_pgr[i][0], nodesize=sorted_dgr[i][1])\n",
        "\n",
        "# for ind in range((len(np.where(dataset['freq'] > 20000)[0]))):\n",
        "#     G.add_weighted_edges_from([(dataset['word1'][ind], dataset['word2'][ind], int(dataset['freq'][ind]))])\n",
        "\n",
        "# 노드 크기 조정\n",
        "sizes = [G.nodes[node]['nodesize'] * 500 for node in G]\n",
        "\n",
        "options = {\n",
        "    'edge_color': '#FFDEA2',\n",
        "    'width': 1,\n",
        "    'with_labels': True,\n",
        "    'font_weight': 'regular',\n",
        "}\n",
        "\n"
      ],
      "execution_count": null,
      "outputs": [
        {
          "output_type": "display_data",
          "data": {
            "image/png": "[encoded data removed]",
            "text/plain": [
              "<Figure size 432x288 with 1 Axes>"
            ]
          },
          "metadata": {
            "tags": []
          }
        }
      ]
    },
    {
      "cell_type": "code",
      "metadata": {
        "id": "irxrnP9oZOYi"
      },
      "source": [
        "\n",
        "\n",
        "# plt.figure(figsize=(20, 20))\n",
        "# pos = nx.spring_layout(g, k = 0.15)\n",
        "# nx.draw_networkx(g,pos, node_size = 25, node_color = 'blue')\n",
        "# plt.show()"
      ],
      "execution_count": null,
      "outputs": []
    },
    {
      "cell_type": "code",
      "metadata": {
        "id": "DpM0QtDUaqsJ"
      },
      "source": [
        ""
      ],
      "execution_count": null,
      "outputs": []
    }
  ]
}